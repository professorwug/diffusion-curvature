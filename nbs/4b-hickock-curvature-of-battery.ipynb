{
 "cells": [
  {
   "cell_type": "code",
   "execution_count": null,
   "metadata": {},
   "outputs": [],
   "source": [
    "#|default_exp benchmarking.run_battery_on_hickok_curvature\n",
    "from diffusion_curvature.graphs import *\n",
    "from diffusion_curvature.datasets import *\n",
    "from diffusion_curvature.core import *\n",
    "from fastcore.all import *\n",
    "import numpy as np\n",
    "from nbdev import show_doc\n",
    "%load_ext autoreload\n",
    "%autoreload 2"
   ]
  },
  {
   "cell_type": "code",
   "execution_count": null,
   "metadata": {},
   "outputs": [
    {
     "name": "stdout",
     "output_type": "stream",
     "text": [
      "core_rmax-6.26\n"
     ]
    }
   ],
   "source": [
    "#|export\n",
    "# parameters for run\n",
    "battery_file = \"/home/piriac/data/diffusion_curvature/Curvature_Colosseum_dikey.h5\"\n",
    "# tiny_battery_file = \"/home/piriac/data/diffusion_curvature/Curvature_Colosseum_LowD_HighSampled.h5\" # for test runs\n",
    "rmax = 6.26\n",
    "name_of_run = f\"core_rmax-{rmax}\"\n",
    "print(name_of_run)"
   ]
  },
  {
   "cell_type": "code",
   "execution_count": null,
   "metadata": {},
   "outputs": [],
   "source": [
    "#|export\n",
    "from diffusion_curvature.benchmarking.hickok import scalar_curvature_est \n",
    "def curvature_fn(X, dim, rmax = rmax):\n",
    "    SC = scalar_curvature_est(\n",
    "        n = dim, #manifold dim\n",
    "        X = X, #data\n",
    "        verbose=False,\n",
    "    )\n",
    "    ks_est = SC.estimate(rmax=rmax, indices=[0])\n",
    "    return ks_est[0]"
   ]
  },
  {
   "cell_type": "code",
   "execution_count": null,
   "metadata": {},
   "outputs": [],
   "source": [
    "#|export\n",
    "import tqdm\n",
    "from diffusion_curvature.benchmarking.curvature_colosseum import compute_curvature_on_battery\n",
    "from fastcore.all import *\n",
    "import deepdish\n",
    "\n",
    "@call_parse\n",
    "def main():\n",
    "    # load curvature battery\n",
    "    CC = deepdish.io.load(battery_file)\n",
    "\n",
    "    saved_calcs = f\"/home/piriac/data/diffusion_curvature/computed_hickok_curvatures_{name_of_run}.h5\"\n",
    "    if os.path.exists(saved_calcs):\n",
    "        print(f\"Loading saved calculations from {saved_calcs}\")\n",
    "        computed_curvatures = deepdish.io.load(saved_calcs)\n",
    "    else:\n",
    "        computed_curvatures = compute_curvature_on_battery(curvature_fn, CC)\n",
    "        deepdish.io.save(f\"/home/piriac/data/diffusion_curvature/computed_hickok_curvatures_core_{name_of_run}.h5\", computed_curvatures)\n",
    "    return computed_curvatures"
   ]
  },
  {
   "cell_type": "code",
   "execution_count": null,
   "metadata": {},
   "outputs": [],
   "source": [
    "computed_hickok_curvatures = main()"
   ]
  },
  {
   "cell_type": "code",
   "execution_count": null,
   "metadata": {},
   "outputs": [
    {
     "data": {
      "text/plain": [
       "14.954056948843835"
      ]
     },
     "execution_count": null,
     "metadata": {},
     "output_type": "execute_result"
    }
   ],
   "source": [
    "Xsample = CC[2][3][0.5]['Xs'][8]\n",
    "hickock_curvature_of_pt(Xsample, 2)"
   ]
  },
  {
   "cell_type": "code",
   "execution_count": null,
   "metadata": {},
   "outputs": [
    {
     "data": {
      "application/vnd.jupyter.widget-view+json": {
       "model_id": "8a62162167154fefaba574716c9bf45b",
       "version_major": 2,
       "version_minor": 0
      },
      "text/plain": [
       "intrinsic dimensions:   0%|          | 0/4 [00:00<?, ?it/s]"
      ]
     },
     "metadata": {},
     "output_type": "display_data"
    },
    {
     "data": {
      "application/vnd.jupyter.widget-view+json": {
       "model_id": "",
       "version_major": 2,
       "version_minor": 0
      },
      "text/plain": [
       "codimensions:   0%|          | 0/4 [00:00<?, ?it/s]"
      ]
     },
     "metadata": {},
     "output_type": "display_data"
    },
    {
     "data": {
      "application/vnd.jupyter.widget-view+json": {
       "model_id": "",
       "version_major": 2,
       "version_minor": 0
      },
      "text/plain": [
       "Noise Levels:   0%|          | 0/6 [00:00<?, ?it/s]"
      ]
     },
     "metadata": {},
     "output_type": "display_data"
    },
    {
     "data": {
      "application/vnd.jupyter.widget-view+json": {
       "model_id": "",
       "version_major": 2,
       "version_minor": 0
      },
      "text/plain": [
       "Noise Levels:   0%|          | 0/6 [00:00<?, ?it/s]"
      ]
     },
     "metadata": {},
     "output_type": "display_data"
    },
    {
     "data": {
      "application/vnd.jupyter.widget-view+json": {
       "model_id": "",
       "version_major": 2,
       "version_minor": 0
      },
      "text/plain": [
       "Noise Levels:   0%|          | 0/6 [00:00<?, ?it/s]"
      ]
     },
     "metadata": {},
     "output_type": "display_data"
    },
    {
     "data": {
      "application/vnd.jupyter.widget-view+json": {
       "model_id": "",
       "version_major": 2,
       "version_minor": 0
      },
      "text/plain": [
       "Noise Levels:   0%|          | 0/6 [00:00<?, ?it/s]"
      ]
     },
     "metadata": {},
     "output_type": "display_data"
    },
    {
     "data": {
      "application/vnd.jupyter.widget-view+json": {
       "model_id": "",
       "version_major": 2,
       "version_minor": 0
      },
      "text/plain": [
       "codimensions:   0%|          | 0/4 [00:00<?, ?it/s]"
      ]
     },
     "metadata": {},
     "output_type": "display_data"
    },
    {
     "data": {
      "application/vnd.jupyter.widget-view+json": {
       "model_id": "",
       "version_major": 2,
       "version_minor": 0
      },
      "text/plain": [
       "Noise Levels:   0%|          | 0/6 [00:00<?, ?it/s]"
      ]
     },
     "metadata": {},
     "output_type": "display_data"
    },
    {
     "data": {
      "application/vnd.jupyter.widget-view+json": {
       "model_id": "",
       "version_major": 2,
       "version_minor": 0
      },
      "text/plain": [
       "Noise Levels:   0%|          | 0/6 [00:00<?, ?it/s]"
      ]
     },
     "metadata": {},
     "output_type": "display_data"
    },
    {
     "data": {
      "application/vnd.jupyter.widget-view+json": {
       "model_id": "",
       "version_major": 2,
       "version_minor": 0
      },
      "text/plain": [
       "Noise Levels:   0%|          | 0/6 [00:00<?, ?it/s]"
      ]
     },
     "metadata": {},
     "output_type": "display_data"
    },
    {
     "data": {
      "application/vnd.jupyter.widget-view+json": {
       "model_id": "",
       "version_major": 2,
       "version_minor": 0
      },
      "text/plain": [
       "Noise Levels:   0%|          | 0/6 [00:00<?, ?it/s]"
      ]
     },
     "metadata": {},
     "output_type": "display_data"
    },
    {
     "data": {
      "application/vnd.jupyter.widget-view+json": {
       "model_id": "",
       "version_major": 2,
       "version_minor": 0
      },
      "text/plain": [
       "codimensions:   0%|          | 0/4 [00:00<?, ?it/s]"
      ]
     },
     "metadata": {},
     "output_type": "display_data"
    },
    {
     "data": {
      "application/vnd.jupyter.widget-view+json": {
       "model_id": "",
       "version_major": 2,
       "version_minor": 0
      },
      "text/plain": [
       "Noise Levels:   0%|          | 0/6 [00:00<?, ?it/s]"
      ]
     },
     "metadata": {},
     "output_type": "display_data"
    },
    {
     "data": {
      "application/vnd.jupyter.widget-view+json": {
       "model_id": "",
       "version_major": 2,
       "version_minor": 0
      },
      "text/plain": [
       "Noise Levels:   0%|          | 0/6 [00:00<?, ?it/s]"
      ]
     },
     "metadata": {},
     "output_type": "display_data"
    },
    {
     "data": {
      "application/vnd.jupyter.widget-view+json": {
       "model_id": "",
       "version_major": 2,
       "version_minor": 0
      },
      "text/plain": [
       "Noise Levels:   0%|          | 0/6 [00:00<?, ?it/s]"
      ]
     },
     "metadata": {},
     "output_type": "display_data"
    },
    {
     "data": {
      "application/vnd.jupyter.widget-view+json": {
       "model_id": "",
       "version_major": 2,
       "version_minor": 0
      },
      "text/plain": [
       "Noise Levels:   0%|          | 0/6 [00:00<?, ?it/s]"
      ]
     },
     "metadata": {},
     "output_type": "display_data"
    },
    {
     "data": {
      "application/vnd.jupyter.widget-view+json": {
       "model_id": "",
       "version_major": 2,
       "version_minor": 0
      },
      "text/plain": [
       "codimensions:   0%|          | 0/4 [00:00<?, ?it/s]"
      ]
     },
     "metadata": {},
     "output_type": "display_data"
    },
    {
     "data": {
      "application/vnd.jupyter.widget-view+json": {
       "model_id": "",
       "version_major": 2,
       "version_minor": 0
      },
      "text/plain": [
       "Noise Levels:   0%|          | 0/6 [00:00<?, ?it/s]"
      ]
     },
     "metadata": {},
     "output_type": "display_data"
    },
    {
     "data": {
      "application/vnd.jupyter.widget-view+json": {
       "model_id": "",
       "version_major": 2,
       "version_minor": 0
      },
      "text/plain": [
       "Noise Levels:   0%|          | 0/6 [00:00<?, ?it/s]"
      ]
     },
     "metadata": {},
     "output_type": "display_data"
    },
    {
     "data": {
      "application/vnd.jupyter.widget-view+json": {
       "model_id": "",
       "version_major": 2,
       "version_minor": 0
      },
      "text/plain": [
       "Noise Levels:   0%|          | 0/6 [00:00<?, ?it/s]"
      ]
     },
     "metadata": {},
     "output_type": "display_data"
    },
    {
     "data": {
      "application/vnd.jupyter.widget-view+json": {
       "model_id": "",
       "version_major": 2,
       "version_minor": 0
      },
      "text/plain": [
       "Noise Levels:   0%|          | 0/6 [00:00<?, ?it/s]"
      ]
     },
     "metadata": {},
     "output_type": "display_data"
    }
   ],
   "source": [
    "hc_curvature_correlations = compute_correlations(computed_hickok_curvatures, CC)"
   ]
  },
  {
   "cell_type": "code",
   "execution_count": null,
   "metadata": {},
   "outputs": [
    {
     "name": "stdout",
     "output_type": "stream",
     "text": [
      "Codimension =  1\n",
      "╒═══════╤═══════════════╤════════════════╤═══════════════╤═══════════════╤═══════════════╤═══════════════╕\n",
      "│   dim │ Noise = 0.0   │ Noise = 0.05   │ Noise = 0.1   │ Noise = 0.2   │ Noise = 0.3   │ Noise = 0.5   │\n",
      "╞═══════╪═══════════════╪════════════════╪═══════════════╪═══════════════╪═══════════════╪═══════════════╡\n",
      "│     2 │ 0.885/1.61    │ 0.815/5.90     │ 0.720/3.67    │ 0.553/3.15    │ 0.502/0.00    │ 0.250/0.08    │\n",
      "├───────┼───────────────┼────────────────┼───────────────┼───────────────┼───────────────┼───────────────┤\n",
      "│     3 │ 0.785/1.55    │ 0.689/3.13     │ 0.534/6.60    │ 0.304/0.03    │ 0.218/0.12    │ 0.036/0.80    │\n",
      "├───────┼───────────────┼────────────────┼───────────────┼───────────────┼───────────────┼───────────────┤\n",
      "│     4 │ 0.397/0.00    │ 0.184/0.19     │ 0.331/0.01    │ 0.228/0.11    │ 0.179/0.21    │ -0.035/0.81   │\n",
      "├───────┼───────────────┼────────────────┼───────────────┼───────────────┼───────────────┼───────────────┤\n",
      "│     5 │ 0.089/0.53    │ -0.073/0.61    │ -0.374/0.00   │ 0.098/0.49    │ 0.208/0.14    │ 0.197/0.17    │\n",
      "╘═══════╧═══════════════╧════════════════╧═══════════════╧═══════════════╧═══════════════╧═══════════════╛\n"
     ]
    }
   ],
   "source": [
    "table = result_table(hc_curvature_correlations, c=1)"
   ]
  },
  {
   "cell_type": "code",
   "execution_count": null,
   "metadata": {},
   "outputs": [
    {
     "name": "stdout",
     "output_type": "stream",
     "text": [
      "Codimension =  2\n",
      "╒═══════╤═══════════════╤════════════════╤═══════════════╤═══════════════╤═══════════════╤═══════════════╕\n",
      "│   dim │ Noise = 0.0   │ Noise = 0.05   │ Noise = 0.1   │ Noise = 0.2   │ Noise = 0.3   │ Noise = 0.5   │\n",
      "╞═══════╪═══════════════╪════════════════╪═══════════════╪═══════════════╪═══════════════╪═══════════════╡\n",
      "│     2 │ 0.795/5.62    │ 0.782/1.96     │ 0.344/0.01    │ 0.191/0.18    │ 0.072/0.61    │ 0.143/0.32    │\n",
      "├───────┼───────────────┼────────────────┼───────────────┼───────────────┼───────────────┼───────────────┤\n",
      "│     3 │ 0.378/0.00    │ 0.103/0.47     │ 0.058/0.69    │ 0.186/0.19    │ -0.111/0.44   │ 0.302/0.03    │\n",
      "├───────┼───────────────┼────────────────┼───────────────┼───────────────┼───────────────┼───────────────┤\n",
      "│     4 │ 0.138/0.33    │ 0.195/0.17     │ -0.332/0.01   │ 0.110/0.44    │ -0.049/0.73   │ 0.055/0.70    │\n",
      "├───────┼───────────────┼────────────────┼───────────────┼───────────────┼───────────────┼───────────────┤\n",
      "│     5 │ 0.250/0.08    │ -0.182/0.20    │ 0.030/0.83    │ -0.125/0.38   │ 0.201/0.16    │ 0.066/0.65    │\n",
      "╘═══════╧═══════════════╧════════════════╧═══════════════╧═══════════════╧═══════════════╧═══════════════╛\n"
     ]
    }
   ],
   "source": [
    "table = result_table(hc_curvature_correlations, c=2)"
   ]
  },
  {
   "cell_type": "code",
   "execution_count": null,
   "metadata": {},
   "outputs": [
    {
     "name": "stdout",
     "output_type": "stream",
     "text": [
      "Codimension =  3\n",
      "╒═══════╤═══════════════╤════════════════╤═══════════════╤═══════════════╤═══════════════╤═══════════════╕\n",
      "│   dim │ Noise = 0.0   │ Noise = 0.05   │ Noise = 0.1   │ Noise = 0.2   │ Noise = 0.3   │ Noise = 0.5   │\n",
      "╞═══════╪═══════════════╪════════════════╪═══════════════╪═══════════════╪═══════════════╪═══════════════╡\n",
      "│     2 │ 0.570/1.53    │ 0.350/0.01     │ -0.016/0.91   │ -0.090/0.53   │ -0.018/0.90   │ -0.134/0.35   │\n",
      "├───────┼───────────────┼────────────────┼───────────────┼───────────────┼───────────────┼───────────────┤\n",
      "│     3 │ 0.197/0.16    │ -0.113/0.43    │ 0.181/0.20    │ -0.090/0.53   │ 0.109/0.45    │ 0.194/0.17    │\n",
      "├───────┼───────────────┼────────────────┼───────────────┼───────────────┼───────────────┼───────────────┤\n",
      "│     4 │ 0.006/0.96    │ 0.151/0.29     │ -0.012/0.93   │ -0.052/0.72   │ -0.024/0.86   │ 0.113/0.43    │\n",
      "├───────┼───────────────┼────────────────┼───────────────┼───────────────┼───────────────┼───────────────┤\n",
      "│     5 │ -0.235/0.10   │ 0.157/0.27     │ 0.039/0.78    │ 0.157/0.27    │ 0.246/0.08    │ 0.386/0.00    │\n",
      "╘═══════╧═══════════════╧════════════════╧═══════════════╧═══════════════╧═══════════════╧═══════════════╛\n"
     ]
    }
   ],
   "source": [
    "table = result_table(hc_curvature_correlations, c=3)"
   ]
  },
  {
   "cell_type": "code",
   "execution_count": null,
   "metadata": {},
   "outputs": [
    {
     "name": "stdout",
     "output_type": "stream",
     "text": [
      "Codimension =  1\n",
      "\\begin{tabular}{rllllll}\n",
      "\\hline\n",
      "   dim & Noise = 0.0   & Noise = 0.05   & Noise = 0.1   & Noise = 0.2   & Noise = 0.3   & Noise = 0.5   \\\\\n",
      "\\hline\n",
      "     2 & 0.885/1.61    & 0.815/5.90     & 0.720/3.67    & 0.553/3.15    & 0.502/0.00    & 0.250/0.08    \\\\\n",
      "     3 & 0.785/1.55    & 0.689/3.13     & 0.534/6.60    & 0.304/0.03    & 0.218/0.12    & 0.036/0.80    \\\\\n",
      "     4 & 0.397/0.00    & 0.184/0.19     & 0.331/0.01    & 0.228/0.11    & 0.179/0.21    & -0.035/0.81   \\\\\n",
      "     5 & 0.089/0.53    & -0.073/0.61    & -0.374/0.00   & 0.098/0.49    & 0.208/0.14    & 0.197/0.17    \\\\\n",
      "\\hline\n",
      "\\end{tabular}\n",
      "Codimension =  2\n",
      "\\begin{tabular}{rllllll}\n",
      "\\hline\n",
      "   dim & Noise = 0.0   & Noise = 0.05   & Noise = 0.1   & Noise = 0.2   & Noise = 0.3   & Noise = 0.5   \\\\\n",
      "\\hline\n",
      "     2 & 0.795/5.62    & 0.782/1.96     & 0.344/0.01    & 0.191/0.18    & 0.072/0.61    & 0.143/0.32    \\\\\n",
      "     3 & 0.378/0.00    & 0.103/0.47     & 0.058/0.69    & 0.186/0.19    & -0.111/0.44   & 0.302/0.03    \\\\\n",
      "     4 & 0.138/0.33    & 0.195/0.17     & -0.332/0.01   & 0.110/0.44    & -0.049/0.73   & 0.055/0.70    \\\\\n",
      "     5 & 0.250/0.08    & -0.182/0.20    & 0.030/0.83    & -0.125/0.38   & 0.201/0.16    & 0.066/0.65    \\\\\n",
      "\\hline\n",
      "\\end{tabular}\n",
      "Codimension =  3\n",
      "\\begin{tabular}{rllllll}\n",
      "\\hline\n",
      "   dim & Noise = 0.0   & Noise = 0.05   & Noise = 0.1   & Noise = 0.2   & Noise = 0.3   & Noise = 0.5   \\\\\n",
      "\\hline\n",
      "     2 & 0.570/1.53    & 0.350/0.01     & -0.016/0.91   & -0.090/0.53   & -0.018/0.90   & -0.134/0.35   \\\\\n",
      "     3 & 0.197/0.16    & -0.113/0.43    & 0.181/0.20    & -0.090/0.53   & 0.109/0.45    & 0.194/0.17    \\\\\n",
      "     4 & 0.006/0.96    & 0.151/0.29     & -0.012/0.93   & -0.052/0.72   & -0.024/0.86   & 0.113/0.43    \\\\\n",
      "     5 & -0.235/0.10   & 0.157/0.27     & 0.039/0.78    & 0.157/0.27    & 0.246/0.08    & 0.386/0.00    \\\\\n",
      "\\hline\n",
      "\\end{tabular}\n"
     ]
    }
   ],
   "source": [
    "table_latex = result_table(hc_curvature_correlations, c=1, style='latex_raw')\n",
    "table_latex += result_table(hc_curvature_correlations, c=2, style='latex_raw')\n",
    "table_latex += result_table(hc_curvature_correlations, c=3, style='latex_raw')"
   ]
  },
  {
   "cell_type": "code",
   "execution_count": null,
   "metadata": {},
   "outputs": [
    {
     "data": {
      "application/vnd.jupyter.widget-view+json": {
       "model_id": "959673ed3d04452f950f8e9220fa0795",
       "version_major": 2,
       "version_minor": 0
      },
      "text/plain": [
       "intrinsic dimensions:   0%|          | 0/4 [00:00<?, ?it/s]"
      ]
     },
     "metadata": {},
     "output_type": "display_data"
    },
    {
     "data": {
      "application/vnd.jupyter.widget-view+json": {
       "model_id": "",
       "version_major": 2,
       "version_minor": 0
      },
      "text/plain": [
       "Noise Levels:   0%|          | 0/6 [00:00<?, ?it/s]"
      ]
     },
     "metadata": {},
     "output_type": "display_data"
    },
    {
     "data": {
      "application/vnd.jupyter.widget-view+json": {
       "model_id": "",
       "version_major": 2,
       "version_minor": 0
      },
      "text/plain": [
       "Noise Levels:   0%|          | 0/6 [00:00<?, ?it/s]"
      ]
     },
     "metadata": {},
     "output_type": "display_data"
    },
    {
     "data": {
      "application/vnd.jupyter.widget-view+json": {
       "model_id": "",
       "version_major": 2,
       "version_minor": 0
      },
      "text/plain": [
       "Noise Levels:   0%|          | 0/6 [00:00<?, ?it/s]"
      ]
     },
     "metadata": {},
     "output_type": "display_data"
    },
    {
     "data": {
      "application/vnd.jupyter.widget-view+json": {
       "model_id": "",
       "version_major": 2,
       "version_minor": 0
      },
      "text/plain": [
       "Noise Levels:   0%|          | 0/6 [00:00<?, ?it/s]"
      ]
     },
     "metadata": {},
     "output_type": "display_data"
    },
    {
     "data": {
      "application/vnd.jupyter.widget-view+json": {
       "model_id": "",
       "version_major": 2,
       "version_minor": 0
      },
      "text/plain": [
       "Noise Levels:   0%|          | 0/6 [00:00<?, ?it/s]"
      ]
     },
     "metadata": {},
     "output_type": "display_data"
    },
    {
     "data": {
      "application/vnd.jupyter.widget-view+json": {
       "model_id": "",
       "version_major": 2,
       "version_minor": 0
      },
      "text/plain": [
       "Noise Levels:   0%|          | 0/6 [00:00<?, ?it/s]"
      ]
     },
     "metadata": {},
     "output_type": "display_data"
    },
    {
     "data": {
      "application/vnd.jupyter.widget-view+json": {
       "model_id": "",
       "version_major": 2,
       "version_minor": 0
      },
      "text/plain": [
       "Noise Levels:   0%|          | 0/6 [00:00<?, ?it/s]"
      ]
     },
     "metadata": {},
     "output_type": "display_data"
    },
    {
     "data": {
      "application/vnd.jupyter.widget-view+json": {
       "model_id": "",
       "version_major": 2,
       "version_minor": 0
      },
      "text/plain": [
       "Noise Levels:   0%|          | 0/6 [00:00<?, ?it/s]"
      ]
     },
     "metadata": {},
     "output_type": "display_data"
    },
    {
     "data": {
      "application/vnd.jupyter.widget-view+json": {
       "model_id": "",
       "version_major": 2,
       "version_minor": 0
      },
      "text/plain": [
       "Noise Levels:   0%|          | 0/6 [00:00<?, ?it/s]"
      ]
     },
     "metadata": {},
     "output_type": "display_data"
    },
    {
     "data": {
      "application/vnd.jupyter.widget-view+json": {
       "model_id": "",
       "version_major": 2,
       "version_minor": 0
      },
      "text/plain": [
       "Noise Levels:   0%|          | 0/6 [00:00<?, ?it/s]"
      ]
     },
     "metadata": {},
     "output_type": "display_data"
    },
    {
     "data": {
      "application/vnd.jupyter.widget-view+json": {
       "model_id": "",
       "version_major": 2,
       "version_minor": 0
      },
      "text/plain": [
       "Noise Levels:   0%|          | 0/6 [00:00<?, ?it/s]"
      ]
     },
     "metadata": {},
     "output_type": "display_data"
    },
    {
     "data": {
      "application/vnd.jupyter.widget-view+json": {
       "model_id": "",
       "version_major": 2,
       "version_minor": 0
      },
      "text/plain": [
       "Noise Levels:   0%|          | 0/6 [00:00<?, ?it/s]"
      ]
     },
     "metadata": {},
     "output_type": "display_data"
    },
    {
     "data": {
      "application/vnd.jupyter.widget-view+json": {
       "model_id": "",
       "version_major": 2,
       "version_minor": 0
      },
      "text/plain": [
       "Noise Levels:   0%|          | 0/6 [00:00<?, ?it/s]"
      ]
     },
     "metadata": {},
     "output_type": "display_data"
    },
    {
     "data": {
      "application/vnd.jupyter.widget-view+json": {
       "model_id": "",
       "version_major": 2,
       "version_minor": 0
      },
      "text/plain": [
       "Noise Levels:   0%|          | 0/6 [00:00<?, ?it/s]"
      ]
     },
     "metadata": {},
     "output_type": "display_data"
    },
    {
     "data": {
      "application/vnd.jupyter.widget-view+json": {
       "model_id": "",
       "version_major": 2,
       "version_minor": 0
      },
      "text/plain": [
       "Noise Levels:   0%|          | 0/6 [00:00<?, ?it/s]"
      ]
     },
     "metadata": {},
     "output_type": "display_data"
    },
    {
     "data": {
      "application/vnd.jupyter.widget-view+json": {
       "model_id": "",
       "version_major": 2,
       "version_minor": 0
      },
      "text/plain": [
       "Noise Levels:   0%|          | 0/6 [00:00<?, ?it/s]"
      ]
     },
     "metadata": {},
     "output_type": "display_data"
    }
   ],
   "source": [
    "sign_accs = compute_sign_score(computed_hickok_curvatures, CC)"
   ]
  },
  {
   "cell_type": "code",
   "execution_count": null,
   "metadata": {},
   "outputs": [
    {
     "name": "stdout",
     "output_type": "stream",
     "text": [
      "Codimension =  2\n",
      "╒═══════╤═══════════════╤════════════════╤═══════════════╤═══════════════╤═══════════════╤═══════════════╕\n",
      "│   dim │   Noise = 0.0 │   Noise = 0.05 │   Noise = 0.1 │   Noise = 0.2 │   Noise = 0.3 │   Noise = 0.5 │\n",
      "╞═══════╪═══════════════╪════════════════╪═══════════════╪═══════════════╪═══════════════╪═══════════════╡\n",
      "│     2 │          0.34 │           0.78 │          0.64 │          0.72 │          0.68 │          0.60 │\n",
      "├───────┼───────────────┼────────────────┼───────────────┼───────────────┼───────────────┼───────────────┤\n",
      "│     3 │          0.22 │           0.26 │          0.16 │          0.24 │          0.22 │          0.34 │\n",
      "├───────┼───────────────┼────────────────┼───────────────┼───────────────┼───────────────┼───────────────┤\n",
      "│     4 │          0.18 │           0.12 │          0.10 │          0.18 │          0.08 │          0.20 │\n",
      "├───────┼───────────────┼────────────────┼───────────────┼───────────────┼───────────────┼───────────────┤\n",
      "│     5 │          0.16 │           0.16 │          0.12 │          0.16 │          0.14 │          0.12 │\n",
      "╘═══════╧═══════════════╧════════════════╧═══════════════╧═══════════════╧═══════════════╧═══════════════╛\n"
     ]
    }
   ],
   "source": [
    "table = result_table(sign_accs, c=2, keys=['accuracy'])"
   ]
  },
  {
   "cell_type": "code",
   "execution_count": null,
   "metadata": {},
   "outputs": [],
   "source": []
  }
 ],
 "metadata": {
  "kernelspec": {
   "display_name": "Python 3 (ipykernel)",
   "language": "python",
   "name": "python3"
  },
  "language_info": {
   "codemirror_mode": {
    "name": "ipython",
    "version": 3
   },
   "file_extension": ".py",
   "mimetype": "text/x-python",
   "name": "python",
   "nbconvert_exporter": "python",
   "pygments_lexer": "ipython3",
   "version": "3.11.6"
  }
 },
 "nbformat": 4,
 "nbformat_minor": 4
}

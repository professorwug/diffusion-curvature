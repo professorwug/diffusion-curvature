{
 "cells": [
  {
   "cell_type": "code",
   "execution_count": null,
   "metadata": {},
   "outputs": [],
   "source": [
    "#|default_exp benchmarking.run_battery_on_diffusion_curvature\n",
    "from diffusion_curvature.graphs import *\n",
    "from diffusion_curvature.datasets import *\n",
    "from diffusion_curvature.core import *\n",
    "from fastcore.all import *\n",
    "import numpy as np\n",
    "from tqdm.auto import tqdm, trange\n",
    "from nbdev import show_doc\n",
    "from diffusion_curvature.utils import plot_3d\n",
    "import matplotlib.pyplot as plt\n",
    "\n",
    "from tqdm.auto import tqdm, trange\n",
    "from fastcore.all import *\n",
    "\n",
    "from scipy.stats import pearsonr\n",
    "\n",
    "import deepdish\n",
    "import graphtools\n",
    "from functools import partial\n",
    "\n",
    "os.environ['XLA_PYTHON_CLIENT_PREALLOCATE']='false' # Tells Jax not to hog all of the memory to this process.\n",
    "\n",
    "%load_ext autoreload\n",
    "%autoreload 2"
   ]
  },
  {
   "cell_type": "markdown",
   "metadata": {},
   "source": [
    "# 4a Computing the diffusion curvature of the battery"
   ]
  },
  {
   "cell_type": "code",
   "execution_count": null,
   "metadata": {},
   "outputs": [
    {
     "name": "stdout",
     "output_type": "stream",
     "text": [
      "DC2_with_idx_k-1_ns-1_alpha-0_maxt-79\n"
     ]
    }
   ],
   "source": [
    "#|export\n",
    "# parameters for run\n",
    "battery_file = \"/home/piriac/data/diffusion_curvature/Curvature_Colosseum_dikey.h5\"\n",
    "# tiny_battery_file = \"/home/piriac/data/diffusion_curvature/Curvature_Colosseum_LowD_HighSampled.h5\" # for test runs\n",
    "k = 1 # for curvature agnostic kernel\n",
    "neighbor_scale = 1 # for curvature agnostic kernel\n",
    "alpha = 0 \n",
    "ts = list(range(1,80))\n",
    "\n",
    "name_of_run = f\"DC2_with_idx_k-{k}_ns-{neighbor_scale}_alpha-{alpha}_maxt-{max(ts)}\"\n",
    "print(name_of_run)"
   ]
  },
  {
   "cell_type": "code",
   "execution_count": null,
   "metadata": {},
   "outputs": [
    {
     "name": "stdout",
     "output_type": "stream",
     "text": [
      "✨ \u001b[1mPixi task (\u001b[0m\u001b[32m\u001b[1mnbsync\u001b[0m in \u001b[35m\u001b[1mdefault\u001b[0m\u001b[1m): \u001b[0m\u001b[34m\u001b[1mnbdev_export\u001b[0m\u001b[33m\u001b[0m\n",
      "\u001b[2K\u001b[32m⠁\u001b[0m activating environment                                                                 "
     ]
    }
   ],
   "source": [
    "!pixi run nbsync"
   ]
  },
  {
   "cell_type": "code",
   "execution_count": null,
   "metadata": {},
   "outputs": [],
   "source": [
    "#|export\n",
    "from diffusion_curvature.core import DiffusionCurvature2\n",
    "from diffusion_curvature.kernels import get_curvature_agnostic_graph\n",
    "\n",
    "def curvature_fn(X, dim, k=k, neighbor_scale = neighbor_scale, ts = ts, alpha = alpha):\n",
    "    graph_former = partial(get_curvature_agnostic_graph, k = k, neighbor_scale = neighbor_scale, alpha = alpha)\n",
    "    DC = DiffusionCurvature2(\n",
    "        diffusion_type = \"diffusion matrix\",\n",
    "        laziness_method=\"Entropic\",\n",
    "        comparison_method=\"Subtraction\",\n",
    "        graph_former = graph_former,\n",
    "    )\n",
    "    k = DC.fit(\n",
    "        X, dim, ts = ts, idx = 0\n",
    "    )\n",
    "    return k.item()"
   ]
  },
  {
   "cell_type": "code",
   "execution_count": null,
   "metadata": {},
   "outputs": [],
   "source": [
    "#|export\n",
    "from tqdm.auto import tqdm, trange\n",
    "from diffusion_curvature.benchmarking.curvature_colosseum import compute_curvature_on_battery\n",
    "from fastcore.all import *\n",
    "import deepdish\n",
    "\n",
    "@call_parse\n",
    "def main():\n",
    "    # load curvature battery\n",
    "    CC = deepdish.io.load(battery_file)\n",
    "\n",
    "    saved_calcs = f\"/home/piriac/data/diffusion_curvature/computed_diffusion_curvatures_core_{name_of_run}.h5\"\n",
    "    if os.path.exists(saved_calcs):\n",
    "        print(f\"Loading saved calculations from {saved_calcs}\")\n",
    "        computed_curvatures= deepdish.io.load(saved_calcs)\n",
    "    else:\n",
    "        computed_curvatures = compute_curvature_on_battery(curvature_fn, CC)\n",
    "        deepdish.io.save(f\"/home/piriac/data/diffusion_curvature/computed_diffusion_curvatures_core_{name_of_run}.h5\", computed_curvatures)\n",
    "    return CC, computed_curvatures"
   ]
  },
  {
   "cell_type": "code",
   "execution_count": null,
   "metadata": {},
   "outputs": [
    {
     "name": "stdout",
     "output_type": "stream",
     "text": [
      "Loading saved calculations from /home/piriac/data/diffusion_curvature/computed_diffusion_curvatures_core_DC2_with_idx_k-1_ns-2_alpha-0_maxt-39.h5\n"
     ]
    }
   ],
   "source": [
    "CC, computed_curvature = main()"
   ]
  },
  {
   "cell_type": "code",
   "execution_count": null,
   "metadata": {},
   "outputs": [
    {
     "data": {
      "image/png": "[encoded data removed]",
      "text/plain": [
       "<Figure size 640x480 with 1 Axes>"
      ]
     },
     "metadata": {},
     "output_type": "display_data"
    }
   ],
   "source": [
    "d = 2\n",
    "c = 1\n",
    "noise_level = 0.0\n",
    "plt.scatter(CC[d][c][noise_level]['k'], computed_curvature[d][c][noise_level]['k'], c = 'red')\n",
    "plt.xlabel(\"True Curvature\")\n",
    "plt.ylabel(\"Computed Curvature\")\n",
    "plt.title(f\"Sanity Check in dim {d} and codim {c}\")\n",
    "plt.show()"
   ]
  },
  {
   "cell_type": "markdown",
   "metadata": {},
   "source": [
    "# Pearson Correlations"
   ]
  },
  {
   "cell_type": "code",
   "execution_count": null,
   "metadata": {},
   "outputs": [],
   "source": [
    "#|export\n",
    "# compute the pearson correlations between the computed curvature and the true curvature\n",
    "def compute_correlations(\n",
    "        computed_curvature, # the computed curvature\n",
    "        CC, # the battery dictionary\n",
    "        ):\n",
    "    correlations = {}\n",
    "    for d in tqdm(CC['dims'], desc=\"intrinsic dimensions\"):\n",
    "        correlations[d] = {}\n",
    "        for c in tqdm(CC[d]['codims'], leave=False, desc='codimensions'):\n",
    "            correlations[d][c] = {}\n",
    "            for noise_level in tqdm(CC[d][c]['noise_levels'], leave=False, desc=\"Noise Levels\"):\n",
    "                correlations[d][c][noise_level] = {}\n",
    "                correlations[d][c][noise_level]['r'] = []\n",
    "                correlations[d][c][noise_level]['p'] = []\n",
    "                # for i in trange(len(CC[d][c][noise_level]['Xs']), leave=False, desc=\"Samples\"):\n",
    "                k = computed_curvature[d][c][noise_level]['k']\n",
    "                k_true = CC[d][c][noise_level]['k']\n",
    "                r, p = pearsonr(k, k_true)\n",
    "                correlations[d][c][noise_level]['r'] = r\n",
    "                correlations[d][c][noise_level]['p'] = p\n",
    "    return correlations"
   ]
  },
  {
   "cell_type": "code",
   "execution_count": null,
   "metadata": {},
   "outputs": [
    {
     "data": {
      "application/vnd.jupyter.widget-view+json": {
       "model_id": "e013246ec58c4905a0b44ba52af3e6ba",
       "version_major": 2,
       "version_minor": 0
      },
      "text/plain": [
       "intrinsic dimensions:   0%|          | 0/4 [00:00<?, ?it/s]"
      ]
     },
     "metadata": {},
     "output_type": "display_data"
    },
    {
     "data": {
      "application/vnd.jupyter.widget-view+json": {
       "model_id": "9114c5721e6c4b188ef4ab91a5742c4d",
       "version_major": 2,
       "version_minor": 0
      },
      "text/plain": [
       "codimensions:   0%|          | 0/4 [00:00<?, ?it/s]"
      ]
     },
     "metadata": {},
     "output_type": "display_data"
    },
    {
     "data": {
      "application/vnd.jupyter.widget-view+json": {
       "model_id": "106d315a6e0747289ed6c857695ac261",
       "version_major": 2,
       "version_minor": 0
      },
      "text/plain": [
       "Noise Levels:   0%|          | 0/6 [00:00<?, ?it/s]"
      ]
     },
     "metadata": {},
     "output_type": "display_data"
    },
    {
     "data": {
      "application/vnd.jupyter.widget-view+json": {
       "model_id": "800891feb0f04473ad01002eae752139",
       "version_major": 2,
       "version_minor": 0
      },
      "text/plain": [
       "Noise Levels:   0%|          | 0/6 [00:00<?, ?it/s]"
      ]
     },
     "metadata": {},
     "output_type": "display_data"
    },
    {
     "data": {
      "application/vnd.jupyter.widget-view+json": {
       "model_id": "fa647d7f3931464999b510040f1aef65",
       "version_major": 2,
       "version_minor": 0
      },
      "text/plain": [
       "Noise Levels:   0%|          | 0/6 [00:00<?, ?it/s]"
      ]
     },
     "metadata": {},
     "output_type": "display_data"
    },
    {
     "data": {
      "application/vnd.jupyter.widget-view+json": {
       "model_id": "bb85e325fb2a4b46ae6b08ab72fc16b4",
       "version_major": 2,
       "version_minor": 0
      },
      "text/plain": [
       "Noise Levels:   0%|          | 0/6 [00:00<?, ?it/s]"
      ]
     },
     "metadata": {},
     "output_type": "display_data"
    },
    {
     "data": {
      "application/vnd.jupyter.widget-view+json": {
       "model_id": "44e5e731b8564d50bd2f78c7e0dd7baa",
       "version_major": 2,
       "version_minor": 0
      },
      "text/plain": [
       "codimensions:   0%|          | 0/4 [00:00<?, ?it/s]"
      ]
     },
     "metadata": {},
     "output_type": "display_data"
    },
    {
     "data": {
      "application/vnd.jupyter.widget-view+json": {
       "model_id": "702e3e6aee29477bb5d510a980effe52",
       "version_major": 2,
       "version_minor": 0
      },
      "text/plain": [
       "Noise Levels:   0%|          | 0/6 [00:00<?, ?it/s]"
      ]
     },
     "metadata": {},
     "output_type": "display_data"
    },
    {
     "data": {
      "application/vnd.jupyter.widget-view+json": {
       "model_id": "0e55fd94d05f4acc937d49535bfd725a",
       "version_major": 2,
       "version_minor": 0
      },
      "text/plain": [
       "Noise Levels:   0%|          | 0/6 [00:00<?, ?it/s]"
      ]
     },
     "metadata": {},
     "output_type": "display_data"
    },
    {
     "data": {
      "application/vnd.jupyter.widget-view+json": {
       "model_id": "624d959e3a434f80846926890be59d2f",
       "version_major": 2,
       "version_minor": 0
      },
      "text/plain": [
       "Noise Levels:   0%|          | 0/6 [00:00<?, ?it/s]"
      ]
     },
     "metadata": {},
     "output_type": "display_data"
    },
    {
     "data": {
      "application/vnd.jupyter.widget-view+json": {
       "model_id": "4b9930ae4bf54c2190553ddc7f4a25f2",
       "version_major": 2,
       "version_minor": 0
      },
      "text/plain": [
       "Noise Levels:   0%|          | 0/6 [00:00<?, ?it/s]"
      ]
     },
     "metadata": {},
     "output_type": "display_data"
    },
    {
     "data": {
      "application/vnd.jupyter.widget-view+json": {
       "model_id": "6038c83acea14e2b842fe2eb611071b3",
       "version_major": 2,
       "version_minor": 0
      },
      "text/plain": [
       "codimensions:   0%|          | 0/4 [00:00<?, ?it/s]"
      ]
     },
     "metadata": {},
     "output_type": "display_data"
    },
    {
     "data": {
      "application/vnd.jupyter.widget-view+json": {
       "model_id": "78b28c07523d448e83e3820c043fdb07",
       "version_major": 2,
       "version_minor": 0
      },
      "text/plain": [
       "Noise Levels:   0%|          | 0/6 [00:00<?, ?it/s]"
      ]
     },
     "metadata": {},
     "output_type": "display_data"
    },
    {
     "data": {
      "application/vnd.jupyter.widget-view+json": {
       "model_id": "bb1a939e17fb48deb8062fa33c014931",
       "version_major": 2,
       "version_minor": 0
      },
      "text/plain": [
       "Noise Levels:   0%|          | 0/6 [00:00<?, ?it/s]"
      ]
     },
     "metadata": {},
     "output_type": "display_data"
    },
    {
     "data": {
      "application/vnd.jupyter.widget-view+json": {
       "model_id": "bb42255a0677451e9ea28ea29fddc8e1",
       "version_major": 2,
       "version_minor": 0
      },
      "text/plain": [
       "Noise Levels:   0%|          | 0/6 [00:00<?, ?it/s]"
      ]
     },
     "metadata": {},
     "output_type": "display_data"
    },
    {
     "data": {
      "application/vnd.jupyter.widget-view+json": {
       "model_id": "0688f69cfa5d4c889956225351da7211",
       "version_major": 2,
       "version_minor": 0
      },
      "text/plain": [
       "Noise Levels:   0%|          | 0/6 [00:00<?, ?it/s]"
      ]
     },
     "metadata": {},
     "output_type": "display_data"
    },
    {
     "data": {
      "application/vnd.jupyter.widget-view+json": {
       "model_id": "f0d47f5d86734e65afa07e61358351d9",
       "version_major": 2,
       "version_minor": 0
      },
      "text/plain": [
       "codimensions:   0%|          | 0/4 [00:00<?, ?it/s]"
      ]
     },
     "metadata": {},
     "output_type": "display_data"
    },
    {
     "data": {
      "application/vnd.jupyter.widget-view+json": {
       "model_id": "c3b6e7780f064898a000ee2c2ebf6ca7",
       "version_major": 2,
       "version_minor": 0
      },
      "text/plain": [
       "Noise Levels:   0%|          | 0/6 [00:00<?, ?it/s]"
      ]
     },
     "metadata": {},
     "output_type": "display_data"
    },
    {
     "data": {
      "application/vnd.jupyter.widget-view+json": {
       "model_id": "f2121a3ad80549b585eaebe3e50b12c1",
       "version_major": 2,
       "version_minor": 0
      },
      "text/plain": [
       "Noise Levels:   0%|          | 0/6 [00:00<?, ?it/s]"
      ]
     },
     "metadata": {},
     "output_type": "display_data"
    },
    {
     "data": {
      "application/vnd.jupyter.widget-view+json": {
       "model_id": "45d782d1f59e46a5919e529038b8dfd3",
       "version_major": 2,
       "version_minor": 0
      },
      "text/plain": [
       "Noise Levels:   0%|          | 0/6 [00:00<?, ?it/s]"
      ]
     },
     "metadata": {},
     "output_type": "display_data"
    },
    {
     "data": {
      "application/vnd.jupyter.widget-view+json": {
       "model_id": "3d8de21ff1994e2fb2b607a5f0e9081a",
       "version_major": 2,
       "version_minor": 0
      },
      "text/plain": [
       "Noise Levels:   0%|          | 0/6 [00:00<?, ?it/s]"
      ]
     },
     "metadata": {},
     "output_type": "display_data"
    }
   ],
   "source": [
    "dc_curvature_correlations = compute_correlations(computed_curvature, CC)"
   ]
  },
  {
   "cell_type": "code",
   "execution_count": null,
   "metadata": {},
   "outputs": [],
   "source": [
    "from tabulate import tabulate"
   ]
  },
  {
   "cell_type": "code",
   "execution_count": null,
   "metadata": {},
   "outputs": [],
   "source": [
    "#|export\n",
    "# Make a latex table of the correlations, both r and p values, with dimension in the rows and noise level in the columns\n",
    "def result_table(\n",
    "        correlations, # dictionary of correlations\n",
    "        c:int, # codimension\n",
    "        style = 'fancy_grid',\n",
    "        keys = ['r','p']\n",
    "        ):\n",
    "    noise_levels = correlations[correlations.keys().__iter__().__next__()][c].keys()\n",
    "    print(\"Codimension = \",c)\n",
    "    table = tabulate(\n",
    "        [[d] + [f\"{correlations[d][c][noise_level][keys[0]]:.{3}f}{'/' + str(correlations[d][c][noise_level][keys[1]])[:4] if len(keys) > 1 else ''}\" for noise_level in noise_levels] for d in correlations.keys()],\n",
    "        headers=['dim'] + [f\"Noise = {nl}\" for nl in noise_levels],\n",
    "        tablefmt=style, #latex_raw\n",
    "        floatfmt=\".2f\",\n",
    "        )\n",
    "    print(table)\n",
    "    return table"
   ]
  },
  {
   "cell_type": "code",
   "execution_count": null,
   "metadata": {},
   "outputs": [
    {
     "name": "stdout",
     "output_type": "stream",
     "text": [
      "Codimension =  1\n",
      "╒═══════╤═══════════════╤════════════════╤═══════════════╤═══════════════╤═══════════════╤═══════════════╕\n",
      "│   dim │ Noise = 0.0   │ Noise = 0.05   │ Noise = 0.1   │ Noise = 0.2   │ Noise = 0.3   │ Noise = 0.5   │\n",
      "╞═══════╪═══════════════╪════════════════╪═══════════════╪═══════════════╪═══════════════╪═══════════════╡\n",
      "│     2 │ 0.117/0.41    │ 0.210/0.14     │ 0.253/0.07    │ -0.010/0.94   │ 0.401/0.00    │ 0.088/0.54    │\n",
      "├───────┼───────────────┼────────────────┼───────────────┼───────────────┼───────────────┼───────────────┤\n",
      "│     3 │ 0.718/4.44    │ 0.619/1.63     │ 0.556/2.79    │ 0.094/0.51    │ 0.404/0.00    │ 0.089/0.53    │\n",
      "├───────┼───────────────┼────────────────┼───────────────┼───────────────┼───────────────┼───────────────┤\n",
      "│     4 │ 0.534/6.45    │ 0.297/0.03     │ 0.444/0.00    │ 0.445/0.00    │ 0.341/0.01    │ 0.154/0.28    │\n",
      "├───────┼───────────────┼────────────────┼───────────────┼───────────────┼───────────────┼───────────────┤\n",
      "│     5 │ 0.389/0.00    │ -0.396/0.00    │ -0.014/0.92   │ 0.501/0.00    │ 0.265/0.06    │ 0.361/0.01    │\n",
      "╘═══════╧═══════════════╧════════════════╧═══════════════╧═══════════════╧═══════════════╧═══════════════╛\n"
     ]
    }
   ],
   "source": [
    "table = result_table(dc_curvature_correlations, c=1)"
   ]
  },
  {
   "cell_type": "code",
   "execution_count": null,
   "metadata": {},
   "outputs": [
    {
     "name": "stdout",
     "output_type": "stream",
     "text": [
      "Codimension =  1\n",
      "\\begin{tabular}{rl}\n",
      "\\hline\n",
      "   dim & Noise = 0.0   \\\\\n",
      "\\hline\n",
      "     2 & 0.780/2.50    \\\\\n",
      "     3 & 0.309/0.02    \\\\\n",
      "\\hline\n",
      "\\end{tabular}\n"
     ]
    }
   ],
   "source": [
    "table_latex = result_table(dc_curvature_correlations, c=1, style='latex_raw')"
   ]
  },
  {
   "cell_type": "code",
   "execution_count": null,
   "metadata": {},
   "outputs": [
    {
     "ename": "NameError",
     "evalue": "name 'computed_diffusion_curvatures' is not defined",
     "output_type": "error",
     "traceback": [
      "\u001b[0;31m---------------------------------------------------------------------------\u001b[0m",
      "\u001b[0;31mNameError\u001b[0m                                 Traceback (most recent call last)",
      "Cell \u001b[0;32mIn[45], line 4\u001b[0m\n\u001b[1;32m      2\u001b[0m c \u001b[38;5;241m=\u001b[39m \u001b[38;5;241m1\u001b[39m\n\u001b[1;32m      3\u001b[0m noise_level \u001b[38;5;241m=\u001b[39m \u001b[38;5;241m0.0\u001b[39m\n\u001b[0;32m----> 4\u001b[0m plt\u001b[38;5;241m.\u001b[39mscatter(CC[d][c][noise_level][\u001b[38;5;124m'\u001b[39m\u001b[38;5;124mk\u001b[39m\u001b[38;5;124m'\u001b[39m], \u001b[43mcomputed_diffusion_curvatures\u001b[49m[d][c][noise_level][\u001b[38;5;124m'\u001b[39m\u001b[38;5;124mk\u001b[39m\u001b[38;5;124m'\u001b[39m], alpha\u001b[38;5;241m=\u001b[39m\u001b[38;5;241m0.1\u001b[39m)\n\u001b[1;32m      5\u001b[0m plt\u001b[38;5;241m.\u001b[39mxlabel(\u001b[38;5;124m\"\u001b[39m\u001b[38;5;124mTrue Curvature\u001b[39m\u001b[38;5;124m\"\u001b[39m)\n\u001b[1;32m      6\u001b[0m plt\u001b[38;5;241m.\u001b[39mylabel(\u001b[38;5;124m\"\u001b[39m\u001b[38;5;124mComputed Curvature\u001b[39m\u001b[38;5;124m\"\u001b[39m)\n",
      "\u001b[0;31mNameError\u001b[0m: name 'computed_diffusion_curvatures' is not defined"
     ]
    }
   ],
   "source": [
    "d = 2\n",
    "c = 1\n",
    "noise_level = 0.0\n",
    "plt.scatter(CC[d][c][noise_level]['k'], computed_diffusion_curvatures[d][c][noise_level]['k'], alpha=0.1)\n",
    "plt.xlabel(\"True Curvature\")\n",
    "plt.ylabel(\"Computed Curvature\")\n",
    "plt.title(f\"Correlation = {dc_curvature_correlations[d][c][noise_level]['r']:.3f}\")\n",
    "plt.show()"
   ]
  },
  {
   "cell_type": "code",
   "execution_count": null,
   "metadata": {},
   "outputs": [
    {
     "data": {
      "image/png": "[encoded data removed]",
      "text/plain": [
       "<Figure size 640x480 with 1 Axes>"
      ]
     },
     "metadata": {},
     "output_type": "display_data"
    }
   ],
   "source": [
    "d = 3\n",
    "c = 1\n",
    "noise_level = 0.0\n",
    "plt.scatter(CC[d][c][noise_level]['k'], computed_diffusion_curvatures[d][c][noise_level]['k'], alpha=0.1)\n",
    "plt.xlabel(\"True Curvature\")\n",
    "plt.ylabel(\"Computed Curvature\")\n",
    "plt.title(f\"Correlation = {dc_curvature_correlations[d][c][noise_level]['r']:.3f}\")\n",
    "plt.show()"
   ]
  },
  {
   "cell_type": "markdown",
   "metadata": {},
   "source": [
    "# Fidelity of Sign\n",
    "\n",
    "The above shows that the *unsigned* diffusion curvature correlates robustly with the true curvature. Let's measure how well the sign is predicted by diffusion curvature. "
   ]
  },
  {
   "cell_type": "code",
   "execution_count": null,
   "metadata": {},
   "outputs": [],
   "source": [
    "#|export\n",
    "def compute_sign_score(\n",
    "        computed_curvature, # the computed curvature\n",
    "        CC, # the battery dictionary\n",
    "        ):\n",
    "    correlations = {}\n",
    "    for d in tqdm(CC['dims'], desc=\"intrinsic dimensions\"):\n",
    "        correlations[d] = {}\n",
    "        for c in CC[d]['codims']:\n",
    "            correlations[d][c] = {}\n",
    "            for noise_level in tqdm(CC[d][c]['noise_levels'], leave=False, desc=\"Noise Levels\"):\n",
    "                correlations[d][c][noise_level] = {}\n",
    "                correlations[d][c][noise_level]['r'] = []\n",
    "                correlations[d][c][noise_level]['p'] = []\n",
    "                # for i in trange(len(CC[d][c][noise_level]['Xs']), leave=False, desc=\"Samples\"):\n",
    "                k = computed_curvature[d][c][noise_level]['k']\n",
    "                k_true = CC[d][c][noise_level]['k']\n",
    "                # measure the 'classification accuracy' of the signs.\n",
    "                class_acc = np.sum(\n",
    "                    (np.sign(k) == np.sign(k_true)).astype(int)\n",
    "                ) / len(k)\n",
    "                correlations[d][c][noise_level]['accuracy'] = class_acc\n",
    "    return correlations"
   ]
  },
  {
   "cell_type": "code",
   "execution_count": null,
   "metadata": {},
   "outputs": [
    {
     "data": {
      "application/vnd.jupyter.widget-view+json": {
       "model_id": "0dc0c3c2add6414e8ffb9be92afd0f8c",
       "version_major": 2,
       "version_minor": 0
      },
      "text/plain": [
       "intrinsic dimensions:   0%|          | 0/2 [00:00<?, ?it/s]"
      ]
     },
     "metadata": {},
     "output_type": "display_data"
    },
    {
     "data": {
      "application/vnd.jupyter.widget-view+json": {
       "model_id": "",
       "version_major": 2,
       "version_minor": 0
      },
      "text/plain": [
       "Noise Levels:   0%|          | 0/1 [00:00<?, ?it/s]"
      ]
     },
     "metadata": {},
     "output_type": "display_data"
    },
    {
     "data": {
      "application/vnd.jupyter.widget-view+json": {
       "model_id": "",
       "version_major": 2,
       "version_minor": 0
      },
      "text/plain": [
       "Noise Levels:   0%|          | 0/1 [00:00<?, ?it/s]"
      ]
     },
     "metadata": {},
     "output_type": "display_data"
    }
   ],
   "source": [
    "sign_accs = compute_sign_score(computed_diffusion_curvatures, CC)"
   ]
  },
  {
   "cell_type": "code",
   "execution_count": null,
   "metadata": {},
   "outputs": [
    {
     "name": "stdout",
     "output_type": "stream",
     "text": [
      "Codimension =  1\n",
      "╒═══════╤═══════════════╕\n",
      "│   dim │   Noise = 0.0 │\n",
      "╞═══════╪═══════════════╡\n",
      "│     2 │          0.74 │\n",
      "├───────┼───────────────┤\n",
      "│     3 │          0.18 │\n",
      "╘═══════╧═══════════════╛\n"
     ]
    }
   ],
   "source": [
    "table = result_table(sign_accs, c=1, keys=['accuracy'])"
   ]
  },
  {
   "cell_type": "markdown",
   "metadata": {},
   "source": [
    "# Dataset Exploration\n",
    "Dimension 3 looks terrible! Why is this?"
   ]
  },
  {
   "cell_type": "code",
   "execution_count": null,
   "metadata": {},
   "outputs": [],
   "source": [
    "Xs = CC[3][1][0]['Xs']"
   ]
  },
  {
   "cell_type": "code",
   "execution_count": null,
   "metadata": {},
   "outputs": [
    {
     "ename": "TypeError",
     "evalue": "slice indices must be integers or None or have an __index__ method",
     "output_type": "error",
     "traceback": [
      "\u001b[0;31m---------------------------------------------------------------------------\u001b[0m",
      "\u001b[0;31mTypeError\u001b[0m                                 Traceback (most recent call last)",
      "Cell \u001b[0;32mIn[33], line 12\u001b[0m\n\u001b[1;32m      3\u001b[0m DC \u001b[38;5;241m=\u001b[39m DiffusionCurvature(\n\u001b[1;32m      4\u001b[0m     laziness_method\u001b[38;5;241m=\u001b[39m\u001b[38;5;124m\"\u001b[39m\u001b[38;5;124mEntropic\u001b[39m\u001b[38;5;124m\"\u001b[39m,\n\u001b[1;32m      5\u001b[0m     flattening_method\u001b[38;5;241m=\u001b[39m\u001b[38;5;124m\"\u001b[39m\u001b[38;5;124mFixed\u001b[39m\u001b[38;5;124m\"\u001b[39m,\n\u001b[0;32m   (...)\u001b[0m\n\u001b[1;32m      9\u001b[0m     comparison_space_size_factor\u001b[38;5;241m=\u001b[39m\u001b[38;5;241m1\u001b[39m\n\u001b[1;32m     10\u001b[0m )\n\u001b[1;32m     11\u001b[0m ks \u001b[38;5;241m=\u001b[39m DC\u001b[38;5;241m.\u001b[39mcurvature(G, t\u001b[38;5;241m=\u001b[39m\u001b[38;5;241m15\u001b[39m, dim\u001b[38;5;241m=\u001b[39m\u001b[38;5;241m3\u001b[39m)\n\u001b[0;32m---> 12\u001b[0m plot_3d(\u001b[43mX\u001b[49m\u001b[43m[\u001b[49m\u001b[43m:\u001b[49m\u001b[43m[\u001b[49m\u001b[38;5;241;43m1\u001b[39;49m\u001b[43m,\u001b[49m\u001b[38;5;241;43m2\u001b[39;49m\u001b[43m,\u001b[49m\u001b[38;5;241;43m3\u001b[39;49m\u001b[43m]\u001b[49m\u001b[43m]\u001b[49m, ks, use_plotly\u001b[38;5;241m=\u001b[39m\u001b[38;5;28;01mTrue\u001b[39;00m)\n",
      "\u001b[0;31mTypeError\u001b[0m: slice indices must be integers or None or have an __index__ method"
     ]
    }
   ],
   "source": [
    "X = Xs[0]\n",
    "G = get_adaptive_graph(X) #graphtools.Graph(X, anisotropy=1, knn=15, decay=None).to_pygsp()\n",
    "DC = DiffusionCurvature(\n",
    "    laziness_method=\"Entropic\",\n",
    "    flattening_method=\"Fixed\",\n",
    "    comparison_method=\"Subtraction\",\n",
    "    graph_former = get_adaptive_graph,\n",
    "    points_per_cluster=None, # construct separate comparison spaces around each point\n",
    "    comparison_space_size_factor=1\n",
    ")\n",
    "ks = DC.curvature(G, t=15, dim=3)\n",
    "plot_3d(X, ks, use_plotly=True)"
   ]
  },
  {
   "cell_type": "code",
   "execution_count": null,
   "metadata": {},
   "outputs": [],
   "source": [
    "#|hide\n",
    "!nbdev_export"
   ]
  },
  {
   "cell_type": "code",
   "execution_count": null,
   "metadata": {},
   "outputs": [],
   "source": []
  }
 ],
 "metadata": {
  "kernelspec": {
   "display_name": "python3",
   "language": "python",
   "name": "python3"
  }
 },
 "nbformat": 4,
 "nbformat_minor": 4
}

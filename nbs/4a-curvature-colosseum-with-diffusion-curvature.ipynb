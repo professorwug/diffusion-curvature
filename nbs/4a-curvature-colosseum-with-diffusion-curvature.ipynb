{
 "cells": [
  {
   "cell_type": "code",
   "execution_count": null,
   "metadata": {},
   "outputs": [
    {
     "name": "stdout",
     "output_type": "stream",
     "text": [
      "The autoreload extension is already loaded. To reload it, use:\n",
      "  %reload_ext autoreload\n"
     ]
    }
   ],
   "source": [
    "#|default_exp benchmarking.run_battery_on_diffusion_curvature\n",
    "from diffusion_curvature.graphs import *\n",
    "from diffusion_curvature.datasets import *\n",
    "from diffusion_curvature.core import *\n",
    "from fastcore.all import *\n",
    "import numpy as np\n",
    "from tqdm.auto import tqdm, trange\n",
    "from nbdev import show_doc\n",
    "from diffusion_curvature.utils import plot_3d\n",
    "import matplotlib.pyplot as plt\n",
    "\n",
    "from tqdm.auto import tqdm, trange\n",
    "from fastcore.all import *\n",
    "\n",
    "from scipy.stats import pearsonr\n",
    "\n",
    "import deepdish\n",
    "import graphtools\n",
    "from functools import partial\n",
    "\n",
    "os.environ['XLA_PYTHON_CLIENT_PREALLOCATE']='false' # Tells Jax not to hog all of the memory to this process.\n",
    "\n",
    "%load_ext autoreload\n",
    "%autoreload 2"
   ]
  },
  {
   "cell_type": "code",
   "execution_count": null,
   "metadata": {},
   "outputs": [
    {
     "name": "stdout",
     "output_type": "stream",
     "text": [
      "GPU with most available memory set as default: 1\n"
     ]
    }
   ],
   "source": [
    "import jax\n",
    "import jax.numpy as jnp\n",
    "\n",
    "def get_gpu_with_max_memory_and_set_as_default():\n",
    "    devices = jax.devices(\"gpu\")\n",
    "    if not devices:\n",
    "        return None\n",
    "\n",
    "    max_memory_gpu_idx = None\n",
    "    max_memory = 0\n",
    "\n",
    "    for idx, device in enumerate(devices):\n",
    "        device_mem = device.memory_stats()\n",
    "        free_memory = device_mem['bytes_limit'] - device_mem['bytes_in_use']\n",
    "        if free_memory > max_memory:\n",
    "            max_memory = free_memory\n",
    "            max_memory_gpu_idx = idx\n",
    "\n",
    "    if max_memory_gpu_idx is not None:\n",
    "        jax.config.update(\"jax_default_device\", devices[max_memory_gpu_idx])\n",
    "    \n",
    "    return max_memory_gpu_idx\n",
    "\n",
    "# Example usage\n",
    "gpu_idx = get_gpu_with_max_memory_and_set_as_default()\n",
    "print(f\"GPU with most available memory set as default: {gpu_idx}\")"
   ]
  },
  {
   "cell_type": "markdown",
   "metadata": {},
   "source": [
    "# 4a Computing the diffusion curvature of the battery"
   ]
  },
  {
   "cell_type": "code",
   "execution_count": null,
   "metadata": {},
   "outputs": [],
   "source": [
    "#|export\n",
    "# parameters for run\n",
    "battery_file = \"/home/piriac/data/diffusion_curvature/Curvature_Colosseum_dikey.h5\"\n",
    "# battery_file = \"/home/piriac/data/diffusion_curvature/Curvature_Colosseum_LowD_HighSampled.h5\" # for test runs\n",
    "k = 80 # for curvature agnostic kernel\n",
    "neighbor_scale = 2 # for curvature agnostic kernel\n",
    "alpha = 0\n",
    "ts = list(range(1,80))\n",
    "\n",
    "name_of_run = f\"DC2_with_idx_k-{k}_alpha-{alpha}_maxt-{max(ts)}\"\n",
    "print(name_of_run)"
   ]
  },
  {
   "cell_type": "code",
   "execution_count": null,
   "metadata": {},
   "outputs": [],
   "source": [
    "!pixi run nbsync"
   ]
  },
  {
   "cell_type": "code",
   "execution_count": null,
   "metadata": {},
   "outputs": [],
   "source": [
    "#|export\n",
    "from diffusion_curvature.core import DiffusionCurvature2\n",
    "from diffusion_curvature.kernels import get_curvature_agnostic_graph, tune_curvature_agnostic_kernel\n",
    "\n",
    "def curvature_fn(X, dim, k = k, ts = ts, alpha = alpha, ns = neighbor_scale):\n",
    "    graph_former, ns = tune_curvature_agnostic_kernel(X, k, tolerance = 1, max_iterations = 100, alpha = alpha)\n",
    "    # graph_former = partial(get_curvature_agnostic_graph, k = k, neighbor_scale = neighbor_scale, alpha = alpha)\n",
    "    DC = DiffusionCurvature2(\n",
    "        diffusion_type = \"diffusion matrix\",\n",
    "        laziness_method=\"Entropic\",\n",
    "        comparison_method=\"Subtraction\",\n",
    "        graph_former = graph_former,\n",
    "    )\n",
    "    k = DC.fit(\n",
    "        X, dim, ts = ts, idx = 0\n",
    "    )\n",
    "    return k.item()"
   ]
  },
  {
   "cell_type": "code",
   "execution_count": null,
   "metadata": {},
   "outputs": [],
   "source": [
    "#|export\n",
    "from diffusion_curvature.utils import jax_set_best_gpu\n",
    "from tqdm.auto import tqdm, trange\n",
    "from diffusion_curvature.benchmarking.curvature_colosseum import compute_curvature_on_battery\n",
    "from fastcore.all import *\n",
    "import deepdish\n",
    "\n",
    "@call_parse\n",
    "def main():\n",
    "    jax_set_best_gpu()\n",
    "    # load curvature battery\n",
    "    CC = deepdish.io.load(battery_file)\n",
    "\n",
    "    saved_calcs = f\"/home/piriac/data/diffusion_curvature/computed_diffusion_curvatures_core_{name_of_run}.h5\"\n",
    "    if os.path.exists(saved_calcs):\n",
    "        print(f\"Loading saved calculations from {saved_calcs}\")\n",
    "        computed_curvatures= deepdish.io.load(saved_calcs)\n",
    "    else:\n",
    "        computed_curvatures = compute_curvature_on_battery(curvature_fn, CC)\n",
    "        deepdish.io.save(f\"/home/piriac/data/diffusion_curvature/computed_diffusion_curvatures_core_{name_of_run}.h5\", computed_curvatures)\n",
    "    return CC, computed_curvatures"
   ]
  },
  {
   "cell_type": "code",
   "execution_count": null,
   "metadata": {},
   "outputs": [
    {
     "name": "stdout",
     "output_type": "stream",
     "text": [
      "Loading saved calculations from /home/piriac/data/diffusion_curvature/computed_diffusion_curvatures_core_DC2_with_idx_k-10_alpha-0_maxt-19.h5\n"
     ]
    }
   ],
   "source": [
    "CC, computed_curvature = main()"
   ]
  },
  {
   "cell_type": "code",
   "execution_count": null,
   "metadata": {},
   "outputs": [
    {
     "data": {
      "image/png": "[encoded data removed]",
      "text/plain": [
       "<Figure size 640x480 with 1 Axes>"
      ]
     },
     "metadata": {},
     "output_type": "display_data"
    }
   ],
   "source": [
    "d = 2\n",
    "c = 1\n",
    "noise_level = 0.0\n",
    "plt.scatter(CC[d][c][noise_level]['k'], computed_curvature[d][c][noise_level]['k'], c = 'red')\n",
    "plt.xlabel(\"True Curvature\")\n",
    "plt.ylabel(\"Computed Curvature\")\n",
    "plt.title(f\"Sanity Check in dim {d} and codim {c}\")\n",
    "plt.show()"
   ]
  },
  {
   "cell_type": "markdown",
   "metadata": {},
   "source": [
    "# Pearson Correlations"
   ]
  },
  {
   "cell_type": "code",
   "execution_count": null,
   "metadata": {},
   "outputs": [],
   "source": [
    "#|export\n",
    "# compute the pearson correlations between the computed curvature and the true curvature\n",
    "def compute_correlations(\n",
    "        computed_curvature, # the computed curvature\n",
    "        CC, # the battery dictionary\n",
    "        ):\n",
    "    correlations = {}\n",
    "    for d in tqdm(CC['dims'], desc=\"intrinsic dimensions\"):\n",
    "        correlations[d] = {}\n",
    "        for c in tqdm(CC[d]['codims'], leave=False, desc='codimensions'):\n",
    "            correlations[d][c] = {}\n",
    "            for noise_level in tqdm(CC[d][c]['noise_levels'], leave=False, desc=\"Noise Levels\"):\n",
    "                correlations[d][c][noise_level] = {}\n",
    "                correlations[d][c][noise_level]['r'] = []\n",
    "                correlations[d][c][noise_level]['p'] = []\n",
    "                # for i in trange(len(CC[d][c][noise_level]['Xs']), leave=False, desc=\"Samples\"):\n",
    "                k = computed_curvature[d][c][noise_level]['k']\n",
    "                k_true = CC[d][c][noise_level]['k']\n",
    "                r, p = pearsonr(k, k_true)\n",
    "                correlations[d][c][noise_level]['r'] = r\n",
    "                correlations[d][c][noise_level]['p'] = p\n",
    "    return correlations"
   ]
  },
  {
   "cell_type": "code",
   "execution_count": null,
   "metadata": {},
   "outputs": [
    {
     "data": {
      "application/vnd.jupyter.widget-view+json": {
       "model_id": "86aee99ea2f54427ac3e9a93c3abbc13",
       "version_major": 2,
       "version_minor": 0
      },
      "text/plain": [
       "intrinsic dimensions:   0%|          | 0/4 [00:00<?, ?it/s]"
      ]
     },
     "metadata": {},
     "output_type": "display_data"
    },
    {
     "data": {
      "application/vnd.jupyter.widget-view+json": {
       "model_id": "",
       "version_major": 2,
       "version_minor": 0
      },
      "text/plain": [
       "codimensions:   0%|          | 0/4 [00:00<?, ?it/s]"
      ]
     },
     "metadata": {},
     "output_type": "display_data"
    },
    {
     "data": {
      "application/vnd.jupyter.widget-view+json": {
       "model_id": "",
       "version_major": 2,
       "version_minor": 0
      },
      "text/plain": [
       "Noise Levels:   0%|          | 0/6 [00:00<?, ?it/s]"
      ]
     },
     "metadata": {},
     "output_type": "display_data"
    },
    {
     "data": {
      "application/vnd.jupyter.widget-view+json": {
       "model_id": "",
       "version_major": 2,
       "version_minor": 0
      },
      "text/plain": [
       "Noise Levels:   0%|          | 0/6 [00:00<?, ?it/s]"
      ]
     },
     "metadata": {},
     "output_type": "display_data"
    },
    {
     "data": {
      "application/vnd.jupyter.widget-view+json": {
       "model_id": "",
       "version_major": 2,
       "version_minor": 0
      },
      "text/plain": [
       "Noise Levels:   0%|          | 0/6 [00:00<?, ?it/s]"
      ]
     },
     "metadata": {},
     "output_type": "display_data"
    },
    {
     "data": {
      "application/vnd.jupyter.widget-view+json": {
       "model_id": "",
       "version_major": 2,
       "version_minor": 0
      },
      "text/plain": [
       "Noise Levels:   0%|          | 0/6 [00:00<?, ?it/s]"
      ]
     },
     "metadata": {},
     "output_type": "display_data"
    },
    {
     "data": {
      "application/vnd.jupyter.widget-view+json": {
       "model_id": "",
       "version_major": 2,
       "version_minor": 0
      },
      "text/plain": [
       "codimensions:   0%|          | 0/4 [00:00<?, ?it/s]"
      ]
     },
     "metadata": {},
     "output_type": "display_data"
    },
    {
     "data": {
      "application/vnd.jupyter.widget-view+json": {
       "model_id": "",
       "version_major": 2,
       "version_minor": 0
      },
      "text/plain": [
       "Noise Levels:   0%|          | 0/6 [00:00<?, ?it/s]"
      ]
     },
     "metadata": {},
     "output_type": "display_data"
    },
    {
     "data": {
      "application/vnd.jupyter.widget-view+json": {
       "model_id": "",
       "version_major": 2,
       "version_minor": 0
      },
      "text/plain": [
       "Noise Levels:   0%|          | 0/6 [00:00<?, ?it/s]"
      ]
     },
     "metadata": {},
     "output_type": "display_data"
    },
    {
     "data": {
      "application/vnd.jupyter.widget-view+json": {
       "model_id": "",
       "version_major": 2,
       "version_minor": 0
      },
      "text/plain": [
       "Noise Levels:   0%|          | 0/6 [00:00<?, ?it/s]"
      ]
     },
     "metadata": {},
     "output_type": "display_data"
    },
    {
     "data": {
      "application/vnd.jupyter.widget-view+json": {
       "model_id": "",
       "version_major": 2,
       "version_minor": 0
      },
      "text/plain": [
       "Noise Levels:   0%|          | 0/6 [00:00<?, ?it/s]"
      ]
     },
     "metadata": {},
     "output_type": "display_data"
    },
    {
     "data": {
      "application/vnd.jupyter.widget-view+json": {
       "model_id": "",
       "version_major": 2,
       "version_minor": 0
      },
      "text/plain": [
       "codimensions:   0%|          | 0/4 [00:00<?, ?it/s]"
      ]
     },
     "metadata": {},
     "output_type": "display_data"
    },
    {
     "data": {
      "application/vnd.jupyter.widget-view+json": {
       "model_id": "",
       "version_major": 2,
       "version_minor": 0
      },
      "text/plain": [
       "Noise Levels:   0%|          | 0/6 [00:00<?, ?it/s]"
      ]
     },
     "metadata": {},
     "output_type": "display_data"
    },
    {
     "data": {
      "application/vnd.jupyter.widget-view+json": {
       "model_id": "",
       "version_major": 2,
       "version_minor": 0
      },
      "text/plain": [
       "Noise Levels:   0%|          | 0/6 [00:00<?, ?it/s]"
      ]
     },
     "metadata": {},
     "output_type": "display_data"
    },
    {
     "data": {
      "application/vnd.jupyter.widget-view+json": {
       "model_id": "",
       "version_major": 2,
       "version_minor": 0
      },
      "text/plain": [
       "Noise Levels:   0%|          | 0/6 [00:00<?, ?it/s]"
      ]
     },
     "metadata": {},
     "output_type": "display_data"
    },
    {
     "data": {
      "application/vnd.jupyter.widget-view+json": {
       "model_id": "",
       "version_major": 2,
       "version_minor": 0
      },
      "text/plain": [
       "Noise Levels:   0%|          | 0/6 [00:00<?, ?it/s]"
      ]
     },
     "metadata": {},
     "output_type": "display_data"
    },
    {
     "data": {
      "application/vnd.jupyter.widget-view+json": {
       "model_id": "",
       "version_major": 2,
       "version_minor": 0
      },
      "text/plain": [
       "codimensions:   0%|          | 0/4 [00:00<?, ?it/s]"
      ]
     },
     "metadata": {},
     "output_type": "display_data"
    },
    {
     "data": {
      "application/vnd.jupyter.widget-view+json": {
       "model_id": "",
       "version_major": 2,
       "version_minor": 0
      },
      "text/plain": [
       "Noise Levels:   0%|          | 0/6 [00:00<?, ?it/s]"
      ]
     },
     "metadata": {},
     "output_type": "display_data"
    },
    {
     "data": {
      "application/vnd.jupyter.widget-view+json": {
       "model_id": "",
       "version_major": 2,
       "version_minor": 0
      },
      "text/plain": [
       "Noise Levels:   0%|          | 0/6 [00:00<?, ?it/s]"
      ]
     },
     "metadata": {},
     "output_type": "display_data"
    },
    {
     "data": {
      "application/vnd.jupyter.widget-view+json": {
       "model_id": "",
       "version_major": 2,
       "version_minor": 0
      },
      "text/plain": [
       "Noise Levels:   0%|          | 0/6 [00:00<?, ?it/s]"
      ]
     },
     "metadata": {},
     "output_type": "display_data"
    },
    {
     "data": {
      "application/vnd.jupyter.widget-view+json": {
       "model_id": "",
       "version_major": 2,
       "version_minor": 0
      },
      "text/plain": [
       "Noise Levels:   0%|          | 0/6 [00:00<?, ?it/s]"
      ]
     },
     "metadata": {},
     "output_type": "display_data"
    }
   ],
   "source": [
    "dc_curvature_correlations = compute_correlations(computed_curvature, CC)"
   ]
  },
  {
   "cell_type": "code",
   "execution_count": null,
   "metadata": {},
   "outputs": [],
   "source": [
    "from tabulate import tabulate"
   ]
  },
  {
   "cell_type": "code",
   "execution_count": null,
   "metadata": {},
   "outputs": [],
   "source": [
    "#|export\n",
    "# Make a latex table of the correlations, both r and p values, with dimension in the rows and noise level in the columns\n",
    "def result_table(\n",
    "        correlations, # dictionary of correlations\n",
    "        c:int, # codimension\n",
    "        style = 'fancy_grid',\n",
    "        keys = ['r','p']\n",
    "        ):\n",
    "    noise_levels = correlations[correlations.keys().__iter__().__next__()][c].keys()\n",
    "    print(\"Codimension = \",c)\n",
    "    table = tabulate(\n",
    "        [[d] + [f\"{correlations[d][c][noise_level][keys[0]]:.{3}f}{'/' + str(correlations[d][c][noise_level][keys[1]])[:4] if len(keys) > 1 else ''}\" for noise_level in noise_levels] for d in correlations.keys()],\n",
    "        headers=['dim'] + [f\"Noise = {nl}\" for nl in noise_levels],\n",
    "        tablefmt=style, #latex_raw\n",
    "        floatfmt=\".2f\",\n",
    "        )\n",
    "    print(table)\n",
    "    return table"
   ]
  },
  {
   "cell_type": "code",
   "execution_count": null,
   "metadata": {},
   "outputs": [
    {
     "name": "stdout",
     "output_type": "stream",
     "text": [
      "Codimension =  1\n",
      "╒═══════╤═══════════════╤════════════════╤═══════════════╤═══════════════╤═══════════════╤═══════════════╕\n",
      "│   dim │ Noise = 0.0   │ Noise = 0.05   │ Noise = 0.1   │ Noise = 0.2   │ Noise = 0.3   │ Noise = 0.5   │\n",
      "╞═══════╪═══════════════╪════════════════╪═══════════════╪═══════════════╪═══════════════╪═══════════════╡\n",
      "│     2 │ 0.096/0.50    │ 0.017/0.90     │ -0.018/0.90   │ 0.114/0.42    │ -0.183/0.20   │ 0.121/0.40    │\n",
      "├───────┼───────────────┼────────────────┼───────────────┼───────────────┼───────────────┼───────────────┤\n",
      "│     3 │ -0.088/0.54   │ 0.010/0.94     │ -0.175/0.22   │ 0.006/0.96    │ -0.047/0.74   │ 0.096/0.50    │\n",
      "├───────┼───────────────┼────────────────┼───────────────┼───────────────┼───────────────┼───────────────┤\n",
      "│     4 │ -0.116/0.42   │ -0.193/0.17    │ -0.009/0.94   │ 0.098/0.49    │ 0.045/0.75    │ 0.073/0.61    │\n",
      "├───────┼───────────────┼────────────────┼───────────────┼───────────────┼───────────────┼───────────────┤\n",
      "│     5 │ 0.067/0.64    │ -0.212/0.13    │ -0.040/0.78   │ 0.082/0.57    │ 0.034/0.81    │ 0.003/0.98    │\n",
      "╘═══════╧═══════════════╧════════════════╧═══════════════╧═══════════════╧═══════════════╧═══════════════╛\n"
     ]
    }
   ],
   "source": [
    "table = result_table(dc_curvature_correlations, c=1)"
   ]
  },
  {
   "cell_type": "code",
   "execution_count": null,
   "metadata": {},
   "outputs": [
    {
     "name": "stdout",
     "output_type": "stream",
     "text": [
      "Codimension =  1\n",
      "\\begin{tabular}{rl}\n",
      "\\hline\n",
      "   dim & Noise = 0.0   \\\\\n",
      "\\hline\n",
      "     2 & 0.780/2.50    \\\\\n",
      "     3 & 0.309/0.02    \\\\\n",
      "\\hline\n",
      "\\end{tabular}\n"
     ]
    }
   ],
   "source": [
    "table_latex = result_table(dc_curvature_correlations, c=1, style='latex_raw')"
   ]
  },
  {
   "cell_type": "code",
   "execution_count": null,
   "metadata": {},
   "outputs": [
    {
     "ename": "NameError",
     "evalue": "name 'computed_diffusion_curvatures' is not defined",
     "output_type": "error",
     "traceback": [
      "\u001b[0;31m---------------------------------------------------------------------------\u001b[0m",
      "\u001b[0;31mNameError\u001b[0m                                 Traceback (most recent call last)",
      "Cell \u001b[0;32mIn[45], line 4\u001b[0m\n\u001b[1;32m      2\u001b[0m c \u001b[38;5;241m=\u001b[39m \u001b[38;5;241m1\u001b[39m\n\u001b[1;32m      3\u001b[0m noise_level \u001b[38;5;241m=\u001b[39m \u001b[38;5;241m0.0\u001b[39m\n\u001b[0;32m----> 4\u001b[0m plt\u001b[38;5;241m.\u001b[39mscatter(CC[d][c][noise_level][\u001b[38;5;124m'\u001b[39m\u001b[38;5;124mk\u001b[39m\u001b[38;5;124m'\u001b[39m], \u001b[43mcomputed_diffusion_curvatures\u001b[49m[d][c][noise_level][\u001b[38;5;124m'\u001b[39m\u001b[38;5;124mk\u001b[39m\u001b[38;5;124m'\u001b[39m], alpha\u001b[38;5;241m=\u001b[39m\u001b[38;5;241m0.1\u001b[39m)\n\u001b[1;32m      5\u001b[0m plt\u001b[38;5;241m.\u001b[39mxlabel(\u001b[38;5;124m\"\u001b[39m\u001b[38;5;124mTrue Curvature\u001b[39m\u001b[38;5;124m\"\u001b[39m)\n\u001b[1;32m      6\u001b[0m plt\u001b[38;5;241m.\u001b[39mylabel(\u001b[38;5;124m\"\u001b[39m\u001b[38;5;124mComputed Curvature\u001b[39m\u001b[38;5;124m\"\u001b[39m)\n",
      "\u001b[0;31mNameError\u001b[0m: name 'computed_diffusion_curvatures' is not defined"
     ]
    }
   ],
   "source": [
    "d = 2\n",
    "c = 1\n",
    "noise_level = 0.0\n",
    "plt.scatter(CC[d][c][noise_level]['k'], computed_diffusion_curvatures[d][c][noise_level]['k'], alpha=0.1)\n",
    "plt.xlabel(\"True Curvature\")\n",
    "plt.ylabel(\"Computed Curvature\")\n",
    "plt.title(f\"Correlation = {dc_curvature_correlations[d][c][noise_level]['r']:.3f}\")\n",
    "plt.show()"
   ]
  },
  {
   "cell_type": "code",
   "execution_count": null,
   "metadata": {},
   "outputs": [
    {
     "data": {
      "image/png": "[encoded data removed]",
      "text/plain": [
       "<Figure size 640x480 with 1 Axes>"
      ]
     },
     "metadata": {},
     "output_type": "display_data"
    }
   ],
   "source": [
    "d = 3\n",
    "c = 1\n",
    "noise_level = 0.0\n",
    "plt.scatter(CC[d][c][noise_level]['k'], computed_diffusion_curvatures[d][c][noise_level]['k'], alpha=0.1)\n",
    "plt.xlabel(\"True Curvature\")\n",
    "plt.ylabel(\"Computed Curvature\")\n",
    "plt.title(f\"Correlation = {dc_curvature_correlations[d][c][noise_level]['r']:.3f}\")\n",
    "plt.show()"
   ]
  },
  {
   "cell_type": "markdown",
   "metadata": {},
   "source": [
    "# Fidelity of Sign\n",
    "\n",
    "The above shows that the *unsigned* diffusion curvature correlates robustly with the true curvature. Let's measure how well the sign is predicted by diffusion curvature. "
   ]
  },
  {
   "cell_type": "code",
   "execution_count": null,
   "metadata": {},
   "outputs": [],
   "source": [
    "#|export\n",
    "def compute_sign_score(\n",
    "        computed_curvature, # the computed curvature\n",
    "        CC, # the battery dictionary\n",
    "        ):\n",
    "    correlations = {}\n",
    "    for d in tqdm(CC['dims'], desc=\"intrinsic dimensions\"):\n",
    "        correlations[d] = {}\n",
    "        for c in CC[d]['codims']:\n",
    "            correlations[d][c] = {}\n",
    "            for noise_level in tqdm(CC[d][c]['noise_levels'], leave=False, desc=\"Noise Levels\"):\n",
    "                correlations[d][c][noise_level] = {}\n",
    "                correlations[d][c][noise_level]['r'] = []\n",
    "                correlations[d][c][noise_level]['p'] = []\n",
    "                # for i in trange(len(CC[d][c][noise_level]['Xs']), leave=False, desc=\"Samples\"):\n",
    "                k = computed_curvature[d][c][noise_level]['k']\n",
    "                k_true = CC[d][c][noise_level]['k']\n",
    "                # measure the 'classification accuracy' of the signs.\n",
    "                class_acc = np.sum(\n",
    "                    (np.sign(k) == np.sign(k_true)).astype(int)\n",
    "                ) / len(k)\n",
    "                correlations[d][c][noise_level]['accuracy'] = class_acc\n",
    "    return correlations"
   ]
  },
  {
   "cell_type": "code",
   "execution_count": null,
   "metadata": {},
   "outputs": [
    {
     "data": {
      "application/vnd.jupyter.widget-view+json": {
       "model_id": "0dc0c3c2add6414e8ffb9be92afd0f8c",
       "version_major": 2,
       "version_minor": 0
      },
      "text/plain": [
       "intrinsic dimensions:   0%|          | 0/2 [00:00<?, ?it/s]"
      ]
     },
     "metadata": {},
     "output_type": "display_data"
    },
    {
     "data": {
      "application/vnd.jupyter.widget-view+json": {
       "model_id": "",
       "version_major": 2,
       "version_minor": 0
      },
      "text/plain": [
       "Noise Levels:   0%|          | 0/1 [00:00<?, ?it/s]"
      ]
     },
     "metadata": {},
     "output_type": "display_data"
    },
    {
     "data": {
      "application/vnd.jupyter.widget-view+json": {
       "model_id": "",
       "version_major": 2,
       "version_minor": 0
      },
      "text/plain": [
       "Noise Levels:   0%|          | 0/1 [00:00<?, ?it/s]"
      ]
     },
     "metadata": {},
     "output_type": "display_data"
    }
   ],
   "source": [
    "sign_accs = compute_sign_score(computed_diffusion_curvatures, CC)"
   ]
  },
  {
   "cell_type": "code",
   "execution_count": null,
   "metadata": {},
   "outputs": [
    {
     "name": "stdout",
     "output_type": "stream",
     "text": [
      "Codimension =  1\n",
      "╒═══════╤═══════════════╕\n",
      "│   dim │   Noise = 0.0 │\n",
      "╞═══════╪═══════════════╡\n",
      "│     2 │          0.74 │\n",
      "├───────┼───────────────┤\n",
      "│     3 │          0.18 │\n",
      "╘═══════╧═══════════════╛\n"
     ]
    }
   ],
   "source": [
    "table = result_table(sign_accs, c=1, keys=['accuracy'])"
   ]
  },
  {
   "cell_type": "markdown",
   "metadata": {},
   "source": [
    "# Dataset Exploration\n",
    "Dimension 3 looks terrible! Why is this?"
   ]
  },
  {
   "cell_type": "code",
   "execution_count": null,
   "metadata": {},
   "outputs": [],
   "source": [
    "Xs = CC[3][1][0]['Xs']"
   ]
  },
  {
   "cell_type": "code",
   "execution_count": null,
   "metadata": {},
   "outputs": [
    {
     "ename": "TypeError",
     "evalue": "slice indices must be integers or None or have an __index__ method",
     "output_type": "error",
     "traceback": [
      "\u001b[0;31m---------------------------------------------------------------------------\u001b[0m",
      "\u001b[0;31mTypeError\u001b[0m                                 Traceback (most recent call last)",
      "Cell \u001b[0;32mIn[33], line 12\u001b[0m\n\u001b[1;32m      3\u001b[0m DC \u001b[38;5;241m=\u001b[39m DiffusionCurvature(\n\u001b[1;32m      4\u001b[0m     laziness_method\u001b[38;5;241m=\u001b[39m\u001b[38;5;124m\"\u001b[39m\u001b[38;5;124mEntropic\u001b[39m\u001b[38;5;124m\"\u001b[39m,\n\u001b[1;32m      5\u001b[0m     flattening_method\u001b[38;5;241m=\u001b[39m\u001b[38;5;124m\"\u001b[39m\u001b[38;5;124mFixed\u001b[39m\u001b[38;5;124m\"\u001b[39m,\n\u001b[0;32m   (...)\u001b[0m\n\u001b[1;32m      9\u001b[0m     comparison_space_size_factor\u001b[38;5;241m=\u001b[39m\u001b[38;5;241m1\u001b[39m\n\u001b[1;32m     10\u001b[0m )\n\u001b[1;32m     11\u001b[0m ks \u001b[38;5;241m=\u001b[39m DC\u001b[38;5;241m.\u001b[39mcurvature(G, t\u001b[38;5;241m=\u001b[39m\u001b[38;5;241m15\u001b[39m, dim\u001b[38;5;241m=\u001b[39m\u001b[38;5;241m3\u001b[39m)\n\u001b[0;32m---> 12\u001b[0m plot_3d(\u001b[43mX\u001b[49m\u001b[43m[\u001b[49m\u001b[43m:\u001b[49m\u001b[43m[\u001b[49m\u001b[38;5;241;43m1\u001b[39;49m\u001b[43m,\u001b[49m\u001b[38;5;241;43m2\u001b[39;49m\u001b[43m,\u001b[49m\u001b[38;5;241;43m3\u001b[39;49m\u001b[43m]\u001b[49m\u001b[43m]\u001b[49m, ks, use_plotly\u001b[38;5;241m=\u001b[39m\u001b[38;5;28;01mTrue\u001b[39;00m)\n",
      "\u001b[0;31mTypeError\u001b[0m: slice indices must be integers or None or have an __index__ method"
     ]
    }
   ],
   "source": [
    "X = Xs[0]\n",
    "G = get_adaptive_graph(X) #graphtools.Graph(X, anisotropy=1, knn=15, decay=None).to_pygsp()\n",
    "DC = DiffusionCurvature(\n",
    "    laziness_method=\"Entropic\",\n",
    "    flattening_method=\"Fixed\",\n",
    "    comparison_method=\"Subtraction\",\n",
    "    graph_former = get_adaptive_graph,\n",
    "    points_per_cluster=None, # construct separate comparison spaces around each point\n",
    "    comparison_space_size_factor=1\n",
    ")\n",
    "ks = DC.curvature(G, t=15, dim=3)\n",
    "plot_3d(X, ks, use_plotly=True)"
   ]
  },
  {
   "cell_type": "code",
   "execution_count": null,
   "metadata": {},
   "outputs": [],
   "source": [
    "#|hide\n",
    "!nbdev_export"
   ]
  },
  {
   "cell_type": "code",
   "execution_count": null,
   "metadata": {},
   "outputs": [],
   "source": []
  }
 ],
 "metadata": {
  "kernelspec": {
   "display_name": "Python [conda env:zetteldev-diffcurv]",
   "language": "python",
   "name": "conda-env-zetteldev-diffcurv-py"
  }
 },
 "nbformat": 4,
 "nbformat_minor": 4
}

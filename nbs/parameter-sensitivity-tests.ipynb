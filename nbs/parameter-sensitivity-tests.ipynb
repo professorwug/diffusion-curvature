{
 "cells": [
  {
   "cell_type": "code",
   "execution_count": 1,
   "id": "116bf89a-afbf-44c6-93dd-af08d9124f79",
   "metadata": {},
   "outputs": [],
   "source": [
    "#|default_exp parameter_sensitivity"
   ]
  },
  {
   "cell_type": "markdown",
   "id": "c9612418-ceb0-4823-9730-facf7b26804f",
   "metadata": {},
   "source": [
    "# Parameter Sensitivity Tests"
   ]
  },
  {
   "cell_type": "markdown",
   "id": "c2dba34f-e3fc-4617-b5c2-1274cd7dc14e",
   "metadata": {},
   "source": [
    "Here we measure the degree of sensitivity each method has to its parameters. \n",
    "We do this in two ways:\n",
    "\n",
    "1. by taking an assortment of datasets, and measuring how the values assigned to its points change with across many different parameters.\n",
    "2. By performing the Curvature Colosseum tests on methods across many different parameters, and seeing how that affects the correlation with ground truth."
   ]
  },
  {
   "cell_type": "code",
   "execution_count": 6,
   "id": "93b4bc33-b960-4037-96ad-9ca1314a311c",
   "metadata": {},
   "outputs": [],
   "source": [
    "#|export\n",
    "\n",
    "def parameter_sensitivity_of_method(method, parameter_dict):\n",
    "    # initialize the torus, saddle, and sphere datasets in a range of dimensions\n",
    "    # run the given method on them, with form\n",
    "    # output_list = method(X, params)\n",
    "    # keep track of the results across parameter sets for each dataset\n",
    "    # and return the variance per dataset and overall\n",
    "    pass\n",
    "\n",
    "# code here"
   ]
  },
  {
   "cell_type": "code",
   "execution_count": 8,
   "id": "f64fc068-9acd-4cf6-bd9f-05de03d79e4b",
   "metadata": {},
   "outputs": [],
   "source": [
    "!nbdev_export"
   ]
  },
  {
   "cell_type": "code",
   "execution_count": null,
   "id": "83f4020e-517e-4819-97fb-7a37c73f7b1b",
   "metadata": {},
   "outputs": [],
   "source": []
  },
  {
   "cell_type": "code",
   "execution_count": null,
   "id": "c71d23a4-9f3d-43c1-9b80-1a12d564c9e4",
   "metadata": {},
   "outputs": [],
   "source": []
  }
 ],
 "metadata": {
  "kernelspec": {
   "display_name": "Python [conda env:zetteldev-diffcurv]",
   "language": "python",
   "name": "conda-env-zetteldev-diffcurv-py"
  },
  "language_info": {
   "codemirror_mode": {
    "name": "ipython",
    "version": 3
   },
   "file_extension": ".py",
   "mimetype": "text/x-python",
   "name": "python",
   "nbconvert_exporter": "python",
   "pygments_lexer": "ipython3",
   "version": "3.11.7"
  }
 },
 "nbformat": 4,
 "nbformat_minor": 5
}

{
 "cells": [
  {
   "cell_type": "code",
   "execution_count": 1,
   "metadata": {},
   "outputs": [],
   "source": [
    "#|default_exp distances\n",
    "from diffusion_curvature.utils import *"
   ]
  },
  {
   "cell_type": "markdown",
   "metadata": {},
   "source": [
    "# Manifold Distances\n",
    "\n",
    "Here we provide reimplementations of algorithms for estimating the manifold distances of a graph."
   ]
  },
  {
   "cell_type": "markdown",
   "metadata": {},
   "source": [
    "## PHATE Distances\n",
    "\n",
    "Wasserstein Diffusion Curvature -- despite the name -- requires only manifold distances. This saves quite a bit of computation, but doesn't alleviate the need for a good approximation of the manifold's geodesic distance. Here, we implement one straightforward and accurate manifold distance: that proposed by Moon et al. in PHATE (2019). The PHATE distance is an extension of the diffusion distance, except instead of calculating the L2 distances between diffusion coordinates (which corresponds roughly to the rows of the diffusion matrix), it takes the L2 distances between the log-transformed diffusions. This flips the weighting from local to global, as a diffusion that assigns a small mass where another assigns a miniscule mass becomes much further than those that differ only at their centers. This log transform has the additional advantage of, through the WAWA formulation of the heat equation, recovering the distance term.\n",
    "\n",
    "It is defined as:\n",
    "$$d_p(x,y) = \\| \\log(p_y^t)-\\log(p_x^t) \\|_2 $$"
   ]
  },
  {
   "cell_type": "code",
   "execution_count": null,
   "metadata": {},
   "outputs": [],
   "source": [
    "#|export\n",
    "from sklearn.metrics import pairwise_distances\n",
    "import numpy as np\n",
    "import scipy\n",
    "import graphtools\n",
    "\n",
    "def phate_distances_graphtools(G:graphtools.api.Graph):\n",
    "    assert G.Pt is not None\n",
    "    if type(G.Pt) == np.ndarray:\n",
    "        log_Pts = -np.log(G.Pt + 1e-6)\n",
    "        D = pairwise_distances(log_Pts)\n",
    "    elif type(G.Pt) == scipy.sparse.csr_matrix:\n",
    "        # TODO: There's likely a more efficient way of doing this. \n",
    "        # But I mustn't tempt the devil of premature optimization\n",
    "        Pt_np = G.Pt.toarray()\n",
    "        log_Pts = -np.log(Pt_np + 1e-6)\n",
    "        D = pairwise_distances(log_Pts)\n",
    "    G.D = D\n",
    "    return G"
   ]
  },
  {
   "cell_type": "code",
   "execution_count": 2,
   "metadata": {},
   "outputs": [],
   "source": [
    "#|export\n",
    "import jax.numpy as jnp\n",
    "def pairwise_euclidean(x, y):\n",
    "  # Pairwise euclidean distances in Jax, courtesy of [jakevdp](https://github.com/google/jax/discussions/11841)\n",
    "  assert x.ndim == y.ndim == 2\n",
    "  return jnp.sqrt(((x[:, None, :] - y[None, :, :]) ** 2).sum(-1)) # I would want to use something like PyKeops for this, if being done differentiably.\n",
    "  \n",
    "def phate_distances(Pt):\n",
    "    log_Pts = -jnp.log(Pt + 1e-6)\n",
    "    D = pairwise_distances(log_Pts, log_Pts)\n",
    "    return D\n",
    "\n",
    "def phate_distances_differentiable(Pt):\n",
    "    return phate_distances(Pt)"
   ]
  },
  {
   "cell_type": "code",
   "execution_count": 3,
   "metadata": {},
   "outputs": [],
   "source": [
    "A = random_jnparray(8,3)\n",
    "D = pairwise_euclidean(A,A)"
   ]
  },
  {
   "cell_type": "code",
   "execution_count": null,
   "metadata": {},
   "outputs": [
    {
     "data": {
      "text/plain": [
       "(8, 8)"
      ]
     },
     "execution_count": null,
     "metadata": {},
     "output_type": "execute_result"
    }
   ],
   "source": [
    "D.shape"
   ]
  },
  {
   "cell_type": "code",
   "execution_count": null,
   "metadata": {},
   "outputs": [],
   "source": [
    "from diffusion_curvature.datasets import torus\n",
    "import graphtools"
   ]
  },
  {
   "cell_type": "code",
   "execution_count": null,
   "metadata": {},
   "outputs": [],
   "source": [
    "X_torus, torus_gaussian_curvature = torus(n=3000)\n",
    "G_torus = graphtools.Graph(X_torus)\n",
    "G_torus.Pt = G_torus.P ** 4"
   ]
  },
  {
   "cell_type": "code",
   "execution_count": null,
   "metadata": {},
   "outputs": [],
   "source": [
    "G_torus = phate_distances(G_torus)"
   ]
  },
  {
   "cell_type": "code",
   "execution_count": null,
   "metadata": {},
   "outputs": [
    {
     "data": {
      "text/plain": [
       "array([[ 0.        , 93.7875039 , 94.59402414, ..., 92.54080119,\n",
       "        90.6213935 , 92.93120075],\n",
       "       [93.7875039 ,  0.        , 89.16673659, ..., 86.98550107,\n",
       "        84.94065264, 87.40071844],\n",
       "       [94.59402414, 89.16673659,  0.        , ..., 87.64808383,\n",
       "        85.61906139, 82.96883047],\n",
       "       ...,\n",
       "       [92.54080119, 86.98550107, 87.64808383, ...,  0.        ,\n",
       "        83.30204347, 85.8508315 ],\n",
       "       [90.6213935 , 84.94065264, 85.61906139, ..., 83.30204347,\n",
       "         0.        , 83.77829279],\n",
       "       [92.93120075, 87.40071844, 82.96883047, ..., 85.8508315 ,\n",
       "        83.77829279,  0.        ]])"
      ]
     },
     "execution_count": null,
     "metadata": {},
     "output_type": "execute_result"
    }
   ],
   "source": [
    "G_torus.D"
   ]
  },
  {
   "cell_type": "code",
   "execution_count": 5,
   "metadata": {},
   "outputs": [],
   "source": [
    "!nbdev_export"
   ]
  },
  {
   "cell_type": "code",
   "execution_count": null,
   "metadata": {},
   "outputs": [],
   "source": []
  }
 ],
 "metadata": {
  "kernelspec": {
   "display_name": "Python [conda env:zetteldev-diffcurv]",
   "language": "python",
   "name": "conda-env-zetteldev-diffcurv-py"
  },
  "language_info": {
   "codemirror_mode": {
    "name": "ipython",
    "version": 3
   },
   "file_extension": ".py",
   "mimetype": "text/x-python",
   "name": "python",
   "nbconvert_exporter": "python",
   "pygments_lexer": "ipython3",
   "version": "3.11.7"
  }
 },
 "nbformat": 4,
 "nbformat_minor": 4
}

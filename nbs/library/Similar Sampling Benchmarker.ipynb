{
 "cells": [
  {
   "cell_type": "code",
   "execution_count": null,
   "id": "a2e013e8-53f6-4ef3-976e-d7e68a90ed1f",
   "metadata": {},
   "outputs": [],
   "source": []
  }
 ],
 "metadata": {
  "kernelspec": {
   "display_name": "diffusion-curvature",
   "language": "python",
   "name": "diffusion-curvature"
  }
 },
 "nbformat": 4,
 "nbformat_minor": 5
}

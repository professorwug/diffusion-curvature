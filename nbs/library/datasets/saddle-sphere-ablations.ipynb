{
 "cells": [
  {
   "cell_type": "code",
   "execution_count": null,
   "metadata": {},
   "outputs": [],
   "source": [
    "#|default_exp datasets.sadspheres\n",
    "## Standard libraries\n",
    "import os\n",
    "import math\n",
    "import numpy as np\n",
    "import time\n",
    "from fastcore.all import *\n",
    "from nbdev.showdoc import *\n",
    "# Configure environment\n",
    "os.environ['XLA_PYTHON_CLIENT_PREALLOCATE']='false' # Tells Jax not to hog all of the memory to this process.\n",
    "\n",
    "## Imports for plotting\n",
    "import matplotlib.pyplot as plt\n",
    "%matplotlib inline\n",
    "from IPython.display import set_matplotlib_formats\n",
    "# set_matplotlib_formats('svg', 'pdf') # For export\n",
    "from matplotlib.colors import to_rgba\n",
    "import seaborn as sns\n",
    "sns.set()\n",
    "\n",
    "## Progress bar\n",
    "from tqdm.auto import tqdm\n",
    "\n",
    "## project specifics\n",
    "import diffusion_curvature\n",
    "\n",
    "from diffusion_curvature.graphs import *\n",
    "from diffusion_curvature.datasets import *\n",
    "# from diffusion_curvature.core import *\n",
    "from diffusion_curvature.utils import *\n",
    "# from diffusion_curvature.comparison_space import *\n",
    "\n",
    "%load_ext autoreload\n",
    "%autoreload 2"
   ]
  },
  {
   "cell_type": "markdown",
   "metadata": {},
   "source": [
    "# Saddle Sphere Ablations\n",
    "> Little brother to the Curvature Colosseum"
   ]
  },
  {
   "cell_type": "markdown",
   "metadata": {},
   "source": [
    "This is a dataset intended to measure the sign discrimination ability of diffusion curvature and other curvature methods. The dataset consists of different samplings of saddles and spheres with varying intensities of curvature and in varying dimensions. There's also the possibility of adding noise. This notebook implements a class which creates this dataset with specified parameters as well as convenience functions which can be used for testing it and visualizing the results."
   ]
  },
  {
   "cell_type": "markdown",
   "metadata": {},
   "source": [
    "# Implementation"
   ]
  },
  {
   "cell_type": "markdown",
   "metadata": {},
   "source": [
    "Because of the specialized purpose of this dataset, we're wrapping it in a special class, which allows the dataset to evaluate its own fidelity in embeddings.\n",
    "\n",
    "It works like this:\n",
    "1. Instatiate the class, supply the dimensions, and noise level, and it will create all of the graphs.\n",
    "2. To run curvature computations on these graphs, you can extract them directly -- or, you can use the dataset as an *iterator*, loop through, run your own logic within, then run an 'update' function to store the result.\n",
    "3. Afterwards, you can use the built in methods for visualizing and getting metrics on the performance."
   ]
  },
  {
   "cell_type": "code",
   "execution_count": null,
   "metadata": {},
   "outputs": [],
   "source": [
    "#|export\n",
    "from diffusion_curvature.core import get_adaptive_graph\n",
    "from diffusion_curvature.datasets import rejection_sample_from_saddle, sphere\n",
    "from fastcore.all import *\n",
    "import xarray as xr\n",
    "import inspect\n",
    "import pandas as pd\n",
    "\n",
    "import sklearn\n",
    "\n",
    "def metric(func):\n",
    "    setattr(func, 'tag', 'metric')\n",
    "    return func\n",
    "\n",
    "class SadSpheres():\n",
    "    def __init__(self,\n",
    "                 dimension = 2, # Dimension of saddles and spheres\n",
    "                 num_pointclouds = 100, # num pointclouds to make in total\n",
    "                 num_points = 2000, # num points per pointclouds\n",
    "                 noise_level = 0, # from 0 to 1. 1 is all noise.\n",
    "                ):\n",
    "        store_attr()\n",
    "        self.DS = xr.Dataset()\n",
    "        self.idx = -1\n",
    "        for i in range(num_pointclouds//2):\n",
    "            X_saddle, ks_saddle = rejection_sample_from_saddle(self.num_points, self.dimension)\n",
    "            self.DS[2*i] = xr.DataArray(X_saddle, dims=['n', 'd'], attrs={'ks':ks_saddle})\n",
    "            X_sphere, ks_sphere = sphere(self.num_points, self.dimension)\n",
    "            self.DS[2*i+1] = xr.DataArray(X_sphere, dims=['n', 'd'], attrs={'ks':ks_sphere[0]})\n",
    "    \n",
    "    def __iter__(self):\n",
    "        return self\n",
    "\n",
    "    def __len__(self):\n",
    "        return self.num_pointclouds\n",
    "\n",
    "    def __next__(self):\n",
    "        self.idx += 1\n",
    "        if self.idx >= self.num_pointclouds:\n",
    "            raise StopIteration\n",
    "        result = self.DS[self.idx].to_numpy()\n",
    "        return result\n",
    "\n",
    "    def update(self,\n",
    "               result,\n",
    "               method_name='computed'):\n",
    "        \"\"\"\n",
    "        Store the result of the curvature computation by passing the computed curvature of the center (first) point.\n",
    "        \"\"\"\n",
    "        self.DS[self.idx].attrs[method_name] = result\n",
    "\n",
    "    def compute_metrics(self):\n",
    "        self._aggregate_labels()\n",
    "        metrics = self._get_metrics()\n",
    "        self.metric_table = {}\n",
    "        for metric in metrics:\n",
    "            self.metric_table[metric.__name__] = {}\n",
    "            for method_name in self.method_names:\n",
    "                self.metric_table[metric.__name__][method_name] = self.compute(metric=metric, method_name=method_name)\n",
    "            print(self.metric_table)\n",
    "        self.metric_table = pd.DataFrame(self.metric_table)\n",
    "            \n",
    "    def compute(self, metric, method_name):\n",
    "        # Overwrite this class with your logic. It implements the computation of a single metric for a single method\n",
    "        return metric(self.labels[method_name], self.labels['ks'])\n",
    "    \n",
    "\n",
    "    def _aggregate_labels(self):\n",
    "        self.method_names = self.DS.data_vars[0].attrs.keys()\n",
    "        self.labels = {}\n",
    "        for m in self.method_names:\n",
    "            self.labels[m] = np.array([self.DS.data_vars[i].attrs[m] for i in range(self.num_pointclouds)])\n",
    "\n",
    "    def plot(self, title = \"\"):\n",
    "        # for each computed method on this dataset, we plot the histogram of saddles vs spheres\n",
    "        self._aggregate_labels()\n",
    "        for m in self.method_names: \n",
    "            if m is not 'ks':\n",
    "                plt.hist(self.labels[m][0::2], bins=50, color='orange', label = 'Saddles')\n",
    "                plt.hist(self.labels[m][1::2], bins=50, color='green', label = 'Spheres')\n",
    "                plt.legend()\n",
    "                plt.xlabel(m)\n",
    "                plt.title(f\"In dimension {self.dimension}\")\n",
    "                plt.show()\n",
    "\n",
    "    def table(self):\n",
    "        self.compute_metrics()\n",
    "        return self.metric_table\n",
    "\n",
    "    def _get_metrics(self):\n",
    "        tagged_functions = []\n",
    "        for name, member in inspect.getmembers(self, predicate=inspect.ismethod):\n",
    "            if hasattr(member, 'tag') and getattr(member, 'tag') == 'metric':\n",
    "                tagged_functions.append(member)\n",
    "        return tagged_functions\n",
    "\n",
    "    @metric\n",
    "    def mutual_info(self, a, b):\n",
    "        return sklearn.metrics.mutual_info_score(a, b)\n",
    "\n",
    "    @metric\n",
    "    def sign_score(self, a, b):\n",
    "        # measures the extent to which the sign of a agrees with b\n",
    "        return sklearn.metrics.mutual_info_score(\n",
    "            np.sign(a),\n",
    "            np.sign(b),\n",
    "        )\n",
    "        \n",
    "    "
   ]
  },
  {
   "cell_type": "code",
   "execution_count": null,
   "metadata": {},
   "outputs": [],
   "source": [
    "SS = SadSpheres()\n",
    "for X in SadSpheres():\n",
    "    break"
   ]
  },
  {
   "cell_type": "code",
   "execution_count": null,
   "metadata": {},
   "outputs": [],
   "source": [
    "ks_combined = SS.DS.data_vars"
   ]
  },
  {
   "cell_type": "code",
   "execution_count": null,
   "metadata": {},
   "outputs": [
    {
     "data": {
      "text/plain": [
       "{'ks': -8.0}"
      ]
     },
     "execution_count": null,
     "metadata": {},
     "output_type": "execute_result"
    }
   ],
   "source": [
    "d.attrs['ks'] for d in DS.data_vars"
   ]
  },
  {
   "cell_type": "code",
   "execution_count": null,
   "metadata": {},
   "outputs": [
    {
     "data": {
      "text/plain": [
       "dict_keys(['ks'])"
      ]
     },
     "execution_count": null,
     "metadata": {},
     "output_type": "execute_result"
    }
   ],
   "source": [
    "SS.DS.data_vars[0].attrs.keys()"
   ]
  },
  {
   "cell_type": "markdown",
   "metadata": {},
   "source": [
    "# Tests"
   ]
  },
  {
   "cell_type": "code",
   "execution_count": null,
   "metadata": {},
   "outputs": [],
   "source": [
    "from diffusion_curvature.core import *"
   ]
  },
  {
   "cell_type": "code",
   "execution_count": null,
   "metadata": {},
   "outputs": [
    {
     "data": {
      "application/vnd.jupyter.widget-view+json": {
       "model_id": "5d79269a8cb24aaeb7ae05f4b5c5fe1f",
       "version_major": 2,
       "version_minor": 0
      },
      "text/plain": [
       "  0%|          | 0/10 [00:00<?, ?it/s]"
      ]
     },
     "metadata": {},
     "output_type": "display_data"
    },
    {
     "name": "stderr",
     "output_type": "stream",
     "text": [
      "2024-02-20 13:01:01,278:[WARNING](pygsp.graphs.graph.check_weights): The main diagonal of the weight matrix is not 0!\n",
      "2024-02-20 13:01:01,644:[WARNING](pygsp.graphs.graph.check_weights): The main diagonal of the weight matrix is not 0!\n",
      "2024-02-20 13:01:02,021:[WARNING](pygsp.graphs.graph.check_weights): The main diagonal of the weight matrix is not 0!\n",
      "2024-02-20 13:01:02,493:[WARNING](pygsp.graphs.graph.check_weights): The main diagonal of the weight matrix is not 0!\n",
      "2024-02-20 13:01:02,791:[WARNING](pygsp.graphs.graph.check_weights): The main diagonal of the weight matrix is not 0!\n",
      "2024-02-20 13:01:03,167:[WARNING](pygsp.graphs.graph.check_weights): The main diagonal of the weight matrix is not 0!\n",
      "2024-02-20 13:01:03,636:[WARNING](pygsp.graphs.graph.check_weights): The main diagonal of the weight matrix is not 0!\n",
      "2024-02-20 13:01:04,022:[WARNING](pygsp.graphs.graph.check_weights): The main diagonal of the weight matrix is not 0!\n",
      "2024-02-20 13:01:04,395:[WARNING](pygsp.graphs.graph.check_weights): The main diagonal of the weight matrix is not 0!\n",
      "2024-02-20 13:01:04,903:[WARNING](pygsp.graphs.graph.check_weights): The main diagonal of the weight matrix is not 0!\n",
      "2024-02-20 13:01:05,224:[WARNING](pygsp.graphs.graph.check_weights): The main diagonal of the weight matrix is not 0!\n",
      "2024-02-20 13:01:05,601:[WARNING](pygsp.graphs.graph.check_weights): The main diagonal of the weight matrix is not 0!\n",
      "2024-02-20 13:01:06,848:[WARNING](pygsp.graphs.graph.check_weights): The main diagonal of the weight matrix is not 0!\n",
      "2024-02-20 13:01:07,217:[WARNING](pygsp.graphs.graph.check_weights): The main diagonal of the weight matrix is not 0!\n",
      "2024-02-20 13:01:07,603:[WARNING](pygsp.graphs.graph.check_weights): The main diagonal of the weight matrix is not 0!\n",
      "2024-02-20 13:01:08,074:[WARNING](pygsp.graphs.graph.check_weights): The main diagonal of the weight matrix is not 0!\n",
      "2024-02-20 13:01:08,357:[WARNING](pygsp.graphs.graph.check_weights): The main diagonal of the weight matrix is not 0!\n",
      "2024-02-20 13:01:08,730:[WARNING](pygsp.graphs.graph.check_weights): The main diagonal of the weight matrix is not 0!\n",
      "2024-02-20 13:01:09,198:[WARNING](pygsp.graphs.graph.check_weights): The main diagonal of the weight matrix is not 0!\n",
      "2024-02-20 13:01:09,581:[WARNING](pygsp.graphs.graph.check_weights): The main diagonal of the weight matrix is not 0!\n",
      "2024-02-20 13:01:09,957:[WARNING](pygsp.graphs.graph.check_weights): The main diagonal of the weight matrix is not 0!\n",
      "2024-02-20 13:01:10,424:[WARNING](pygsp.graphs.graph.check_weights): The main diagonal of the weight matrix is not 0!\n",
      "2024-02-20 13:01:10,708:[WARNING](pygsp.graphs.graph.check_weights): The main diagonal of the weight matrix is not 0!\n",
      "2024-02-20 13:01:11,079:[WARNING](pygsp.graphs.graph.check_weights): The main diagonal of the weight matrix is not 0!\n",
      "2024-02-20 13:01:11,531:[WARNING](pygsp.graphs.graph.check_weights): The main diagonal of the weight matrix is not 0!\n",
      "2024-02-20 13:01:11,903:[WARNING](pygsp.graphs.graph.check_weights): The main diagonal of the weight matrix is not 0!\n",
      "2024-02-20 13:01:12,276:[WARNING](pygsp.graphs.graph.check_weights): The main diagonal of the weight matrix is not 0!\n",
      "2024-02-20 13:01:12,767:[WARNING](pygsp.graphs.graph.check_weights): The main diagonal of the weight matrix is not 0!\n",
      "2024-02-20 13:01:13,061:[WARNING](pygsp.graphs.graph.check_weights): The main diagonal of the weight matrix is not 0!\n",
      "2024-02-20 13:01:13,486:[WARNING](pygsp.graphs.graph.check_weights): The main diagonal of the weight matrix is not 0!\n"
     ]
    }
   ],
   "source": [
    "SS = SadSpheres(\n",
    "    dimension = 2, # Dimension of saddles and spheres\n",
    "    num_pointclouds = 10, # num pointclouds to make in total\n",
    "    num_points = 2000, # num points per pointclouds\n",
    "    noise_level = 0, # from 0 to 1. 1 is all noise.\n",
    ")\n",
    "graph_former = get_adaptive_graph\n",
    "for X in tqdm(SS):\n",
    "    G = graph_former(X)\n",
    "    DC = DiffusionCurvature(\n",
    "        laziness_method=\"Entropic\",\n",
    "        flattening_method=\"Fixed\",\n",
    "        comparison_method=\"Subtraction\",\n",
    "        graph_former = graph_former,\n",
    "        points_per_cluster=None, # construct separate comparison spaces around each point\n",
    "        comparison_space_size_factor=1,\n",
    "    )\n",
    "    ks = DC.curvature(G, dim = 2, t = 25)\n",
    "    SS.update(ks[0], method_name=\"Diffusion Entropic Curvature\")\n",
    "    DC = DiffusionCurvature(\n",
    "        laziness_method=\"Wasserstein\",\n",
    "        flattening_method=\"Fixed\",\n",
    "        comparison_method=\"Ollivier\",\n",
    "        graph_former = graph_former,\n",
    "        points_per_cluster=None, # construct separate comparison spaces around each point\n",
    "        comparison_space_size_factor=1,\n",
    "    )\n",
    "    ks = DC.curvature(G, dim = 2, t = 25)\n",
    "    SS.update(ks[0], method_name=\"Diffusion Wasserstein Curvature\")"
   ]
  },
  {
   "cell_type": "code",
   "execution_count": null,
   "metadata": {},
   "outputs": [
    {
     "data": {
      "image/png": "[encoded data removed]",
      "text/plain": [
       "<Figure size 640x480 with 1 Axes>"
      ]
     },
     "metadata": {},
     "output_type": "display_data"
    },
    {
     "data": {
      "image/png": "[encoded data removed]",
      "text/plain": [
       "<Figure size 640x480 with 1 Axes>"
      ]
     },
     "metadata": {},
     "output_type": "display_data"
    }
   ],
   "source": [
    "SS.plot()"
   ]
  },
  {
   "cell_type": "code",
   "execution_count": null,
   "metadata": {},
   "outputs": [
    {
     "name": "stdout",
     "output_type": "stream",
     "text": [
      "{'mutual_info': {'ks': 0.6931471805599456, 'Diffusion Entropic Curvature': 0.6931471805599454, 'Diffusion Wasserstein Curvature': 0.6931471805599454}}\n",
      "{'mutual_info': {'ks': 0.6931471805599456, 'Diffusion Entropic Curvature': 0.6931471805599454, 'Diffusion Wasserstein Curvature': 0.6931471805599454}, 'sign_score': {'ks': 0.6931471805599456, 'Diffusion Entropic Curvature': 0.0748817616223546, 'Diffusion Wasserstein Curvature': 0.0748817616223546}}\n"
     ]
    }
   ],
   "source": [
    "SS.compute_metrics()"
   ]
  },
  {
   "cell_type": "code",
   "execution_count": null,
   "metadata": {},
   "outputs": [
    {
     "name": "stdout",
     "output_type": "stream",
     "text": [
      "{'mutual_info': {'ks': 0.6931471805599456, 'Diffusion Entropic Curvature': 0.6931471805599454, 'Diffusion Wasserstein Curvature': 0.6931471805599454}}\n",
      "{'mutual_info': {'ks': 0.6931471805599456, 'Diffusion Entropic Curvature': 0.6931471805599454, 'Diffusion Wasserstein Curvature': 0.6931471805599454}, 'sign_score': {'ks': 0.6931471805599456, 'Diffusion Entropic Curvature': 0.0748817616223546, 'Diffusion Wasserstein Curvature': 0.0748817616223546}}\n"
     ]
    },
    {
     "data": {
      "text/html": [
       "<div>\n",
       "<style scoped>\n",
       "    .dataframe tbody tr th:only-of-type {\n",
       "        vertical-align: middle;\n",
       "    }\n",
       "\n",
       "    .dataframe tbody tr th {\n",
       "        vertical-align: top;\n",
       "    }\n",
       "\n",
       "    .dataframe thead th {\n",
       "        text-align: right;\n",
       "    }\n",
       "</style>\n",
       "<table border=\"1\" class=\"dataframe\">\n",
       "  <thead>\n",
       "    <tr style=\"text-align: right;\">\n",
       "      <th></th>\n",
       "      <th>mutual_info</th>\n",
       "      <th>sign_score</th>\n",
       "    </tr>\n",
       "  </thead>\n",
       "  <tbody>\n",
       "    <tr>\n",
       "      <th>ks</th>\n",
       "      <td>0.693147</td>\n",
       "      <td>0.693147</td>\n",
       "    </tr>\n",
       "    <tr>\n",
       "      <th>Diffusion Entropic Curvature</th>\n",
       "      <td>0.693147</td>\n",
       "      <td>0.074882</td>\n",
       "    </tr>\n",
       "    <tr>\n",
       "      <th>Diffusion Wasserstein Curvature</th>\n",
       "      <td>0.693147</td>\n",
       "      <td>0.074882</td>\n",
       "    </tr>\n",
       "  </tbody>\n",
       "</table>\n",
       "</div>"
      ],
      "text/plain": [
       "                                 mutual_info  sign_score\n",
       "ks                                  0.693147    0.693147\n",
       "Diffusion Entropic Curvature        0.693147    0.074882\n",
       "Diffusion Wasserstein Curvature     0.693147    0.074882"
      ]
     },
     "execution_count": null,
     "metadata": {},
     "output_type": "execute_result"
    }
   ],
   "source": [
    "SS.table()"
   ]
  },
  {
   "cell_type": "code",
   "execution_count": null,
   "metadata": {},
   "outputs": [
    {
     "data": {
      "text/plain": [
       "0.0"
      ]
     },
     "execution_count": null,
     "metadata": {},
     "output_type": "execute_result"
    }
   ],
   "source": [
    "SS.mutual_info(np.ones_like(SS.labels['ks']),np.ones_like(SS.labels['ks']))"
   ]
  },
  {
   "cell_type": "code",
   "execution_count": null,
   "metadata": {},
   "outputs": [],
   "source": []
  },
  {
   "cell_type": "code",
   "execution_count": null,
   "metadata": {},
   "outputs": [
    {
     "name": "stdout",
     "output_type": "stream",
     "text": [
      "mutual_info\n",
      "sign_score\n"
     ]
    }
   ],
   "source": [
    "for name, member in inspect.getmembers(SS, predicate=inspect.ismethod):\n",
    "    if hasattr(member, 'tag') and getattr(member, 'tag') == 'metric':\n",
    "        print(name)"
   ]
  },
  {
   "cell_type": "code",
   "execution_count": null,
   "metadata": {},
   "outputs": [
    {
     "data": {
      "text/plain": [
       "[('__init__',\n",
       "  <bound method SadSpheres.__init__ of <__main__.SadSpheres object>>),\n",
       " ('__iter__',\n",
       "  <bound method SadSpheres.__iter__ of <__main__.SadSpheres object>>),\n",
       " ('__len__',\n",
       "  <bound method SadSpheres.__len__ of <__main__.SadSpheres object>>),\n",
       " ('__next__',\n",
       "  <bound method SadSpheres.__next__ of <__main__.SadSpheres object>>),\n",
       " ('_aggregate_labels',\n",
       "  <bound method SadSpheres._aggregate_labels of <__main__.SadSpheres object>>),\n",
       " ('_get_metrics',\n",
       "  <bound method SadSpheres._get_metrics of <__main__.SadSpheres object>>),\n",
       " ('compute',\n",
       "  <bound method SadSpheres.compute of <__main__.SadSpheres object>>),\n",
       " ('compute_metrics',\n",
       "  <bound method SadSpheres.compute_metrics of <__main__.SadSpheres object>>),\n",
       " ('mutual_info',\n",
       "  <bound method SadSpheres.mutual_info of <__main__.SadSpheres object>>),\n",
       " ('plot',\n",
       "  <bound method SadSpheres.plot of <__main__.SadSpheres object>>),\n",
       " ('sign_score',\n",
       "  <bound method SadSpheres.sign_score of <__main__.SadSpheres object>>),\n",
       " ('table',\n",
       "  <bound method SadSpheres.table of <__main__.SadSpheres object>>),\n",
       " ('update',\n",
       "  <bound method SadSpheres.update of <__main__.SadSpheres object>>)]"
      ]
     },
     "execution_count": null,
     "metadata": {},
     "output_type": "execute_result"
    }
   ],
   "source": [
    "inspect.getmembers(SS, predicate=inspect.ismethod)"
   ]
  },
  {
   "cell_type": "code",
   "execution_count": null,
   "metadata": {},
   "outputs": [],
   "source": []
  },
  {
   "cell_type": "code",
   "execution_count": null,
   "metadata": {},
   "outputs": [],
   "source": []
  },
  {
   "cell_type": "code",
   "execution_count": null,
   "metadata": {},
   "outputs": [],
   "source": []
  },
  {
   "cell_type": "code",
   "execution_count": null,
   "metadata": {},
   "outputs": [],
   "source": [
    "# sync changes to the library\n",
    "from IPython.display import display, Javascript\n",
    "import time\n",
    "display(Javascript('IPython.notebook.save_checkpoint();'))\n",
    "time.sleep(2)\n",
    "!pixi run nbsync"
   ]
  }
 ],
 "metadata": {
  "kernelspec": {
   "display_name": "conda-env-zetteldev-diffcurv-py",
   "language": "python",
   "name": "conda-env-zetteldev-diffcurv-py"
  }
 },
 "nbformat": 4,
 "nbformat_minor": 4
}

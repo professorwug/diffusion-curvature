{
 "cells": [
  {
   "cell_type": "code",
   "execution_count": null,
   "metadata": {},
   "outputs": [],
   "source": [
    "#|default_exp sadspheres\n",
    "## Standard libraries\n",
    "import os\n",
    "import math\n",
    "import numpy as np\n",
    "import time\n",
    "from fastcore.all import *\n",
    "from nbdev.showdoc import *\n",
    "# Configure environment\n",
    "os.environ['XLA_PYTHON_CLIENT_PREALLOCATE']='false' # Tells Jax not to hog all of the memory to this process.\n",
    "\n",
    "## Imports for plotting\n",
    "import matplotlib.pyplot as plt\n",
    "%matplotlib inline\n",
    "from IPython.display import set_matplotlib_formats\n",
    "# set_matplotlib_formats('svg', 'pdf') # For export\n",
    "from matplotlib.colors import to_rgba\n",
    "import seaborn as sns\n",
    "sns.set()\n",
    "\n",
    "## Progress bar\n",
    "from tqdm.auto import tqdm\n",
    "\n",
    "## project specifics'\n",
    "import diffusion_curvature\n",
    "\n",
    "from diffusion_curvature.graphs import *\n",
    "from diffusion_curvature.datasets import *\n",
    "# from diffusion_curvature.core import *\n",
    "from diffusion_curvature.utils import *\n",
    "# from diffusion_curvature.comparison_space import *\n",
    "\n",
    "%load_ext autoreload\n",
    "%autoreload 2"
   ]
  },
  {
   "cell_type": "markdown",
   "metadata": {},
   "source": [
    "# Saddle Sphere Ablations\n",
    "> Little brother to the Curvature Colosseum"
   ]
  },
  {
   "cell_type": "markdown",
   "metadata": {},
   "source": [
    "This is a dataset intended to measure the sign discrimination ability of diffusion curvature and other curvature methods. The dataset consists of different samplings of saddles and spheres with varying intensities of curvature and in varying dimensions. There's also the possibility of adding noise. This notebook implements a class which creates this dataset with specified parameters as well as convenience functions which can be used for testing it and visualizing the results."
   ]
  },
  {
   "cell_type": "markdown",
   "metadata": {},
   "source": [
    "# Implementation"
   ]
  },
  {
   "cell_type": "markdown",
   "metadata": {},
   "source": [
    "Because of the specialized purpose of this dataset, we're wrapping it in a special class, which allows the dataset to evaluate its own fidelity in embeddings.\n",
    "\n",
    "It works like this:\n",
    "1. Instatiate the class, supply the dimensions, and noise level, and it will create all of the graphs.\n",
    "2. To run curvature computations on these graphs, you can extract them directly -- or, you can use the dataset as an *iterator*, loop through, run your own logic within, then run an 'update' function to store the result.\n",
    "3. Afterwards, you can use the built in methods for visualizing and getting metrics on the performance."
   ]
  },
  {
   "cell_type": "code",
   "execution_count": null,
   "metadata": {},
   "outputs": [],
   "source": [
    "#|export\n",
    "from diffusion_curvature.core import get_adaptive_graph\n",
    "from diffusion_curvature.datasets import rejection_sample_from_saddle, sphere, plane\n",
    "from fastcore.all import *\n",
    "import xarray as xr\n",
    "import inspect\n",
    "import pandas as pd\n",
    "\n",
    "import sklearn\n",
    "import scipy.stats\n",
    "import numpy as np\n",
    "import matplotlib.pyplot as plt\n",
    "\n",
    "def metric(func):\n",
    "    setattr(func, 'tag', 'metric')\n",
    "    return func\n",
    "\n",
    "class SadSpheres():\n",
    "    def __init__(self,\n",
    "                 dimension = 2, # Dimension of saddles and spheres\n",
    "                 num_pointclouds = 100, # num pointclouds to make in total\n",
    "                 num_points = 2000, # num points per pointclouds\n",
    "                 noise_level = 0, # from 0 to 1. 1 is all noise.\n",
    "                 include_planes = False, # if True, includes randomly sampled planes as a sanity check.\n",
    "                ):\n",
    "        store_attr()\n",
    "        self.DS = xr.Dataset()\n",
    "        self.idx = -1\n",
    "        self.dnum = 3 if self.include_planes else 2\n",
    "        for i in range(num_pointclouds//self.dnum):\n",
    "            X_saddle, ks_saddle = rejection_sample_from_saddle(self.num_points, self.dimension)\n",
    "            self.DS[self.dnum*i] = xr.DataArray(X_saddle, dims=['n', 'd'], attrs={'ks':ks_saddle, 'name':'Saddle'})\n",
    "            X_sphere, ks_sphere = sphere(self.num_points, self.dimension)\n",
    "            self.DS[self.dnum*i+1] = xr.DataArray(X_sphere, dims=['n', 'd'], attrs={'ks':ks_sphere[0], 'name':'Sphere'})\n",
    "            if self.include_planes:\n",
    "                X_plane = plane(self.num_points, self.dimension) \n",
    "                X_plane = np.hstack([X_plane, np.zeros(self.num_points)[:,None]])\n",
    "                self.DS[self.dnum*i + 2] = xr.DataArray(X_plane, dims=['n', 'd'], attrs = {'ks':0, 'name':'Plane'})\n",
    "    \n",
    "    def __iter__(self):\n",
    "        return self\n",
    "\n",
    "    def __len__(self):\n",
    "        return len(self.DS)\n",
    "\n",
    "    def __next__(self):\n",
    "        self.idx += 1\n",
    "        if self.idx >= self.__len__():\n",
    "            raise StopIteration\n",
    "        result = self.DS[self.idx].to_numpy()\n",
    "        return result\n",
    "\n",
    "    def update(self,\n",
    "               result,\n",
    "               method_name='computed'):\n",
    "        \"\"\"\n",
    "        Store the result of the curvature computation by passing the computed curvature of the center (first) point.\n",
    "        \"\"\"\n",
    "        self.DS[self.idx].attrs[method_name] = result\n",
    "\n",
    "    def compute_metrics(self):\n",
    "        self._aggregate_labels()\n",
    "        metrics = self._get_metrics()\n",
    "        self.metric_table = {}\n",
    "        for metric in metrics:\n",
    "            self.metric_table[metric.__name__] = {}\n",
    "            for method_name in self.method_names:\n",
    "                self.metric_table[metric.__name__][method_name] = self.compute(metric=metric, method_name=method_name)\n",
    "        self.metric_table = pd.DataFrame(self.metric_table)\n",
    "            \n",
    "    def compute(self, metric, method_name):\n",
    "        # Overwrite this class with your logic. It implements the computation of a single metric for a single method\n",
    "        return metric(self.labels[method_name], self.labels['ks'])\n",
    "    \n",
    "\n",
    "    def _aggregate_labels(self):\n",
    "        self.method_names = list(self.DS.data_vars[0].attrs.keys())\n",
    "        self.method_names.remove('name')\n",
    "        self.labels = {}\n",
    "        for m in self.method_names:\n",
    "            self.labels[m] = np.array([self.DS.data_vars[i].attrs[m] for i in range(self.__len__())])\n",
    "\n",
    "    def plot(self, title = None):\n",
    "        if title is None: title = f\"In dimension {self.dimension}\"\n",
    "        # for each computed method on this dataset, we plot the histogram of saddles vs spheres\n",
    "        self._aggregate_labels()\n",
    "        # get the idxs for each type of dataset\n",
    "        dataset_names = [self.DS.data_vars[i].attrs['name'] for i in range(len(self.DS))]\n",
    "        unique_names = list(set(dataset_names))\n",
    "        idxs_by_name = {n: [i for i, name in enumerate(dataset_names) if name == n] for n in unique_names}        \n",
    "        for m in self.method_names: \n",
    "            if m != 'ks' and m != 'name':\n",
    "                for dname in unique_names:\n",
    "                    plt.hist(self.labels[m][idxs_by_name[dname]], bins=50, label = dname, edgecolor='none', linewidth=5)\n",
    "                plt.legend()\n",
    "                plt.xlabel(m)\n",
    "                plt.title(title)\n",
    "                plt.show()\n",
    "\n",
    "    def table(self):\n",
    "        self.compute_metrics()\n",
    "        return self.metric_table\n",
    "\n",
    "    def _get_metrics(self):\n",
    "        tagged_functions = []\n",
    "        for name, member in inspect.getmembers(self, predicate=inspect.ismethod):\n",
    "            if hasattr(member, 'tag') and getattr(member, 'tag') == 'metric':\n",
    "                tagged_functions.append(member)\n",
    "        return tagged_functions\n",
    "\n",
    "    @metric\n",
    "    def pearson_r(self, a, b):\n",
    "        return scipy.stats.pearsonr(a,b)\n",
    "\n",
    "    @metric\n",
    "    def sign_score(self, a, b):\n",
    "        # measures the extent to which the sign of a agrees with b\n",
    "        return sklearn.metrics.mutual_info_score(\n",
    "            np.sign(a),\n",
    "            np.sign(b),\n",
    "        )\n",
    "        \n",
    "    "
   ]
  },
  {
   "cell_type": "code",
   "execution_count": null,
   "metadata": {},
   "outputs": [],
   "source": []
  },
  {
   "cell_type": "markdown",
   "metadata": {},
   "source": [
    "# Tests"
   ]
  },
  {
   "cell_type": "code",
   "execution_count": null,
   "metadata": {},
   "outputs": [],
   "source": [
    "from diffusion_curvature.core import *"
   ]
  },
  {
   "cell_type": "code",
   "execution_count": null,
   "metadata": {},
   "outputs": [
    {
     "data": {
      "application/vnd.jupyter.widget-view+json": {
       "model_id": "601d4cfaae8a4e7fb1957c499db1ec22",
       "version_major": 2,
       "version_minor": 0
      },
      "text/plain": [
       "  0%|          | 0/99 [00:00<?, ?it/s]"
      ]
     },
     "metadata": {},
     "output_type": "display_data"
    },
    {
     "name": "stdout",
     "output_type": "stream",
     "text": [
      "updating with k -0.17392253875732422 for Saddle\n",
      "updating with k 0.20943737030029297 for Sphere\n",
      "updating with k -0.05047035217285156 for Plane\n",
      "updating with k -0.1786203384399414 for Saddle\n",
      "updating with k 0.09102487564086914 for Sphere\n",
      "updating with k 0.09760332107543945 for Plane\n",
      "updating with k -0.06014108657836914 for Saddle\n",
      "updating with k 0.03847980499267578 for Sphere\n",
      "updating with k 0.03792238235473633 for Plane\n",
      "updating with k -0.1468038558959961 for Saddle\n",
      "updating with k 0.013775825500488281 for Sphere\n",
      "updating with k -0.11577463150024414 for Plane\n",
      "updating with k -0.014618873596191406 for Saddle\n",
      "updating with k 0.09740781784057617 for Sphere\n",
      "updating with k 0.10169219970703125 for Plane\n",
      "updating with k 0.023841381072998047 for Saddle\n",
      "updating with k 0.02372455596923828 for Sphere\n",
      "updating with k 0.02215719223022461 for Plane\n",
      "updating with k -0.08730220794677734 for Saddle\n",
      "updating with k 0.0708465576171875 for Sphere\n",
      "updating with k -0.020064830780029297 for Plane\n",
      "updating with k -0.009526729583740234 for Saddle\n",
      "updating with k 0.20272111892700195 for Sphere\n",
      "updating with k -0.07627487182617188 for Plane\n",
      "updating with k -0.11932754516601562 for Saddle\n",
      "updating with k 0.046158790588378906 for Sphere\n",
      "updating with k -0.03839874267578125 for Plane\n",
      "updating with k -0.16186237335205078 for Saddle\n",
      "updating with k 0.03729248046875 for Sphere\n",
      "updating with k -0.007832527160644531 for Plane\n",
      "updating with k -0.10838031768798828 for Saddle\n",
      "updating with k 0.11679458618164062 for Sphere\n",
      "updating with k -0.0022873878479003906 for Plane\n",
      "updating with k -0.007534980773925781 for Saddle\n",
      "updating with k 0.12492656707763672 for Sphere\n",
      "updating with k 0.06427431106567383 for Plane\n",
      "updating with k 0.002468109130859375 for Saddle\n",
      "updating with k 0.10332489013671875 for Sphere\n",
      "updating with k 0.028127193450927734 for Plane\n",
      "updating with k -0.09527206420898438 for Saddle\n",
      "updating with k 0.22192144393920898 for Sphere\n",
      "updating with k 0.019101619720458984 for Plane\n",
      "updating with k -0.02785491943359375 for Saddle\n",
      "updating with k 0.09953641891479492 for Sphere\n",
      "updating with k 0.0294189453125 for Plane\n",
      "updating with k 0.04886913299560547 for Saddle\n",
      "updating with k 0.1121835708618164 for Sphere\n",
      "updating with k 0.022096633911132812 for Plane\n",
      "updating with k -0.12008857727050781 for Saddle\n",
      "updating with k -0.024419307708740234 for Sphere\n",
      "updating with k -0.029790878295898438 for Plane\n",
      "updating with k -0.03731966018676758 for Saddle\n",
      "updating with k 0.06441783905029297 for Sphere\n",
      "updating with k 0.00090789794921875 for Plane\n",
      "updating with k -0.04989194869995117 for Saddle\n",
      "updating with k 0.03737640380859375 for Sphere\n",
      "updating with k -0.002552032470703125 for Plane\n",
      "updating with k -0.053116798400878906 for Saddle\n",
      "updating with k 0.1075124740600586 for Sphere\n",
      "updating with k -0.01872730255126953 for Plane\n",
      "updating with k -0.1727619171142578 for Saddle\n",
      "updating with k 0.1533350944519043 for Sphere\n",
      "updating with k 0.010655403137207031 for Plane\n",
      "updating with k -0.011505603790283203 for Saddle\n",
      "updating with k 0.04594612121582031 for Sphere\n",
      "updating with k -0.07163619995117188 for Plane\n",
      "updating with k -0.03313016891479492 for Saddle\n",
      "updating with k 0.0755453109741211 for Sphere\n",
      "updating with k -0.09692668914794922 for Plane\n",
      "updating with k -0.03870534896850586 for Saddle\n",
      "updating with k 0.10659503936767578 for Sphere\n",
      "updating with k 0.0001010894775390625 for Plane\n",
      "updating with k -0.030622482299804688 for Saddle\n",
      "updating with k 0.06723785400390625 for Sphere\n",
      "updating with k -0.006394386291503906 for Plane\n",
      "updating with k -0.06393718719482422 for Saddle\n",
      "updating with k 0.06602191925048828 for Sphere\n",
      "updating with k -0.07933378219604492 for Plane\n",
      "updating with k -0.10627555847167969 for Saddle\n",
      "updating with k 0.18295717239379883 for Sphere\n",
      "updating with k 0.15354490280151367 for Plane\n",
      "updating with k 0.010433197021484375 for Saddle\n",
      "updating with k 0.15309572219848633 for Sphere\n",
      "updating with k 0.011252403259277344 for Plane\n",
      "updating with k -0.08844470977783203 for Saddle\n",
      "updating with k 0.17330646514892578 for Sphere\n",
      "updating with k 0.05393218994140625 for Plane\n",
      "updating with k -0.21218347549438477 for Saddle\n",
      "updating with k 0.1299600601196289 for Sphere\n",
      "updating with k -0.025551795959472656 for Plane\n",
      "updating with k -0.12219905853271484 for Saddle\n",
      "updating with k 0.09823799133300781 for Sphere\n",
      "updating with k 0.05652046203613281 for Plane\n",
      "updating with k -0.026304244995117188 for Saddle\n",
      "updating with k 0.10094547271728516 for Sphere\n",
      "updating with k -0.027123451232910156 for Plane\n",
      "updating with k -0.14569997787475586 for Saddle\n",
      "updating with k 0.07405233383178711 for Sphere\n",
      "updating with k -0.07449150085449219 for Plane\n"
     ]
    }
   ],
   "source": [
    "SS = SadSpheres(\n",
    "    dimension = 2, # Dimension of saddles and spheres\n",
    "    num_pointclouds = 100, # num pointclouds to make in total\n",
    "    num_points = 2000, # num points per pointclouds\n",
    "    noise_level = 0, # from 0 to 1. 1 is all noise.\n",
    "    include_planes=True,\n",
    ")\n",
    "graph_former = partial(get_adaptive_graph,k=5,alpha=1)\n",
    "for X in tqdm(SS):\n",
    "    G = graph_former(X)\n",
    "    DC = DiffusionCurvature(\n",
    "        laziness_method=\"Entropic\",\n",
    "        flattening_method=\"Fixed\",\n",
    "        comparison_method=\"Subtraction\",\n",
    "        graph_former = graph_former,\n",
    "        points_per_cluster=None, # construct separate comparison spaces around each point\n",
    "        comparison_space_size_factor=1,\n",
    "    )\n",
    "    ks = DC.curvature(G, dim = 2, t = 25)\n",
    "    SS.update(ks[0], method_name=\"Diffusion Entropic Curvature\")\n",
    "    DC = DiffusionCurvature(\n",
    "        laziness_method=\"Wasserstein\",\n",
    "        flattening_method=\"Fixed\",\n",
    "        comparison_method=\"Ollivier\",\n",
    "        graph_former = graph_former,\n",
    "        points_per_cluster=None, # construct separate comparison spaces around each point\n",
    "        comparison_space_size_factor=1,\n",
    "    )\n",
    "    ks = DC.curvature(G, dim = 2, t = 25)\n",
    "    SS.update(ks[0], method_name=\"Diffusion Wasserstein Curvature\")"
   ]
  },
  {
   "cell_type": "code",
   "execution_count": null,
   "metadata": {},
   "outputs": [
    {
     "data": {
      "image/png": "[encoded data removed]",
      "text/plain": [
       "<Figure size 640x480 with 1 Axes>"
      ]
     },
     "metadata": {},
     "output_type": "display_data"
    },
    {
     "data": {
      "image/png": "[encoded data removed]",
      "text/plain": [
       "<Figure size 640x480 with 1 Axes>"
      ]
     },
     "metadata": {},
     "output_type": "display_data"
    }
   ],
   "source": [
    "# globally\n",
    "SS.plot()"
   ]
  },
  {
   "cell_type": "code",
   "execution_count": null,
   "metadata": {},
   "outputs": [
    {
     "data": {
      "text/html": [
       "<div>\n",
       "<style scoped>\n",
       "    .dataframe tbody tr th:only-of-type {\n",
       "        vertical-align: middle;\n",
       "    }\n",
       "\n",
       "    .dataframe tbody tr th {\n",
       "        vertical-align: top;\n",
       "    }\n",
       "\n",
       "    .dataframe thead th {\n",
       "        text-align: right;\n",
       "    }\n",
       "</style>\n",
       "<table border=\"1\" class=\"dataframe\">\n",
       "  <thead>\n",
       "    <tr style=\"text-align: right;\">\n",
       "      <th></th>\n",
       "      <th>pearson_r</th>\n",
       "      <th>sign_score</th>\n",
       "    </tr>\n",
       "  </thead>\n",
       "  <tbody>\n",
       "    <tr>\n",
       "      <th>ks</th>\n",
       "      <td>(1.0, 0.0)</td>\n",
       "      <td>1.098612</td>\n",
       "    </tr>\n",
       "    <tr>\n",
       "      <th>Diffusion Entropic Curvature</th>\n",
       "      <td>(0.6898919312953438, 2.841124913132981e-15)</td>\n",
       "      <td>0.292600</td>\n",
       "    </tr>\n",
       "    <tr>\n",
       "      <th>Diffusion Wasserstein Curvature</th>\n",
       "      <td>(0.8061863975083174, 7.758684127862867e-24)</td>\n",
       "      <td>0.364343</td>\n",
       "    </tr>\n",
       "  </tbody>\n",
       "</table>\n",
       "</div>"
      ],
      "text/plain": [
       "                                                                   pearson_r  \\\n",
       "ks                                                                (1.0, 0.0)   \n",
       "Diffusion Entropic Curvature     (0.6898919312953438, 2.841124913132981e-15)   \n",
       "Diffusion Wasserstein Curvature  (0.8061863975083174, 7.758684127862867e-24)   \n",
       "\n",
       "                                 sign_score  \n",
       "ks                                 1.098612  \n",
       "Diffusion Entropic Curvature       0.292600  \n",
       "Diffusion Wasserstein Curvature    0.364343  "
      ]
     },
     "execution_count": null,
     "metadata": {},
     "output_type": "execute_result"
    }
   ],
   "source": [
    "SS.table()"
   ]
  },
  {
   "cell_type": "code",
   "execution_count": null,
   "metadata": {},
   "outputs": [
    {
     "data": {
      "application/javascript": [
       "IPython.notebook.save_checkpoint();"
      ],
      "text/plain": [
       "<IPython.core.display.Javascript object>"
      ]
     },
     "metadata": {},
     "output_type": "display_data"
    },
    {
     "name": "stdout",
     "output_type": "stream",
     "text": [
      "\u001b[33m WARN\u001b[0m \u001b[2mpixi::project::manifest\u001b[0m\u001b[2m:\u001b[0m BETA feature `[pypi-dependencies]` enabled!\n",
      "\n",
      "Please report any and all issues here:\n",
      "\n",
      "\thttps://github.com/prefix-dev/pixi.\n",
      "\n",
      "Turn this warning off by setting the environment variable `PIXI_BETA_WARNING_OFF` to `true`.\n",
      "\n",
      "✨ \u001b[1mPixi task (\u001b[0m\u001b[35m\u001b[1mdefault\u001b[0m\u001b[1m): \u001b[0m\u001b[34m\u001b[1mnbdev_export\u001b[0m\n",
      "\u001b[2K\u001b[32m⠁\u001b[0m activating environment                                                                 "
     ]
    }
   ],
   "source": [
    "# sync changes to the library\n",
    "from IPython.display import display, Javascript\n",
    "import time\n",
    "display(Javascript('IPython.notebook.save_checkpoint();'))\n",
    "time.sleep(2)\n",
    "!pixi run nbsync"
   ]
  },
  {
   "cell_type": "code",
   "execution_count": null,
   "metadata": {},
   "outputs": [],
   "source": []
  }
 ],
 "metadata": {
  "kernelspec": {
   "display_name": "conda-env-zetteldev-diffcurv-py",
   "language": "python",
   "name": "conda-env-zetteldev-diffcurv-py"
  }
 },
 "nbformat": 4,
 "nbformat_minor": 4
}

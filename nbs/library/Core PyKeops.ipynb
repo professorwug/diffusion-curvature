{
 "cells": [
  {
   "cell_type": "code",
   "execution_count": 2,
   "metadata": {},
   "outputs": [],
   "source": [
    "#|default_exp core_keops\n",
    "## Standard libraries\n",
    "import os\n",
    "import math\n",
    "import numpy as np\n",
    "import time\n",
    "from fastcore.all import *\n",
    "from nbdev.showdoc import *\n",
    "\n",
    "## Imports for plotting\n",
    "import matplotlib.pyplot as plt\n",
    "%matplotlib inline\n",
    "from IPython.display import set_matplotlib_formats\n",
    "# set_matplotlib_formats('svg', 'pdf') # For export\n",
    "from matplotlib.colors import to_rgba\n",
    "import seaborn as sns\n",
    "sns.set()\n",
    "\n",
    "## Progress bar\n",
    "from tqdm.auto import tqdm\n",
    "\n",
    "## project specifics\n",
    "import diffusion_curvature\n",
    "import pygsp"
   ]
  },
  {
   "cell_type": "markdown",
   "metadata": {},
   "source": [
    "# Core (PyKeops)\n",
    "> Minimal diffusion curvature implementation with PyKeops"
   ]
  },
  {
   "cell_type": "markdown",
   "metadata": {},
   "source": [
    "A great computational challenge for this otherwise relatively simple algorithm is dealing with large matrices which have to be powered to fairly large degrees. Within the usual framework of dense or sparse matrices, these two aims are conflicting. Sparse matrices can be efficiently stored but cannot be efficiently powered, due to the way that GPUs are designed for block-based computations. Indeed, it is estimated that the matrix must be over 99% empty before sparse representation has any speed-up when powered on GPU. On the other hand, we expect diffusion curvature to work with matrices whose size exceeds that capable of being held in RAM, and certainly on GPU RAM. Adjacency matrices and distance matrices formed by tens of thousands of cells, or with point clouds containing millions of points, we need to be able to accommodate all of this. \n",
    "\n",
    "An elegant solution to this problem is described by the project PyKeops. They note that the large matrices, like the distance matrices or adjacency matrices, may not be sparse, especially when raised to several powers of diffusion, but they are *symbolic*: they are the result of some function applied to two different arrays. This library introduces the Lazy Tensor, which allows these symbolic arrays to remain conceptual until they really need to be collapsed. They promise a ten to a hundred times speedup over vanilla PyTorch, as well as extensions to matrices of a size that PyTorch isn't capable of handling.\n",
    "\n",
    "This notebook provides a minimal reimplementation of the core logic of diffusion curvature using PyKeops."
   ]
  },
  {
   "cell_type": "markdown",
   "metadata": {},
   "source": [
    "Our implementation differs from past implementations in a few key ways:\n"
   ]
  },
  {
   "cell_type": "markdown",
   "metadata": {},
   "source": [
    "# Implementation"
   ]
  },
  {
   "cell_type": "code",
   "execution_count": 3,
   "metadata": {},
   "outputs": [],
   "source": [
    "# testing data\n",
    "from diffusion_curvature.datasets import torus\n",
    "X, ks = torus(1000)"
   ]
  },
  {
   "cell_type": "markdown",
   "metadata": {},
   "source": [
    "## Basic Graph Operations, with PyKeops"
   ]
  },
  {
   "cell_type": "code",
   "execution_count": 8,
   "metadata": {},
   "outputs": [],
   "source": [
    "#|export\n",
    "import torch\n",
    "from pykeops.torch import LazyTensor\n",
    "def lazy_distance_matrix(\n",
    "    X,\n",
    "    use_cuda = torch.cuda.is_available(),\n",
    "    ):\n",
    "    X = torch.tensor(X, dtype=torch.float32, device = torch.device('cuda' if use_cuda else 'cpu'))\n",
    "    x_i = LazyTensor(X[:, None, :])  # (N, 1, D) LazyTensor\n",
    "    y_j = LazyTensor(X[None, :, :])  # (1, N, D) LazyTensor\n",
    "    D_ij = ((x_i - y_j) ** 2).sum(-1).sqrt()\n",
    "    return D_ij"
   ]
  },
  {
   "cell_type": "code",
   "execution_count": 9,
   "metadata": {},
   "outputs": [],
   "source": [
    "D = lazy_distance_matrix(X)"
   ]
  },
  {
   "cell_type": "code",
   "execution_count": 14,
   "metadata": {},
   "outputs": [],
   "source": [
    "I = torch.zeros(len(X), dtype=torch.float32)\n",
    "I[0] = 1\n",
    "I = LazyTensor(I)"
   ]
  },
  {
   "cell_type": "code",
   "execution_count": 24,
   "metadata": {},
   "outputs": [
    {
     "data": {
      "text/plain": [
       "(1000, 1000)"
      ]
     },
     "execution_count": 24,
     "metadata": {},
     "output_type": "execute_result"
    }
   ],
   "source": [
    "D.shape"
   ]
  },
  {
   "cell_type": "code",
   "execution_count": 23,
   "metadata": {},
   "outputs": [
    {
     "ename": "AssertionError",
     "evalue": "",
     "output_type": "error",
     "traceback": [
      "\u001b[0;31m---------------------------------------------------------------------------\u001b[0m",
      "\u001b[0;31mAssertionError\u001b[0m                            Traceback (most recent call last)",
      "Cell \u001b[0;32mIn[23], line 1\u001b[0m\n\u001b[0;32m----> 1\u001b[0m D2 \u001b[38;5;241m=\u001b[39m \u001b[43mD\u001b[49m\u001b[38;5;241;43m.\u001b[39;49m\u001b[43mkeops_tensordot\u001b[49m\u001b[43m(\u001b[49m\u001b[43mD\u001b[49m\u001b[43m,\u001b[49m\u001b[43m \u001b[49m\u001b[43m(\u001b[49m\u001b[38;5;241;43m4\u001b[39;49m\u001b[43m,\u001b[49m\u001b[43m \u001b[49m\u001b[38;5;241;43m7\u001b[39;49m\u001b[43m)\u001b[49m\u001b[43m,\u001b[49m\u001b[43m \u001b[49m\u001b[43m(\u001b[49m\u001b[38;5;241;43m7\u001b[39;49m\u001b[43m,\u001b[49m\u001b[43m)\u001b[49m\u001b[43m,\u001b[49m\u001b[43m \u001b[49m\u001b[43m(\u001b[49m\u001b[38;5;241;43m1\u001b[39;49m\u001b[43m,\u001b[49m\u001b[43m)\u001b[49m\u001b[43m,\u001b[49m\u001b[43m \u001b[49m\u001b[43m(\u001b[49m\u001b[38;5;241;43m0\u001b[39;49m\u001b[43m,\u001b[49m\u001b[43m)\u001b[49m\u001b[43m)\u001b[49m\u001b[38;5;241;43m.\u001b[39;49m\u001b[43msum_reduction\u001b[49m\u001b[43m(\u001b[49m\u001b[43mdim\u001b[49m\u001b[38;5;241;43m=\u001b[39;49m\u001b[38;5;241;43m1\u001b[39;49m\u001b[43m)\u001b[49m\n",
      "File \u001b[0;32m~/mambaforge/envs/diffusion-curvature-jax/lib/python3.11/site-packages/pykeops/common/lazy_tensor.py:2112\u001b[0m, in \u001b[0;36mGenericLazyTensor.sum_reduction\u001b[0;34m(self, axis, dim, **kwargs)\u001b[0m\n\u001b[1;32m   2098\u001b[0m \u001b[38;5;28;01mdef\u001b[39;00m \u001b[38;5;21msum_reduction\u001b[39m(\u001b[38;5;28mself\u001b[39m, axis\u001b[38;5;241m=\u001b[39m\u001b[38;5;28;01mNone\u001b[39;00m, dim\u001b[38;5;241m=\u001b[39m\u001b[38;5;28;01mNone\u001b[39;00m, \u001b[38;5;241m*\u001b[39m\u001b[38;5;241m*\u001b[39mkwargs):\n\u001b[1;32m   2099\u001b[0m \u001b[38;5;250m    \u001b[39m\u001b[38;5;124mr\u001b[39m\u001b[38;5;124;03m\"\"\"\u001b[39;00m\n\u001b[1;32m   2100\u001b[0m \u001b[38;5;124;03m    Sum reduction.\u001b[39;00m\n\u001b[1;32m   2101\u001b[0m \n\u001b[0;32m   (...)\u001b[0m\n\u001b[1;32m   2110\u001b[0m \n\u001b[1;32m   2111\u001b[0m \u001b[38;5;124;03m    \"\"\"\u001b[39;00m\n\u001b[0;32m-> 2112\u001b[0m     \u001b[38;5;28;01mreturn\u001b[39;00m \u001b[38;5;28;43mself\u001b[39;49m\u001b[38;5;241;43m.\u001b[39;49m\u001b[43mreduction\u001b[49m\u001b[43m(\u001b[49m\u001b[38;5;124;43m\"\u001b[39;49m\u001b[38;5;124;43mSum\u001b[39;49m\u001b[38;5;124;43m\"\u001b[39;49m\u001b[43m,\u001b[49m\u001b[43m \u001b[49m\u001b[43maxis\u001b[49m\u001b[38;5;241;43m=\u001b[39;49m\u001b[43maxis\u001b[49m\u001b[43m,\u001b[49m\u001b[43m \u001b[49m\u001b[43mdim\u001b[49m\u001b[38;5;241;43m=\u001b[39;49m\u001b[43mdim\u001b[49m\u001b[43m,\u001b[49m\u001b[43m \u001b[49m\u001b[38;5;241;43m*\u001b[39;49m\u001b[38;5;241;43m*\u001b[39;49m\u001b[43mkwargs\u001b[49m\u001b[43m)\u001b[49m\n",
      "File \u001b[0;32m~/mambaforge/envs/diffusion-curvature-jax/lib/python3.11/site-packages/pykeops/common/lazy_tensor.py:775\u001b[0m, in \u001b[0;36mGenericLazyTensor.reduction\u001b[0;34m(self, reduction_op, other, opt_arg, axis, dim, call, is_complex, **kwargs)\u001b[0m\n\u001b[1;32m    764\u001b[0m     res\u001b[38;5;241m.\u001b[39mcallfun \u001b[38;5;241m=\u001b[39m res\u001b[38;5;241m.\u001b[39mGenred(\n\u001b[1;32m    765\u001b[0m         res\u001b[38;5;241m.\u001b[39mformula,\n\u001b[1;32m    766\u001b[0m         [],\n\u001b[0;32m   (...)\u001b[0m\n\u001b[1;32m    772\u001b[0m         rec_multVar_highdim\u001b[38;5;241m=\u001b[39mres\u001b[38;5;241m.\u001b[39mrec_multVar_highdim,\n\u001b[1;32m    773\u001b[0m     )\n\u001b[1;32m    774\u001b[0m \u001b[38;5;28;01mif\u001b[39;00m call \u001b[38;5;129;01mand\u001b[39;00m \u001b[38;5;28mlen\u001b[39m(res\u001b[38;5;241m.\u001b[39msymbolic_variables) \u001b[38;5;241m==\u001b[39m \u001b[38;5;241m0\u001b[39m \u001b[38;5;129;01mand\u001b[39;00m res\u001b[38;5;241m.\u001b[39m_dtype \u001b[38;5;129;01mis\u001b[39;00m \u001b[38;5;129;01mnot\u001b[39;00m \u001b[38;5;28;01mNone\u001b[39;00m:\n\u001b[0;32m--> 775\u001b[0m     \u001b[38;5;28;01mreturn\u001b[39;00m \u001b[43mres\u001b[49m\u001b[43m(\u001b[49m\u001b[43m)\u001b[49m\n\u001b[1;32m    776\u001b[0m \u001b[38;5;28;01melse\u001b[39;00m:\n\u001b[1;32m    777\u001b[0m     \u001b[38;5;28;01mreturn\u001b[39;00m res\n",
      "File \u001b[0;32m~/mambaforge/envs/diffusion-curvature-jax/lib/python3.11/site-packages/pykeops/common/lazy_tensor.py:957\u001b[0m, in \u001b[0;36mGenericLazyTensor.__call__\u001b[0;34m(self, *args, **kwargs)\u001b[0m\n\u001b[1;32m    954\u001b[0m     \u001b[38;5;66;03m# we replace by other\u001b[39;00m\n\u001b[1;32m    955\u001b[0m     args \u001b[38;5;241m=\u001b[39m (\u001b[38;5;28mself\u001b[39m\u001b[38;5;241m.\u001b[39mother\u001b[38;5;241m.\u001b[39mvariables[\u001b[38;5;241m0\u001b[39m],)\n\u001b[0;32m--> 957\u001b[0m \u001b[38;5;28;01mreturn\u001b[39;00m \u001b[38;5;28;43mself\u001b[39;49m\u001b[38;5;241;43m.\u001b[39;49m\u001b[43mcallfun\u001b[49m\u001b[43m(\u001b[49m\u001b[38;5;241;43m*\u001b[39;49m\u001b[43margs\u001b[49m\u001b[43m,\u001b[49m\u001b[43m \u001b[49m\u001b[38;5;241;43m*\u001b[39;49m\u001b[38;5;28;43mself\u001b[39;49m\u001b[38;5;241;43m.\u001b[39;49m\u001b[43mvariables\u001b[49m\u001b[43m,\u001b[49m\u001b[43m \u001b[49m\u001b[38;5;241;43m*\u001b[39;49m\u001b[38;5;241;43m*\u001b[39;49m\u001b[38;5;28;43mself\u001b[39;49m\u001b[38;5;241;43m.\u001b[39;49m\u001b[43mkwargs\u001b[49m\u001b[43m)\u001b[49m\n",
      "File \u001b[0;32m~/mambaforge/envs/diffusion-curvature-jax/lib/python3.11/site-packages/pykeops/torch/generic/generic_red.py:688\u001b[0m, in \u001b[0;36mGenred.__call__\u001b[0;34m(self, backend, device_id, ranges, out, *args)\u001b[0m\n\u001b[1;32m    686\u001b[0m params\u001b[38;5;241m.\u001b[39mny \u001b[38;5;241m=\u001b[39m ny\n\u001b[1;32m    687\u001b[0m params\u001b[38;5;241m.\u001b[39mout \u001b[38;5;241m=\u001b[39m out\n\u001b[0;32m--> 688\u001b[0m out \u001b[38;5;241m=\u001b[39m \u001b[43mGenredAutograd_fun\u001b[49m\u001b[43m(\u001b[49m\u001b[43mparams\u001b[49m\u001b[43m,\u001b[49m\u001b[43m \u001b[49m\u001b[38;5;241;43m*\u001b[39;49m\u001b[43margs\u001b[49m\u001b[43m)\u001b[49m\n\u001b[1;32m    690\u001b[0m \u001b[38;5;28;01mreturn\u001b[39;00m postprocess(out, \u001b[38;5;124m\"\u001b[39m\u001b[38;5;124mtorch\u001b[39m\u001b[38;5;124m\"\u001b[39m, \u001b[38;5;28mself\u001b[39m\u001b[38;5;241m.\u001b[39mreduction_op, nout, \u001b[38;5;28mself\u001b[39m\u001b[38;5;241m.\u001b[39mopt_arg, dtype)\n",
      "File \u001b[0;32m~/mambaforge/envs/diffusion-curvature-jax/lib/python3.11/site-packages/pykeops/torch/generic/generic_red.py:384\u001b[0m, in \u001b[0;36mGenredAutograd_fun\u001b[0;34m(*inputs)\u001b[0m\n\u001b[1;32m    383\u001b[0m \u001b[38;5;28;01mdef\u001b[39;00m \u001b[38;5;21mGenredAutograd_fun\u001b[39m(\u001b[38;5;241m*\u001b[39minputs):\n\u001b[0;32m--> 384\u001b[0m     \u001b[38;5;28;01mreturn\u001b[39;00m \u001b[43mGenredAutograd\u001b[49m\u001b[38;5;241;43m.\u001b[39;49m\u001b[43mapply\u001b[49m\u001b[43m(\u001b[49m\u001b[38;5;241;43m*\u001b[39;49m\u001b[43minputs\u001b[49m\u001b[43m)\u001b[49m[\u001b[38;5;241m0\u001b[39m]\n",
      "File \u001b[0;32m~/mambaforge/envs/diffusion-curvature-jax/lib/python3.11/site-packages/torch/autograd/function.py:539\u001b[0m, in \u001b[0;36mFunction.apply\u001b[0;34m(cls, *args, **kwargs)\u001b[0m\n\u001b[1;32m    536\u001b[0m \u001b[38;5;28;01mif\u001b[39;00m \u001b[38;5;129;01mnot\u001b[39;00m torch\u001b[38;5;241m.\u001b[39m_C\u001b[38;5;241m.\u001b[39m_are_functorch_transforms_active():\n\u001b[1;32m    537\u001b[0m     \u001b[38;5;66;03m# See NOTE: [functorch vjp and autograd interaction]\u001b[39;00m\n\u001b[1;32m    538\u001b[0m     args \u001b[38;5;241m=\u001b[39m _functorch\u001b[38;5;241m.\u001b[39mutils\u001b[38;5;241m.\u001b[39munwrap_dead_wrappers(args)\n\u001b[0;32m--> 539\u001b[0m     \u001b[38;5;28;01mreturn\u001b[39;00m \u001b[38;5;28;43msuper\u001b[39;49m\u001b[43m(\u001b[49m\u001b[43m)\u001b[49m\u001b[38;5;241;43m.\u001b[39;49m\u001b[43mapply\u001b[49m\u001b[43m(\u001b[49m\u001b[38;5;241;43m*\u001b[39;49m\u001b[43margs\u001b[49m\u001b[43m,\u001b[49m\u001b[43m \u001b[49m\u001b[38;5;241;43m*\u001b[39;49m\u001b[38;5;241;43m*\u001b[39;49m\u001b[43mkwargs\u001b[49m\u001b[43m)\u001b[49m  \u001b[38;5;66;03m# type: ignore[misc]\u001b[39;00m\n\u001b[1;32m    541\u001b[0m \u001b[38;5;28;01mif\u001b[39;00m \u001b[38;5;28mcls\u001b[39m\u001b[38;5;241m.\u001b[39msetup_context \u001b[38;5;241m==\u001b[39m _SingleLevelFunction\u001b[38;5;241m.\u001b[39msetup_context:\n\u001b[1;32m    542\u001b[0m     \u001b[38;5;28;01mraise\u001b[39;00m \u001b[38;5;167;01mRuntimeError\u001b[39;00m(\n\u001b[1;32m    543\u001b[0m         \u001b[38;5;124m\"\u001b[39m\u001b[38;5;124mIn order to use an autograd.Function with functorch transforms \u001b[39m\u001b[38;5;124m\"\u001b[39m\n\u001b[1;32m    544\u001b[0m         \u001b[38;5;124m\"\u001b[39m\u001b[38;5;124m(vmap, grad, jvp, jacrev, ...), it must override the setup_context \u001b[39m\u001b[38;5;124m\"\u001b[39m\n\u001b[1;32m    545\u001b[0m         \u001b[38;5;124m\"\u001b[39m\u001b[38;5;124mstaticmethod. For more details, please see \u001b[39m\u001b[38;5;124m\"\u001b[39m\n\u001b[1;32m    546\u001b[0m         \u001b[38;5;124m\"\u001b[39m\u001b[38;5;124mhttps://pytorch.org/docs/master/notes/extending.func.html\u001b[39m\u001b[38;5;124m\"\u001b[39m\n\u001b[1;32m    547\u001b[0m     )\n",
      "File \u001b[0;32m~/mambaforge/envs/diffusion-curvature-jax/lib/python3.11/site-packages/pykeops/torch/generic/generic_red.py:295\u001b[0m, in \u001b[0;36mGenredAutograd.forward\u001b[0;34m(*inputs)\u001b[0m\n\u001b[1;32m    293\u001b[0m \u001b[38;5;129m@staticmethod\u001b[39m\n\u001b[1;32m    294\u001b[0m \u001b[38;5;28;01mdef\u001b[39;00m \u001b[38;5;21mforward\u001b[39m(\u001b[38;5;241m*\u001b[39minputs):\n\u001b[0;32m--> 295\u001b[0m     \u001b[38;5;28;01mreturn\u001b[39;00m \u001b[43mGenredAutograd_base\u001b[49m\u001b[38;5;241;43m.\u001b[39;49m\u001b[43m_forward\u001b[49m\u001b[43m(\u001b[49m\u001b[38;5;241;43m*\u001b[39;49m\u001b[43minputs\u001b[49m\u001b[43m)\u001b[49m\n",
      "File \u001b[0;32m~/mambaforge/envs/diffusion-curvature-jax/lib/python3.11/site-packages/pykeops/torch/generic/generic_red.py:91\u001b[0m, in \u001b[0;36mGenredAutograd_base._forward\u001b[0;34m(params, *args)\u001b[0m\n\u001b[1;32m     85\u001b[0m device_id, device_args \u001b[38;5;241m=\u001b[39m set_device(\n\u001b[1;32m     86\u001b[0m     tagCPUGPU, tagHostDevice, params\u001b[38;5;241m.\u001b[39mdevice_id_request, \u001b[38;5;241m*\u001b[39margs\n\u001b[1;32m     87\u001b[0m )\n\u001b[1;32m     89\u001b[0m \u001b[38;5;28;01mfrom\u001b[39;00m \u001b[38;5;21;01mpykeops\u001b[39;00m\u001b[38;5;21;01m.\u001b[39;00m\u001b[38;5;21;01mcommon\u001b[39;00m\u001b[38;5;21;01m.\u001b[39;00m\u001b[38;5;21;01mkeops_io\u001b[39;00m \u001b[38;5;28;01mimport\u001b[39;00m keops_binder\n\u001b[0;32m---> 91\u001b[0m myconv \u001b[38;5;241m=\u001b[39m \u001b[43mkeops_binder\u001b[49m\u001b[43m[\u001b[49m\u001b[38;5;124;43m\"\u001b[39;49m\u001b[38;5;124;43mnvrtc\u001b[39;49m\u001b[38;5;124;43m\"\u001b[39;49m\u001b[43m \u001b[49m\u001b[38;5;28;43;01mif\u001b[39;49;00m\u001b[43m \u001b[49m\u001b[43mtagCPUGPU\u001b[49m\u001b[43m \u001b[49m\u001b[38;5;28;43;01melse\u001b[39;49;00m\u001b[43m \u001b[49m\u001b[38;5;124;43m\"\u001b[39;49m\u001b[38;5;124;43mcpp\u001b[39;49m\u001b[38;5;124;43m\"\u001b[39;49m\u001b[43m]\u001b[49m\u001b[43m(\u001b[49m\n\u001b[1;32m     92\u001b[0m \u001b[43m    \u001b[49m\u001b[43mtagCPUGPU\u001b[49m\u001b[43m,\u001b[49m\n\u001b[1;32m     93\u001b[0m \u001b[43m    \u001b[49m\u001b[43mtag1D2D\u001b[49m\u001b[43m,\u001b[49m\n\u001b[1;32m     94\u001b[0m \u001b[43m    \u001b[49m\u001b[43mtagHostDevice\u001b[49m\u001b[43m,\u001b[49m\n\u001b[1;32m     95\u001b[0m \u001b[43m    \u001b[49m\u001b[43muse_ranges\u001b[49m\u001b[43m,\u001b[49m\n\u001b[1;32m     96\u001b[0m \u001b[43m    \u001b[49m\u001b[43mdevice_id\u001b[49m\u001b[43m,\u001b[49m\n\u001b[1;32m     97\u001b[0m \u001b[43m    \u001b[49m\u001b[43mparams\u001b[49m\u001b[38;5;241;43m.\u001b[39;49m\u001b[43mformula\u001b[49m\u001b[43m,\u001b[49m\n\u001b[1;32m     98\u001b[0m \u001b[43m    \u001b[49m\u001b[43mparams\u001b[49m\u001b[38;5;241;43m.\u001b[39;49m\u001b[43maliases\u001b[49m\u001b[43m,\u001b[49m\n\u001b[1;32m     99\u001b[0m \u001b[43m    \u001b[49m\u001b[38;5;28;43mlen\u001b[39;49m\u001b[43m(\u001b[49m\u001b[43margs\u001b[49m\u001b[43m)\u001b[49m\u001b[43m,\u001b[49m\n\u001b[1;32m    100\u001b[0m \u001b[43m    \u001b[49m\u001b[43mparams\u001b[49m\u001b[38;5;241;43m.\u001b[39;49m\u001b[43mdtype\u001b[49m\u001b[43m,\u001b[49m\n\u001b[1;32m    101\u001b[0m \u001b[43m    \u001b[49m\u001b[38;5;124;43m\"\u001b[39;49m\u001b[38;5;124;43mtorch\u001b[39;49m\u001b[38;5;124;43m\"\u001b[39;49m\u001b[43m,\u001b[49m\n\u001b[1;32m    102\u001b[0m \u001b[43m    \u001b[49m\u001b[43mparams\u001b[49m\u001b[38;5;241;43m.\u001b[39;49m\u001b[43moptional_flags\u001b[49m\u001b[43m,\u001b[49m\n\u001b[1;32m    103\u001b[0m \u001b[43m\u001b[49m\u001b[43m)\u001b[49m\u001b[38;5;241m.\u001b[39mimport_module()\n\u001b[1;32m    105\u001b[0m \u001b[38;5;66;03m# N.B.: KeOps C++ expects contiguous data arrays\u001b[39;00m\n\u001b[1;32m    106\u001b[0m test_contig \u001b[38;5;241m=\u001b[39m \u001b[38;5;28mall\u001b[39m(arg\u001b[38;5;241m.\u001b[39mis_contiguous() \u001b[38;5;28;01mfor\u001b[39;00m arg \u001b[38;5;129;01min\u001b[39;00m args)\n",
      "File \u001b[0;32m~/mambaforge/envs/diffusion-curvature-jax/lib/python3.11/site-packages/keopscore/utils/Cache.py:91\u001b[0m, in \u001b[0;36mCache_partial.__call__\u001b[0;34m(self, *args)\u001b[0m\n\u001b[1;32m     89\u001b[0m     \u001b[38;5;28mself\u001b[39m\u001b[38;5;241m.\u001b[39mlibrary[str_id] \u001b[38;5;241m=\u001b[39m \u001b[38;5;28mself\u001b[39m\u001b[38;5;241m.\u001b[39mcls(params, fast_init\u001b[38;5;241m=\u001b[39m\u001b[38;5;28;01mTrue\u001b[39;00m)\n\u001b[1;32m     90\u001b[0m \u001b[38;5;28;01melse\u001b[39;00m:\n\u001b[0;32m---> 91\u001b[0m     obj \u001b[38;5;241m=\u001b[39m \u001b[38;5;28;43mself\u001b[39;49m\u001b[38;5;241;43m.\u001b[39;49m\u001b[43mcls\u001b[49m\u001b[43m(\u001b[49m\u001b[38;5;241;43m*\u001b[39;49m\u001b[43margs\u001b[49m\u001b[43m)\u001b[49m\n\u001b[1;32m     92\u001b[0m     \u001b[38;5;28mself\u001b[39m\u001b[38;5;241m.\u001b[39mlibrary_params[str_id] \u001b[38;5;241m=\u001b[39m obj\u001b[38;5;241m.\u001b[39mparams\n\u001b[1;32m     93\u001b[0m     \u001b[38;5;28mself\u001b[39m\u001b[38;5;241m.\u001b[39mlibrary[str_id] \u001b[38;5;241m=\u001b[39m obj\n",
      "File \u001b[0;32m~/mambaforge/envs/diffusion-curvature-jax/lib/python3.11/site-packages/pykeops/common/keops_io/LoadKeOps_nvrtc.py:15\u001b[0m, in \u001b[0;36mLoadKeOps_nvrtc_class.__init__\u001b[0;34m(self, fast_init, *args)\u001b[0m\n\u001b[1;32m     14\u001b[0m \u001b[38;5;28;01mdef\u001b[39;00m \u001b[38;5;21m__init__\u001b[39m(\u001b[38;5;28mself\u001b[39m, \u001b[38;5;241m*\u001b[39margs, fast_init\u001b[38;5;241m=\u001b[39m\u001b[38;5;28;01mFalse\u001b[39;00m):\n\u001b[0;32m---> 15\u001b[0m     \u001b[38;5;28;43msuper\u001b[39;49m\u001b[43m(\u001b[49m\u001b[43m)\u001b[49m\u001b[38;5;241;43m.\u001b[39;49m\u001b[38;5;21;43m__init__\u001b[39;49m\u001b[43m(\u001b[49m\u001b[38;5;241;43m*\u001b[39;49m\u001b[43margs\u001b[49m\u001b[43m,\u001b[49m\u001b[43m \u001b[49m\u001b[43mfast_init\u001b[49m\u001b[38;5;241;43m=\u001b[39;49m\u001b[43mfast_init\u001b[49m\u001b[43m)\u001b[49m\n",
      "File \u001b[0;32m~/mambaforge/envs/diffusion-curvature-jax/lib/python3.11/site-packages/pykeops/common/keops_io/LoadKeOps.py:18\u001b[0m, in \u001b[0;36mLoadKeOps.__init__\u001b[0;34m(self, fast_init, *args)\u001b[0m\n\u001b[1;32m     16\u001b[0m     \u001b[38;5;28mself\u001b[39m\u001b[38;5;241m.\u001b[39mparams \u001b[38;5;241m=\u001b[39m args[\u001b[38;5;241m0\u001b[39m]\n\u001b[1;32m     17\u001b[0m \u001b[38;5;28;01melse\u001b[39;00m:\n\u001b[0;32m---> 18\u001b[0m     \u001b[38;5;28;43mself\u001b[39;49m\u001b[38;5;241;43m.\u001b[39;49m\u001b[43minit\u001b[49m\u001b[43m(\u001b[49m\u001b[38;5;241;43m*\u001b[39;49m\u001b[43margs\u001b[49m\u001b[43m)\u001b[49m\n\u001b[1;32m     19\u001b[0m \u001b[38;5;28mself\u001b[39m\u001b[38;5;241m.\u001b[39mdimout \u001b[38;5;241m=\u001b[39m \u001b[38;5;28mself\u001b[39m\u001b[38;5;241m.\u001b[39mparams\u001b[38;5;241m.\u001b[39mdim\n\u001b[1;32m     20\u001b[0m \u001b[38;5;28mself\u001b[39m\u001b[38;5;241m.\u001b[39mtagIJ \u001b[38;5;241m=\u001b[39m \u001b[38;5;28mself\u001b[39m\u001b[38;5;241m.\u001b[39mparams\u001b[38;5;241m.\u001b[39mtagI\n",
      "File \u001b[0;32m~/mambaforge/envs/diffusion-curvature-jax/lib/python3.11/site-packages/pykeops/common/keops_io/LoadKeOps.py:127\u001b[0m, in \u001b[0;36mLoadKeOps.init\u001b[0;34m(self, tagCPUGPU, tag1D2D, tagHostDevice, use_ranges, device_id_request, formula, aliases, nargs, dtype, lang, optional_flags)\u001b[0m\n\u001b[1;32m    104\u001b[0m \u001b[38;5;28;01mif\u001b[39;00m use_ranges:\n\u001b[1;32m    105\u001b[0m     map_reduce_id \u001b[38;5;241m+\u001b[39m\u001b[38;5;241m=\u001b[39m \u001b[38;5;124m\"\u001b[39m\u001b[38;5;124m_ranges\u001b[39m\u001b[38;5;124m\"\u001b[39m\n\u001b[1;32m    107\u001b[0m (\n\u001b[1;32m    108\u001b[0m     \u001b[38;5;28mself\u001b[39m\u001b[38;5;241m.\u001b[39mparams\u001b[38;5;241m.\u001b[39mtag,\n\u001b[1;32m    109\u001b[0m     \u001b[38;5;28mself\u001b[39m\u001b[38;5;241m.\u001b[39mparams\u001b[38;5;241m.\u001b[39msource_name,\n\u001b[1;32m    110\u001b[0m     \u001b[38;5;28mself\u001b[39m\u001b[38;5;241m.\u001b[39mparams\u001b[38;5;241m.\u001b[39mlow_level_code_file,\n\u001b[1;32m    111\u001b[0m     \u001b[38;5;28mself\u001b[39m\u001b[38;5;241m.\u001b[39mparams\u001b[38;5;241m.\u001b[39mtagI,\n\u001b[1;32m    112\u001b[0m     \u001b[38;5;28mself\u001b[39m\u001b[38;5;241m.\u001b[39mparams\u001b[38;5;241m.\u001b[39mtagZero,\n\u001b[1;32m    113\u001b[0m     \u001b[38;5;28mself\u001b[39m\u001b[38;5;241m.\u001b[39mparams\u001b[38;5;241m.\u001b[39muse_half,\n\u001b[1;32m    114\u001b[0m     \u001b[38;5;28mself\u001b[39m\u001b[38;5;241m.\u001b[39mparams\u001b[38;5;241m.\u001b[39muse_fast_math,\n\u001b[1;32m    115\u001b[0m     \u001b[38;5;28mself\u001b[39m\u001b[38;5;241m.\u001b[39mparams\u001b[38;5;241m.\u001b[39mcuda_block_size,\n\u001b[1;32m    116\u001b[0m     \u001b[38;5;28mself\u001b[39m\u001b[38;5;241m.\u001b[39mparams\u001b[38;5;241m.\u001b[39muse_chunk_mode,\n\u001b[1;32m    117\u001b[0m     \u001b[38;5;28mself\u001b[39m\u001b[38;5;241m.\u001b[39mparams\u001b[38;5;241m.\u001b[39mtag1D2D,\n\u001b[1;32m    118\u001b[0m     \u001b[38;5;28mself\u001b[39m\u001b[38;5;241m.\u001b[39mparams\u001b[38;5;241m.\u001b[39mdimred,\n\u001b[1;32m    119\u001b[0m     \u001b[38;5;28mself\u001b[39m\u001b[38;5;241m.\u001b[39mparams\u001b[38;5;241m.\u001b[39mdim,\n\u001b[1;32m    120\u001b[0m     \u001b[38;5;28mself\u001b[39m\u001b[38;5;241m.\u001b[39mparams\u001b[38;5;241m.\u001b[39mdimy,\n\u001b[1;32m    121\u001b[0m     indsi,\n\u001b[1;32m    122\u001b[0m     indsj,\n\u001b[1;32m    123\u001b[0m     indsp,\n\u001b[1;32m    124\u001b[0m     dimsx,\n\u001b[1;32m    125\u001b[0m     dimsy,\n\u001b[1;32m    126\u001b[0m     dimsp,\n\u001b[0;32m--> 127\u001b[0m ) \u001b[38;5;241m=\u001b[39m \u001b[43mget_keops_dll\u001b[49m\u001b[43m(\u001b[49m\n\u001b[1;32m    128\u001b[0m \u001b[43m    \u001b[49m\u001b[43mmap_reduce_id\u001b[49m\u001b[43m,\u001b[49m\n\u001b[1;32m    129\u001b[0m \u001b[43m    \u001b[49m\u001b[38;5;28;43mself\u001b[39;49m\u001b[38;5;241;43m.\u001b[39;49m\u001b[43mparams\u001b[49m\u001b[38;5;241;43m.\u001b[39;49m\u001b[43mred_formula_string\u001b[49m\u001b[43m,\u001b[49m\n\u001b[1;32m    130\u001b[0m \u001b[43m    \u001b[49m\u001b[38;5;28;43mself\u001b[39;49m\u001b[38;5;241;43m.\u001b[39;49m\u001b[43mparams\u001b[49m\u001b[38;5;241;43m.\u001b[39;49m\u001b[43menable_chunks\u001b[49m\u001b[43m,\u001b[49m\n\u001b[1;32m    131\u001b[0m \u001b[43m    \u001b[49m\u001b[38;5;28;43mself\u001b[39;49m\u001b[38;5;241;43m.\u001b[39;49m\u001b[43mparams\u001b[49m\u001b[38;5;241;43m.\u001b[39;49m\u001b[43menable_final_chunks\u001b[49m\u001b[43m,\u001b[49m\n\u001b[1;32m    132\u001b[0m \u001b[43m    \u001b[49m\u001b[38;5;28;43mself\u001b[39;49m\u001b[38;5;241;43m.\u001b[39;49m\u001b[43mparams\u001b[49m\u001b[38;5;241;43m.\u001b[39;49m\u001b[43mmult_var_highdim\u001b[49m\u001b[43m,\u001b[49m\n\u001b[1;32m    133\u001b[0m \u001b[43m    \u001b[49m\u001b[38;5;28;43mself\u001b[39;49m\u001b[38;5;241;43m.\u001b[39;49m\u001b[43mparams\u001b[49m\u001b[38;5;241;43m.\u001b[39;49m\u001b[43maliases\u001b[49m\u001b[43m,\u001b[49m\n\u001b[1;32m    134\u001b[0m \u001b[43m    \u001b[49m\u001b[43mnargs\u001b[49m\u001b[43m,\u001b[49m\n\u001b[1;32m    135\u001b[0m \u001b[43m    \u001b[49m\u001b[38;5;28;43mself\u001b[39;49m\u001b[38;5;241;43m.\u001b[39;49m\u001b[43mparams\u001b[49m\u001b[38;5;241;43m.\u001b[39;49m\u001b[43mc_dtype\u001b[49m\u001b[43m,\u001b[49m\n\u001b[1;32m    136\u001b[0m \u001b[43m    \u001b[49m\u001b[38;5;28;43mself\u001b[39;49m\u001b[38;5;241;43m.\u001b[39;49m\u001b[43mparams\u001b[49m\u001b[38;5;241;43m.\u001b[39;49m\u001b[43mc_dtype_acc\u001b[49m\u001b[43m,\u001b[49m\n\u001b[1;32m    137\u001b[0m \u001b[43m    \u001b[49m\u001b[38;5;28;43mself\u001b[39;49m\u001b[38;5;241;43m.\u001b[39;49m\u001b[43mparams\u001b[49m\u001b[38;5;241;43m.\u001b[39;49m\u001b[43msum_scheme\u001b[49m\u001b[43m,\u001b[49m\n\u001b[1;32m    138\u001b[0m \u001b[43m    \u001b[49m\u001b[38;5;28;43mself\u001b[39;49m\u001b[38;5;241;43m.\u001b[39;49m\u001b[43mparams\u001b[49m\u001b[38;5;241;43m.\u001b[39;49m\u001b[43mtagHostDevice\u001b[49m\u001b[43m,\u001b[49m\n\u001b[1;32m    139\u001b[0m \u001b[43m    \u001b[49m\u001b[43mtagCPUGPU\u001b[49m\u001b[43m,\u001b[49m\n\u001b[1;32m    140\u001b[0m \u001b[43m    \u001b[49m\u001b[43mtag1D2D\u001b[49m\u001b[43m,\u001b[49m\n\u001b[1;32m    141\u001b[0m \u001b[43m    \u001b[49m\u001b[38;5;28;43mself\u001b[39;49m\u001b[38;5;241;43m.\u001b[39;49m\u001b[43mparams\u001b[49m\u001b[38;5;241;43m.\u001b[39;49m\u001b[43muse_half\u001b[49m\u001b[43m,\u001b[49m\n\u001b[1;32m    142\u001b[0m \u001b[43m    \u001b[49m\u001b[38;5;28;43mself\u001b[39;49m\u001b[38;5;241;43m.\u001b[39;49m\u001b[43mparams\u001b[49m\u001b[38;5;241;43m.\u001b[39;49m\u001b[43muse_fast_math\u001b[49m\u001b[43m,\u001b[49m\n\u001b[1;32m    143\u001b[0m \u001b[43m    \u001b[49m\u001b[43mdevice_id_request\u001b[49m\u001b[43m,\u001b[49m\n\u001b[1;32m    144\u001b[0m \u001b[43m\u001b[49m\u001b[43m)\u001b[49m\n\u001b[1;32m    146\u001b[0m \u001b[38;5;66;03m# now we switch indsi, indsj and dimsx, dimsy in case tagI=1.\u001b[39;00m\n\u001b[1;32m    147\u001b[0m \u001b[38;5;66;03m# This is to be consistent with the convention used in the old\u001b[39;00m\n\u001b[1;32m    148\u001b[0m \u001b[38;5;66;03m# bindings (see functions GetIndsI, GetIndsJ, GetDimsX, GetDimsY\u001b[39;00m\n\u001b[1;32m    149\u001b[0m \u001b[38;5;66;03m# from file binder_interface.h. Clearly we could do better if we\u001b[39;00m\n\u001b[1;32m    150\u001b[0m \u001b[38;5;66;03m# carefully rewrite some parts of the code\u001b[39;00m\n\u001b[1;32m    151\u001b[0m \u001b[38;5;28;01mif\u001b[39;00m \u001b[38;5;28mself\u001b[39m\u001b[38;5;241m.\u001b[39mparams\u001b[38;5;241m.\u001b[39mtagI \u001b[38;5;241m==\u001b[39m \u001b[38;5;241m1\u001b[39m:\n",
      "File \u001b[0;32m~/mambaforge/envs/diffusion-curvature-jax/lib/python3.11/site-packages/keopscore/utils/Cache.py:32\u001b[0m, in \u001b[0;36mCache.__call__\u001b[0;34m(self, *args)\u001b[0m\n\u001b[1;32m     30\u001b[0m str_id \u001b[38;5;241m=\u001b[39m \u001b[38;5;124m\"\u001b[39m\u001b[38;5;124m\"\u001b[39m\u001b[38;5;241m.\u001b[39mjoin(\u001b[38;5;28mlist\u001b[39m(\u001b[38;5;28mstr\u001b[39m(arg) \u001b[38;5;28;01mfor\u001b[39;00m arg \u001b[38;5;129;01min\u001b[39;00m args)) \u001b[38;5;241m+\u001b[39m \u001b[38;5;28mstr\u001b[39m(env_param())\n\u001b[1;32m     31\u001b[0m \u001b[38;5;28;01mif\u001b[39;00m \u001b[38;5;129;01mnot\u001b[39;00m str_id \u001b[38;5;129;01min\u001b[39;00m \u001b[38;5;28mself\u001b[39m\u001b[38;5;241m.\u001b[39mlibrary:\n\u001b[0;32m---> 32\u001b[0m     \u001b[38;5;28mself\u001b[39m\u001b[38;5;241m.\u001b[39mlibrary[str_id] \u001b[38;5;241m=\u001b[39m \u001b[38;5;28;43mself\u001b[39;49m\u001b[38;5;241;43m.\u001b[39;49m\u001b[43mfun\u001b[49m\u001b[43m(\u001b[49m\u001b[38;5;241;43m*\u001b[39;49m\u001b[43margs\u001b[49m\u001b[43m)\u001b[49m\n\u001b[1;32m     33\u001b[0m \u001b[38;5;28;01mreturn\u001b[39;00m \u001b[38;5;28mself\u001b[39m\u001b[38;5;241m.\u001b[39mlibrary[str_id]\n",
      "File \u001b[0;32m~/mambaforge/envs/diffusion-curvature-jax/lib/python3.11/site-packages/keopscore/get_keops_dll.py:96\u001b[0m, in \u001b[0;36mget_keops_dll_impl\u001b[0;34m(map_reduce_id, red_formula_string, enable_chunks, enable_finalchunks, mul_var_highdim, aliases, *args)\u001b[0m\n\u001b[1;32m     94\u001b[0m set_enable_finalchunk(enable_finalchunks)\n\u001b[1;32m     95\u001b[0m set_mult_var_highdim(mul_var_highdim)\n\u001b[0;32m---> 96\u001b[0m red_formula \u001b[38;5;241m=\u001b[39m \u001b[43mGetReduction\u001b[49m\u001b[43m(\u001b[49m\u001b[43mred_formula_string\u001b[49m\u001b[43m,\u001b[49m\u001b[43m \u001b[49m\u001b[43maliases\u001b[49m\u001b[43m)\u001b[49m\n\u001b[1;32m     97\u001b[0m \u001b[38;5;28;01mif\u001b[39;00m use_final_chunks(red_formula) \u001b[38;5;129;01mand\u001b[39;00m map_reduce_id \u001b[38;5;241m!=\u001b[39m \u001b[38;5;124m\"\u001b[39m\u001b[38;5;124mGpuReduc2D\u001b[39m\u001b[38;5;124m\"\u001b[39m:\n\u001b[1;32m     98\u001b[0m     use_chunk_mode \u001b[38;5;241m=\u001b[39m \u001b[38;5;241m2\u001b[39m\n",
      "File \u001b[0;32m~/mambaforge/envs/diffusion-curvature-jax/lib/python3.11/site-packages/keopscore/formulas/GetReduction.py:32\u001b[0m, in \u001b[0;36mGetReduction.__new__\u001b[0;34m(self, red_formula_string, aliases)\u001b[0m\n\u001b[1;32m     30\u001b[0m         varname, var \u001b[38;5;241m=\u001b[39m alias\u001b[38;5;241m.\u001b[39msplit(\u001b[38;5;124m\"\u001b[39m\u001b[38;5;124m=\u001b[39m\u001b[38;5;124m\"\u001b[39m)\n\u001b[1;32m     31\u001b[0m         aliases_dict[varname] \u001b[38;5;241m=\u001b[39m \u001b[38;5;28meval\u001b[39m(var)\n\u001b[0;32m---> 32\u001b[0m reduction \u001b[38;5;241m=\u001b[39m \u001b[38;5;28;43meval\u001b[39;49m\u001b[43m(\u001b[49m\u001b[43mred_formula_string\u001b[49m\u001b[43m,\u001b[49m\u001b[43m \u001b[49m\u001b[38;5;28;43mglobals\u001b[39;49m\u001b[43m(\u001b[49m\u001b[43m)\u001b[49m\u001b[43m,\u001b[49m\u001b[43m \u001b[49m\u001b[43maliases_dict\u001b[49m\u001b[43m)\u001b[49m\n\u001b[1;32m     33\u001b[0m \u001b[38;5;28;01mif\u001b[39;00m keopscore\u001b[38;5;241m.\u001b[39mauto_factorize:\n\u001b[1;32m     34\u001b[0m     formula \u001b[38;5;241m=\u001b[39m reduction\u001b[38;5;241m.\u001b[39mchildren[\u001b[38;5;241m0\u001b[39m]\n",
      "File \u001b[0;32m<string>:1\u001b[0m\n",
      "File \u001b[0;32m~/mambaforge/envs/diffusion-curvature-jax/lib/python3.11/site-packages/keopscore/formulas/maths/TensorDot.py:81\u001b[0m, in \u001b[0;36mTensorDot.__init__\u001b[0;34m(self, fa, fb, dimsfa, dimsfb, contfa, contfb, permute, params)\u001b[0m\n\u001b[1;32m     77\u001b[0m contfb \u001b[38;5;241m=\u001b[39m \u001b[38;5;28mlist\u001b[39m(contfb)\n\u001b[1;32m     79\u001b[0m \u001b[38;5;28;01massert\u001b[39;00m select(dimsfb, contfb) \u001b[38;5;241m==\u001b[39m select(dimsfa, contfa)\n\u001b[0;32m---> 81\u001b[0m \u001b[38;5;28;01massert\u001b[39;00m fa\u001b[38;5;241m.\u001b[39mdim \u001b[38;5;241m==\u001b[39m prod(dimsfa)\n\u001b[1;32m     82\u001b[0m \u001b[38;5;28;01massert\u001b[39;00m fb\u001b[38;5;241m.\u001b[39mdim \u001b[38;5;241m==\u001b[39m prod(dimsfb)\n\u001b[1;32m     84\u001b[0m \u001b[38;5;28msuper\u001b[39m()\u001b[38;5;241m.\u001b[39m\u001b[38;5;21m__init__\u001b[39m(fa, fb, params\u001b[38;5;241m=\u001b[39m(dimsfa, dimsfb, contfa, contfb, permute))\n",
      "\u001b[0;31mAssertionError\u001b[0m: "
     ]
    }
   ],
   "source": [
    "D2 = D.keops_tensordot(D, (4, 7), (7,), (1,), (0,)).sum_reduction(dim=1)"
   ]
  },
  {
   "cell_type": "code",
   "execution_count": 22,
   "metadata": {},
   "outputs": [
    {
     "ename": "AttributeError",
     "evalue": "'LazyTensor' object has no attribute 'flatten'",
     "output_type": "error",
     "traceback": [
      "\u001b[0;31m---------------------------------------------------------------------------\u001b[0m",
      "\u001b[0;31mAttributeError\u001b[0m                            Traceback (most recent call last)",
      "Cell \u001b[0;32mIn[22], line 1\u001b[0m\n\u001b[0;32m----> 1\u001b[0m \u001b[43mD\u001b[49m\u001b[38;5;241;43m.\u001b[39;49m\u001b[43mflatten\u001b[49m()\n",
      "\u001b[0;31mAttributeError\u001b[0m: 'LazyTensor' object has no attribute 'flatten'"
     ]
    }
   ],
   "source": [
    "D.flatten()"
   ]
  },
  {
   "cell_type": "code",
   "execution_count": 204,
   "metadata": {},
   "outputs": [],
   "source": [
    "#|export\n",
    "def lazy_gaussian_kernel(\n",
    "        X,\n",
    "        kernel_type = \"fixed\",\n",
    "        sigma:float = 1, # if fixed, uses kernel bandwidth sigma. If not set, uses a heuristic to estimate a good sigma value\n",
    "        k:float = 10, # if adaptive, creates a different kernel bandwidth for each point, based on the distance from that point to the kth nearest neighbor\n",
    "        anisotropic_density_normalization:float = 0.5, # if nonzero, performs anisotropic density normalization\n",
    "        use_cuda = torch.cuda.is_available(),\n",
    "):\n",
    "    supported_kernel_types = {'fixed', 'adaptive'}\n",
    "    assert kernel_type in supported_kernel_types\n",
    "    D = lazy_distance_matrix(X, use_cuda=use_cuda)\n",
    "    if kernel_type == \"fixed\":\n",
    "            # if not sigma:\n",
    "            #     # estimate sigma using a heuristic\n",
    "            #     sigma = median_heuristic(D)\n",
    "            W = (1/(sigma*(2*torch.pi)**(0.5)))*((-D**2)/(2*sigma**2)).exp()\n",
    "    elif kernel_type == \"adaptive\":\n",
    "            raise NotImplementedError(\"Adaptive kernel runs up against limitations of pykeops...try fixed kernel instead\")\n",
    "            dk = D.Kmin(k, dim=1)[:,-1]\n",
    "            # Populate matrices with this distance for easy division.\n",
    "            div1 = LazyTensor(tensor(np.ones(len(X))[:,None]),axis=1) @ LazyTensor(dk[:,None],axis=0)\n",
    "            div2 = LazyTensor(dk[:,None],axis=1) @ LazyTensor(tensor(np.ones(len(X))[:,None]),axis=0)\n",
    "            # print(\"Distance to kth neighbors\",distance_to_k_neighbor)\n",
    "            # compute the gaussian kernel with an adaptive bandwidth\n",
    "            W = (\n",
    "                    1/(2*(2*torch.pi)**0.5) * (\n",
    "                        (-D**2/(2*distance_to_k_neighbor**2)).exp()/distance_to_k_neighbor + \n",
    "                        (-D**2/(2*distance_to_k_neighbor**2)).exp()/distance_to_k_neighbor\n",
    "                    )\n",
    "                )\n",
    "    if anisotropic_density_normalization:\n",
    "        dn = 1/(W.sum(axis=1)**anisotropic_density_normalization)\n",
    "        W = A / dn[:,None] / dn[None,:]\n",
    "    return W"
   ]
  },
  {
   "cell_type": "code",
   "execution_count": 197,
   "metadata": {},
   "outputs": [
    {
     "data": {
      "text/plain": [
       "(1, 1000)"
      ]
     },
     "execution_count": 197,
     "metadata": {},
     "output_type": "execute_result"
    }
   ],
   "source": [
    "LazyTensor(tensor(np.ones(len(X))[:,None]),axis=1).shape"
   ]
  },
  {
   "cell_type": "code",
   "execution_count": 194,
   "metadata": {},
   "outputs": [
    {
     "data": {
      "text/plain": [
       "(1, 1, 1000)"
      ]
     },
     "execution_count": 194,
     "metadata": {},
     "output_type": "execute_result"
    }
   ],
   "source": [
    "LazyTensor(tensor(np.ones(len(X)))).T.shape"
   ]
  },
  {
   "cell_type": "code",
   "execution_count": 206,
   "metadata": {},
   "outputs": [],
   "source": [
    "dk = D.Kmin(10, dim=1)[:,-1]"
   ]
  },
  {
   "cell_type": "code",
   "execution_count": 215,
   "metadata": {},
   "outputs": [
    {
     "data": {
      "text/plain": [
       "(1000, 1, 1)"
      ]
     },
     "execution_count": 215,
     "metadata": {},
     "output_type": "execute_result"
    }
   ],
   "source": [
    "LazyTensor(dk[:,None],axis=0).shape"
   ]
  },
  {
   "cell_type": "code",
   "execution_count": 217,
   "metadata": {},
   "outputs": [
    {
     "ename": "TypeError",
     "evalue": "unsupported operand type(s) for @: 'Tensor' and 'LazyTensor'",
     "output_type": "error",
     "traceback": [
      "\u001b[0;31m---------------------------------------------------------------------------\u001b[0m",
      "\u001b[0;31mTypeError\u001b[0m                                 Traceback (most recent call last)",
      "Cell \u001b[0;32mIn[217], line 1\u001b[0m\n\u001b[0;32m----> 1\u001b[0m \u001b[43mtensor\u001b[49m\u001b[43m(\u001b[49m\u001b[43mnp\u001b[49m\u001b[38;5;241;43m.\u001b[39;49m\u001b[43mones\u001b[49m\u001b[43m(\u001b[49m\u001b[38;5;28;43mlen\u001b[39;49m\u001b[43m(\u001b[49m\u001b[43mX\u001b[49m\u001b[43m)\u001b[49m\u001b[43m)\u001b[49m\u001b[43m[\u001b[49m\u001b[43m:\u001b[49m\u001b[43m,\u001b[49m\u001b[38;5;28;43;01mNone\u001b[39;49;00m\u001b[43m]\u001b[49m\u001b[43m)\u001b[49m\u001b[43m \u001b[49m\u001b[38;5;241;43m@\u001b[39;49m\u001b[43m \u001b[49m\u001b[43mLazyTensor\u001b[49m\u001b[43m(\u001b[49m\u001b[43mdk\u001b[49m\u001b[43m[\u001b[49m\u001b[43m:\u001b[49m\u001b[43m,\u001b[49m\u001b[38;5;28;43;01mNone\u001b[39;49;00m\u001b[43m]\u001b[49m\u001b[43m,\u001b[49m\u001b[43maxis\u001b[49m\u001b[38;5;241;43m=\u001b[39;49m\u001b[38;5;241;43m0\u001b[39;49m\u001b[43m)\u001b[49m\n",
      "\u001b[0;31mTypeError\u001b[0m: unsupported operand type(s) for @: 'Tensor' and 'LazyTensor'"
     ]
    }
   ],
   "source": [
    "tensor(np.ones(len(X))[:,None]) @ LazyTensor(dk[:,None],axis=0)"
   ]
  },
  {
   "cell_type": "code",
   "execution_count": null,
   "metadata": {},
   "outputs": [
    {
     "data": {
      "text/plain": [
       "(1, 1000)"
      ]
     },
     "metadata": {},
     "output_type": "display_data"
    }
   ],
   "source": [
    "LazyTensor(tensor(np.ones(len(X))[:,None]),axis=1).shape"
   ]
  },
  {
   "cell_type": "code",
   "execution_count": 203,
   "metadata": {},
   "outputs": [
    {
     "data": {
      "text/plain": [
       "(1000, 1)"
      ]
     },
     "execution_count": 203,
     "metadata": {},
     "output_type": "execute_result"
    }
   ],
   "source": [
    "LazyTensor(dk[:,None],axis=0).shape"
   ]
  },
  {
   "cell_type": "code",
   "execution_count": 184,
   "metadata": {},
   "outputs": [
    {
     "data": {
      "text/plain": [
       "(1000, 1000, 1000)"
      ]
     },
     "execution_count": 184,
     "metadata": {},
     "output_type": "execute_result"
    }
   ],
   "source": [
    "(A * dk)"
   ]
  },
  {
   "cell_type": "code",
   "execution_count": 168,
   "metadata": {},
   "outputs": [],
   "source": [
    "#|export\n",
    "def lazy_diffusion_matrix(\n",
    "    A\n",
    "):\n",
    "    \"\"\"Computes the diffusion matrix from the adjacency matrix A\"\"\"\n",
    "    D = A.sum(axis=1)\n",
    "    # D = LazyTensor(D)\n",
    "    return A/D[:,None]"
   ]
  },
  {
   "cell_type": "code",
   "execution_count": null,
   "metadata": {},
   "outputs": [],
   "source": [
    "def test_lazy_graph(A, X):\n",
    "    # compute diffusion matrix, then use plot_3d to plot the diffusion on the first point of the graph\n",
    "    P = lazy_diffusion_matrix(A)\n",
    "    P = P[0]"
   ]
  },
  {
   "cell_type": "code",
   "execution_count": 180,
   "metadata": {},
   "outputs": [],
   "source": [
    "A = lazy_gaussian_kernel(X, kernel_type = \"fixed\", anisotropic_density_normalization=False)"
   ]
  },
  {
   "cell_type": "code",
   "execution_count": 181,
   "metadata": {},
   "outputs": [
    {
     "data": {
      "text/plain": [
       "(1000, 1000)"
      ]
     },
     "execution_count": 181,
     "metadata": {},
     "output_type": "execute_result"
    }
   ],
   "source": [
    "A.shape"
   ]
  },
  {
   "cell_type": "code",
   "execution_count": 156,
   "metadata": {},
   "outputs": [],
   "source": [
    "A = lazy_gaussian_kernel(X, kernel_type = \"fixed\", anisotropic_density_normalization=True)"
   ]
  },
  {
   "cell_type": "code",
   "execution_count": 158,
   "metadata": {},
   "outputs": [],
   "source": [
    "A = lazy_gaussian_kernel(X, kernel_type = \"adaptive\", k=10, anisotropic_density_normalization=False)"
   ]
  },
  {
   "cell_type": "code",
   "execution_count": 205,
   "metadata": {},
   "outputs": [
    {
     "ename": "AttributeError",
     "evalue": "'LazyTensor' object has no attribute 'view'",
     "output_type": "error",
     "traceback": [
      "\u001b[0;31m---------------------------------------------------------------------------\u001b[0m",
      "\u001b[0;31mAttributeError\u001b[0m                            Traceback (most recent call last)",
      "Cell \u001b[0;32mIn[205], line 1\u001b[0m\n\u001b[0;32m----> 1\u001b[0m A \u001b[38;5;241m=\u001b[39m \u001b[43mlazy_gaussian_kernel\u001b[49m\u001b[43m(\u001b[49m\u001b[43mX\u001b[49m\u001b[43m,\u001b[49m\u001b[43m \u001b[49m\u001b[43mkernel_type\u001b[49m\u001b[43m \u001b[49m\u001b[38;5;241;43m=\u001b[39;49m\u001b[43m \u001b[49m\u001b[38;5;124;43m\"\u001b[39;49m\u001b[38;5;124;43madaptive\u001b[39;49m\u001b[38;5;124;43m\"\u001b[39;49m\u001b[43m,\u001b[49m\u001b[43m \u001b[49m\u001b[43mk\u001b[49m\u001b[38;5;241;43m=\u001b[39;49m\u001b[38;5;241;43m10\u001b[39;49m\u001b[43m,\u001b[49m\u001b[43m \u001b[49m\u001b[43manisotropic_density_normalization\u001b[49m\u001b[38;5;241;43m=\u001b[39;49m\u001b[38;5;28;43;01mTrue\u001b[39;49;00m\u001b[43m)\u001b[49m\n",
      "Cell \u001b[0;32mIn[204], line 21\u001b[0m, in \u001b[0;36mlazy_gaussian_kernel\u001b[0;34m(X, kernel_type, sigma, k, anisotropic_density_normalization, use_cuda)\u001b[0m\n\u001b[1;32m     19\u001b[0m dk \u001b[38;5;241m=\u001b[39m D\u001b[38;5;241m.\u001b[39mKmin(k, dim\u001b[38;5;241m=\u001b[39m\u001b[38;5;241m1\u001b[39m)[:,\u001b[38;5;241m-\u001b[39m\u001b[38;5;241m1\u001b[39m]\n\u001b[1;32m     20\u001b[0m \u001b[38;5;66;03m# Populate matrices with this distance for easy division.\u001b[39;00m\n\u001b[0;32m---> 21\u001b[0m div1 \u001b[38;5;241m=\u001b[39m \u001b[43mLazyTensor\u001b[49m\u001b[43m(\u001b[49m\u001b[43mtensor\u001b[49m\u001b[43m(\u001b[49m\u001b[43mnp\u001b[49m\u001b[38;5;241;43m.\u001b[39;49m\u001b[43mones\u001b[49m\u001b[43m(\u001b[49m\u001b[38;5;28;43mlen\u001b[39;49m\u001b[43m(\u001b[49m\u001b[43mX\u001b[49m\u001b[43m)\u001b[49m\u001b[43m)\u001b[49m\u001b[43m[\u001b[49m\u001b[43m:\u001b[49m\u001b[43m,\u001b[49m\u001b[38;5;28;43;01mNone\u001b[39;49;00m\u001b[43m]\u001b[49m\u001b[43m)\u001b[49m\u001b[43m,\u001b[49m\u001b[43maxis\u001b[49m\u001b[38;5;241;43m=\u001b[39;49m\u001b[38;5;241;43m1\u001b[39;49m\u001b[43m)\u001b[49m\u001b[43m \u001b[49m\u001b[38;5;241;43m@\u001b[39;49m\u001b[43m \u001b[49m\u001b[43mLazyTensor\u001b[49m\u001b[43m(\u001b[49m\u001b[43mdk\u001b[49m\u001b[43m[\u001b[49m\u001b[43m:\u001b[49m\u001b[43m,\u001b[49m\u001b[38;5;28;43;01mNone\u001b[39;49;00m\u001b[43m]\u001b[49m\u001b[43m,\u001b[49m\u001b[43maxis\u001b[49m\u001b[38;5;241;43m=\u001b[39;49m\u001b[38;5;241;43m0\u001b[39;49m\u001b[43m)\u001b[49m\n\u001b[1;32m     22\u001b[0m div2 \u001b[38;5;241m=\u001b[39m LazyTensor(dk[:,\u001b[38;5;28;01mNone\u001b[39;00m],axis\u001b[38;5;241m=\u001b[39m\u001b[38;5;241m1\u001b[39m) \u001b[38;5;241m@\u001b[39m LazyTensor(tensor(np\u001b[38;5;241m.\u001b[39mones(\u001b[38;5;28mlen\u001b[39m(X))[:,\u001b[38;5;28;01mNone\u001b[39;00m]),axis\u001b[38;5;241m=\u001b[39m\u001b[38;5;241m0\u001b[39m)\n\u001b[1;32m     23\u001b[0m \u001b[38;5;66;03m# print(\"Distance to kth neighbors\",distance_to_k_neighbor)\u001b[39;00m\n\u001b[1;32m     24\u001b[0m \u001b[38;5;66;03m# compute the gaussian kernel with an adaptive bandwidth\u001b[39;00m\n",
      "File \u001b[0;32m~/mambaforge/envs/diffusion-curvature-jax/lib/python3.11/site-packages/pykeops/common/lazy_tensor.py:2522\u001b[0m, in \u001b[0;36mGenericLazyTensor.__matmul__\u001b[0;34m(self, v, **kwargs)\u001b[0m\n\u001b[1;32m   2519\u001b[0m \u001b[38;5;28;01melse\u001b[39;00m:\n\u001b[1;32m   2520\u001b[0m     newdims \u001b[38;5;241m=\u001b[39m v\u001b[38;5;241m.\u001b[39mshape[:\u001b[38;5;241m-\u001b[39m\u001b[38;5;241m2\u001b[39m] \u001b[38;5;241m+\u001b[39m (\u001b[38;5;241m1\u001b[39m,) \u001b[38;5;241m+\u001b[39m v\u001b[38;5;241m.\u001b[39mshape[\u001b[38;5;241m-\u001b[39m\u001b[38;5;241m2\u001b[39m:]\n\u001b[0;32m-> 2522\u001b[0m v_ \u001b[38;5;241m=\u001b[39m \u001b[38;5;28mself\u001b[39m\u001b[38;5;241m.\u001b[39mlt_constructor(\u001b[38;5;28;43mself\u001b[39;49m\u001b[38;5;241;43m.\u001b[39;49m\u001b[43mtools\u001b[49m\u001b[38;5;241;43m.\u001b[39;49m\u001b[43mview\u001b[49m\u001b[43m(\u001b[49m\u001b[43mv\u001b[49m\u001b[43m,\u001b[49m\u001b[43m \u001b[49m\u001b[43mnewdims\u001b[49m\u001b[43m)\u001b[49m)\n\u001b[1;32m   2523\u001b[0m Kv \u001b[38;5;241m=\u001b[39m \u001b[38;5;28mself\u001b[39m \u001b[38;5;241m*\u001b[39m v_  \u001b[38;5;66;03m# Supports broadcasting\u001b[39;00m\n\u001b[1;32m   2524\u001b[0m Kv \u001b[38;5;241m=\u001b[39m Kv\u001b[38;5;241m.\u001b[39msum(Kv\u001b[38;5;241m.\u001b[39mdim() \u001b[38;5;241m-\u001b[39m \u001b[38;5;241m2\u001b[39m, \u001b[38;5;241m*\u001b[39m\u001b[38;5;241m*\u001b[39mkwargs)  \u001b[38;5;66;03m# Matrix-vector or Matrix-matrix product\u001b[39;00m\n",
      "File \u001b[0;32m~/mambaforge/envs/diffusion-curvature-jax/lib/python3.11/site-packages/pykeops/torch/utils.py:78\u001b[0m, in \u001b[0;36mtorchtools.view\u001b[0;34m(x, s)\u001b[0m\n\u001b[1;32m     76\u001b[0m \u001b[38;5;129m@staticmethod\u001b[39m\n\u001b[1;32m     77\u001b[0m \u001b[38;5;28;01mdef\u001b[39;00m \u001b[38;5;21mview\u001b[39m(x, s):\n\u001b[0;32m---> 78\u001b[0m     \u001b[38;5;28;01mreturn\u001b[39;00m \u001b[43mx\u001b[49m\u001b[38;5;241;43m.\u001b[39;49m\u001b[43mview\u001b[49m(s)\n",
      "\u001b[0;31mAttributeError\u001b[0m: 'LazyTensor' object has no attribute 'view'"
     ]
    }
   ],
   "source": [
    "A = lazy_gaussian_kernel(X, kernel_type = \"adaptive\", k=10, anisotropic_density_normalization=True)"
   ]
  },
  {
   "cell_type": "code",
   "execution_count": 171,
   "metadata": {},
   "outputs": [
    {
     "data": {
      "text/plain": [
       "(1000, 1000, 1000)"
      ]
     },
     "execution_count": 171,
     "metadata": {},
     "output_type": "execute_result"
    }
   ],
   "source": [
    "A.shape"
   ]
  },
  {
   "cell_type": "code",
   "execution_count": 169,
   "metadata": {},
   "outputs": [
    {
     "name": "stdout",
     "output_type": "stream",
     "text": [
      "[pyKeOps] Warning : at least one of the input tensors is not contiguous. Consider using contiguous data arrays to avoid unnecessary copies.\n"
     ]
    }
   ],
   "source": [
    "P = lazy_diffusion_matrix(A)"
   ]
  },
  {
   "cell_type": "code",
   "execution_count": 170,
   "metadata": {},
   "outputs": [
    {
     "data": {
      "text/plain": [
       "(1000, 1000, 1000)"
      ]
     },
     "execution_count": 170,
     "metadata": {},
     "output_type": "execute_result"
    }
   ],
   "source": [
    "P.shape"
   ]
  },
  {
   "cell_type": "code",
   "execution_count": 164,
   "metadata": {},
   "outputs": [
    {
     "ename": "ValueError",
     "evalue": "The 'K @ v' syntax is only supported for LazyTensors 'K' whose trailing dimension is equal to 1. Here, K.shape = (1000, 1000, 1000).",
     "output_type": "error",
     "traceback": [
      "\u001b[0;31m---------------------------------------------------------------------------\u001b[0m",
      "\u001b[0;31mValueError\u001b[0m                                Traceback (most recent call last)",
      "Cell \u001b[0;32mIn[164], line 1\u001b[0m\n\u001b[0;32m----> 1\u001b[0m \u001b[43mP\u001b[49m\u001b[43m \u001b[49m\u001b[38;5;241;43m@\u001b[39;49m\u001b[43m \u001b[49m\u001b[43mtorch\u001b[49m\u001b[38;5;241;43m.\u001b[39;49m\u001b[43meye\u001b[49m\u001b[43m(\u001b[49m\u001b[38;5;241;43m1000\u001b[39;49m\u001b[43m)\u001b[49m\u001b[43m[\u001b[49m\u001b[38;5;241;43m0\u001b[39;49m\u001b[43m]\u001b[49m\n\u001b[1;32m      2\u001b[0m \u001b[38;5;66;03m# get the first row of P with pykeops\u001b[39;00m\n\u001b[1;32m      3\u001b[0m \u001b[38;5;66;03m# convert to torch tensor\u001b[39;00m\n",
      "File \u001b[0;32m~/mambaforge/envs/diffusion-curvature-jax/lib/python3.11/site-packages/pykeops/common/lazy_tensor.py:2510\u001b[0m, in \u001b[0;36mGenericLazyTensor.__matmul__\u001b[0;34m(self, v, **kwargs)\u001b[0m\n\u001b[1;32m   2491\u001b[0m \u001b[38;5;250m\u001b[39m\u001b[38;5;124mr\u001b[39m\u001b[38;5;124;03m\"\"\"\u001b[39;00m\n\u001b[1;32m   2492\u001b[0m \u001b[38;5;124;03mMatrix-vector or Matrix-matrix product, supporting batch dimensions.\u001b[39;00m\n\u001b[1;32m   2493\u001b[0m \n\u001b[0;32m   (...)\u001b[0m\n\u001b[1;32m   2506\u001b[0m \u001b[38;5;124;03m    ... torch.Size([1000, 2])\u001b[39;00m\n\u001b[1;32m   2507\u001b[0m \u001b[38;5;124;03m\"\"\"\u001b[39;00m\n\u001b[1;32m   2509\u001b[0m \u001b[38;5;28;01mif\u001b[39;00m \u001b[38;5;28mself\u001b[39m\u001b[38;5;241m.\u001b[39m_shape[\u001b[38;5;241m-\u001b[39m\u001b[38;5;241m1\u001b[39m] \u001b[38;5;241m!=\u001b[39m \u001b[38;5;241m1\u001b[39m:\n\u001b[0;32m-> 2510\u001b[0m     \u001b[38;5;28;01mraise\u001b[39;00m \u001b[38;5;167;01mValueError\u001b[39;00m(\n\u001b[1;32m   2511\u001b[0m         \u001b[38;5;124m\"\u001b[39m\u001b[38;5;124mThe \u001b[39m\u001b[38;5;124m'\u001b[39m\u001b[38;5;124mK @ v\u001b[39m\u001b[38;5;124m'\u001b[39m\u001b[38;5;124m syntax is only supported for LazyTensors \u001b[39m\u001b[38;5;124m\"\u001b[39m\n\u001b[1;32m   2512\u001b[0m         \u001b[38;5;241m+\u001b[39m \u001b[38;5;124m\"\u001b[39m\u001b[38;5;124m'\u001b[39m\u001b[38;5;124mK\u001b[39m\u001b[38;5;124m'\u001b[39m\u001b[38;5;124m whose trailing dimension is equal to 1. Here, K.shape = \u001b[39m\u001b[38;5;132;01m{}\u001b[39;00m\u001b[38;5;124m.\u001b[39m\u001b[38;5;124m\"\u001b[39m\u001b[38;5;241m.\u001b[39mformat(\n\u001b[1;32m   2513\u001b[0m             \u001b[38;5;28mself\u001b[39m\u001b[38;5;241m.\u001b[39mshape\n\u001b[1;32m   2514\u001b[0m         )\n\u001b[1;32m   2515\u001b[0m     )\n\u001b[1;32m   2517\u001b[0m \u001b[38;5;28;01mif\u001b[39;00m \u001b[38;5;28mlen\u001b[39m(v\u001b[38;5;241m.\u001b[39mshape) \u001b[38;5;241m==\u001b[39m \u001b[38;5;241m1\u001b[39m:\n\u001b[1;32m   2518\u001b[0m     newdims \u001b[38;5;241m=\u001b[39m (\u001b[38;5;241m1\u001b[39m, v\u001b[38;5;241m.\u001b[39mshape[\u001b[38;5;241m0\u001b[39m], \u001b[38;5;241m1\u001b[39m)\n",
      "\u001b[0;31mValueError\u001b[0m: The 'K @ v' syntax is only supported for LazyTensors 'K' whose trailing dimension is equal to 1. Here, K.shape = (1000, 1000, 1000)."
     ]
    }
   ],
   "source": [
    "P @ torch.eye(1000)[0]\n",
    "# get the first row of P with pykeops\n",
    "# convert to torch tensor"
   ]
  },
  {
   "cell_type": "code",
   "execution_count": 93,
   "metadata": {},
   "outputs": [
    {
     "name": "stdout",
     "output_type": "stream",
     "text": [
      "[KeOps] Generating code for ArgKMin_Reduction reduction (with parameters 0) of formula Sqrt(Sum((a-b)**2)) with a=Var(0,3,0), b=Var(1,3,1) ... OK\n"
     ]
    },
    {
     "data": {
      "text/plain": [
       "tensor([415, 878, 218, 549, 799, 889, 921, 815, 645, 716,  90, 529, 450, 875,\n",
       "        317, 554, 850, 855, 643, 301, 622, 118, 978, 593,  73, 409, 334, 294,\n",
       "        991, 230,  21, 459, 331, 390, 226, 665, 652, 762, 610, 572, 968, 994,\n",
       "        451, 139, 481, 264, 743, 897, 742, 221, 916, 646, 999, 265, 314, 828,\n",
       "        628, 985,  18, 188, 567, 987, 308, 328,  58,  97, 939, 221,  93, 323,\n",
       "        707, 196, 819, 900, 441, 288, 200, 416, 745,  46, 159, 872, 190, 474,\n",
       "        763, 113, 881, 819, 291, 808, 461, 400, 414, 994, 549, 983, 250, 645,\n",
       "        674, 293, 476, 386, 832, 864, 883, 989, 518, 845, 859, 409, 560, 683,\n",
       "        664, 821,  91,  13, 737, 791,  30, 529, 808, 304, 366, 254, 677, 451,\n",
       "        848, 427, 588,  11, 595, 375, 617, 614, 977, 516, 311, 818, 780, 401,\n",
       "        387,  29, 358, 543, 490, 853, 436, 108, 556, 381, 716, 250, 351, 443,\n",
       "        285, 788, 172, 338, 549,  80, 988, 336, 853, 849, 854, 376, 788, 233,\n",
       "        706, 314, 546, 786, 545, 263,  24, 531, 569, 726, 494,  23, 925, 552,\n",
       "        323, 482, 625, 347, 205, 462, 926, 440, 626, 585, 238, 254, 607,  96,\n",
       "        877, 289, 320, 203, 400,  22, 389, 353,  69, 186, 844, 765,  65, 823,\n",
       "        412, 262, 236, 969, 185, 988, 119, 277, 229, 268,  80, 365, 579, 749,\n",
       "        727, 916, 921, 770, 596, 218, 551, 508, 894, 167, 118, 429, 463,  43,\n",
       "        714, 547, 688, 226, 868, 945, 390, 384, 625, 479, 132, 423, 976, 704,\n",
       "        579,  42, 301, 383, 755, 756, 242, 606,  49, 171,  50, 173, 590, 989,\n",
       "        873, 272, 729, 992, 561, 730, 878, 341, 923, 685, 111, 867, 636, 762,\n",
       "        464, 121, 198, 126, 471, 154, 965, 505, 713,  70, 405, 228, 792, 369,\n",
       "        920, 279, 184, 347, 578, 951, 807, 632,  90, 115, 121, 220, 295, 814,\n",
       "        402, 591, 172, 136, 279, 749,  54, 439, 832, 800, 453,   4, 103, 332,\n",
       "        372, 262, 100, 410, 439, 500,  63,   4, 105, 772, 593, 182, 737, 653,\n",
       "         94, 453, 157, 192, 661, 508, 233, 855, 500, 532, 294, 297, 367,  28,\n",
       "        560, 590,  93, 157, 915, 381, 705,  62, 768,   4, 570, 113, 367, 903,\n",
       "        967, 374,  38, 634, 350, 293, 930, 510, 973, 567,  49, 131, 737, 622,\n",
       "        736, 940, 455, 355, 325, 533, 783, 920, 667, 811, 541, 350, 244, 621,\n",
       "        528, 689, 315, 111, 739, 733, 795, 117, 149, 859, 308, 733, 471, 290,\n",
       "        657, 629, 568, 161, 643, 844, 755, 551, 547, 435, 175, 810, 694, 304,\n",
       "         53,  14, 179, 405, 661, 610, 539, 960, 650, 361, 604, 353, 779, 146,\n",
       "        282, 253, 488, 607, 741, 510, 691, 564, 795, 133, 672, 720, 922, 510,\n",
       "        660, 361, 951, 253, 934, 965, 744, 358, 863, 110, 634, 941, 260,  90,\n",
       "        273, 236, 832, 233, 760, 649, 407, 767, 499, 500,  23, 381,  83, 343,\n",
       "        100, 577, 125, 179, 843, 739, 183, 726, 733, 821, 947, 275, 433, 757,\n",
       "        568, 949, 775, 986,  25, 715,  30, 723, 986, 822, 928, 448, 654, 717,\n",
       "        373, 287, 912, 986, 884, 634, 439, 913, 599, 723, 444, 940, 476, 312,\n",
       "        576, 419, 725,   9, 738, 667, 693, 807, 293,  20,  35, 448,  75, 360,\n",
       "        801, 869, 561, 310, 852, 774, 621, 426, 699,  38, 351, 785, 778, 355,\n",
       "        214, 718, 701, 653, 625, 141, 706, 152,  89, 722, 609, 143, 976, 134,\n",
       "        457, 534, 184, 448,  74, 835, 759, 253, 839, 176, 216, 807, 145, 567,\n",
       "        631, 430, 518, 952, 298, 222, 715, 564, 193, 209, 323, 191, 711, 278,\n",
       "        128, 167, 553, 534, 925,  83, 366, 910, 783, 672, 526, 157, 253, 880,\n",
       "        840, 476, 956, 206, 635, 441, 795, 298, 799, 854, 683, 960,  57, 964,\n",
       "        829, 924,   7, 756, 347, 702, 377, 762, 722, 550, 996, 448,  56, 513,\n",
       "        499, 912, 697, 826, 666, 782, 808, 889, 589, 385,   4, 720, 562, 180,\n",
       "        153, 115,  96, 436, 757, 467, 436,  68,  36, 549, 811, 736, 810, 346,\n",
       "         71, 678, 448, 619,  36, 195, 547, 902, 154, 276, 926, 535, 578, 938,\n",
       "        597, 835, 250, 888, 643,  32, 776, 956, 956, 282, 208, 386, 237, 624,\n",
       "        609, 857, 240, 982, 907, 440,  79, 817, 697,  76, 707, 799, 168, 248,\n",
       "        113, 548, 547, 911, 190, 800, 256,  70, 666, 380,  40, 586, 523, 761,\n",
       "        767, 580, 150, 742,  92, 986, 641, 745, 537, 912, 346, 503, 453, 983,\n",
       "        471,  65, 443, 200, 834, 403, 697, 252, 315, 334, 690, 396,  81, 129,\n",
       "        717,  46, 780, 717, 194, 453, 937, 931, 395, 166,  41, 861, 506, 412,\n",
       "        257, 489, 947, 395, 584,  75, 279, 656, 374, 207, 103, 714, 142, 888,\n",
       "        103, 349,   5, 274, 275, 113, 678, 776, 619, 396, 138, 947, 635, 228,\n",
       "        712, 625, 171, 310, 134, 382, 131, 722, 966, 372, 487, 608, 260, 986,\n",
       "        499, 697, 317, 250, 981, 833, 778, 589, 784, 300,  66, 905, 417, 623,\n",
       "        912, 167, 660,   7, 102, 417, 901, 969, 845, 113, 176, 209, 173, 862,\n",
       "        192, 731, 603,  24, 812, 699, 316, 147, 938,  22, 755, 191, 992, 568,\n",
       "        602, 306, 237, 287,  14, 820, 141, 776, 283, 163, 790, 534, 274, 162,\n",
       "        701, 343, 258, 755, 987, 401, 949, 428, 866, 456, 942,  43, 225, 277,\n",
       "        529, 533, 117, 577, 704, 998, 776, 652, 872, 196, 272, 618, 417,  86,\n",
       "        186, 776, 849, 171,  60, 226, 839,   5, 201, 194, 707, 461, 232, 373,\n",
       "        716,  47, 561, 650, 274, 860, 528, 474, 552, 420, 861, 522, 411, 810,\n",
       "        264, 703, 723, 188,   4, 910, 499, 700, 342, 951,   2, 583, 449, 616,\n",
       "        331, 592, 516, 172, 500, 918, 370, 749, 823, 653, 352, 720, 374, 748,\n",
       "         95,  89, 379, 200,  46, 933,  56,  57, 354, 986, 544, 491, 477, 918,\n",
       "        320, 266, 949, 659, 604, 707, 249, 638, 796, 545, 412, 267, 169, 453,\n",
       "        836, 316,  40, 871, 222, 908, 761, 496,  17, 837, 250, 134, 835, 738,\n",
       "        438, 744, 266,  95, 170,  57, 719, 651, 611, 265, 646, 771, 838, 127,\n",
       "         41, 519,  82, 422, 873,  53], device='cuda:0')"
      ]
     },
     "execution_count": 93,
     "metadata": {},
     "output_type": "execute_result"
    }
   ],
   "source": [
    "D.argKmin(5, dim=1)[:,-1]"
   ]
  },
  {
   "cell_type": "code",
   "execution_count": null,
   "metadata": {},
   "outputs": [],
   "source": [
    "#|export\n",
    "\n",
    "def phate_distances():\n",
    "    assert G.Pt is not None\n",
    "    if type(G.Pt) == np.ndarray:\n",
    "        log_Pts = -np.log(G.Pt + 1e-6)\n",
    "        D = pairwise_distances(log_Pts)\n",
    "    elif type(G.Pt) == scipy.sparse.csr_matrix:\n",
    "        # TODO: There's likely a more efficient way of doing this. \n",
    "        # But I mustn't tempt the devil of premature optimization\n",
    "        Pt_np = G.Pt.toarray()\n",
    "        log_Pts = -np.log(Pt_np + 1e-6)\n",
    "        D = pairwise_distances(log_Pts)\n",
    "    G.D = D\n",
    "    return G"
   ]
  },
  {
   "cell_type": "code",
   "execution_count": null,
   "metadata": {},
   "outputs": [],
   "source": [
    "def wasserstein_spread_of_diffusion(\n",
    "                D, # manifold geodesic distances\n",
    "                Pt, # powered diffusion matrix/t-step ehat diffusions\n",
    "                ):\n",
    "        \"\"\"\n",
    "        Returns how \"spread out\" each diffusion is, with wasserstein distance\n",
    "        Presumes that the manifold distances have been separately calculated\n",
    "        \"\"\"\n",
    "        \n",
    "        return jnp.sum(D * Pt, axis=-1)"
   ]
  },
  {
   "cell_type": "markdown",
   "metadata": {},
   "source": [
    "# Tests"
   ]
  },
  {
   "cell_type": "code",
   "execution_count": null,
   "metadata": {},
   "outputs": [],
   "source": []
  },
  {
   "cell_type": "code",
   "execution_count": null,
   "metadata": {},
   "outputs": [],
   "source": [
    "# sync changes to the library\n",
    "from IPython.display import display, Javascript\n",
    "import time\n",
    "display(Javascript('IPython.notebook.save_checkpoint();'))\n",
    "time.sleep(2)\n",
    "!pixi run nbsync"
   ]
  }
 ],
 "metadata": {
  "kernelspec": {
   "display_name": "diffusion-curvature-jax",
   "language": "python",
   "name": "python3"
  },
  "language_info": {
   "codemirror_mode": {
    "name": "ipython",
    "version": 3
   },
   "file_extension": ".py",
   "mimetype": "text/x-python",
   "name": "python",
   "nbconvert_exporter": "python",
   "pygments_lexer": "ipython3",
   "version": "3.11.7"
  }
 },
 "nbformat": 4,
 "nbformat_minor": 2
}

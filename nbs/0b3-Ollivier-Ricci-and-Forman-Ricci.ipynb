{
 "cells": [
  {
   "cell_type": "code",
   "execution_count": 1,
   "id": "5f76d4ba-2372-4e3a-a150-c7d3ed99f090",
   "metadata": {},
   "outputs": [],
   "source": [
    "#|default_exp benchmarking.ollivier_ricci"
   ]
  },
  {
   "cell_type": "markdown",
   "id": "56d7f568-04d6-46e0-a9b8-c2641d26e0d7",
   "metadata": {},
   "source": [
    "# Ollivier Ricci and Forman Ricci\n",
    "Using the implementation from the GraphRicciCurvature package."
   ]
  },
  {
   "cell_type": "code",
   "execution_count": 8,
   "id": "cd1cbfaa-fb21-47f1-ba16-63dd906b8d09",
   "metadata": {},
   "outputs": [],
   "source": [
    "#|export\n",
    "from diffusion_curvature.kernels import get_curvature_agnostic_graph\n",
    "import networkx as nx\n",
    "import numpy as np\n",
    "def nx_graph_from_pointcloud(X):\n",
    "    G = get_curvature_agnostic_graph(X)\n",
    "    nx_G = nx.from_numpy_array(G.W)\n",
    "    return nx_G"
   ]
  },
  {
   "cell_type": "code",
   "execution_count": 9,
   "id": "b063e5b1-1d3e-4bee-8937-c6e33e91b122",
   "metadata": {},
   "outputs": [],
   "source": [
    "#|export\n",
    "def average_orc_across_edge(orc, idx):\n",
    "    js = list(orc.G[idx].keys())\n",
    "    edge_ks = [orc.G[idx][j]['ricciCurvature'] for j in js]\n",
    "    return np.mean(edge_ks)\n",
    "def average_frc_across_edge(orc, idx):\n",
    "    js = list(orc.G[idx].keys())\n",
    "    edge_ks = [orc.G[idx][j]['formanCurvature'] for j in js]\n",
    "    return np.mean(edge_ks)"
   ]
  },
  {
   "cell_type": "code",
   "execution_count": 10,
   "id": "94feb1f5-958a-45ba-a1e7-06628a1be93f",
   "metadata": {},
   "outputs": [],
   "source": [
    "#|export\n",
    "import networkx as nx\n",
    "from GraphRicciCurvature.FormanRicci import FormanRicci\n",
    "from GraphRicciCurvature.OllivierRicci import OllivierRicci\n",
    "def compute_orc_curvature_of_nodes(G, idxs = None):\n",
    "    G_nx = nx.from_numpy_array(G.W)\n",
    "    orc = OllivierRicci(G_nx, alpha=0.5)\n",
    "    orc.compute_ricci_curvature()\n",
    "    ks = []\n",
    "    if idxs is None: idxs = np.arange(len(G.W))\n",
    "    if isinstance(idxs, int): idxs = [idxs]\n",
    "    for i in idxs:\n",
    "        ks.append(\n",
    "            average_orc_across_edge(orc, i)\n",
    "        )\n",
    "    if len(ks) == 1: return ks[0]\n",
    "    return ks\n",
    "\n",
    "def compute_frc_curvature_of_nodes(G, idxs = None):\n",
    "    G_nx = nx.from_numpy_array(G.W)\n",
    "    frc = FormanRicci(G_nx)\n",
    "    frc.compute_ricci_curvature()\n",
    "    ks = []\n",
    "    if idxs is None: idxs = np.arange(len(G.W))\n",
    "    if isinstance(idxs, int): idxs = [idxs]\n",
    "    for i in idxs:\n",
    "        ks.append(\n",
    "            average_frc_across_edge(frc, i)\n",
    "        )\n",
    "    if len(ks) == 1: return ks[0]\n",
    "    return ks"
   ]
  },
  {
   "cell_type": "code",
   "execution_count": 12,
   "id": "d8b900b1-309c-49d9-afc5-6492bd11c8c5",
   "metadata": {},
   "outputs": [],
   "source": [
    "!nbdev_export"
   ]
  },
  {
   "cell_type": "code",
   "execution_count": null,
   "id": "03121560-dadd-4787-bbdf-12249f37e30e",
   "metadata": {},
   "outputs": [],
   "source": []
  }
 ],
 "metadata": {
  "kernelspec": {
   "display_name": "diffcurvs",
   "language": "python",
   "name": "diffcurvs"
  },
  "language_info": {
   "codemirror_mode": {
    "name": "ipython",
    "version": 3
   },
   "file_extension": ".py",
   "mimetype": "text/x-python",
   "name": "python",
   "nbconvert_exporter": "python",
   "pygments_lexer": "ipython3",
   "version": "3.11.9"
  }
 },
 "nbformat": 4,
 "nbformat_minor": 5
}

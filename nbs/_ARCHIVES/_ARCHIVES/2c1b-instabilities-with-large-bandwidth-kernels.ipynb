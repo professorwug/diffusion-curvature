{
 "cells": [
  {
   "cell_type": "code",
   "execution_count": null,
   "metadata": {},
   "outputs": [],
   "source": [
    "#|hide\n",
    "## Standard libraries\n",
    "import os\n",
    "import math\n",
    "import numpy as np\n",
    "import time\n",
    "from fastcore.all import *\n",
    "from nbdev.showdoc import *\n",
    "\n",
    "# Configure environment\n",
    "os.environ['XLA_PYTHON_CLIENT_PREALLOCATE']='false' # Tells Jax not to hog all of the memory to this process.\n",
    "\n",
    "## Imports for plotting\n",
    "import matplotlib.pyplot as plt\n",
    "%matplotlib inline\n",
    "from IPython.display import set_matplotlib_formats\n",
    "# set_matplotlib_formats('svg', 'pdf') # For export\n",
    "from matplotlib.colors import to_rgba\n",
    "import seaborn as sns\n",
    "sns.set()\n",
    "\n",
    "## Progress bar\n",
    "from tqdm.auto import tqdm, trange\n",
    "\n",
    "## project specifics\n",
    "import diffusion_curvature\n",
    "import pygsp\n",
    "import jax\n",
    "import jax.numpy as jnp\n",
    "jax.devices()\n",
    "\n",
    "from diffusion_curvature.graphs import *\n",
    "from diffusion_curvature.datasets import *\n",
    "from diffusion_curvature.core import *\n",
    "from diffusion_curvature.utils import *\n",
    "from diffusion_curvature.comparison_space import *\n",
    "\n",
    "%load_ext autoreload\n",
    "%autoreload 2"
   ]
  },
  {
   "cell_type": "markdown",
   "metadata": {},
   "source": [
    "# 2c1b Instabilities With Large Bandwidth Kernels\n",
    "> Witty encapsulation"
   ]
  },
  {
   "cell_type": "markdown",
   "metadata": {},
   "source": [
    "We noticed, in testing the effects of kernel bandwidth on curvature, that as the bandwidth size increases, the algorithm *first* sends all of the saddles to curvature 1, then runs into NaNs. This happens in dimension 3 but not 2. What's going on?"
   ]
  },
  {
   "cell_type": "markdown",
   "metadata": {},
   "source": [
    "In the first instance, the saddle could be a canary in the coal mine. Having the most volume, it is also the sparsest. A '1' appears when the term (spread of manifold)/(spread in Rd) is zero. First the kernel reaches a size such that the (hyper)saddle has zero spread -- i.e. everything has *distance* zero to the initial point, in terms of phate distances. Then, as the kernel becomes a bit larger, this effect overtakes the plane. Now the denominator becomes zero, and it all blows to pieces."
   ]
  },
  {
   "cell_type": "markdown",
   "metadata": {},
   "source": [
    "So the PHATE distance computation is the proximal cause. When the kernel bandwidth is sufficiently large, everything has distance zero to the origin -- or at least, everything within the *diffusion* has distance zero. This illuminates a troubling shortcut we had taken: the $t$ used for PHATE distances should always be smaller than that used for diffusion. *But how small?* The wasserstein formulation, in contrast to the Entropic, has two moving pieces. The measuring stick is getting smaller or larger in step with the kernel or $t$. "
   ]
  },
  {
   "cell_type": "markdown",
   "metadata": {},
   "source": [
    "**Hypothesis**: Stuff will happen"
   ]
  },
  {
   "cell_type": "markdown",
   "metadata": {},
   "source": [
    "# Machinery"
   ]
  },
  {
   "cell_type": "code",
   "execution_count": null,
   "metadata": {},
   "outputs": [],
   "source": []
  },
  {
   "cell_type": "markdown",
   "metadata": {},
   "source": [
    "# Results"
   ]
  },
  {
   "cell_type": "code",
   "execution_count": null,
   "metadata": {},
   "outputs": [],
   "source": []
  },
  {
   "cell_type": "markdown",
   "metadata": {},
   "source": [
    "# Conclusion"
   ]
  },
  {
   "cell_type": "code",
   "execution_count": null,
   "metadata": {},
   "outputs": [],
   "source": []
  }
 ],
 "metadata": {
  "kernelspec": {
   "display_name": "conda-env-zetteldev-diffcurv-py",
   "language": "python",
   "name": "conda-env-zetteldev-diffcurv-py"
  }
 },
 "nbformat": 4,
 "nbformat_minor": 4
}

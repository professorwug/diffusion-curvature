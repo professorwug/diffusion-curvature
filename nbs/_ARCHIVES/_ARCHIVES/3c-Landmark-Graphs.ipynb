{
 "cells": [
  {
   "cell_type": "code",
   "execution_count": null,
   "metadata": {},
   "outputs": [],
   "source": [
    "#|default_exp ricci.landmarks\n",
    "## Standard libraries\n",
    "import os\n",
    "import math\n",
    "import numpy as np\n",
    "import time\n",
    "from fastcore.all import *\n",
    "from nbdev.showdoc import *\n",
    "# Configure environment\n",
    "os.environ['XLA_PYTHON_CLIENT_PREALLOCATE']='false' # Tells Jax not to hog all of the memory to this process.\n",
    "\n",
    "## Imports for plotting\n",
    "import matplotlib.pyplot as plt\n",
    "%matplotlib inline\n",
    "from IPython.display import set_matplotlib_formats\n",
    "# set_matplotlib_formats('svg', 'pdf') # For export\n",
    "from matplotlib.colors import to_rgba\n",
    "import seaborn as sns\n",
    "sns.set()\n",
    "\n",
    "## Progress bar\n",
    "from tqdm.auto import tqdm\n",
    "\n",
    "## project specifics\n",
    "import diffusion_curvature\n",
    "import pygsp\n",
    "import jax\n",
    "import jax.numpy as jnp\n",
    "jax.devices()\n",
    "\n",
    "from diffusion_curvature.graphs import *\n",
    "from diffusion_curvature.datasets import *\n",
    "from diffusion_curvature.core import *\n",
    "from diffusion_curvature.utils import *\n",
    "from diffusion_curvature.comparison_space import *\n",
    "\n",
    "%load_ext autoreload\n",
    "%autoreload 2"
   ]
  },
  {
   "cell_type": "markdown",
   "metadata": {},
   "source": [
    "# 3c Landmarking Graphs\n",
    "> Simplifying a graph into representative nodes for curvature, and using shortest paths to connect it to the underlying graph"
   ]
  },
  {
   "cell_type": "markdown",
   "metadata": {},
   "source": [
    "When computing Ricci curvatures, be it diffusion ricci or Ollivier ricci, *pairs* of points are needed. This notebook provides a means of creating these pairs:\n",
    "\n",
    "1. First, we use diffusion spectral clustering to choose a desired number of landmark nodes for the graph. The number of nodes requested, as a fraction of the graph size, represents (roughly) the scale at which curvature is computed. (We'll provide heuristics to help select this.)\n",
    "2. Next, we compute the shortest paths between these landmark nodes. We convert the shortest paths into subset idxs of the full graph's adjacency matrix, for use by downstream methods.\n",
    "\n",
    "We provide this in a class that's easily subclassed."
   ]
  },
  {
   "cell_type": "markdown",
   "metadata": {},
   "source": [
    "# Implementation"
   ]
  },
  {
   "cell_type": "code",
   "execution_count": null,
   "metadata": {},
   "outputs": [],
   "source": [
    "class LandmarkGraph(object):\n",
    "    def __init__(self, ):\n",
    "\n",
    "\n",
    "    "
   ]
  },
  {
   "cell_type": "markdown",
   "metadata": {},
   "source": [
    "# Tests"
   ]
  },
  {
   "cell_type": "code",
   "execution_count": null,
   "metadata": {},
   "outputs": [],
   "source": []
  },
  {
   "cell_type": "code",
   "execution_count": null,
   "metadata": {},
   "outputs": [],
   "source": [
    "# sync changes to the library\n",
    "from IPython.display import display, Javascript\n",
    "import time\n",
    "display(Javascript('IPython.notebook.save_checkpoint();'))\n",
    "time.sleep(2)\n",
    "!pixi run nbsync"
   ]
  }
 ],
 "metadata": {
  "kernelspec": {
   "display_name": "python3",
   "language": "python",
   "name": "python3"
  }
 },
 "nbformat": 4,
 "nbformat_minor": 4
}

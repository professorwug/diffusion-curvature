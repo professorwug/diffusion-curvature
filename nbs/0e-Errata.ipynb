{
 "cells": [
  {
   "cell_type": "code",
   "execution_count": null,
   "metadata": {},
   "outputs": [],
   "source": [
    "#| default_exp utils\n",
    "# Diffusion Curvature utils\n",
    "# Python necessities\n",
    "import numpy as np\n",
    "from fastcore.all import *\n",
    "import matplotlib.pyplot as plt\n",
    "# Notebook Helpers\n",
    "from nbdev.showdoc import *\n",
    "from tqdm.notebook import trange, tqdm\n",
    "%load_ext autoreload\n",
    "%autoreload 2"
   ]
  },
  {
   "cell_type": "markdown",
   "metadata": {},
   "source": [
    "# Utils\n",
    "> Handy snippets for graph learning, some specific to diffusion curvature, some more general purpose."
   ]
  },
  {
   "cell_type": "markdown",
   "metadata": {},
   "source": [
    "Most are self explanatory. A small description is appended to those that aren't."
   ]
  },
  {
   "cell_type": "code",
   "execution_count": 8,
   "metadata": {},
   "outputs": [],
   "source": [
    "#|export\n",
    "import jax\n",
    "import jax.numpy as jnp\n",
    "\n",
    "def jax_set_best_gpu():\n",
    "    devices = jax.devices(\"gpu\")\n",
    "    if not devices:\n",
    "        return None\n",
    "\n",
    "    max_memory_gpu_idx = None\n",
    "    max_memory = 0\n",
    "\n",
    "    for idx, device in enumerate(devices):\n",
    "        device_mem = device.memory_stats()\n",
    "        free_memory = device_mem['bytes_limit'] - device_mem['bytes_in_use']\n",
    "        if free_memory > max_memory:\n",
    "            max_memory = free_memory\n",
    "            max_memory_gpu_idx = idx\n",
    "\n",
    "    if max_memory_gpu_idx is not None:\n",
    "        jax.config.update(\"jax_default_device\", devices[max_memory_gpu_idx])\n",
    "    \n",
    "    return max_memory_gpu_idx"
   ]
  },
  {
   "cell_type": "code",
   "execution_count": 9,
   "metadata": {},
   "outputs": [
    {
     "name": "stdout",
     "output_type": "stream",
     "text": [
      "GPU with most available memory set as default: 1\n"
     ]
    }
   ],
   "source": [
    "# Example usage\n",
    "gpu_idx = jax_set_best_gpu()\n",
    "print(f\"GPU with most available memory set as default: {gpu_idx}\")"
   ]
  },
  {
   "cell_type": "code",
   "execution_count": null,
   "metadata": {},
   "outputs": [],
   "source": [
    "#| export\n",
    "import numpy as np\n",
    "def kronecker_delta(\n",
    "        length, # length of array. If you pass an array or list, length is set to size of the first dimension.\n",
    "        idx=None # idx to make nonzero. If none, fills a random idx.\n",
    "        ):\n",
    "    \"\"\" returns np array of len with all zeroes except idx. \"\"\"\n",
    "    if not isinstance(length,int): length = len(length)\n",
    "    if idx is None: idx = np.random.randint(0,length)\n",
    "    x = np.zeros(length)\n",
    "    x[idx]=1\n",
    "    return x"
   ]
  },
  {
   "cell_type": "code",
   "execution_count": null,
   "metadata": {},
   "outputs": [],
   "source": [
    "#| export\n",
    "# For plotting 2D and 3D graphs\n",
    "import plotly\n",
    "import plotly.graph_objs as go\n",
    "import plotly.express as px\n",
    "import pandas as pd\n",
    "import matplotlib.pyplot as plt\n",
    "from mpl_toolkits import mplot3d\n",
    "\n",
    "def plot_3d(X,distribution=None, title=\"\",lim=None,use_plotly=False, zlim = None, colorbar = False, cmap=\"plasma\"):\n",
    "    if distribution is None:\n",
    "        distribution = np.zeros(len(X))\n",
    "    if lim is None:\n",
    "        lim = np.max(np.linalg.norm(X,axis=1))\n",
    "    if zlim is None:\n",
    "        zlim = lim\n",
    "    if use_plotly:\n",
    "        d = {'x':X[:,0],'y':X[:,1],'z':X[:,2],'colors':distribution}\n",
    "        df = pd.DataFrame(data=d)\n",
    "        fig = px.scatter_3d(df, x='x',y='y',z='z',color='colors', title=title, range_x=[-lim,lim], range_y=[-lim,lim],range_z=[-zlim,zlim])\n",
    "        fig.show()\n",
    "    else:\n",
    "        fig = plt.figure(figsize=(10,10))\n",
    "        ax = fig.add_subplot(111,projection='3d')\n",
    "        ax.axes.set_xlim3d(left=-lim, right=lim)\n",
    "        ax.axes.set_ylim3d(bottom=-lim, top=lim)\n",
    "        ax.axes.set_zlim3d(bottom=-zlim, top=zlim)\n",
    "        im = ax.scatter(X[:,0],X[:,1],X[:,2],c=distribution,cmap=cmap)\n",
    "        ax.set_title(title)\n",
    "        if colorbar: fig.colorbar(im, ax=ax)\n",
    "        plt.show()"
   ]
  },
  {
   "cell_type": "code",
   "execution_count": null,
   "metadata": {},
   "outputs": [],
   "source": [
    "#| export\n",
    "from fastcore.all import *\n",
    "from functools import partial\n",
    "from functools import wraps\n",
    "from concurrent.futures import ProcessPoolExecutor, ThreadPoolExecutor, as_completed\n",
    "import time\n",
    "from multiprocessing import Process,Queue,Manager,set_start_method,get_all_start_methods,get_context\n",
    "from threading import Thread\n",
    "from tqdm.notebook import trange, tqdm\n",
    "\n",
    "\n",
    "def perform_trials(\n",
    "                f,\n",
    "                n_trials=10, \n",
    "                n_workers=defaults.cpus - 2, \n",
    "                pause=0,\n",
    "                method=None,\n",
    "                threadpool=False,\n",
    "                **kwargs):\n",
    "    \"\"\"An adaptation of fastcore's parallel for running the same function multiple times.\"\"\"\n",
    "    futures = []\n",
    "    results = []\n",
    "    with ProcessPoolExecutor(n_workers) as ex:\n",
    "        for i in range(n_trials): \n",
    "            futures.append(ex.submit(f, **kwargs))\n",
    "        for future in tqdm(as_completed(futures)):\n",
    "            results.append(future.result())\n",
    "    return results"
   ]
  },
  {
   "cell_type": "code",
   "execution_count": null,
   "metadata": {},
   "outputs": [
    {
     "name": "stdout",
     "output_type": "stream",
     "text": [
      "finished future submissions\n"
     ]
    },
    {
     "data": {
      "application/vnd.jupyter.widget-view+json": {
       "model_id": "191815c532af46709ef134fc9e3ea100",
       "version_major": 2,
       "version_minor": 0
      },
      "text/plain": [
       "0it [00:00, ?it/s]"
      ]
     },
     "metadata": {},
     "output_type": "display_data"
    },
    {
     "name": "stdout",
     "output_type": "stream",
     "text": [
      "got a result 40\n",
      "got a result 40\n",
      "got a result 40\n",
      "got a result 40\n",
      "got a result 40\n",
      "got a result 40\n",
      "got a result 40\n",
      "got a result 40\n",
      "got a result 40\n",
      "got a result 40\n"
     ]
    },
    {
     "data": {
      "text/plain": [
       "[40, 40, 40, 40, 40, 40, 40, 40, 40, 40]"
      ]
     },
     "execution_count": null,
     "metadata": {},
     "output_type": "execute_result"
    }
   ],
   "source": [
    "def afn(a=9,b=3):\n",
    "    return a*b\n",
    "perform_trials(afn,n_trials=10,n_workers=2,a=4,b=10)"
   ]
  },
  {
   "cell_type": "code",
   "execution_count": null,
   "metadata": {},
   "outputs": [],
   "source": [
    "#|export\n",
    "import seaborn as sns\n",
    "import matplotlib.pyplot as plt\n",
    "\n",
    "def plot_array(ratios, xs=None, title=\"\"):\n",
    "    sns.set(style=\"darkgrid\")  # Set the seaborn style\n",
    "\n",
    "    # Create a figure and axes\n",
    "    fig, ax = plt.subplots()\n",
    "    # Compute the mean and standard deviation for the estimated array\n",
    "    mean_estimated = np.mean(ratios, axis=0)\n",
    "    std_estimated = np.std(ratios, axis=0)\n",
    "\n",
    "    # Plot estimated as a line with error bars\n",
    "    if xs is None:\n",
    "        ax.errorbar(np.arange(ratios.shape[1]), mean_estimated, yerr=std_estimated, label=\"Estimated\")\n",
    "    else:\n",
    "        ax.errorbar(xs, mean_estimated, yerr=std_estimated, label=\"Estimated\")\n",
    "\n",
    "    # Set the labels for x-axis and y-axis\n",
    "    ax.set_xlabel(\"Radius\")\n",
    "    ax.set_ylabel(\"Volume of n-sphere\")\n",
    "\n",
    "    # Set the title of the plot\n",
    "    ax.set_title(title)\n",
    "\n",
    "    # Display the legend\n",
    "    ax.legend()\n",
    "\n",
    "    # Show the plot\n",
    "    plt.show()"
   ]
  },
  {
   "cell_type": "code",
   "execution_count": null,
   "metadata": {},
   "outputs": [],
   "source": [
    "#|export\n",
    "# random array in jax\n",
    "import jax.random\n",
    "import random\n",
    "def random_jnparray(*shape):\n",
    "    key = random.randint(0,10000)\n",
    "    rng = jax.random.PRNGKey(key)\n",
    "    rng, subkey1, subkey2 = jax.random.split(rng, num=3)\n",
    "    rand_array = jax.random.uniform(subkey1,shape=shape)\n",
    "    return rand_array"
   ]
  },
  {
   "cell_type": "code",
   "execution_count": null,
   "metadata": {},
   "outputs": [],
   "source": [
    "#|export\n",
    "import numpy as np\n",
    "import torch\n",
    "import matplotlib.pyplot as plt\n",
    "# visualize the latent embedding space of a pytorch model, colored by a given vector\n",
    "def visualize_embedding(\n",
    "    model,\n",
    "    dataloader,\n",
    "    colors=None,\n",
    "    title = \"Embedded Points\"\n",
    "):\n",
    "    if colors is None:\n",
    "        colors = np.zeros(len(dataloader.dataset))\n",
    "    model.eval()\n",
    "\n",
    "    embeddings = model.encoder(dataloader.dataset.pointcloud).cpu().detach().numpy()\n",
    "    \n",
    "    plt.figure(figsize=(10, 10))\n",
    "    plt.scatter(embeddings[:, 0], embeddings[:, 1], c=colors, cmap=\"viridis\")\n",
    "    plt.title(title)\n",
    "    plt.colorbar()\n",
    "    plt.show()"
   ]
  },
  {
   "cell_type": "code",
   "execution_count": null,
   "metadata": {},
   "outputs": [],
   "source": [
    "#|export\n",
    "def printnum(number):\n",
    "    suffixes = ['th', 'st', 'nd', 'rd', 'th', 'th', 'th', 'th', 'th', 'th']\n",
    "    if 10 <= number % 100 <= 20:\n",
    "        suffix = 'th'\n",
    "    else:\n",
    "        suffix = suffixes[number % 10]\n",
    "    return f\"{number}{suffix}\""
   ]
  },
  {
   "cell_type": "code",
   "execution_count": 10,
   "metadata": {},
   "outputs": [
    {
     "data": {
      "application/javascript": [
       "IPython.notebook.save_checkpoint();"
      ],
      "text/plain": [
       "<IPython.core.display.Javascript object>"
      ]
     },
     "metadata": {},
     "output_type": "display_data"
    },
    {
     "name": "stdout",
     "output_type": "stream",
     "text": [
      "✨ \u001b[1mPixi task (\u001b[0m\u001b[32m\u001b[1mnbsync\u001b[0m in \u001b[35m\u001b[1mdefault\u001b[0m\u001b[1m): \u001b[0m\u001b[34m\u001b[1mnbdev_export\u001b[0m\u001b[33m\u001b[0m\n",
      "\u001b[2K\u001b[32m⠁\u001b[0m activating environment                                                                 "
     ]
    }
   ],
   "source": [
    "from IPython.display import display, Javascript\n",
    "import time\n",
    "display(Javascript('IPython.notebook.save_checkpoint();'))\n",
    "time.sleep(2)\n",
    "!pixi run nbsync"
   ]
  },
  {
   "cell_type": "code",
   "execution_count": null,
   "metadata": {},
   "outputs": [],
   "source": []
  }
 ],
 "metadata": {
  "kernelspec": {
   "display_name": "Python [conda env:zetteldev-diffcurv]",
   "language": "python",
   "name": "conda-env-zetteldev-diffcurv-py"
  },
  "language_info": {
   "codemirror_mode": {
    "name": "ipython",
    "version": 3
   },
   "file_extension": ".py",
   "mimetype": "text/x-python",
   "name": "python",
   "nbconvert_exporter": "python",
   "pygments_lexer": "ipython3",
   "version": "3.11.7"
  }
 },
 "nbformat": 4,
 "nbformat_minor": 4
}

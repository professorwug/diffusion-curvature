{
 "cells": [
  {
   "cell_type": "code",
   "execution_count": 1,
   "metadata": {},
   "outputs": [],
   "source": [
    "#|hide\n",
    "## Standard libraries\n",
    "import os\n",
    "import math\n",
    "import numpy as np\n",
    "import time\n",
    "from fastcore.all import *\n",
    "from nbdev.showdoc import *\n",
    "\n",
    "# Configure environment\n",
    "os.environ['XLA_PYTHON_CLIENT_PREALLOCATE']='false' # Tells Jax not to hog all of the memory to this process.\n",
    "import nest_asyncio\n",
    "nest_asyncio.apply()\n",
    "\n",
    "## Imports for plotting\n",
    "import matplotlib.pyplot as plt\n",
    "%matplotlib inline\n",
    "from IPython.display import set_matplotlib_formats\n",
    "# set_matplotlib_formats('svg', 'pdf') # For export\n",
    "from matplotlib.colors import to_rgba\n",
    "import seaborn as sns\n",
    "sns.set()\n",
    "\n",
    "## Progress bar\n",
    "from tqdm.auto import tqdm, trange\n",
    "\n",
    "from functools import partial\n",
    "\n",
    "## project specifics\n",
    "import diffusion_curvature\n",
    "import pygsp\n",
    "import jax\n",
    "import jax.numpy as jnp\n",
    "from diffusion_curvature.graphs import *\n",
    "from diffusion_curvature.datasets import *\n",
    "from diffusion_curvature.core import *\n",
    "from diffusion_curvature.utils import *\n",
    "from diffusion_curvature.comparison_space import *\n",
    "from diffusion_curvature.sadspheres import *\n",
    "from diffusion_curvature.kernels import *\n",
    "\n",
    "%load_ext autoreload\n",
    "%autoreload 2\n",
    "    \n",
    "jax.devices()\n",
    "jax.default_device = jax.devices(\"cpu\")"
   ]
  },
  {
   "cell_type": "markdown",
   "metadata": {},
   "source": [
    "# Sign Prediction Tests\n",
    "> Comparisons between Diffusion Curvature and the Competition"
   ]
  },
  {
   "cell_type": "markdown",
   "metadata": {},
   "source": []
  },
  {
   "cell_type": "markdown",
   "metadata": {},
   "source": [
    "**Hypothesis**: Stuff will happen"
   ]
  },
  {
   "cell_type": "markdown",
   "metadata": {},
   "source": [
    "# Machinery"
   ]
  },
  {
   "cell_type": "markdown",
   "metadata": {},
   "source": [
    "We'll perform the saddle-sphere ablations in several dimensions, then merge the metrics into a single table."
   ]
  },
  {
   "cell_type": "code",
   "execution_count": 2,
   "metadata": {},
   "outputs": [],
   "source": [
    "from diffusion_curvature.benchmarking.hickok import scalar_curvature_est "
   ]
  },
  {
   "cell_type": "code",
   "execution_count": 13,
   "metadata": {},
   "outputs": [],
   "source": [
    "SS_across_dims = []\n",
    "dims = [3,4,5]\n",
    "num_pointclouds = 20"
   ]
  },
  {
   "cell_type": "code",
   "execution_count": 15,
   "metadata": {},
   "outputs": [
    {
     "data": {
      "application/vnd.jupyter.widget-view+json": {
       "model_id": "a3c5b13eb4964639ab54862fa1b0f01c",
       "version_major": 2,
       "version_minor": 0
      },
      "text/plain": [
       "  0%|          | 0/20 [00:00<?, ?it/s]"
      ]
     },
     "metadata": {},
     "output_type": "display_data"
    }
   ],
   "source": [
    "dim = dims[0]\n",
    "SS1 = SadSpheres(\n",
    "    dimension = dim, # Dimension of saddles and spheres\n",
    "    num_pointclouds = num_pointclouds, # num pointclouds to make in total\n",
    "    num_points = 2000, # num points per pointclouds\n",
    "    noise_level = 0, # from 0 to 1. 1 is all noise.\n",
    "    include_planes=False,\n",
    ")\n",
    "graph_former = partial(get_curvature_agnostic_graph, k = dim*2, )\n",
    "for X in tqdm(SS1):\n",
    "    G = graph_former(X)\n",
    "    DC = DiffusionCurvature(\n",
    "        laziness_method=\"Wasserstein\",\n",
    "        flattening_method=\"Fixed\",\n",
    "        comparison_method=\"Ollivier\",\n",
    "        graph_former = graph_former,\n",
    "        points_per_cluster=None,  # construct separate comparison spaces around each point\n",
    "        comparison_space_size_factor=1,\n",
    "    )\n",
    "    ks = DC.curvature(G, dim = dim, t = 25)\n",
    "    SS1.update(ks[0], method_name=\"Diffusion Curvature (Entropic)\")\n",
    "\n",
    "    DC = DiffusionCurvature(\n",
    "        laziness_method=\"Entropic\",\n",
    "        flattening_method=\"Fixed\",\n",
    "        comparison_method=\"Subtraction\",\n",
    "        graph_former = graph_former,\n",
    "        points_per_cluster=None,  # construct separate comparison spaces around each point\n",
    "        comparison_space_size_factor=1,\n",
    "    )\n",
    "    ks = DC.curvature(G, dim = dim, t = 25)\n",
    "    SS1.update(ks[0], method_name=\"Diffusion Curvature (Wasserstein)\")\n",
    "    \n",
    "    # SC = scalar_curvature_est(\n",
    "    #     n = dim, #manifold dim\n",
    "    #     X = X, #data\n",
    "    #     verbose=False,\n",
    "    # )\n",
    "    # ks_est = SC.estimate(rmax=2, indices=[0])\n",
    "    # SS1.update(ks_est[0], method_name=\"Hickok\")\n",
    "SS1.table()\n",
    "SS_across_dims.append(SS1)"
   ]
  },
  {
   "cell_type": "code",
   "execution_count": 16,
   "metadata": {},
   "outputs": [
    {
     "data": {
      "application/vnd.jupyter.widget-view+json": {
       "model_id": "db5d4a6b59594b02933b6b6c9ce0112a",
       "version_major": 2,
       "version_minor": 0
      },
      "text/plain": [
       "  0%|          | 0/20 [00:00<?, ?it/s]"
      ]
     },
     "metadata": {},
     "output_type": "display_data"
    }
   ],
   "source": [
    "dim = dims[1]\n",
    "SS2 = SadSpheres(\n",
    "    dimension = dim, # Dimension of saddles and spheres\n",
    "    num_pointclouds = num_pointclouds, # num pointclouds to make in total\n",
    "    num_points = 2000, # num points per pointclouds\n",
    "    noise_level = 0, # from 0 to 1. 1 is all noise.\n",
    "    include_planes=False,\n",
    ")\n",
    "graph_former = partial(fixed_graph_former, alpha=1, sigma=0.2)\n",
    "for X in tqdm(SS2):\n",
    "    G = graph_former(X)\n",
    "    DC = DiffusionCurvature(\n",
    "        laziness_method=\"Wasserstein\",\n",
    "        flattening_method=\"Fixed\",\n",
    "        comparison_method=\"Ollivier\",\n",
    "        graph_former = graph_former,\n",
    "    )\n",
    "    ks = DC.curvature(G, dim = dim, t = 25)\n",
    "    SS2.update(ks[0], method_name=\"Diffusion Curvature\")\n",
    "    \n",
    "    SC = scalar_curvature_est(\n",
    "        n = dim, #manifold dim\n",
    "        X = X, #data\n",
    "        verbose=False,\n",
    "    )\n",
    "    ks_est = SC.estimate(rmax=2, indices=[0])\n",
    "    SS2.update(ks_est[0], method_name=\"Hickok\")\n",
    "SS2.table()\n",
    "SS_across_dims.append(SS2)"
   ]
  },
  {
   "cell_type": "code",
   "execution_count": 7,
   "metadata": {},
   "outputs": [
    {
     "data": {
      "application/vnd.jupyter.widget-view+json": {
       "model_id": "cd0a7599ed8b4fa5912c4353790a4941",
       "version_major": 2,
       "version_minor": 0
      },
      "text/plain": [
       "  0%|          | 0/20 [00:00<?, ?it/s]"
      ]
     },
     "metadata": {},
     "output_type": "display_data"
    }
   ],
   "source": [
    "dim = dims[2]\n",
    "SS3 = SadSpheres(\n",
    "    dimension = dim, # Dimension of saddles and spheres\n",
    "    num_pointclouds = num_pointclouds, # num pointclouds to make in total\n",
    "    num_points = 2000, # num points per pointclouds\n",
    "    noise_level = 0, # from 0 to 1. 1 is all noise.\n",
    "    include_planes=False,\n",
    ")\n",
    "graph_former = partial(fixed_graph_former, alpha=1, sigma=0.2)\n",
    "for X in tqdm(SS3):\n",
    "    G = graph_former(X)\n",
    "    DC = DiffusionCurvature(\n",
    "        laziness_method=\"Wasserstein\",\n",
    "        flattening_method=\"Fixed\",\n",
    "        comparison_method=\"Ollivier\",\n",
    "        graph_former = graph_former,\n",
    "    )\n",
    "    ks = DC.curvature(G, dim = dim, t = 25)\n",
    "    SS3.update(ks[0], method_name=\"Diffusion Curvature\")\n",
    "    \n",
    "    SC = scalar_curvature_est(\n",
    "        n = dim, #manifold dim\n",
    "        X = X, #data\n",
    "        verbose=False,\n",
    "    )\n",
    "    ks_est = SC.estimate(rmax=2, indices=[0])\n",
    "    SS3.update(ks_est[0], method_name=\"Hickok\")\n",
    "SS3.table()\n",
    "SS_across_dims.append(SS3)"
   ]
  },
  {
   "cell_type": "code",
   "execution_count": 17,
   "metadata": {},
   "outputs": [
    {
     "data": {
      "text/html": [
       "<div>\n",
       "<style scoped>\n",
       "    .dataframe tbody tr th:only-of-type {\n",
       "        vertical-align: middle;\n",
       "    }\n",
       "\n",
       "    .dataframe tbody tr th {\n",
       "        vertical-align: top;\n",
       "    }\n",
       "\n",
       "    .dataframe thead th {\n",
       "        text-align: right;\n",
       "    }\n",
       "</style>\n",
       "<table border=\"1\" class=\"dataframe\">\n",
       "  <thead>\n",
       "    <tr style=\"text-align: right;\">\n",
       "      <th></th>\n",
       "      <th>pearson_r</th>\n",
       "      <th>sign_score</th>\n",
       "    </tr>\n",
       "  </thead>\n",
       "  <tbody>\n",
       "    <tr>\n",
       "      <th>ks</th>\n",
       "      <td>(1.0, 0.0)</td>\n",
       "      <td>0.693147</td>\n",
       "    </tr>\n",
       "    <tr>\n",
       "      <th>Diffusion Curvature</th>\n",
       "      <td>(0.9984105720715597, 6.112610445808439e-24)</td>\n",
       "      <td>0.693147</td>\n",
       "    </tr>\n",
       "    <tr>\n",
       "      <th>Hickok</th>\n",
       "      <td>(0.998019278582181, 4.4244318564697817e-23)</td>\n",
       "      <td>0.000000</td>\n",
       "    </tr>\n",
       "  </tbody>\n",
       "</table>\n",
       "</div>"
      ],
      "text/plain": [
       "                                                       pearson_r  sign_score\n",
       "ks                                                    (1.0, 0.0)    0.693147\n",
       "Diffusion Curvature  (0.9984105720715597, 6.112610445808439e-24)    0.693147\n",
       "Hickok               (0.998019278582181, 4.4244318564697817e-23)    0.000000"
      ]
     },
     "execution_count": 17,
     "metadata": {},
     "output_type": "execute_result"
    }
   ],
   "source": [
    "SS1.table()"
   ]
  },
  {
   "cell_type": "code",
   "execution_count": 18,
   "metadata": {},
   "outputs": [
    {
     "data": {
      "text/html": [
       "<div>\n",
       "<style scoped>\n",
       "    .dataframe tbody tr th:only-of-type {\n",
       "        vertical-align: middle;\n",
       "    }\n",
       "\n",
       "    .dataframe tbody tr th {\n",
       "        vertical-align: top;\n",
       "    }\n",
       "\n",
       "    .dataframe thead th {\n",
       "        text-align: right;\n",
       "    }\n",
       "</style>\n",
       "<table border=\"1\" class=\"dataframe\">\n",
       "  <thead>\n",
       "    <tr style=\"text-align: right;\">\n",
       "      <th></th>\n",
       "      <th>pearson_r</th>\n",
       "      <th>sign_score</th>\n",
       "    </tr>\n",
       "  </thead>\n",
       "  <tbody>\n",
       "    <tr>\n",
       "      <th>ks</th>\n",
       "      <td>(1.0, 0.0)</td>\n",
       "      <td>0.693147</td>\n",
       "    </tr>\n",
       "    <tr>\n",
       "      <th>Diffusion Curvature</th>\n",
       "      <td>(0.996714712386192, 4.183748916786387e-21)</td>\n",
       "      <td>0.693147</td>\n",
       "    </tr>\n",
       "    <tr>\n",
       "      <th>Hickok</th>\n",
       "      <td>(0.9821843344795909, 1.609923177144267e-14)</td>\n",
       "      <td>0.000000</td>\n",
       "    </tr>\n",
       "  </tbody>\n",
       "</table>\n",
       "</div>"
      ],
      "text/plain": [
       "                                                       pearson_r  sign_score\n",
       "ks                                                    (1.0, 0.0)    0.693147\n",
       "Diffusion Curvature   (0.996714712386192, 4.183748916786387e-21)    0.693147\n",
       "Hickok               (0.9821843344795909, 1.609923177144267e-14)    0.000000"
      ]
     },
     "execution_count": 18,
     "metadata": {},
     "output_type": "execute_result"
    }
   ],
   "source": [
    "SS2.table()"
   ]
  },
  {
   "cell_type": "code",
   "execution_count": 19,
   "metadata": {},
   "outputs": [
    {
     "data": {
      "text/html": [
       "<div>\n",
       "<style scoped>\n",
       "    .dataframe tbody tr th:only-of-type {\n",
       "        vertical-align: middle;\n",
       "    }\n",
       "\n",
       "    .dataframe tbody tr th {\n",
       "        vertical-align: top;\n",
       "    }\n",
       "\n",
       "    .dataframe thead th {\n",
       "        text-align: right;\n",
       "    }\n",
       "</style>\n",
       "<table border=\"1\" class=\"dataframe\">\n",
       "  <thead>\n",
       "    <tr style=\"text-align: right;\">\n",
       "      <th></th>\n",
       "      <th>pearson_r</th>\n",
       "      <th>sign_score</th>\n",
       "    </tr>\n",
       "  </thead>\n",
       "  <tbody>\n",
       "    <tr>\n",
       "      <th>ks</th>\n",
       "      <td>(1.0, 0.0)</td>\n",
       "      <td>0.693147</td>\n",
       "    </tr>\n",
       "    <tr>\n",
       "      <th>Diffusion Curvature</th>\n",
       "      <td>(0.9974141408831724, 4.863441066514706e-22)</td>\n",
       "      <td>0.693147</td>\n",
       "    </tr>\n",
       "    <tr>\n",
       "      <th>Hickok</th>\n",
       "      <td>(0.719893584221904, 0.0003451575770241438)</td>\n",
       "      <td>0.000000</td>\n",
       "    </tr>\n",
       "  </tbody>\n",
       "</table>\n",
       "</div>"
      ],
      "text/plain": [
       "                                                       pearson_r  sign_score\n",
       "ks                                                    (1.0, 0.0)    0.693147\n",
       "Diffusion Curvature  (0.9974141408831724, 4.863441066514706e-22)    0.693147\n",
       "Hickok                (0.719893584221904, 0.0003451575770241438)    0.000000"
      ]
     },
     "execution_count": 19,
     "metadata": {},
     "output_type": "execute_result"
    }
   ],
   "source": [
    "SS3.table()"
   ]
  },
  {
   "cell_type": "code",
   "execution_count": 25,
   "metadata": {},
   "outputs": [
    {
     "ename": "IndexError",
     "evalue": "list index out of range",
     "output_type": "error",
     "traceback": [
      "\u001b[0;31m---------------------------------------------------------------------------\u001b[0m",
      "\u001b[0;31mIndexError\u001b[0m                                Traceback (most recent call last)",
      "Cell \u001b[0;32mIn[25], line 1\u001b[0m\n\u001b[0;32m----> 1\u001b[0m \u001b[43mSS_across_dims\u001b[49m\u001b[43m[\u001b[49m\u001b[38;5;241;43m-\u001b[39;49m\u001b[38;5;241;43m3\u001b[39;49m\u001b[43m]\u001b[49m\u001b[38;5;241m.\u001b[39mplot()\n",
      "\u001b[0;31mIndexError\u001b[0m: list index out of range"
     ]
    }
   ],
   "source": [
    "SS_across_dims[-3].plot()"
   ]
  },
  {
   "cell_type": "code",
   "execution_count": 26,
   "metadata": {},
   "outputs": [
    {
     "data": {
      "image/png": "[encoded data removed]",
      "text/plain": [
       "<Figure size 640x480 with 1 Axes>"
      ]
     },
     "metadata": {},
     "output_type": "display_data"
    },
    {
     "data": {
      "image/png": "[encoded data removed]",
      "text/plain": [
       "<Figure size 640x480 with 1 Axes>"
      ]
     },
     "metadata": {},
     "output_type": "display_data"
    }
   ],
   "source": [
    "SS2.plot()"
   ]
  },
  {
   "cell_type": "code",
   "execution_count": 24,
   "metadata": {},
   "outputs": [
    {
     "ename": "IndexError",
     "evalue": "list index out of range",
     "output_type": "error",
     "traceback": [
      "\u001b[0;31m---------------------------------------------------------------------------\u001b[0m",
      "\u001b[0;31mIndexError\u001b[0m                                Traceback (most recent call last)",
      "Cell \u001b[0;32mIn[24], line 1\u001b[0m\n\u001b[0;32m----> 1\u001b[0m \u001b[43mSS_across_dims\u001b[49m\u001b[43m[\u001b[49m\u001b[38;5;241;43m-\u001b[39;49m\u001b[38;5;241;43m3\u001b[39;49m\u001b[43m]\u001b[49m\u001b[38;5;241m.\u001b[39mplot()\n",
      "\u001b[0;31mIndexError\u001b[0m: list index out of range"
     ]
    }
   ],
   "source": [
    "SS_across_dims[-3].plot()"
   ]
  },
  {
   "cell_type": "code",
   "execution_count": 53,
   "metadata": {},
   "outputs": [
    {
     "data": {
      "text/plain": [
       "20"
      ]
     },
     "execution_count": 53,
     "metadata": {},
     "output_type": "execute_result"
    }
   ],
   "source": [
    "len(SS)"
   ]
  },
  {
   "cell_type": "markdown",
   "metadata": {},
   "source": [
    "# Results"
   ]
  },
  {
   "cell_type": "markdown",
   "metadata": {},
   "source": [
    "We want to merge the dataframes of each dimension, and display them as a unified table."
   ]
  },
  {
   "cell_type": "code",
   "execution_count": 20,
   "metadata": {},
   "outputs": [],
   "source": [
    "SSs = [SS1, SS2, SS3]"
   ]
  },
  {
   "cell_type": "code",
   "execution_count": 21,
   "metadata": {},
   "outputs": [
    {
     "data": {
      "text/html": [
       "<style type=\"text/css\">\n",
       "#T_69a42 th {\n",
       "  background: #606060;\n",
       "  color: white;\n",
       "  font-family: verdana;\n",
       "}\n",
       "#T_69a42 td {\n",
       "  font-family: verdana;\n",
       "}\n",
       "#T_69a42 tr:nth-of-type(odd) {\n",
       "  background: #f9f9f9;\n",
       "}\n",
       "#T_69a42 tr:nth-of-type(even) {\n",
       "  background: white;\n",
       "}\n",
       "#T_69a42 tr:hover {\n",
       "  background-color: #f4f4f4;\n",
       "}\n",
       "</style>\n",
       "<table id=\"T_69a42\">\n",
       "  <thead>\n",
       "    <tr>\n",
       "      <th class=\"blank level0\" >&nbsp;</th>\n",
       "      <th id=\"T_69a42_level0_col0\" class=\"col_heading level0 col0\" >pearson_r</th>\n",
       "      <th id=\"T_69a42_level0_col1\" class=\"col_heading level0 col1\" >sign_score</th>\n",
       "    </tr>\n",
       "  </thead>\n",
       "  <tbody>\n",
       "    <tr>\n",
       "      <th id=\"T_69a42_level0_row0\" class=\"row_heading level0 row0\" >ks</th>\n",
       "      <td id=\"T_69a42_row0_col0\" class=\"data row0 col0\" >PearsonRResult(statistic=1.0, pvalue=0.0)</td>\n",
       "      <td id=\"T_69a42_row0_col1\" class=\"data row0 col1\" >0.693147</td>\n",
       "    </tr>\n",
       "    <tr>\n",
       "      <th id=\"T_69a42_level0_row1\" class=\"row_heading level0 row1\" >Diffusion Curvature</th>\n",
       "      <td id=\"T_69a42_row1_col0\" class=\"data row1 col0\" >PearsonRResult(statistic=0.9984105720715597, pvalue=6.112610445808439e-24)</td>\n",
       "      <td id=\"T_69a42_row1_col1\" class=\"data row1 col1\" >0.693147</td>\n",
       "    </tr>\n",
       "    <tr>\n",
       "      <th id=\"T_69a42_level0_row2\" class=\"row_heading level0 row2\" >Hickok</th>\n",
       "      <td id=\"T_69a42_row2_col0\" class=\"data row2 col0\" >PearsonRResult(statistic=0.998019278582181, pvalue=4.4244318564697817e-23)</td>\n",
       "      <td id=\"T_69a42_row2_col1\" class=\"data row2 col1\" >0.000000</td>\n",
       "    </tr>\n",
       "    <tr>\n",
       "      <th id=\"T_69a42_level0_row3\" class=\"row_heading level0 row3\" >ks</th>\n",
       "      <td id=\"T_69a42_row3_col0\" class=\"data row3 col0\" >PearsonRResult(statistic=1.0, pvalue=0.0)</td>\n",
       "      <td id=\"T_69a42_row3_col1\" class=\"data row3 col1\" >0.693147</td>\n",
       "    </tr>\n",
       "    <tr>\n",
       "      <th id=\"T_69a42_level0_row4\" class=\"row_heading level0 row4\" >Diffusion Curvature</th>\n",
       "      <td id=\"T_69a42_row4_col0\" class=\"data row4 col0\" >PearsonRResult(statistic=0.996714712386192, pvalue=4.183748916786387e-21)</td>\n",
       "      <td id=\"T_69a42_row4_col1\" class=\"data row4 col1\" >0.693147</td>\n",
       "    </tr>\n",
       "    <tr>\n",
       "      <th id=\"T_69a42_level0_row5\" class=\"row_heading level0 row5\" >Hickok</th>\n",
       "      <td id=\"T_69a42_row5_col0\" class=\"data row5 col0\" >PearsonRResult(statistic=0.9821843344795909, pvalue=1.609923177144267e-14)</td>\n",
       "      <td id=\"T_69a42_row5_col1\" class=\"data row5 col1\" >0.000000</td>\n",
       "    </tr>\n",
       "    <tr>\n",
       "      <th id=\"T_69a42_level0_row6\" class=\"row_heading level0 row6\" >ks</th>\n",
       "      <td id=\"T_69a42_row6_col0\" class=\"data row6 col0\" >PearsonRResult(statistic=1.0, pvalue=0.0)</td>\n",
       "      <td id=\"T_69a42_row6_col1\" class=\"data row6 col1\" >0.693147</td>\n",
       "    </tr>\n",
       "    <tr>\n",
       "      <th id=\"T_69a42_level0_row7\" class=\"row_heading level0 row7\" >Diffusion Curvature</th>\n",
       "      <td id=\"T_69a42_row7_col0\" class=\"data row7 col0\" >PearsonRResult(statistic=0.9974141408831724, pvalue=4.863441066514706e-22)</td>\n",
       "      <td id=\"T_69a42_row7_col1\" class=\"data row7 col1\" >0.693147</td>\n",
       "    </tr>\n",
       "    <tr>\n",
       "      <th id=\"T_69a42_level0_row8\" class=\"row_heading level0 row8\" >Hickok</th>\n",
       "      <td id=\"T_69a42_row8_col0\" class=\"data row8 col0\" >PearsonRResult(statistic=0.719893584221904, pvalue=0.0003451575770241438)</td>\n",
       "      <td id=\"T_69a42_row8_col1\" class=\"data row8 col1\" >0.000000</td>\n",
       "    </tr>\n",
       "  </tbody>\n",
       "</table>\n"
      ],
      "text/plain": [
       "<pandas.io.formats.style.Styler at 0x717b9cd0e350>"
      ]
     },
     "execution_count": 21,
     "metadata": {},
     "output_type": "execute_result"
    }
   ],
   "source": [
    "import pandas as pd\n",
    "dfs = [SS.table() for SS in SSs]\n",
    "df = pd.concat(dfs)\n",
    "# show nicely styled table\n",
    "df.style.set_table_styles(\n",
    "    [{'selector': 'th',\n",
    "      'props': [('background', '#606060'),\n",
    "                ('color', 'white'),\n",
    "                ('font-family', 'verdana')]},\n",
    "     {'selector': 'td',\n",
    "      'props': [('font-family', 'verdana')]},\n",
    "     {'selector': 'tr:nth-of-type(odd)',\n",
    "      'props': [('background', '#f9f9f9')]},\n",
    "     {'selector': 'tr:nth-of-type(even)',\n",
    "      'props': [('background', 'white')]},\n",
    "     {'selector': 'tr:hover',\n",
    "      'props': [('background-color', '#f4f4f4')]}\n",
    "    ]\n",
    ")\n"
   ]
  },
  {
   "cell_type": "code",
   "execution_count": 22,
   "metadata": {},
   "outputs": [
    {
     "data": {
      "text/html": [
       "<style type=\"text/css\">\n",
       "#T_e1b24 th {\n",
       "  background: #606060;\n",
       "  color: white;\n",
       "  font-family: verdana;\n",
       "}\n",
       "#T_e1b24 td {\n",
       "  font-family: verdana;\n",
       "}\n",
       "#T_e1b24 tr:nth-of-type(odd) {\n",
       "  background: #f9f9f9;\n",
       "}\n",
       "#T_e1b24 tr:nth-of-type(even) {\n",
       "  background: white;\n",
       "}\n",
       "#T_e1b24 tr:hover {\n",
       "  background-color: #f4f4f4;\n",
       "}\n",
       "</style>\n",
       "<table id=\"T_e1b24\">\n",
       "  <thead>\n",
       "    <tr>\n",
       "      <th class=\"blank level0\" >&nbsp;</th>\n",
       "      <th id=\"T_e1b24_level0_col0\" class=\"col_heading level0 col0\" >ks</th>\n",
       "      <th id=\"T_e1b24_level0_col1\" class=\"col_heading level0 col1\" >Diffusion Curvature</th>\n",
       "      <th id=\"T_e1b24_level0_col2\" class=\"col_heading level0 col2\" >Hickok</th>\n",
       "      <th id=\"T_e1b24_level0_col3\" class=\"col_heading level0 col3\" >ks</th>\n",
       "      <th id=\"T_e1b24_level0_col4\" class=\"col_heading level0 col4\" >Diffusion Curvature</th>\n",
       "      <th id=\"T_e1b24_level0_col5\" class=\"col_heading level0 col5\" >Hickok</th>\n",
       "      <th id=\"T_e1b24_level0_col6\" class=\"col_heading level0 col6\" >ks</th>\n",
       "      <th id=\"T_e1b24_level0_col7\" class=\"col_heading level0 col7\" >Diffusion Curvature</th>\n",
       "      <th id=\"T_e1b24_level0_col8\" class=\"col_heading level0 col8\" >Hickok</th>\n",
       "    </tr>\n",
       "  </thead>\n",
       "  <tbody>\n",
       "    <tr>\n",
       "      <th id=\"T_e1b24_level0_row0\" class=\"row_heading level0 row0\" >pearson_r</th>\n",
       "      <td id=\"T_e1b24_row0_col0\" class=\"data row0 col0\" >PearsonRResult(statistic=1.0, pvalue=0.0)</td>\n",
       "      <td id=\"T_e1b24_row0_col1\" class=\"data row0 col1\" >PearsonRResult(statistic=0.9984105720715597, pvalue=6.112610445808439e-24)</td>\n",
       "      <td id=\"T_e1b24_row0_col2\" class=\"data row0 col2\" >PearsonRResult(statistic=0.998019278582181, pvalue=4.4244318564697817e-23)</td>\n",
       "      <td id=\"T_e1b24_row0_col3\" class=\"data row0 col3\" >PearsonRResult(statistic=1.0, pvalue=0.0)</td>\n",
       "      <td id=\"T_e1b24_row0_col4\" class=\"data row0 col4\" >PearsonRResult(statistic=0.996714712386192, pvalue=4.183748916786387e-21)</td>\n",
       "      <td id=\"T_e1b24_row0_col5\" class=\"data row0 col5\" >PearsonRResult(statistic=0.9821843344795909, pvalue=1.609923177144267e-14)</td>\n",
       "      <td id=\"T_e1b24_row0_col6\" class=\"data row0 col6\" >PearsonRResult(statistic=1.0, pvalue=0.0)</td>\n",
       "      <td id=\"T_e1b24_row0_col7\" class=\"data row0 col7\" >PearsonRResult(statistic=0.9974141408831724, pvalue=4.863441066514706e-22)</td>\n",
       "      <td id=\"T_e1b24_row0_col8\" class=\"data row0 col8\" >PearsonRResult(statistic=0.719893584221904, pvalue=0.0003451575770241438)</td>\n",
       "    </tr>\n",
       "    <tr>\n",
       "      <th id=\"T_e1b24_level0_row1\" class=\"row_heading level0 row1\" >sign_score</th>\n",
       "      <td id=\"T_e1b24_row1_col0\" class=\"data row1 col0\" >0.693147</td>\n",
       "      <td id=\"T_e1b24_row1_col1\" class=\"data row1 col1\" >0.693147</td>\n",
       "      <td id=\"T_e1b24_row1_col2\" class=\"data row1 col2\" >0.000000</td>\n",
       "      <td id=\"T_e1b24_row1_col3\" class=\"data row1 col3\" >0.693147</td>\n",
       "      <td id=\"T_e1b24_row1_col4\" class=\"data row1 col4\" >0.693147</td>\n",
       "      <td id=\"T_e1b24_row1_col5\" class=\"data row1 col5\" >0.000000</td>\n",
       "      <td id=\"T_e1b24_row1_col6\" class=\"data row1 col6\" >0.693147</td>\n",
       "      <td id=\"T_e1b24_row1_col7\" class=\"data row1 col7\" >0.693147</td>\n",
       "      <td id=\"T_e1b24_row1_col8\" class=\"data row1 col8\" >0.000000</td>\n",
       "    </tr>\n",
       "  </tbody>\n",
       "</table>\n"
      ],
      "text/plain": [
       "<pandas.io.formats.style.Styler at 0x717b9cdcabd0>"
      ]
     },
     "execution_count": 22,
     "metadata": {},
     "output_type": "execute_result"
    }
   ],
   "source": [
    "# plot a table of the above with rows and columns flipped\n",
    "df.T.style.set_table_styles(\n",
    "    [{'selector': 'th',\n",
    "      'props': [('background', '#606060'),\n",
    "                ('color', 'white'),\n",
    "                ('font-family', 'verdana')]},\n",
    "     {'selector': 'td',\n",
    "      'props': [('font-family', 'verdana')]},\n",
    "     {'selector': 'tr:nth-of-type(odd)',\n",
    "      'props': [('background', '#f9f9f9')]},\n",
    "     {'selector': 'tr:nth-of-type(even)',\n",
    "      'props': [('background', 'white')]},\n",
    "     {'selector': 'tr:hover',\n",
    "      'props': [('background-color', '#f4f4f4')]}\n",
    "    ]\n",
    ")"
   ]
  },
  {
   "cell_type": "markdown",
   "metadata": {},
   "source": [
    "# Conclusion"
   ]
  },
  {
   "cell_type": "code",
   "execution_count": null,
   "metadata": {},
   "outputs": [],
   "source": []
  }
 ],
 "metadata": {
  "kernelspec": {
   "display_name": "Python 3 (ipykernel)",
   "language": "python",
   "name": "python3"
  },
  "language_info": {
   "codemirror_mode": {
    "name": "ipython",
    "version": 3
   },
   "file_extension": ".py",
   "mimetype": "text/x-python",
   "name": "python",
   "nbconvert_exporter": "python",
   "pygments_lexer": "ipython3",
   "version": "3.11.6"
  }
 },
 "nbformat": 4,
 "nbformat_minor": 4
}

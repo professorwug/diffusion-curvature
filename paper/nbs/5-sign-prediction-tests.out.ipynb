{
  "cells": [
    {
      "cell_type": "markdown",
      "metadata": {},
      "source": [
        "# Sign Prediction Tests\n",
        "\n",
        "::: {#cell-1 .cell 0=‘d’ 1=‘e’ 2=‘f’ 3=‘a’ 4=‘u’ 5=‘l’ 6=‘t’ 7=‘*’ 8=’e’\n",
        "9=’x’ 10=’p’ 11=’ ’ 12=’b’ 13=’e’ 14=’n’ 15=’c’ 16=’h’ 17=’m’ 18=’a’\n",
        "19=’r’ 20=’k’ 21=’i’ 22=’n’ 23=’g’ 24=’.’ 25=’s’ 26=’i’ 27=’g’ 28=’n’\n",
        "29=’*’ 30=‘p’ 31=‘r’ 32=‘e’ 33=‘d’ 34=‘i’ 35=‘c’ 36=‘t’ 37=‘i’ 38=‘o’\n",
        "39=‘n’ 40=’ ’ 41=‘h’ 42=‘i’ 43=‘d’ 44=‘e’ execution_count=3}\n",
        "\n",
        "``` python\n",
        "## Standard libraries\n",
        "import os\n",
        "import math\n",
        "import numpy as np\n",
        "import time\n",
        "from fastcore.all import *\n",
        "from nbdev.showdoc import *\n",
        "\n",
        "# Configure environment\n",
        "os.environ['XLA_PYTHON_CLIENT_PREALLOCATE']='false' # Tells Jax not to hog all of the memory to this process.\n",
        "import nest_asyncio\n",
        "nest_asyncio.apply()\n",
        "\n",
        "## Imports for plotting\n",
        "import matplotlib.pyplot as plt\n",
        "%matplotlib inline\n",
        "from IPython.display import set_matplotlib_formats\n",
        "# set_matplotlib_formats('svg', 'pdf') # For export\n",
        "from matplotlib.colors import to_rgba\n",
        "import seaborn as sns\n",
        "sns.set()\n",
        "\n",
        "## Progress bar\n",
        "from tqdm.auto import tqdm, trange\n",
        "\n",
        "from functools import partial\n",
        "\n",
        "## project specifics\n",
        "import diffusion_curvature\n",
        "import pygsp\n",
        "import jax\n",
        "import jax.numpy as jnp\n",
        "from diffusion_curvature.graphs import *\n",
        "from diffusion_curvature.datasets import *\n",
        "from diffusion_curvature.core import *\n",
        "from diffusion_curvature.utils import *\n",
        "# from diffusion_curvature.comparison_space import *\n",
        "from diffusion_curvature.sadspheres import *\n",
        "from diffusion_curvature.kernels import *\n",
        "\n",
        "%load_ext autoreload\n",
        "%autoreload 2\n",
        "    \n",
        "jax.devices()\n",
        "# jax.default_device = jax.devices(\"cpu\")\n",
        "```\n",
        "\n",
        "    [cuda(id=0), cuda(id=1)]\n",
        "\n",
        ":::\n",
        "\n",
        "> Comparisons between Diffusion Curvature and the Competition\n",
        "\n",
        "Here we employ saddles and spheres of increasing dimension to test our\n",
        "model’s ability to detect sign.\n",
        "\n",
        "# Machinery\n",
        "\n",
        "::: {#cell-5 .cell 0=‘e’ 1=‘x’ 2=‘p’ 3=‘o’ 4=‘r’ 5=‘t’\n",
        "execution_count=4}\n",
        "\n",
        "``` python\n",
        "dims = [2, 3, 4, 5, 6]\n",
        "num_pointclouds = 20\n",
        "```\n",
        "\n",
        ":::\n",
        "\n",
        "::: {#cell-6 .cell 0=‘e’ 1=‘x’ 2=‘p’ 3=‘o’ 4=‘r’ 5=‘t’\n",
        "execution_count=9}\n",
        "\n",
        "``` python\n",
        "from tqdm.auto import tqdm, trange\n",
        "from fastcore.all import *\n",
        "import diffusion_curvature\n",
        "import pygsp\n",
        "import jax\n",
        "import jax.numpy as jnp\n",
        "from diffusion_curvature.graphs import *\n",
        "from diffusion_curvature.datasets import *\n",
        "from diffusion_curvature.core import *\n",
        "from diffusion_curvature.utils import *\n",
        "# from diffusion_curvature.comparison_space import *\n",
        "from diffusion_curvature.sadspheres import *\n",
        "from diffusion_curvature.kernels import *\n",
        "from diffusion_curvature.kernels import tune_curvature_agnostic_kernel\n",
        "\n",
        "method_name = \"Diffusion Curvature\"\n",
        "\n",
        "def run_sadspheres(\n",
        "):\n",
        "    SS1 = SadSpheres(\n",
        "        dimension = dims, # Dimension of saddles and spheres\n",
        "        num_pointclouds = num_pointclouds, # num pointclouds to make in total\n",
        "        num_points = 2000, # num points per pointclouds\n",
        "        noise_level = 0, # from 0 to 1. 1 is all noise.\n",
        "        include_planes=True,\n",
        "    )\n",
        "    known_dim_bandwidths = {}\n",
        "    if method_name in SS1.imported_methods:\n",
        "        return SS1\n",
        "    for X in tqdm(SS1):\n",
        "        dim = X.shape[1] - 1\n",
        "        if dim not in known_dim_bandwidths.keys():\n",
        "            kernel, ns = tune_curvature_agnostic_kernel(X, 120, tolerance = 5, max_iterations = 100, alpha = 0)\n",
        "            known_dim_bandwidths[dim] = kernel\n",
        "        DC = DiffusionCurvature2(\n",
        "            graph_former = known_dim_bandwidths[dim],\n",
        "            comparison_space_trials = 10,\n",
        "        )\n",
        "        ks = DC.fit(X, dim = X.shape[1] - 1, idx = 0, ts = list(range(1,84)))\n",
        "        SS1.update(ks.item(), method_name = method_name)\n",
        "    SS1.save_results()\n",
        "    return SS1\n",
        "```\n",
        "\n",
        ":::"
      ],
      "id": "6ed743dd-1831-4248-ad4a-bdfc433a0990"
    },
    {
      "cell_type": "code",
      "execution_count": 10,
      "metadata": {},
      "outputs": [
        {
          "output_type": "stream",
          "name": "stdout",
          "text": [
            "Loaded evaluations on methods ['ground truth', 'Diffusion Curvature (Entropic)', 'Diffusion Curvature (Wasserstein)', 'Hickok & Blumberg', 'Diffusion Curvature (Trajectory Normalized w/ Anisotropy)', 'Diffusion Curvature (Trajectory Normalized w/ Smaller Bandwidth)', 'Diffusion Curvature (TN w/ k = 1 consistent adaptive n 18 t 84)', 'Diffusion Curvature (TN w/ k = 1 consistent adaptive n 40 t 84)', 'Diffusion Curvature (TN w/ k = 1 consistent adaptive n 80 t 84)', 'Diffusion Curvature (TN w/ k = 1 consistent adaptive n 120 t 84)', 'Diffusion Curvature (TN w/ ca n 120 t 84 trials 10)']"
          ]
        },
        {
          "output_type": "display_data",
          "metadata": {},
          "data": {
            "application/vnd.jupyter.widget-view+json": {
              "model_id": "502b4f04e55f4c29b3e39299149bff3b",
              "version_major": 2,
              "version_minor": 0
            }
          }
        }
      ],
      "source": [
        "SS1 = run_sadspheres()"
      ],
      "id": "cell-7"
    },
    {
      "cell_type": "code",
      "execution_count": 14,
      "metadata": {},
      "outputs": [
        {
          "output_type": "stream",
          "name": "stdout",
          "text": [
            "Deleted method from saved results\n",
            "Deleted method from saved results\n",
            "Deleted method from saved results\n",
            "Deleted method from saved results\n",
            "Deleted method from saved results\n",
            "Deleted method from saved results\n",
            "Deleted method from saved results\n",
            "Deleted method from saved results\n",
            "Deleted method from saved results"
          ]
        }
      ],
      "source": [
        "to_delete = ['Diffusion Curvature (Trajectory Normalized w/ Anisotropy)', 'Diffusion Curvature (Trajectory Normalized w/ Smaller Bandwidth)', 'Diffusion Curvature (TN w/ k = 1 consistent adaptive n 18 t 84)', 'Diffusion Curvature (TN w/ k = 1 consistent adaptive n 40 t 84)', 'Diffusion Curvature (TN w/ k = 1 consistent adaptive n 80 t 84)', 'Diffusion Curvature (TN w/ k = 1 consistent adaptive n 120 t 84)', 'Diffusion Curvature (TN w/ ca n 120 t 84 trials 10)', 'Diffusion Curvature (Entropic)', 'Diffusion Curvature (Wasserstein)']\n",
        "for name in to_delete:\n",
        "    SS1.delete_saved_method(name)\n",
        "SS1.save_results()"
      ],
      "id": "cell-8"
    },
    {
      "cell_type": "code",
      "execution_count": 15,
      "metadata": {},
      "outputs": [
        {
          "output_type": "stream",
          "name": "stdout",
          "text": [
            "ks\n",
            "                     pearson_r  sign_score\n",
            "ground truth          1.000000       1.000\n",
            "Hickok & Blumberg     0.031123       0.600\n",
            "Diffusion Curvature   0.754211       0.965"
          ]
        },
        {
          "output_type": "display_data",
          "metadata": {},
          "data": {
            "text/plain": [
              "{'ks':                      pearson_r  sign_score\n",
              " ground truth          1.000000       1.000\n",
              " Hickok & Blumberg     0.031123       0.600\n",
              " Diffusion Curvature   0.754211       0.965}"
            ]
          }
        }
      ],
      "source": [
        "SS1.table()"
      ],
      "id": "cell-9"
    },
    {
      "cell_type": "code",
      "execution_count": 16,
      "metadata": {},
      "outputs": [
        {
          "output_type": "display_data",
          "metadata": {},
          "data": {}
        }
      ],
      "source": [
        "SS1._aggregate_labels()\n",
        "SS1.plot_by_dimension()"
      ],
      "id": "cell-fig-sadspheres"
    },
    {
      "cell_type": "code",
      "execution_count": 43,
      "metadata": {},
      "outputs": [
        {
          "output_type": "display_data",
          "metadata": {},
          "data": {
            "text/plain": [
              "1.0"
            ]
          }
        }
      ],
      "source": [
        "SS1.metric_tables['ks'][SS1.metric_tables['ks'].keys()[0]]['ground truth']"
      ],
      "id": "cell-11"
    },
    {
      "cell_type": "code",
      "execution_count": 5,
      "metadata": {},
      "outputs": [
        {
          "output_type": "display_data",
          "metadata": {},
          "data": {
            "text/plain": [
              "0.0311233206615215"
            ]
          }
        }
      ],
      "source": [
        "SS1.get_score('Hickok & Blumberg', 'pearson_r')"
      ],
      "id": "cell-12"
    },
    {
      "cell_type": "code",
      "execution_count": 8,
      "metadata": {
        "scrolled": true
      },
      "outputs": [
        {
          "output_type": "display_data",
          "metadata": {},
          "data": {
            "application/vnd.jupyter.widget-view+json": {
              "model_id": "cca41d03f31b45a583d7a059b31bd630",
              "version_major": 2,
              "version_minor": 0
            }
          }
        }
      ],
      "source": [
        "# graph_former = partial(get_curvature_agnostic_graph, k = dim*2, )\n",
        "from diffusion_curvature.kernels import tune_curvature_agnostic_kernel\n",
        "graph_former = partial(get_fixed_graph, sigma = 0.2, alpha = 1)\n",
        "for X in tqdm(SS1):\n",
        "    if \"Diffusion Curvature (Entropic)\" not in SS1.imported_methods:\n",
        "        G = graph_former(X)\n",
        "        DC = DiffusionCurvature(\n",
        "            laziness_method=\"Wasserstein\",\n",
        "            flattening_method=\"Fixed\",\n",
        "            comparison_method=\"Ollivier\",\n",
        "            graph_former = graph_former,\n",
        "            points_per_cluster=None,  # construct separate comparison spaces around each point\n",
        "            comparison_space_size_factor=1,\n",
        "        )\n",
        "        ks = DC.curvature(G, dim = X.shape[1] - 1, t = 25)\n",
        "        SS1.update(ks[0], method_name=\"Diffusion Curvature (Entropic)\")\n",
        "    if \"Diffusion Curvature (Wasserstein)\" not in SS1.imported_methods:\n",
        "        G = graph_former(X)\n",
        "        DC = DiffusionCurvature(\n",
        "            laziness_method=\"Entropic\",\n",
        "            flattening_method=\"Fixed\",\n",
        "            comparison_method=\"Subtraction\",\n",
        "            graph_former = graph_former,\n",
        "            points_per_cluster=None,  # construct separate comparison spaces around each point\n",
        "            comparison_space_size_factor=1,\n",
        "        )\n",
        "        ks = DC.curvature(G, dim = X.shape[1] - 1, t = 25)\n",
        "        SS1.update(ks[0], method_name=\"Diffusion Curvature (Wasserstein)\")\n",
        "    if \"Diffusion Curvature (TN w/ k = 1 adaptive n t 40)\" not in SS1.imported_methods:\n",
        "        kernel, ns = tune_curvature_agnostic_kernel(X, 20, tolerance = 5)\n",
        "        DC = DiffusionCurvature2(\n",
        "            graph_former = kernel\n",
        "        )\n",
        "        ks = DC.fit(X, dim = X.shape[1] - 1, idx = 0, ts = list(range(1,40)))\n",
        "        SS1.update(ks.item(), method_name = \"Diffusion Curvature (TN w/ k = 1 n = 1 t 39 a 0.9)\")"
      ],
      "id": "cell-13"
    },
    {
      "cell_type": "markdown",
      "metadata": {},
      "source": [
        "# Parameter Optimization\n",
        "\n",
        "::: {#cell-15 .cell 0=‘e’ 1=‘x’ 2=‘p’ 3=‘o’ 4=‘r’ 5=‘t’\n",
        "execution_count=19}\n",
        "\n",
        "``` python\n",
        "import optuna\n",
        "import os\n",
        "import math\n",
        "import numpy as np\n",
        "import time\n",
        "from fastcore.all import *\n",
        "from nbdev.showdoc import *\n",
        "\n",
        "## Imports for plotting\n",
        "import matplotlib.pyplot as plt\n",
        "from IPython.display import set_matplotlib_formats\n",
        "# set_matplotlib_formats('svg', 'pdf') # For export\n",
        "from matplotlib.colors import to_rgba\n",
        "import seaborn as sns\n",
        "sns.set()\n",
        "\n",
        "## Progress bar\n",
        "from tqdm.auto import tqdm, trange\n",
        "\n",
        "from functools import partial\n",
        "\n",
        "## project specifics\n",
        "import diffusion_curvature\n",
        "import pygsp\n",
        "import jax\n",
        "import jax.numpy as jnp\n",
        "from diffusion_curvature.graphs import *\n",
        "from diffusion_curvature.datasets import *\n",
        "from diffusion_curvature.core import *\n",
        "from diffusion_curvature.utils import *\n",
        "# from diffusion_curvature.comparison_space import *\n",
        "from diffusion_curvature.sadspheres import *\n",
        "from diffusion_curvature.kernels import *\n",
        "\n",
        "dims = [2, 3, 4, 5, 6]\n",
        "num_pointclouds = 20\n",
        "\n",
        "# Define the objective function for Optuna\n",
        "def objective(trial):\n",
        "    # Define the hyperparameter search space\n",
        "    params = {\n",
        "        # 'laziness_method': trial.suggest_categorical('laziness_method', ['Entropic']),\n",
        "        'anisotropy': trial.suggest_float('anisotropy', 0, 1, step = 0.1),\n",
        "        # 'k' : trial.suggest_int('k', 1, 10),\n",
        "        # 'neighbor_scale': trial.suggest_int('neighbor_scale', 1, 20),\n",
        "        'max_t':trial.suggest_int('max_t', 10, 100),\n",
        "        'size_of_first_scale': trial.suggest_int('size_of_first_scale', 3, 50),\n",
        "        'tolerance': trial.suggest_int('tolerance',1, 10),\n",
        "    }\n",
        "\n",
        "    SS1 = SadSpheres(\n",
        "        dimension = dims, # Dimension of saddles and spheres\n",
        "        num_pointclouds = num_pointclouds, # num pointclouds to make in total\n",
        "        num_points = 2000, # num points per pointclouds\n",
        "        noise_level = 0, # from 0 to 1. 1 is all noise.\n",
        "        include_planes=True,\n",
        "    )\n",
        "    print(\"index is \", SS1.idx)\n",
        "    for X in tqdm(SS1):\n",
        "        kernel, ns = tune_curvature_agnostic_kernel(X, params['size_of_first_scale'], tolerance = params['tolerance'], max_iterations = 100, alpha = params['anisotropy'])\n",
        "        DC = DiffusionCurvature2(\n",
        "            graph_former = kernel\n",
        "        )\n",
        "        ks = DC.fit(X, dim = X.shape[1] - 1, idx = 0, ts = list(range(1,params['max_t'])))\n",
        "        SS1.update(ks.item(), method_name = \"Diffusion Curvature 2 Optuna\")\n",
        "    score = SS1.get_score('Diffusion Curvature 2 Optuna', 'sign_score')\n",
        "    \n",
        "    SS1.delete_saved_method('Diffusion Curvature 2 Optuna')\n",
        "    SS1.save_results()\n",
        "    return score\n",
        "\n",
        "\n",
        "def optimize_parameters():\n",
        "    # Create a study object and specify TPE as the sampler\n",
        "    study = optuna.create_study(direction='maximize', sampler=optuna.samplers.TPESampler())\n",
        "    study.optimize(objective, n_trials=50)\n",
        "    \n",
        "    # Print the best hyperparameters and the best score\n",
        "    print(\"Best hyperparameters: \", study.best_params)\n",
        "    print(\"Best score: \", study.best_value)\n",
        "```\n",
        "\n",
        ":::"
      ],
      "id": "39d5acea-b9d5-491f-ae02-ef2dbca4c647"
    },
    {
      "cell_type": "code",
      "execution_count": 20,
      "metadata": {
        "scrolled": true
      },
      "outputs": [
        {
          "output_type": "stream",
          "name": "stderr",
          "text": [
            "[I 2024-07-29 10:34:23,442] A new study created in memory with name: no-name-cfe3d17f-e484-470b-babf-19e97172b0b0\n",
            "[W 2024-07-29 10:34:29,895] Trial 0 failed with parameters: {'max_t': 24, 'size_of_first_scale': 13, 'tolerance': 1} because of the following error: KeyboardInterrupt().\n",
            "Traceback (most recent call last):\n",
            "  File \"/home/piriac/mambaforge/envs/zetteldev-diffcurv/lib/python3.11/site-packages/optuna/study/_optimize.py\", line 196, in _run_trial\n",
            "    value_or_values = func(trial)\n",
            "                      ^^^^^^^^^^^\n",
            "  File \"/tmp/ipykernel_1546995/852392118.py\", line 61, in objective\n",
            "    kernel, ns = tune_curvature_agnostic_kernel(X, params['size_of_first_scale'], tolerance = params['tolerance'], max_iterations = 100)\n",
            "                 ^^^^^^^^^^^^^^^^^^^^^^^^^^^^^^^^^^^^^^^^^^^^^^^^^^^^^^^^^^^^^^^^^^^^^^^^^^^^^^^^^^^^^^^^^^^^^^^^^^^^^^^^^^^^^^^^^^^^^^^\n",
            "  File \"/home/piriac/Pumberton/Workshop/21-SUMRY-Curvature/diffusion-curvature/diffusion_curvature/kernels.py\", line 240, in tune_curvature_agnostic_kernel\n",
            "    num, kernel = try_kernel_with_neighbor_scale(X, ns, **kwargs)\n",
            "                  ^^^^^^^^^^^^^^^^^^^^^^^^^^^^^^^^^^^^^^^^^^^^^^^\n",
            "  File \"/home/piriac/Pumberton/Workshop/21-SUMRY-Curvature/diffusion-curvature/diffusion_curvature/kernels.py\", line 226, in try_kernel_with_neighbor_scale\n",
            "    G = kernel(X)\n",
            "        ^^^^^^^^^\n",
            "  File \"/home/piriac/Pumberton/Workshop/21-SUMRY-Curvature/diffusion-curvature/diffusion_curvature/kernels.py\", line 114, in get_curvature_agnostic_graph\n",
            "    G = SimpleGraph(W)\n",
            "        ^^^^^^^^^^^^^^\n",
            "  File \"<string>\", line 2, in __init__\n",
            "KeyboardInterrupt\n",
            "[W 2024-07-29 10:34:29,897] Trial 0 failed with value None."
          ]
        },
        {
          "output_type": "stream",
          "name": "stdout",
          "text": [
            "Loaded evaluations on methods ['ground truth', 'Diffusion Curvature (Entropic)', 'Diffusion Curvature (Wasserstein)', 'Hickok & Blumberg', 'Diffusion Curvature (Trajectory Normalized w/ Anisotropy)', 'Diffusion Curvature (Trajectory Normalized w/ Smaller Bandwidth)', 'Diffusion Curvature (Trajectory Normalized w/ Smaller Bandwidth, Many ts)', 'Diffusion Curvature (Trajectory Normalized w/ Smaller Bandwidth, Many more ts)', 'Diffusion Curvature (Trajectory Normalized w/ fixed kernel)', 'Diffusion Curvature (TN w/ k = 1 n = 2 t 120)', 'Diffusion Curvature (TN w/ k = 1 n = 3 t 80)', 'Diffusion Curvature (TN w/ k = 1 n = 1 t 39 a 0.9)', 'Diffusion Curvature (TN w/ k = 1 adaptive n t 40)', 'Diffusion Curvature (TN w/ k = 1 adaptive n 10 t 40)']\n",
            "index is  -1"
          ]
        },
        {
          "output_type": "display_data",
          "metadata": {},
          "data": {
            "application/vnd.jupyter.widget-view+json": {
              "model_id": "7c1296a29c114882bbbcf7e32309c3c4",
              "version_major": 2,
              "version_minor": 0
            }
          }
        }
      ],
      "source": [
        "# testing\n",
        "optimize_parameters()"
      ],
      "id": "cell-16"
    },
    {
      "cell_type": "markdown",
      "metadata": {},
      "source": [
        "::: {#cell-17 .cell 0=‘e’ 1=‘x’ 2=‘p’ 3=‘o’ 4=‘r’ 5=‘t’\n",
        "execution_count=22}\n",
        "\n",
        "``` python\n",
        "@call_parse\n",
        "def main(\n",
        "    search_parameters = False\n",
        "):\n",
        "    if search_parameters:\n",
        "        optimize_parameters()\n",
        "    else:\n",
        "        run_sadspheres()\n",
        "```\n",
        "\n",
        ":::"
      ],
      "id": "d9eccbe1-7173-42f5-921d-ac1b2124a134"
    },
    {
      "cell_type": "code",
      "execution_count": 17,
      "metadata": {},
      "outputs": [],
      "source": [
        "!nbdev_export"
      ],
      "id": "cell-18"
    }
  ],
  "nbformat": 4,
  "nbformat_minor": 5,
  "metadata": {
    "kernelspec": {
      "name": "conda-env-zetteldev-diffcurv-py",
      "display_name": "Python [conda env:zetteldev-diffcurv]",
      "language": "python"
    },
    "language_info": {
      "name": "python",
      "codemirror_mode": {
        "name": "ipython",
        "version": "3"
      },
      "file_extension": ".py",
      "mimetype": "text/x-python",
      "nbconvert_exporter": "python",
      "pygments_lexer": "ipython3",
      "version": "3.11.7"
    }
  }
}
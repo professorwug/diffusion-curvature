{
  "cells": [
    {
      "cell_type": "markdown",
      "metadata": {},
      "source": [
        "# Sign Prediction Tests\n",
        "\n",
        "::: {#cell-1 .cell 0=‘h’ 1=‘i’ 2=‘d’ 3=‘e’ execution_count=1}\n",
        "\n",
        "``` python\n",
        "## Standard libraries\n",
        "import os\n",
        "import math\n",
        "import numpy as np\n",
        "import time\n",
        "from fastcore.all import *\n",
        "from nbdev.showdoc import *\n",
        "\n",
        "# Configure environment\n",
        "os.environ['XLA_PYTHON_CLIENT_PREALLOCATE']='false' # Tells Jax not to hog all of the memory to this process.\n",
        "import nest_asyncio\n",
        "nest_asyncio.apply()\n",
        "\n",
        "## Imports for plotting\n",
        "import matplotlib.pyplot as plt\n",
        "%matplotlib inline\n",
        "from IPython.display import set_matplotlib_formats\n",
        "# set_matplotlib_formats('svg', 'pdf') # For export\n",
        "from matplotlib.colors import to_rgba\n",
        "import seaborn as sns\n",
        "sns.set()\n",
        "\n",
        "## Progress bar\n",
        "from tqdm.auto import tqdm, trange\n",
        "\n",
        "from functools import partial\n",
        "\n",
        "## project specifics\n",
        "import diffusion_curvature\n",
        "import pygsp\n",
        "import jax\n",
        "import jax.numpy as jnp\n",
        "from diffusion_curvature.graphs import *\n",
        "from diffusion_curvature.datasets import *\n",
        "# from diffusion_curvature.core import *\n",
        "from diffusion_curvature.core_beta import *\n",
        "from diffusion_curvature.utils import *\n",
        "from diffusion_curvature.comparison_space import *\n",
        "from diffusion_curvature.sadspheres import *\n",
        "from diffusion_curvature.kernels import *\n",
        "\n",
        "%load_ext autoreload\n",
        "%autoreload 2\n",
        "    \n",
        "jax.devices()\n",
        "jax.default_device = jax.devices(\"cpu\")\n",
        "```\n",
        "\n",
        "    2024-05-17 11:51:05.602132: W external/xla/xla/service/platform_util.cc:198] unable to create StreamExecutor for CUDA:0: failed initializing StreamExecutor for CUDA device ordinal 0: INTERNAL: failed call to cuDevicePrimaryCtxRetain: CUDA_ERROR_OUT_OF_MEMORY: out of memory; total memory reported: 25363087360\n",
        "\n",
        ":::\n",
        "\n",
        "> Comparisons between Diffusion Curvature and the Competition\n",
        "\n",
        "Here we employ saddles and spheres of increasing dimension to test our\n",
        "model’s ability to detect sign.\n",
        "\n",
        "# Machinery"
      ],
      "id": "ebdd1791-b16f-4cdd-8bec-febcbf56d5f6"
    },
    {
      "cell_type": "code",
      "execution_count": 2,
      "metadata": {},
      "outputs": [],
      "source": [
        "dims = [2, 3, 4, 5, 6]\n",
        "num_pointclouds = 20"
      ],
      "id": "cell-5"
    },
    {
      "cell_type": "code",
      "execution_count": 3,
      "metadata": {},
      "outputs": [
        {
          "output_type": "stream",
          "name": "stdout",
          "text": [
            "Loaded evaluations on methods ['ground truth', 'Diffusion Curvature (Entropic)', 'Diffusion Curvature (Wasserstein)', 'Hickok & Blumberg']"
          ]
        }
      ],
      "source": [
        "SS1 = SadSpheres(\n",
        "    dimension = dims, # Dimension of saddles and spheres\n",
        "    num_pointclouds = num_pointclouds, # num pointclouds to make in total\n",
        "    num_points = 2000, # num points per pointclouds\n",
        "    noise_level = 0, # from 0 to 1. 1 is all noise.\n",
        "    include_planes=True,\n",
        ")"
      ],
      "id": "cell-6"
    },
    {
      "cell_type": "code",
      "execution_count": 4,
      "metadata": {},
      "outputs": [
        {
          "output_type": "display_data",
          "metadata": {},
          "data": {
            "text/plain": [
              "['ground truth',\n",
              " 'Diffusion Curvature (Entropic)',\n",
              " 'Diffusion Curvature (Wasserstein)',\n",
              " 'Hickok & Blumberg']"
            ]
          }
        }
      ],
      "source": [
        "SS1.imported_methods"
      ],
      "id": "cell-7"
    },
    {
      "cell_type": "code",
      "execution_count": 5,
      "metadata": {},
      "outputs": [],
      "source": [
        "SS1.save_results()"
      ],
      "id": "cell-8"
    },
    {
      "cell_type": "code",
      "execution_count": 6,
      "metadata": {},
      "outputs": [
        {
          "output_type": "display_data",
          "metadata": {},
          "data": {
            "application/vnd.jupyter.widget-view+json": {
              "model_id": "2f92855ec4094185be1f422ba502d551",
              "version_major": 2,
              "version_minor": 0
            }
          }
        }
      ],
      "source": [
        "# graph_former = partial(get_curvature_agnostic_graph, k = dim*2, )\n",
        "graph_former = partial(get_fixed_graph, sigma = 0.2, alpha = 1)\n",
        "for X in tqdm(SS1):\n",
        "    if \"Diffusion Curvature (Scaled Entropic)\" not in SS1.imported_methods:\n",
        "        G = graph_former(X)\n",
        "        DC = DiffusionCurvature(\n",
        "            laziness_method=\"Entropic\",\n",
        "            flattening_method=\"Scaled Fixed\",\n",
        "            comparison_method=\"Subtraction\",\n",
        "            graph_former = graph_former,\n",
        "            points_per_cluster=None,  # construct separate comparison spaces around each point\n",
        "            comparison_space_size_factor=1,\n",
        "        )\n",
        "        ks = DC.fit_transform(G, dim = X.shape[1] - 1, t = 25, X = X)\n",
        "        SS1.update(ks[0], method_name=\"Diffusion Curvature (Scaled Entropic)\")\n",
        "    if \"Diffusion Curvature (Scaled Wasserstein)\" not in SS1.imported_methods:\n",
        "        G = graph_former(X)\n",
        "        DC = DiffusionCurvature(\n",
        "            laziness_method=\"Wasserstein\",\n",
        "            flattening_method=\"Scaled Fixed\",\n",
        "            comparison_method=\"Subtraction\",\n",
        "            graph_former = graph_former,\n",
        "            points_per_cluster=None,  # construct separate comparison spaces around each point\n",
        "            comparison_space_size_factor=1,\n",
        "        )\n",
        "        ks = DC.fit_transform(G, dim = X.shape[1] - 1, t = 25, X = X)\n",
        "        SS1.update(ks[0], method_name=\"Diffusion Curvature (Scaled Wasserstein)\")\n"
      ],
      "id": "cell-9"
    },
    {
      "cell_type": "code",
      "execution_count": null,
      "metadata": {},
      "outputs": [
        {
          "output_type": "stream",
          "name": "stdout",
          "text": [
            "ks\n",
            "                                   pearson_r  sign_score\n",
            "ground truth                        1.000000       1.000\n",
            "Diffusion Curvature (Entropic)      0.736951       1.000\n",
            "Diffusion Curvature (Wasserstein)  -0.516870       0.395\n",
            "Hickok & Blumberg                   0.031123       0.600"
          ]
        },
        {
          "output_type": "display_data",
          "metadata": {},
          "data": {
            "text/plain": [
              "{'ks':                                    pearson_r  sign_score\n",
              " ground truth                        1.000000       1.000\n",
              " Diffusion Curvature (Entropic)      0.736951       1.000\n",
              " Diffusion Curvature (Wasserstein)  -0.516870       0.395\n",
              " Hickok & Blumberg                   0.031123       0.600}"
            ]
          }
        }
      ],
      "source": [
        "SS1.table()"
      ],
      "id": "cell-10"
    },
    {
      "cell_type": "code",
      "execution_count": null,
      "metadata": {},
      "outputs": [
        {
          "output_type": "display_data",
          "metadata": {},
          "data": {}
        }
      ],
      "source": [
        "SS1._aggregate_labels()\n",
        "SS1.plot_by_dimension()"
      ],
      "id": "cell-fig-sadspheres"
    },
    {
      "cell_type": "markdown",
      "metadata": {},
      "source": [
        "# Conclusion"
      ],
      "id": "03a2a205-e98e-4e0a-83d4-48ed6cad3b1a"
    }
  ],
  "nbformat": 4,
  "nbformat_minor": 5,
  "metadata": {
    "kernelspec": {
      "name": "python3",
      "display_name": "Python 3 (ipykernel)",
      "language": "python"
    },
    "language_info": {
      "name": "python",
      "codemirror_mode": {
        "name": "ipython",
        "version": "3"
      },
      "file_extension": ".py",
      "mimetype": "text/x-python",
      "nbconvert_exporter": "python",
      "pygments_lexer": "ipython3",
      "version": "3.11.6"
    }
  }
}
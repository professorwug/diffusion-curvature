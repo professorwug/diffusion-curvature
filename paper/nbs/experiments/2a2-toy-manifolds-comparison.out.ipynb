{
  "cells": [
    {
      "cell_type": "markdown",
      "metadata": {},
      "source": [
        "# 2a2 Comparing Curvatures on Toy Manifolds\n",
        "\n",
        "::: {#cell-1 .cell 0=‘h’ 1=‘i’ 2=‘d’ 3=‘e’ execution_count=66}\n",
        "\n",
        "``` python\n",
        "## Standard libraries\n",
        "import os\n",
        "import math\n",
        "import numpy as np\n",
        "import time\n",
        "from fastcore.all import *\n",
        "from nbdev.showdoc import *\n",
        "\n",
        "# Configure environment\n",
        "os.environ['XLA_PYTHON_CLIENT_PREALLOCATE']='false' # Tells Jax not to hog all of the memory to this process.\n",
        "\n",
        "## Imports for plotting\n",
        "import matplotlib.pyplot as plt\n",
        "%matplotlib inline\n",
        "from IPython.display import set_matplotlib_formats\n",
        "# set_matplotlib_formats('svg', 'pdf') # For export\n",
        "from matplotlib.colors import to_rgba\n",
        "import seaborn as sns\n",
        "sns.set()\n",
        "\n",
        "## Progress bar\n",
        "from tqdm.auto import tqdm, trange\n",
        "\n",
        "## project specifics\n",
        "import diffusion_curvature\n",
        "import pygsp\n",
        "import jax\n",
        "import jax.numpy as jnp\n",
        "jax.devices()\n",
        "\n",
        "from diffusion_curvature.graphs import *\n",
        "from diffusion_curvature.datasets import *\n",
        "from diffusion_curvature.core import *\n",
        "from diffusion_curvature.utils import *\n",
        "from diffusion_curvature.comparison_space import *\n",
        "\n",
        "%load_ext autoreload\n",
        "%autoreload 2\n",
        "```\n",
        "\n",
        "    The autoreload extension is already loaded. To reload it, use:\n",
        "      %reload_ext autoreload\n",
        "\n",
        ":::\n",
        "\n",
        "> Which will emerge victorious?\n",
        "\n",
        "The comparison consists of two parts: 1. A figure showing the visual\n",
        "differences, both in 3d scatter plots, and correlation plots. 2. Tables\n",
        "computing the resilience to noise across methods.\n",
        "\n",
        "# Machinery\n",
        "\n",
        "Load up the results:"
      ],
      "id": "9566e7e1-9d7e-4ece-baaa-7dcaabb44148"
    },
    {
      "cell_type": "code",
      "execution_count": 67,
      "metadata": {},
      "outputs": [],
      "source": [
        "curvatures = {\n",
        "    'Ground Truth Curvature' : np.load(\"../../results/toy_data_saved_1000_more_noise_curvatures.npz\"),\n",
        "    'Diffusion Curvature' : np.load(\"../../results/toy_dataset_entropic_fixed_subtraction.npz\"),\n",
        "    # 'Unsigned Diffusion Curvature' : np.load(\"../../results/toy_dataset_neurips_laziness_no_comparison.npz\"),\n",
        "    # 'AdaL-PCA' : np.load(\"../../results/toy_dataset_toy_datasets_principal_curvature_heuristic.npz\"),\n",
        "    # 'AdaL-PCA' : np.load(\"../../results/toy_dataset_toy_datasets_principal_curvature_heuristic_filtered.npz\"), # outlier points filtered out\n",
        "    # 'AdaL-PCA' : np.load(\"../../results/toy_dataset_toy_datasets_principal_curvature_no_heuristic_08_15.npz\"),\n",
        "    # 'Unsigned Diffusion Curvature' : np.load(\"../../results/toy_dataset_neurips_laziness_no_comparison.npz\"),\n",
        "    'Hickok & Blumberg' : np.load(\"../../results/toy_dataset_toy_datasets_hickock_curvature_r3.14.npz\"),\n",
        "    'Ollivier Ricci Curvature' : np.load(\"../../results/toy_dataset_toy_datasets_ollivier_ricci_knn_50.npz\"),\n",
        "    'Forman Ricci Curvature' : np.load('../../results/toy_dataset_toy_datasets_forman_ricci_k_50.npz'),\n",
        "}\n",
        "scaled_curvatures = dict(curvatures)"
      ],
      "id": "cell-6"
    },
    {
      "cell_type": "markdown",
      "metadata": {},
      "source": [
        "And the data"
      ],
      "id": "5cae6d78-6209-4926-a5c5-ba6e8d029e63"
    },
    {
      "cell_type": "code",
      "execution_count": 68,
      "metadata": {},
      "outputs": [],
      "source": [
        "# Establish Datasets\n",
        "load_from_saved = True\n",
        "filename = \"../../results/toy_data_saved_1000_more_noise\"\n",
        "if load_from_saved:\n",
        "    Xs = np.load(filename + '.npz')\n",
        "    Ks = np.load(filename + '_curvatures.npz')\n",
        "else:\n",
        "    n_points = 1000\n",
        "    Xs = {}\n",
        "    Ks = {}\n",
        "    Xs['Torus'], Ks['Torus'] = torus(n_points, use_guide_points=False, seed=19323)\n",
        "    Xs['plane'] = np.hstack([plane(n_points, dim=2),np.zeros((n_points,1))])\n",
        "    Ks['plane'] = np.zeros(len(Xs['plane']))\n",
        "    Xs['Saddle'], Ks['Saddle'] = paraboloid(n_points, use_guide_points=False, seed=19323)\n",
        "    Xs['Sphere'], Ks['Sphere'] = sphere(n_points,)\n",
        "    Xs['Ellipsoid'], Ks['Ellipsoid'] = ellipsoid(n_points, seed=19323)\n",
        "    Xs['Hyperboloid'], Ks['Hyperboloid'] = hyperboloid(n_points, seed=19323)\n",
        "    # Noised Versions\n",
        "    for noise_scale in [0.1, 0.2, 0.3, 0.4, 0.5]: # [0.05, 0.1, 0.15, 0.2, 0.25]: \n",
        "        Xs[f'Torus noise = {noise_scale}'], Ks[f'Torus noise = {noise_scale}'] = torus(n_points, use_guide_points=False, seed=19323, noise = noise_scale)\n",
        "        # Xs['plane noise = {noise_scale}'] = np.hstack([plane(n_points, dim=2),np.zeros((n_points,1))])\n",
        "        # Ks['plane noise = {noise_scale}'] = np.zeros(len(Xs['plane']))\n",
        "        Xs[f'Saddle noise = {noise_scale}'], Ks[f'Saddle noise = {noise_scale}'] = paraboloid(n_points, use_guide_points=False, seed=19323, noise = noise_scale)\n",
        "        # Xs['sphere = {noise_scale}'], Ks['sphere = {noise_scale}'] = sphere(n_points,)\n",
        "        Xs[f'Ellipsoid noise = {noise_scale}'], Ks[f'Ellipsoid noise = {noise_scale}'] = ellipsoid(n_points, seed=19323, noise = noise_scale)\n",
        "        Xs[f'hyperboloid noise = {noise_scale}'], Ks[f'hyperboloid noise = {noise_scale}'] = hyperboloid(n_points, seed=19323, noise = noise_scale)\n",
        "    np.savez(filename + '.npz', **Xs)\n",
        "    np.savez(filename + '_curvatures.npz', **Ks)"
      ],
      "id": "cell-8"
    },
    {
      "cell_type": "code",
      "execution_count": 69,
      "metadata": {},
      "outputs": [
        {
          "output_type": "display_data",
          "metadata": {},
          "data": {
            "text/plain": [
              "(1000, 3)"
            ]
          }
        }
      ],
      "source": [
        "Xs['Ellipsoid'].shape"
      ],
      "id": "cell-9"
    },
    {
      "cell_type": "code",
      "execution_count": 70,
      "metadata": {},
      "outputs": [],
      "source": [
        "# # Establish Datasets\n",
        "# n_points = 2000\n",
        "# Xs = {}\n",
        "# Ks = {}\n",
        "# Xs['Torus'], Ks['Torus'] = torus(n_points, use_guide_points=False, seed=19323)\n",
        "# Xs['Saddle'], Ks['Saddle'] = paraboloid(n_points, use_guide_points=False, seed=19323)\n",
        "# Xs['sphere'], Ks['sphere'] = sphere(n_points,)\n",
        "# Xs['Ellipsoid'], Ks['Ellipsoid'] = ellipsoid(n_points, seed=19323)\n",
        "# Xs['hyperboloid'], Ks['hyperboloid'] = hyperboloid(n_points, seed=19323)\n",
        "# # Noised Versions\n",
        "# for noise_scale in [0.1, 0.2, 0.3, 0.4, 0.5]:\n",
        "#     Xs[f'Torus noise = {noise_scale}'], Ks[f'Torus noise = {noise_scale}'] = torus(n_points, use_guide_points=False, seed=19323, noise = noise_scale)\n",
        "#     # Xs['plane noise = {noise_scale}'] = np.hstack([plane(n_points, dim=2),np.zeros((n_points,1))])\n",
        "#     # Ks['plane noise = {noise_scale}'] = np.zeros(len(Xs['plane']))\n",
        "#     Xs[f'Saddle noise = {noise_scale}'], Ks[f'Saddle noise = {noise_scale}'] = paraboloid(n_points, use_guide_points=False, seed=19323, noise = noise_scale)\n",
        "#     # Xs['sphere = {noise_scale}'], Ks['sphere = {noise_scale}'] = sphere(n_points,)\n",
        "#     Xs[f'Ellipsoid noise = {noise_scale}'], Ks[f'Ellipsoid noise = {noise_scale}'] = ellipsoid(n_points, seed=19323, noise = noise_scale)\n",
        "#     Xs[f'hyperboloid noise = {noise_scale}'], Ks[f'hyperboloid noise = {noise_scale}'] = hyperboloid(n_points, seed=19323, noise = noise_scale)"
      ],
      "id": "cell-10"
    },
    {
      "cell_type": "code",
      "execution_count": 71,
      "metadata": {},
      "outputs": [
        {
          "output_type": "display_data",
          "metadata": {},
          "data": {
            "text/plain": [
              "(1000,)"
            ]
          }
        }
      ],
      "source": [
        "curvatures['Hickok & Blumberg']['Torus'].shape"
      ],
      "id": "cell-11"
    },
    {
      "cell_type": "markdown",
      "metadata": {},
      "source": [
        "# Results"
      ],
      "id": "638d4384-797a-4450-b02c-f1c1d775413f"
    },
    {
      "cell_type": "code",
      "execution_count": 72,
      "metadata": {},
      "outputs": [
        {
          "output_type": "display_data",
          "metadata": {},
          "data": {}
        }
      ],
      "source": [
        "import matplotlib.pyplot as plt\n",
        "from mpl_toolkits.mplot3d import Axes3D\n",
        "import seaborn as sns\n",
        "from matplotlib import colors\n",
        "import numpy as np\n",
        "\n",
        "# Assuming Xs, labels, ground_truth_labels, and key_names are defined\n",
        "# For example:\n",
        "key_names = ['Torus', 'Saddle', 'Ellipsoid']\n",
        "labels = curvatures\n",
        "ground_truth_labels = Ks\n",
        "\n",
        "# Set the style of seaborn\n",
        "sns.set(style=\"whitegrid\")\n",
        "\n",
        "fig_shape = (len(curvatures.keys()) + 1, len(key_names))\n",
        "method_colors = ['green', 'olive', 'navy', 'orange', 'purple']\n",
        "assert len(method_colors) == len(curvatures.keys())\n",
        "\n",
        "ordered_keys = curvatures.keys() #['Gaussian', 'Adal-PCA', 'Unsigned Diffusion Curvature', 'Hickok & Blumberg']\n",
        "assert set(ordered_keys) == set(curvatures.keys())\n",
        "\n",
        "# Create a figure and axes with 2 rows and 3 columns\n",
        "fig, axs = plt.subplots(fig_shape[0], fig_shape[1], figsize=(fig_shape[0]*2, fig_shape[1]*5), subplot_kw={'projection': '3d'} if plt.matplotlib.__version__ < '3.4.0' else None)\n",
        "\n",
        "for i, key in enumerate(key_names):\n",
        "    # 3D scatter plot for the first row\n",
        "    lim = np.max(np.linalg.norm(Xs[key], axis=1))\n",
        "    # if plt.matplotlib.__version__ >= '3.4.0':\n",
        "\n",
        "    # plot the curvature for each method\n",
        "    for j, method_name in enumerate(ordered_keys):\n",
        "        axs[j, i].remove()\n",
        "        axs[j, i] = fig.add_subplot(fig_shape[0], fig_shape[1], i + j*fig_shape[1] + 1, projection='3d')\n",
        "        axs[j, i].axes.set_xlim3d(left=-lim, right=lim)\n",
        "        axs[j, i].axes.set_ylim3d(bottom=-lim, top=lim)\n",
        "        axs[j, i].axes.set_zlim3d(bottom=-lim, top=lim)\n",
        "        axs[j, i].set_xticks([])\n",
        "        axs[j, i].set_yticks([])\n",
        "        axs[j, i].set_zticks([])\n",
        "\n",
        "        scaled_labels = labels[method_name][key]\n",
        "        scaled_labels = scaled_labels / (max(scaled_labels) - min(scaled_labels))\n",
        "        scatter3d = axs[j, i].scatter(Xs[key][:, 0], Xs[key][:, 1], Xs[key][:, 2], c=scaled_labels, cmap = 'coolwarm')\n",
        "        if i == 1:\n",
        "            axs[j, i].set_title(f'{method_name}',fontsize=15, c = method_colors[j])\n",
        "\n",
        "    # Scatter plot for the second row, colored by labels\n",
        "    # axs[j+1, i].remove()\n",
        "    # axs[j+1, i] = fig.add_subplot(fig_shape[0], fig_shape[1], i+4)\n",
        "    for k, method_name in enumerate(ordered_keys):\n",
        "        # min max scaling\n",
        "        scaled_labels = labels[method_name][key]\n",
        "        scaled_labels = scaled_labels / (max(scaled_labels) - min(scaled_labels))\n",
        "        scatter2d = axs[j+1, i].scatter(ground_truth_labels[key], scaled_labels, c = method_colors[k], s = 1)\n",
        "        axs[j+1,i].set_aspect('equal')\n",
        "    # axs[1, i].set_title(f'')\n",
        "    axs[j+1, i].set_xlabel('Gaussian Curvature')\n",
        "    axs[j+1, i].set_ylabel('Estimated Curvature')\n",
        "    \n",
        "    \n",
        "    # Highlight the origin lines in 2D scatter plots\n",
        "    axs[j+1, i].axhline(0, color='gray', linewidth=1, linestyle='--')\n",
        "    axs[j+1, i].axvline(0, color='gray', linewidth=1, linestyle='--')\n",
        "\n",
        "    # # Add colorbar for each subplot\n",
        "    # fig.colorbar(scatter3d, ax=axs[0, i], fraction=0.046, pad=0.04)\n",
        "    # fig.colorbar(scatter2d, ax=axs[1, i], fraction=0.046, pad=0.04)\n",
        "plt.suptitle(\"Estimated Gaussian Curvatures of 2-Manifolds\", fontsize=30)\n",
        "plt.tight_layout()\n",
        "plt.show()\n"
      ],
      "id": "cell-fig-2-manifolds-visual-comparison"
    },
    {
      "cell_type": "markdown",
      "metadata": {},
      "source": [
        "# Table"
      ],
      "id": "433577ef-4695-4b27-bb72-9db374904d65"
    },
    {
      "cell_type": "code",
      "execution_count": 73,
      "metadata": {},
      "outputs": [],
      "source": [
        "import pandas as pd"
      ],
      "id": "cell-15"
    },
    {
      "cell_type": "code",
      "execution_count": 74,
      "metadata": {},
      "outputs": [],
      "source": [
        "from sklearn.metrics import mean_squared_error\n",
        "def root_mse_between(labels, method, dataset):\n",
        "    truth = labels['Ground Truth Curvature'][dataset]\n",
        "    computed = labels[method][dataset]\n",
        "    return np.sqrt(mean_squared_error(truth, computed))"
      ],
      "id": "cell-16"
    },
    {
      "cell_type": "code",
      "execution_count": 75,
      "metadata": {},
      "outputs": [],
      "source": [
        "from scipy.stats import energy_distance\n",
        "def energy_between(labels, method, dataset):\n",
        "    truth = labels['Ground Truth Curvature'][dataset]\n",
        "    computed = labels[method][dataset]\n",
        "    return energy_distance(truth, computed)"
      ],
      "id": "cell-17"
    },
    {
      "cell_type": "code",
      "execution_count": 76,
      "metadata": {},
      "outputs": [],
      "source": [
        "from scipy.stats import pearsonr\n",
        "def pearson_correlation_between(labels, method, dataset):\n",
        "    truth = labels['Ground Truth Curvature'][dataset]\n",
        "    computed = labels[method][dataset]\n",
        "    rho, confidence = pearsonr(truth, computed)\n",
        "    return rho"
      ],
      "id": "cell-18"
    },
    {
      "cell_type": "code",
      "execution_count": 79,
      "metadata": {},
      "outputs": [
        {
          "output_type": "stream",
          "name": "stdout",
          "text": [
            "Diffusion Curvature\n",
            "Hickok & Blumberg\n",
            "Ollivier Ricci Curvature\n",
            "Forman Ricci Curvature"
          ]
        }
      ],
      "source": [
        "noise_scales = [0.1, 0.2, 0.3, 0.4, 0.5]\n",
        "dataset_names = ['Torus'] + [f'Torus noise = {x}' for x in noise_scales] + ['Saddle'] + [f'Saddle noise = {x}' for x in noise_scales] + ['Ellipsoid'] + [f'Ellipsoid noise = {x}' for x in noise_scales]\n",
        "\n",
        "metrics_collected = {\n",
        "        'RMSE':{}, 'ED':{}, 'PCC':{}\n",
        "    }\n",
        "\n",
        "for method in labels.keys():\n",
        "    if method == 'Ground Truth Curvature': \n",
        "        pass\n",
        "    else:\n",
        "        print(method)\n",
        "        # metrics_collected['RMSE'][method] = {}\n",
        "        metrics_collected['ED'][method] = {}\n",
        "        metrics_collected['PCC'][method] = {}\n",
        "        \n",
        "        for dname in dataset_names:\n",
        "            try:\n",
        "                # metrics_collected['RMSE'][method][dname] = root_mse_between(curvatures, method, dname)\n",
        "                metrics_collected['ED'][method][dname] = energy_between(curvatures, method, dname)\n",
        "                metrics_collected['PCC'][method][dname] = pearson_correlation_between(curvatures, method, dname)\n",
        "            except KeyError:\n",
        "                print(f\"no such dname {dname} for {method}\")\n",
        "                pass"
      ],
      "id": "cell-19"
    },
    {
      "cell_type": "code",
      "execution_count": 80,
      "metadata": {},
      "outputs": [
        {
          "output_type": "display_data",
          "metadata": {},
          "data": {
            "text/plain": [
              "1.3590765614253006"
            ]
          }
        }
      ],
      "source": [
        "root_mse_between(curvatures, 'Hickok & Blumberg', 'Torus')"
      ],
      "id": "cell-21"
    },
    {
      "cell_type": "code",
      "execution_count": 81,
      "metadata": {},
      "outputs": [
        {
          "output_type": "display_data",
          "metadata": {},
          "data": {
            "text/plain": [
              "{}"
            ]
          }
        }
      ],
      "source": [
        "metrics_collected['RMSE']"
      ],
      "id": "cell-22"
    },
    {
      "cell_type": "code",
      "execution_count": 82,
      "metadata": {},
      "outputs": [
        {
          "output_type": "display_data",
          "metadata": {},
          "data": {
            "text/plain": [
              "{'Diffusion Curvature': {'Torus': 0.7740658266594376,\n",
              "  'Torus noise = 0.1': 0.867022809002684,\n",
              "  'Torus noise = 0.2': 0.9376026047242412,\n",
              "  'Torus noise = 0.3': 1.0657236095135834,\n",
              "  'Torus noise = 0.4': 1.0286043337856654,\n",
              "  'Torus noise = 0.5': 1.0802844806070007,\n",
              "  'Saddle': 0.8288120709948275,\n",
              "  'Saddle noise = 0.1': 0.5169964473837296,\n",
              "  'Saddle noise = 0.2': 0.23448069055934675,\n",
              "  'Saddle noise = 0.3': 0.3549692062446602,\n",
              "  'Saddle noise = 0.4': 0.4502585670831864,\n",
              "  'Saddle noise = 0.5': 0.560606218749792,\n",
              "  'Ellipsoid': 0.3310375924823877,\n",
              "  'Ellipsoid noise = 0.1': 0.6674219361129565,\n",
              "  'Ellipsoid noise = 0.2': 1.1164256100964751,\n",
              "  'Ellipsoid noise = 0.3': 1.1355828892798994,\n",
              "  'Ellipsoid noise = 0.4': 1.2604351597491663,\n",
              "  'Ellipsoid noise = 0.5': 1.2754519155194124},\n",
              " 'Hickok & Blumberg': {'Torus': 0.9612837972966679,\n",
              "  'Torus noise = 0.1': 0.556147994862657,\n",
              "  'Torus noise = 0.2': 0.3528856750399482,\n",
              "  'Torus noise = 0.3': 0.44427292445851274,\n",
              "  'Torus noise = 0.4': 0.4103032233254465,\n",
              "  'Torus noise = 0.5': 0.3806963612504302,\n",
              "  'Saddle': 2.1380550751438636,\n",
              "  'Saddle noise = 0.1': 0.9528215026790867,\n",
              "  'Saddle noise = 0.2': 1.4545029035791932,\n",
              "  'Saddle noise = 0.3': 1.9015412465297683,\n",
              "  'Saddle noise = 0.4': 1.9962766656158395,\n",
              "  'Saddle noise = 0.5': 2.1299715309419454,\n",
              "  'Ellipsoid': 1.070103743034086,\n",
              "  'Ellipsoid noise = 0.1': 0.3193291603738991,\n",
              "  'Ellipsoid noise = 0.2': 1.054809916751789,\n",
              "  'Ellipsoid noise = 0.3': 1.4235836131780133,\n",
              "  'Ellipsoid noise = 0.4': 1.4260484107786802,\n",
              "  'Ellipsoid noise = 0.5': 1.368540122769171},\n",
              " 'Ollivier Ricci Curvature': {'Torus': 0.8448975681226621,\n",
              "  'Torus noise = 0.1': 0.8366587247494154,\n",
              "  'Torus noise = 0.2': 0.8261279699121946,\n",
              "  'Torus noise = 0.3': 0.8183457705387851,\n",
              "  'Torus noise = 0.4': 0.814467869099614,\n",
              "  'Torus noise = 0.5': 0.8136745062827576,\n",
              "  'Saddle': 0.7918699645191665,\n",
              "  'Saddle noise = 0.1': 0.8468635386459535,\n",
              "  'Saddle noise = 0.2': 0.8429689406893808,\n",
              "  'Saddle noise = 0.3': 0.8289943317254246,\n",
              "  'Saddle noise = 0.4': 0.8193577076741976,\n",
              "  'Saddle noise = 0.5': 0.816313283365529,\n",
              "  'Ellipsoid': 0.5870697021731268,\n",
              "  'Ellipsoid noise = 0.1': 0.5509080257234377,\n",
              "  'Ellipsoid noise = 0.2': 0.5065416414437294,\n",
              "  'Ellipsoid noise = 0.3': 0.48539404283999443,\n",
              "  'Ellipsoid noise = 0.4': 0.47964208367467426,\n",
              "  'Ellipsoid noise = 0.5': 0.4800690876480174},\n",
              " 'Forman Ricci Curvature': {'Torus': 6.832062433345175,\n",
              "  'Torus noise = 0.1': 6.7257189409393625,\n",
              "  'Torus noise = 0.2': 6.507926216537984,\n",
              "  'Torus noise = 0.3': 6.209864699721531,\n",
              "  'Torus noise = 0.4': 5.851935308494685,\n",
              "  'Torus noise = 0.5': 5.448809719655968,\n",
              "  'Saddle': 8.307402638072475,\n",
              "  'Saddle noise = 0.1': 8.432248017590693,\n",
              "  'Saddle noise = 0.2': 8.88813958658402,\n",
              "  'Saddle noise = 0.3': 9.155215660034598,\n",
              "  'Saddle noise = 0.4': 9.17548224487197,\n",
              "  'Saddle noise = 0.5': 9.013209380200994,\n",
              "  'Ellipsoid': 7.692817872487123,\n",
              "  'Ellipsoid noise = 0.1': 7.643479135422179,\n",
              "  'Ellipsoid noise = 0.2': 7.4978131592052835,\n",
              "  'Ellipsoid noise = 0.3': 7.330065143845161,\n",
              "  'Ellipsoid noise = 0.4': 7.093284418027929,\n",
              "  'Ellipsoid noise = 0.5': 6.756190975026902}}"
            ]
          }
        }
      ],
      "source": [
        "metrics_collected['ED']"
      ],
      "id": "cell-23"
    },
    {
      "cell_type": "code",
      "execution_count": 83,
      "metadata": {},
      "outputs": [
        {
          "output_type": "display_data",
          "metadata": {},
          "data": {
            "text/plain": [
              "{'Diffusion Curvature': {'Torus': 0.9211373039466606,\n",
              "  'Torus noise = 0.1': 0.9508405158083564,\n",
              "  'Torus noise = 0.2': 0.9584977988369827,\n",
              "  'Torus noise = 0.3': 0.9227958011625403,\n",
              "  'Torus noise = 0.4': 0.8619257583577243,\n",
              "  'Torus noise = 0.5': 0.7918940147392998,\n",
              "  'Saddle': 0.753273282456445,\n",
              "  'Saddle noise = 0.1': 0.7664653550440301,\n",
              "  'Saddle noise = 0.2': 0.6730828551904157,\n",
              "  'Saddle noise = 0.3': 0.5362164343788511,\n",
              "  'Saddle noise = 0.4': 0.4256353544116588,\n",
              "  'Saddle noise = 0.5': 0.33854201910899373,\n",
              "  'Ellipsoid': 0.6248415260956578,\n",
              "  'Ellipsoid noise = 0.1': 0.588868421119645,\n",
              "  'Ellipsoid noise = 0.2': 0.6139538178140781,\n",
              "  'Ellipsoid noise = 0.3': 0.6173478749634128,\n",
              "  'Ellipsoid noise = 0.4': 0.5688907443222231,\n",
              "  'Ellipsoid noise = 0.5': 0.5205119497849594},\n",
              " 'Hickok & Blumberg': {'Torus': 0.9541433506262154,\n",
              "  'Torus noise = 0.1': 0.9450637731080545,\n",
              "  'Torus noise = 0.2': 0.8555159097148427,\n",
              "  'Torus noise = 0.3': 0.7373888515237562,\n",
              "  'Torus noise = 0.4': 0.6576712606309219,\n",
              "  'Torus noise = 0.5': 0.5828978181697375,\n",
              "  'Saddle': 0.9920179001920848,\n",
              "  'Saddle noise = 0.1': 0.9035160239777216,\n",
              "  'Saddle noise = 0.2': 0.7491967260584577,\n",
              "  'Saddle noise = 0.3': 0.5884930826880337,\n",
              "  'Saddle noise = 0.4': 0.46241945527068806,\n",
              "  'Saddle noise = 0.5': 0.3551362372736837,\n",
              "  'Ellipsoid': 0.7274351578683468,\n",
              "  'Ellipsoid noise = 0.1': 0.7058285236024547,\n",
              "  'Ellipsoid noise = 0.2': 0.5748093595392746,\n",
              "  'Ellipsoid noise = 0.3': 0.46848414033535707,\n",
              "  'Ellipsoid noise = 0.4': 0.3813733780588084,\n",
              "  'Ellipsoid noise = 0.5': 0.3384807700790907},\n",
              " 'Ollivier Ricci Curvature': {'Torus': 0.6867682690696109,\n",
              "  'Torus noise = 0.1': 0.6771538323477136,\n",
              "  'Torus noise = 0.2': 0.6359689303444711,\n",
              "  'Torus noise = 0.3': 0.6241409890756275,\n",
              "  'Torus noise = 0.4': 0.5982009995892928,\n",
              "  'Torus noise = 0.5': 0.5586684959382181,\n",
              "  'Saddle': 0.5656996766553776,\n",
              "  'Saddle noise = 0.1': 0.48408906537658314,\n",
              "  'Saddle noise = 0.2': 0.5584324919585688,\n",
              "  'Saddle noise = 0.3': 0.5050822361404088,\n",
              "  'Saddle noise = 0.4': 0.4242705530238479,\n",
              "  'Saddle noise = 0.5': 0.3353566080083577,\n",
              "  'Ellipsoid': 0.5955030222309421,\n",
              "  'Ellipsoid noise = 0.1': 0.559925508234407,\n",
              "  'Ellipsoid noise = 0.2': 0.4881824934102769,\n",
              "  'Ellipsoid noise = 0.3': 0.45245957528689823,\n",
              "  'Ellipsoid noise = 0.4': 0.4268356926660333,\n",
              "  'Ellipsoid noise = 0.5': 0.3855562691188849},\n",
              " 'Forman Ricci Curvature': {'Torus': 0.5576138965960422,\n",
              "  'Torus noise = 0.1': 0.5746601305035782,\n",
              "  'Torus noise = 0.2': 0.5979641319930489,\n",
              "  'Torus noise = 0.3': 0.5936867737703888,\n",
              "  'Torus noise = 0.4': 0.5592015267820507,\n",
              "  'Torus noise = 0.5': 0.5244783214237626,\n",
              "  'Saddle': 0.46581190890819424,\n",
              "  'Saddle noise = 0.1': 0.48234916348082574,\n",
              "  'Saddle noise = 0.2': 0.522000231413269,\n",
              "  'Saddle noise = 0.3': 0.4565208572570332,\n",
              "  'Saddle noise = 0.4': 0.39637638643847334,\n",
              "  'Saddle noise = 0.5': 0.32500712751188815,\n",
              "  'Ellipsoid': 0.41188035023006614,\n",
              "  'Ellipsoid noise = 0.1': 0.37292281392826465,\n",
              "  'Ellipsoid noise = 0.2': 0.3315427140909083,\n",
              "  'Ellipsoid noise = 0.3': 0.3433461907563717,\n",
              "  'Ellipsoid noise = 0.4': 0.33761262408381343,\n",
              "  'Ellipsoid noise = 0.5': 0.3138351905113151}}"
            ]
          }
        }
      ],
      "source": [
        "metrics_collected['PCC']"
      ],
      "id": "cell-24"
    },
    {
      "cell_type": "code",
      "execution_count": 85,
      "metadata": {},
      "outputs": [],
      "source": [
        "\n",
        "\n",
        "# # Define the LaTeX table structure\n",
        "# def create_latex_table(metrics):\n",
        "#     header = r\"\"\"\\begin{tabular}{lc|cccccc|cccccc|cccccc}\n",
        "# \\toprule\n",
        "# \\multirow{2}{*}{\\textbf{Model}} & \\multirow{2}{*}{\\textbf{Metric}} & \\multicolumn{6}{c|}{\\textbf{Torus}} & \\multicolumn{6}{c|}{\\textbf{Ellipsoid}} & \\multicolumn{6}{c}{\\textbf{Saddle}} \\\\\n",
        "# & & 0.0 & 0.05 & 0.10 & 0.15 & 0.20 & \\multicolumn{1}{c|}{0.25} & 0.0 & 0.05 & 0.10 & 0.15 & 0.20 & \\multicolumn{1}{c|}{0.25} & 0.0 & 0.05 & 0.10 & 0.15 & 0.20 & 0.25 \\\\\n",
        "# \\midrule\n",
        "# \"\"\"\n",
        "#     footer = r\"\\bottomrule\\n\\end{tabular}\"\n",
        "\n",
        "#     # Start building the table content\n",
        "#     table_content = header\n",
        "\n",
        "#     # Function to find the best values for bolding\n",
        "#     def find_best_values(data, surfaces, noises, metric):\n",
        "#         best_values = {}\n",
        "#         for surface in surfaces:\n",
        "#             for noise in noises:\n",
        "#                 key = f\"{surface} noise = {noise}\" if noise > 0 else surface\n",
        "#                 values = [model_data.get(key, float('-inf') if metric == 'PCC' else float('inf')) for model_data in data.values()]\n",
        "#                 best_value = max(values) if metric == 'PCC' else min(values)\n",
        "#                 best_values[(surface, noise)] = best_value\n",
        "#         return best_values\n",
        "\n",
        "#     # Iterate over each metric\n",
        "#     for metric, models in metrics.items():\n",
        "#         best_values = find_best_values(models, [\"Torus\", \"Ellipsoid\", \"Saddle\"], [0, 0.05, 0.1, 0.15, 0.2, 0.25], metric)\n",
        "#         # Iterate over each model\n",
        "#         for model, data in models.items():\n",
        "#             model_escaped = model.replace('&', r'\\&')  # Escape '&' in model names\n",
        "#             table_content += f\"{model_escaped} & {metric} \"\n",
        "#             for surface in [\"Torus\", \"Ellipsoid\", \"Saddle\"]:\n",
        "#                 for noise in [0, 0.05, 0.1, 0.15, 0.2, 0.25]:\n",
        "#                     key = f\"{surface} noise = {noise}\" if noise > 0 else surface\n",
        "#                     value = data.get(key, \"\")\n",
        "#                     if value:\n",
        "#                         # Check if the value is the best and should be bolded\n",
        "#                         if value == best_values[(surface, noise)]:\n",
        "#                             table_content += f\"& \\\\textbf{{{value:.3f}}} \"\n",
        "#                         else:\n",
        "#                             table_content += f\"& {value:.3f} \"\n",
        "#                     else:\n",
        "#                         table_content += \"& - \"\n",
        "#             table_content += r\"\\\\\"\n",
        "#             table_content += \"\\n\"\n",
        "#         table_content += r\"\\midrule\" + \"\\n\"\n",
        "\n",
        "#     table_content += footer\n",
        "#     return table_content\n",
        "\n",
        "# # Generate the LaTeX table\n",
        "# latex_table = create_latex_table(metrics_collected)\n",
        "\n",
        "# # Print the LaTeX table\n",
        "# print(latex_table)\n"
      ],
      "id": "cell-25"
    },
    {
      "cell_type": "code",
      "execution_count": 86,
      "metadata": {},
      "outputs": [],
      "source": [
        "# Flatten the nested dictionary\n",
        "data = []\n",
        "for metric, models in metrics_collected.items():\n",
        "    for model, results in models.items():\n",
        "        row = {'Model': model, 'Metric': metric}\n",
        "        row.update(results)\n",
        "        data.append(row)\n",
        "\n",
        "# Create a DataFrame\n",
        "metric_df = pd.DataFrame(data)"
      ],
      "id": "cell-26"
    },
    {
      "cell_type": "code",
      "execution_count": 88,
      "metadata": {},
      "outputs": [],
      "source": [
        "from great_tables import GT, style, loc, exibble\n",
        "from great_tables.data import sp500\n",
        "import pandas as pd\n",
        "\n",
        "df = metric_df\n",
        "\n",
        "# Group the data by metric for proper sorting and display\n",
        "df = df.sort_values(by=['Metric', 'Model']).reset_index(drop=True)\n",
        "\n",
        "# Create the table with row groups\n",
        "table = (\n",
        "    GT(df, rowname_col=\"Model\", groupname_col=\"Metric\")\n",
        "    .tab_header(title=\"Curvature under Noise\", subtitle=\"2-Manifolds with Noise\")\n",
        "    .tab_stubhead(label=\"Model & Metric\")\n",
        "    .cols_label(\n",
        "        Model=\"Model\",\n",
        "        Metric=\"Metric\",\n",
        "        **{col: col for col in df.columns if col not in [\"Model\", \"Metric\"]}\n",
        "    )\n",
        "    .tab_spanner(label=\"Torus\", columns=[col for col in df.columns if \"Torus\" in col])\n",
        "    .tab_spanner(label=\"Ellipsoid\", columns=[col for col in df.columns if \"Ellipsoid\" in col])\n",
        "    .tab_spanner(label=\"Saddle\", columns=[col for col in df.columns if \"Saddle\" in col])\n",
        "    .fmt_number(columns=[col for col in df.columns if col not in [\"Model\", \"Metric\"]], decimals=3)\n",
        ")\n",
        "\n",
        "# Function to apply styles to the best values\n",
        "def apply_best_value_styles(df, table):\n",
        "    for metric in df['Metric'].unique():\n",
        "        metric_df = df[df['Metric'] == metric]\n",
        "        for col in df.columns[2:]:\n",
        "            if metric == 'PCC':\n",
        "                best_value = metric_df[col].max()\n",
        "            else:  # For RMSE and other metrics where lower is better\n",
        "                best_value = metric_df[col].min()\n",
        "                \n",
        "            best_indices = metric_df[metric_df[col] == best_value].index.tolist()\n",
        "            for index in best_indices:\n",
        "                table = table.tab_style(\n",
        "                    style=style.text(weight=\"bold\"),\n",
        "                    locations=loc.body(columns=[col], rows=[index])\n",
        "                )\n",
        "    return table\n",
        "\n",
        "# Apply the styles\n",
        "table = apply_best_value_styles(df, table)\n",
        "\n",
        "# Display the table (assuming in Jupyter Notebook)\n",
        "display(table)"
      ],
      "id": "cell-fig-2-manifolds-noise-table"
    },
    {
      "cell_type": "code",
      "execution_count": null,
      "metadata": {},
      "outputs": [
        {
          "output_type": "display_data",
          "metadata": {},
          "data": {
            "text/html": [
              "\n",
              "</div>"
            ]
          }
        }
      ],
      "source": [
        "metric_df"
      ],
      "id": "cell-28"
    },
    {
      "cell_type": "markdown",
      "metadata": {},
      "source": [
        "# Conclusion\n",
        "\n",
        "Hey!"
      ],
      "id": "45f41285-a426-4ab4-b221-080caca58971"
    },
    {
      "cell_type": "code",
      "execution_count": null,
      "metadata": {},
      "outputs": [
        {
          "output_type": "display_data",
          "metadata": {},
          "data": {
            "text/plain": [
              "array([[ 2.00397824, -0.41691384,  0.71437483],\n",
              "       [ 1.27475224, -0.11175413,  0.90350592],\n",
              "       [-1.91620722,  0.99866728,  0.58539095],\n",
              "       ...,\n",
              "       [-2.97769204, -0.03548212,  0.12042399],\n",
              "       [ 2.35053893, -0.31803095,  0.60068419],\n",
              "       [-0.5358212 , -1.86937732, -0.30733797]])"
            ]
          }
        }
      ],
      "source": [
        "X, ks = ellipsoid(n_points, seed=19323)\n",
        "X"
      ],
      "id": "cell-31"
    }
  ],
  "nbformat": 4,
  "nbformat_minor": 5,
  "metadata": {
    "kernelspec": {
      "name": "conda-env-zetteldev-diffcurv-py",
      "display_name": "Python [conda env:zetteldev-diffcurv]",
      "language": "python"
    },
    "language_info": {
      "name": "python",
      "codemirror_mode": {
        "name": "ipython",
        "version": "3"
      },
      "file_extension": ".py",
      "mimetype": "text/x-python",
      "nbconvert_exporter": "python",
      "pygments_lexer": "ipython3",
      "version": "3.11.7"
    }
  }
}
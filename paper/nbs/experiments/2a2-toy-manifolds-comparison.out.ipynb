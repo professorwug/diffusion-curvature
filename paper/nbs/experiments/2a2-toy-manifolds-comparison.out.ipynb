{
  "cells": [
    {
      "cell_type": "markdown",
      "metadata": {},
      "source": [
        "# 2a2 Comparing Curvatures on Toy Manifolds\n",
        "\n",
        "::: {#cell-1 .cell 0=‘h’ 1=‘i’ 2=‘d’ 3=‘e’}\n",
        "\n",
        "``` python\n",
        "## Standard libraries\n",
        "import os\n",
        "import math\n",
        "import numpy as np\n",
        "import time\n",
        "from fastcore.all import *\n",
        "from nbdev.showdoc import *\n",
        "\n",
        "# Configure environment\n",
        "os.environ['XLA_PYTHON_CLIENT_PREALLOCATE']='false' # Tells Jax not to hog all of the memory to this process.\n",
        "\n",
        "## Imports for plotting\n",
        "import matplotlib.pyplot as plt\n",
        "%matplotlib inline\n",
        "from IPython.display import set_matplotlib_formats\n",
        "# set_matplotlib_formats('svg', 'pdf') # For export\n",
        "from matplotlib.colors import to_rgba\n",
        "import seaborn as sns\n",
        "sns.set()\n",
        "\n",
        "## Progress bar\n",
        "from tqdm.auto import tqdm, trange\n",
        "\n",
        "## project specifics\n",
        "import diffusion_curvature\n",
        "import pygsp\n",
        "import jax\n",
        "import jax.numpy as jnp\n",
        "jax.devices()\n",
        "\n",
        "from diffusion_curvature.graphs import *\n",
        "from diffusion_curvature.datasets import *\n",
        "from diffusion_curvature.core import *\n",
        "from diffusion_curvature.utils import *\n",
        "from diffusion_curvature.comparison_space import *\n",
        "\n",
        "%load_ext autoreload\n",
        "%autoreload 2\n",
        "```\n",
        "\n",
        ":::"
      ],
      "id": "9bf9649e-1704-4910-a7f7-ed441e582175"
    },
    {
      "cell_type": "code",
      "execution_count": null,
      "metadata": {},
      "outputs": [
        {
          "output_type": "display_data",
          "metadata": {},
          "data": {
            "text/plain": [
              "array([[ 2.00397824, -0.41691384,  0.71437483],\n",
              "       [ 1.27475224, -0.11175413,  0.90350592],\n",
              "       [-1.91620722,  0.99866728,  0.58539095],\n",
              "       ...,\n",
              "       [-2.97769204, -0.03548212,  0.12042399],\n",
              "       [ 2.35053893, -0.31803095,  0.60068419],\n",
              "       [-0.5358212 , -1.86937732, -0.30733797]])"
            ]
          }
        }
      ],
      "source": [
        "X, ks = ellipsoid(2000, seed=19323)\n",
        "X"
      ],
      "id": "cell-2"
    },
    {
      "cell_type": "markdown",
      "metadata": {},
      "source": [
        "> Which will emerge victorious?\n",
        "\n",
        "The comparison consists of two parts: 1. A figure showing the visual\n",
        "differences, both in 3d scatter plots, and correlation plots. 2. Tables\n",
        "computing the resilience to noise across methods.\n",
        "\n",
        "# Machinery\n",
        "\n",
        "Load up the results:"
      ],
      "id": "1016653f-d7c6-4c8d-bea2-680bc66f5c3d"
    },
    {
      "cell_type": "code",
      "execution_count": null,
      "metadata": {},
      "outputs": [],
      "source": [
        "curvatures = {\n",
        "    'Ground Truth Curvature' : np.load(\"../../results/toy_datasets_ground_truth_curvatures_1000.npz\"),\n",
        "    'Diffusion Curvature' : np.load(\"../../results/toy_dataset_entropic_fixed_subtraction.npz\"),\n",
        "    'Unsigned Diffusion Curvature' : np.load(\"../../results/toy_dataset_neurips_laziness_no_comparison.npz\"),\n",
        "    # 'AdaL-PCA' : np.load(\"../../results/toy_dataset_toy_datasets_principal_curvature_heuristic.npz\"),\n",
        "    'AdaL-PCA' : np.load(\"../../results/toy_dataset_toy_datasets_principal_curvature_heuristic_filtered.npz\"), # outlier points filtered out\n",
        "    # 'AdaL-PCA' : np.load(\"../../results/toy_dataset_toy_datasets_principal_curvature_no_heuristic_08_15.npz\"),\n",
        "    'Unsigned Diffusion Curvature' : np.load(\"../../results/toy_dataset_neurips_laziness_no_comparison.npz\"),\n",
        "    'Hickok & Blumberg' : np.load(\"../../results/toy_dataset_toy_datasets_hickock_curvature_r3.14.npz\"),\n",
        "}\n",
        "scaled_curvatures = dict(curvatures)"
      ],
      "id": "cell-7"
    },
    {
      "cell_type": "markdown",
      "metadata": {},
      "source": [
        "And the data"
      ],
      "id": "ffa14997-9a54-4f7c-a028-d0f26b98135e"
    },
    {
      "cell_type": "code",
      "execution_count": null,
      "metadata": {},
      "outputs": [],
      "source": [
        "Xs = np.load(\"../../results/toy_data_saved_1000.npz\")\n",
        "Ks = np.load(\"../../results/toy_datasets_ground_truth_curvatures_1000.npz\")"
      ],
      "id": "cell-9"
    },
    {
      "cell_type": "code",
      "execution_count": null,
      "metadata": {},
      "outputs": [
        {
          "output_type": "display_data",
          "metadata": {},
          "data": {
            "text/plain": [
              "(1000, 3)"
            ]
          }
        }
      ],
      "source": [
        "Xs['Ellipsoid'].shape"
      ],
      "id": "cell-10"
    },
    {
      "cell_type": "code",
      "execution_count": null,
      "metadata": {},
      "outputs": [],
      "source": [
        "# # Establish Datasets\n",
        "# n_points = 2000\n",
        "# Xs = {}\n",
        "# Ks = {}\n",
        "# Xs['Torus'], Ks['Torus'] = torus(n_points, use_guide_points=False, seed=19323)\n",
        "# Xs['Saddle'], Ks['Saddle'] = paraboloid(n_points, use_guide_points=False, seed=19323)\n",
        "# Xs['sphere'], Ks['sphere'] = sphere(n_points,)\n",
        "# Xs['Ellipsoid'], Ks['Ellipsoid'] = ellipsoid(n_points, seed=19323)\n",
        "# Xs['hyperboloid'], Ks['hyperboloid'] = hyperboloid(n_points, seed=19323)\n",
        "# # Noised Versions\n",
        "# for noise_scale in [0.1, 0.2, 0.3, 0.4, 0.5]:\n",
        "#     Xs[f'Torus noise = {noise_scale}'], Ks[f'Torus noise = {noise_scale}'] = torus(n_points, use_guide_points=False, seed=19323, noise = noise_scale)\n",
        "#     # Xs['plane noise = {noise_scale}'] = np.hstack([plane(n_points, dim=2),np.zeros((n_points,1))])\n",
        "#     # Ks['plane noise = {noise_scale}'] = np.zeros(len(Xs['plane']))\n",
        "#     Xs[f'Saddle noise = {noise_scale}'], Ks[f'Saddle noise = {noise_scale}'] = paraboloid(n_points, use_guide_points=False, seed=19323, noise = noise_scale)\n",
        "#     # Xs['sphere = {noise_scale}'], Ks['sphere = {noise_scale}'] = sphere(n_points,)\n",
        "#     Xs[f'Ellipsoid noise = {noise_scale}'], Ks[f'Ellipsoid noise = {noise_scale}'] = ellipsoid(n_points, seed=19323, noise = noise_scale)\n",
        "#     Xs[f'hyperboloid noise = {noise_scale}'], Ks[f'hyperboloid noise = {noise_scale}'] = hyperboloid(n_points, seed=19323, noise = noise_scale)"
      ],
      "id": "cell-11"
    },
    {
      "cell_type": "code",
      "execution_count": null,
      "metadata": {},
      "outputs": [
        {
          "output_type": "display_data",
          "metadata": {},
          "data": {
            "text/plain": [
              "(1000,)"
            ]
          }
        }
      ],
      "source": [
        "curvatures['Hickok & Blumberg']['Torus'].shape"
      ],
      "id": "cell-12"
    },
    {
      "cell_type": "markdown",
      "metadata": {},
      "source": [
        "# Results"
      ],
      "id": "703ede1c-6381-4147-9e1d-ff9266742445"
    },
    {
      "cell_type": "code",
      "execution_count": null,
      "metadata": {},
      "outputs": [
        {
          "output_type": "display_data",
          "metadata": {},
          "data": {}
        }
      ],
      "source": [
        "import matplotlib.pyplot as plt\n",
        "from mpl_toolkits.mplot3d import Axes3D\n",
        "import seaborn as sns\n",
        "from matplotlib import colors\n",
        "import numpy as np\n",
        "\n",
        "# Assuming Xs, labels, ground_truth_labels, and key_names are defined\n",
        "# For example:\n",
        "key_names = ['Torus', 'Saddle', 'Ellipsoid']\n",
        "labels = curvatures\n",
        "ground_truth_labels = Ks\n",
        "\n",
        "# Set the style of seaborn\n",
        "sns.set(style=\"whitegrid\")\n",
        "\n",
        "fig_shape = (len(curvatures.keys()) + 1, len(key_names))\n",
        "method_colors = ['green', 'olive', 'navy', 'orange', 'purple']\n",
        "assert len(method_colors) == len(curvatures.keys())\n",
        "\n",
        "ordered_keys = curvatures.keys() #['Gaussian', 'Adal-PCA', 'Unsigned Diffusion Curvature', 'Hickok & Blumberg']\n",
        "assert set(ordered_keys) == set(curvatures.keys())\n",
        "\n",
        "# Create a figure and axes with 2 rows and 3 columns\n",
        "fig, axs = plt.subplots(fig_shape[0], fig_shape[1], figsize=(fig_shape[0]*2, fig_shape[1]*5), subplot_kw={'projection': '3d'} if plt.matplotlib.__version__ < '3.4.0' else None)\n",
        "\n",
        "for i, key in enumerate(key_names):\n",
        "    # 3D scatter plot for the first row\n",
        "    lim = np.max(np.linalg.norm(Xs[key], axis=1))\n",
        "    # if plt.matplotlib.__version__ >= '3.4.0':\n",
        "\n",
        "    # plot the curvature for each method\n",
        "    for j, method_name in enumerate(ordered_keys):\n",
        "        axs[j, i].remove()\n",
        "        axs[j, i] = fig.add_subplot(fig_shape[0], fig_shape[1], i + j*fig_shape[1] + 1, projection='3d')\n",
        "        axs[j, i].axes.set_xlim3d(left=-lim, right=lim)\n",
        "        axs[j, i].axes.set_ylim3d(bottom=-lim, top=lim)\n",
        "        axs[j, i].axes.set_zlim3d(bottom=-lim, top=lim)\n",
        "        axs[j, i].set_xticks([])\n",
        "        axs[j, i].set_yticks([])\n",
        "        axs[j, i].set_zticks([])\n",
        "\n",
        "        scaled_labels = labels[method_name][key]\n",
        "        scaled_labels = scaled_labels / (max(scaled_labels) - min(scaled_labels))\n",
        "        scatter3d = axs[j, i].scatter(Xs[key][:, 0], Xs[key][:, 1], Xs[key][:, 2], c=scaled_labels, cmap = 'coolwarm')\n",
        "        if i == 1:\n",
        "            axs[j, i].set_title(f'{method_name}',fontsize=15, c = method_colors[j])\n",
        "\n",
        "    # Scatter plot for the second row, colored by labels\n",
        "    # axs[j+1, i].remove()\n",
        "    # axs[j+1, i] = fig.add_subplot(fig_shape[0], fig_shape[1], i+4)\n",
        "    for k, method_name in enumerate(ordered_keys):\n",
        "        # min max scaling\n",
        "        scaled_labels = labels[method_name][key]\n",
        "        scaled_labels = scaled_labels / (max(scaled_labels) - min(scaled_labels))\n",
        "        scatter2d = axs[j+1, i].scatter(ground_truth_labels[key], scaled_labels, c = method_colors[k], s = 1)\n",
        "        axs[j+1,i].set_aspect('equal')\n",
        "    # axs[1, i].set_title(f'')\n",
        "    axs[j+1, i].set_xlabel('Gaussian Curvature')\n",
        "    axs[j+1, i].set_ylabel('Estimated Curvature')\n",
        "    \n",
        "    \n",
        "    # Highlight the origin lines in 2D scatter plots\n",
        "    axs[j+1, i].axhline(0, color='gray', linewidth=1, linestyle='--')\n",
        "    axs[j+1, i].axvline(0, color='gray', linewidth=1, linestyle='--')\n",
        "\n",
        "    # # Add colorbar for each subplot\n",
        "    # fig.colorbar(scatter3d, ax=axs[0, i], fraction=0.046, pad=0.04)\n",
        "    # fig.colorbar(scatter2d, ax=axs[1, i], fraction=0.046, pad=0.04)\n",
        "plt.suptitle(\"Estimated Gaussian Curvatures of 2-Manifolds\", fontsize=30)\n",
        "plt.tight_layout()\n",
        "plt.show()\n"
      ],
      "id": "cell-fig-2-manifolds-visual-comparison"
    },
    {
      "cell_type": "code",
      "execution_count": null,
      "metadata": {},
      "outputs": [
        {
          "output_type": "display_data",
          "metadata": {},
          "data": {
            "text/plain": [
              "array([[ 0.63842898, -0.41691384, -0.95459822],\n",
              "       [-1.08160955,  0.99866728,  0.78783205],\n",
              "       [-2.40019712, -0.81698673, -0.43934956],\n",
              "       ...,\n",
              "       [ 0.35009997,  1.90351948,  0.28378602],\n",
              "       [-1.95352695,  0.5126914 , -0.71432287],\n",
              "       [-1.21028093, -1.18071427,  0.69908878]])"
            ]
          }
        }
      ],
      "source": [
        "Xs['Ellipsoid']"
      ],
      "id": "cell-15"
    },
    {
      "cell_type": "markdown",
      "metadata": {},
      "source": [
        "# Table"
      ],
      "id": "a77bad9d-713c-497a-9ccd-dedfb766c44e"
    },
    {
      "cell_type": "code",
      "execution_count": null,
      "metadata": {},
      "outputs": [],
      "source": [
        "import pandas as pd"
      ],
      "id": "cell-17"
    },
    {
      "cell_type": "code",
      "execution_count": null,
      "metadata": {},
      "outputs": [],
      "source": [
        "from sklearn.metrics import mean_squared_error\n",
        "def root_mse_between(labels, method, dataset):\n",
        "    truth = labels['Ground Truth Curvature'][dataset]\n",
        "    computed = labels[method][dataset]\n",
        "    return np.sqrt(mean_squared_error(truth, computed))"
      ],
      "id": "cell-18"
    },
    {
      "cell_type": "code",
      "execution_count": null,
      "metadata": {},
      "outputs": [],
      "source": [
        "from scipy.stats import energy_distance\n",
        "def energy_between(labels, method, dataset):\n",
        "    truth = labels['Ground Truth Curvature'][dataset]\n",
        "    computed = labels[method][dataset]\n",
        "    return energy_distance(truth, computed)"
      ],
      "id": "cell-19"
    },
    {
      "cell_type": "code",
      "execution_count": null,
      "metadata": {},
      "outputs": [],
      "source": [
        "from scipy.stats import pearsonr\n",
        "def pearson_correlation_between(labels, method, dataset):\n",
        "    truth = labels['Ground Truth Curvature'][dataset]\n",
        "    computed = labels[method][dataset]\n",
        "    rho, confidence = pearsonr(truth, computed)\n",
        "    return rho"
      ],
      "id": "cell-20"
    },
    {
      "cell_type": "code",
      "execution_count": null,
      "metadata": {},
      "outputs": [
        {
          "output_type": "stream",
          "name": "stdout",
          "text": [
            "Diffusion Curvature\n",
            "Unsigned Diffusion Curvature\n",
            "AdaL-PCA\n",
            "Hickok & Blumberg"
          ]
        }
      ],
      "source": [
        "noise_scales = [0.05, 0.1, 0.15, 0.2, 0.25]\n",
        "dataset_names = ['Torus'] + [f'Torus noise = {x}' for x in noise_scales] + ['Saddle'] + [f'Saddle noise = {x}' for x in noise_scales] + ['Ellipsoid'] + [f'Ellipsoid noise = {x}' for x in noise_scales]\n",
        "\n",
        "metrics_collected = {\n",
        "        'RMSE':{}, 'ED':{}, 'PCC':{}\n",
        "    }\n",
        "\n",
        "for method in labels.keys():\n",
        "    if method == 'Ground Truth Curvature': \n",
        "        pass\n",
        "    else:\n",
        "        print(method)\n",
        "        metrics_collected['RMSE'][method] = {}\n",
        "        metrics_collected['ED'][method] = {}\n",
        "        metrics_collected['PCC'][method] = {}\n",
        "        \n",
        "        for dname in dataset_names:\n",
        "            try:\n",
        "                metrics_collected['RMSE'][method][dname] = root_mse_between(curvatures, method, dname)\n",
        "                metrics_collected['ED'][method][dname] = energy_between(curvatures, method, dname)\n",
        "                metrics_collected['PCC'][method][dname] = pearson_correlation_between(curvatures, method, dname)\n",
        "            except KeyError:\n",
        "                pass"
      ],
      "id": "cell-21"
    },
    {
      "cell_type": "code",
      "execution_count": null,
      "metadata": {},
      "outputs": [
        {
          "output_type": "display_data",
          "metadata": {},
          "data": {
            "text/plain": [
              "1.3590765614253006"
            ]
          }
        }
      ],
      "source": [
        "root_mse_between(curvatures, 'Hickok & Blumberg', 'Torus')"
      ],
      "id": "cell-22"
    },
    {
      "cell_type": "markdown",
      "metadata": {},
      "source": [
        "`<<<<<<< HEAD`"
      ],
      "id": "10231ff9-6934-4b4c-b630-fd14162224be"
    },
    {
      "cell_type": "code",
      "execution_count": null,
      "metadata": {},
      "outputs": [
        {
          "output_type": "display_data",
          "metadata": {},
          "data": {
            "text/plain": [
              "{'Diffusion Curvature': {'Torus': 1.0460202196442228,\n",
              "  'Torus noise = 0.05': 1.049243413612388,\n",
              "  'Torus noise = 0.1': 1.0527980111124997,\n",
              "  'Torus noise = 0.15': 1.0567384935899182,\n",
              "  'Torus noise = 0.2': 1.0640107366623106,\n",
              "  'Torus noise = 0.25': 1.0674477886925686,\n",
              "  'Saddle': 0.9884773193911943,\n",
              "  'Saddle noise = 0.05': 0.9667851109656882,\n",
              "  'Saddle noise = 0.1': 0.9461563864867284,\n",
              "  'Saddle noise = 0.15': 0.946086573977571,\n",
              "  'Saddle noise = 0.2': 0.9273826931087096,\n",
              "  'Saddle noise = 0.25': 0.9213057463679875,\n",
              "  'Ellipsoid': 0.8363240046931492,\n",
              "  'Ellipsoid noise = 0.05': 0.8487988315616136,\n",
              "  'Ellipsoid noise = 0.1': 0.8554624707365525,\n",
              "  'Ellipsoid noise = 0.15': 0.8706177428655153,\n",
              "  'Ellipsoid noise = 0.2': 0.878686376631768,\n",
              "  'Ellipsoid noise = 0.25': 0.8840094834321106},\n",
              " 'Unsigned Diffusion Curvature': {'Torus': 0.8943585466700803,\n",
              "  'Torus noise = 0.05': 0.8919689391909543,\n",
              "  'Torus noise = 0.1': 0.8995194295549708,\n",
              "  'Torus noise = 0.15': 0.9025236984417024,\n",
              "  'Torus noise = 0.2': 0.9035206651033714,\n",
              "  'Torus noise = 0.25': 0.9065933226791171,\n",
              "  'Saddle': 1.2952193664657523,\n",
              "  'Saddle noise = 0.05': 1.295471967223931,\n",
              "  'Saddle noise = 0.1': 1.3093714284020872,\n",
              "  'Saddle noise = 0.15': 1.3227818850415176,\n",
              "  'Saddle noise = 0.2': 1.3324969266395292,\n",
              "  'Saddle noise = 0.25': 1.3227259129712323,\n",
              "  'Ellipsoid': 0.597799457937825,\n",
              "  'Ellipsoid noise = 0.05': 0.6049134898343539,\n",
              "  'Ellipsoid noise = 0.1': 0.6156048158517344,\n",
              "  'Ellipsoid noise = 0.15': 0.6184490784150336,\n",
              "  'Ellipsoid noise = 0.2': 0.6171607567115747,\n",
              "  'Ellipsoid noise = 0.25': 0.6238431511791414},\n",
              " 'AdaL-PCA': {'Torus': 0.7905700978435937,\n",
              "  'Torus noise = 0.05': 0.9806275181718459,\n",
              "  'Torus noise = 0.1': 1.7017837942363958,\n",
              "  'Torus noise = 0.15': 2.040606444287437,\n",
              "  'Torus noise = 0.2': 2.6755425767388537,\n",
              "  'Torus noise = 0.25': 2.651646020467047,\n",
              "  'Saddle': 0.5966535233839613,\n",
              "  'Saddle noise = 0.05': 157.15145179493663,\n",
              "  'Saddle noise = 0.1': 83.54357625625143,\n",
              "  'Saddle noise = 0.15': 48.49916250297099,\n",
              "  'Saddle noise = 0.2': 29.631065973827525,\n",
              "  'Saddle noise = 0.25': 21.95077399772847,\n",
              "  'Ellipsoid': 0.6808457693342963,\n",
              "  'Ellipsoid noise = 0.05': 3.7070996549869464,\n",
              "  'Ellipsoid noise = 0.1': 6.693845783847647,\n",
              "  'Ellipsoid noise = 0.15': 7.432934238107848,\n",
              "  'Ellipsoid noise = 0.2': 6.795221348214839,\n",
              "  'Ellipsoid noise = 0.25': 6.4018964322345635},\n",
              " 'Hickok & Blumberg': {'Torus': 1.3590765614253006,\n",
              "  'Torus noise = 0.05': 1.2559616556562752,\n",
              "  'Torus noise = 0.1': 0.928243185167349,\n",
              "  'Torus noise = 0.15': 0.6703155743563535,\n",
              "  'Torus noise = 0.2': 0.6007971886066514,\n",
              "  'Torus noise = 0.25': 0.6755302717120315,\n",
              "  'Saddle': 3.1079552670763086,\n",
              "  'Saddle noise = 0.05': 2.4199579852936255,\n",
              "  'Saddle noise = 0.1': 1.9123849934680435,\n",
              "  'Saddle noise = 0.15': 3.333692651031172,\n",
              "  'Saddle noise = 0.2': 4.246204360808727,\n",
              "  'Saddle noise = 0.25': 4.744920247874323,\n",
              "  'Ellipsoid': 0.9828793809635176,\n",
              "  'Ellipsoid noise = 0.05': 0.7939410451747277,\n",
              "  'Ellipsoid noise = 0.1': 0.5468853809516319,\n",
              "  'Ellipsoid noise = 0.15': 0.7912424453864855,\n",
              "  'Ellipsoid noise = 0.2': 1.2216300925091366,\n",
              "  'Ellipsoid noise = 0.25': 1.6613846776494354}}"
            ]
          }
        }
      ],
      "source": [
        "metrics_collected['RMSE']"
      ],
      "id": "cell-24"
    },
    {
      "cell_type": "code",
      "execution_count": null,
      "metadata": {},
      "outputs": [
        {
          "output_type": "display_data",
          "metadata": {},
          "data": {
            "text/plain": [
              "{'Diffusion Curvature': {'Torus': 0.8525297413122042,\n",
              "  'Torus noise = 0.05': 0.8573076662269208,\n",
              "  'Torus noise = 0.1': 0.8614849743189963,\n",
              "  'Torus noise = 0.15': 0.8652935831252904,\n",
              "  'Torus noise = 0.2': 0.8737276828428167,\n",
              "  'Torus noise = 0.25': 0.8764148087540199,\n",
              "  'Saddle': 0.8352356963150924,\n",
              "  'Saddle noise = 0.05': 0.7979142936086537,\n",
              "  'Saddle noise = 0.1': 0.7537901965658877,\n",
              "  'Saddle noise = 0.15': 0.7470891066575561,\n",
              "  'Saddle noise = 0.2': 0.7020227067238126,\n",
              "  'Saddle noise = 0.25': 0.6841108768403074,\n",
              "  'Ellipsoid': 0.5773901505629668,\n",
              "  'Ellipsoid noise = 0.05': 0.6126492917746579,\n",
              "  'Ellipsoid noise = 0.1': 0.6301278217325069,\n",
              "  'Ellipsoid noise = 0.15': 0.667819248297134,\n",
              "  'Ellipsoid noise = 0.2': 0.686189385833022,\n",
              "  'Ellipsoid noise = 0.25': 0.697563532357479},\n",
              " 'Unsigned Diffusion Curvature': {'Torus': 0.5734058099110984,\n",
              "  'Torus noise = 0.05': 0.5719564768144003,\n",
              "  'Torus noise = 0.1': 0.56898172318435,\n",
              "  'Torus noise = 0.15': 0.5671103821203981,\n",
              "  'Torus noise = 0.2': 0.5662169351088289,\n",
              "  'Torus noise = 0.25': 0.5658959385208114,\n",
              "  'Saddle': 1.1802822924544905,\n",
              "  'Saddle noise = 0.05': 1.1804057682529525,\n",
              "  'Saddle noise = 0.1': 1.1904858967128558,\n",
              "  'Saddle noise = 0.15': 1.1992073030710952,\n",
              "  'Saddle noise = 0.2': 1.2017161098724933,\n",
              "  'Saddle noise = 0.25': 1.1899359182850304,\n",
              "  'Ellipsoid': 0.18116238285725225,\n",
              "  'Ellipsoid noise = 0.05': 0.18670453102350726,\n",
              "  'Ellipsoid noise = 0.1': 0.1942011489699464,\n",
              "  'Ellipsoid noise = 0.15': 0.19870158678771024,\n",
              "  'Ellipsoid noise = 0.2': 0.1877998455408347,\n",
              "  'Ellipsoid noise = 0.25': 0.19121020258807056},\n",
              " 'AdaL-PCA': {'Torus': 0.6710713777673143,\n",
              "  'Torus noise = 0.05': 0.6948987249417321,\n",
              "  'Torus noise = 0.1': 0.8624184148230342,\n",
              "  'Torus noise = 0.15': 1.0529529413054564,\n",
              "  'Torus noise = 0.2': 1.2578238928580172,\n",
              "  'Torus noise = 0.25': 1.345687817665302,\n",
              "  'Saddle': 0.5464391871664627,\n",
              "  'Saddle noise = 0.05': 5.179152950400703,\n",
              "  'Saddle noise = 0.1': 6.9032245031031145,\n",
              "  'Saddle noise = 0.15': 5.926859098494771,\n",
              "  'Saddle noise = 0.2': 5.0193352027395495,\n",
              "  'Saddle noise = 0.25': 4.513325007778283,\n",
              "  'Ellipsoid': 0.2974682823164955,\n",
              "  'Ellipsoid noise = 0.05': 0.5956940129754204,\n",
              "  'Ellipsoid noise = 0.1': 1.0359106491365015,\n",
              "  'Ellipsoid noise = 0.15': 1.6101083650276766,\n",
              "  'Ellipsoid noise = 0.2': 1.9440118452763868,\n",
              "  'Ellipsoid noise = 0.25': 2.0869429912647175},\n",
              " 'Hickok & Blumberg': {'Torus': 0.9612837972966679,\n",
              "  'Torus noise = 0.05': 0.8651349865277895,\n",
              "  'Torus noise = 0.1': 0.556147994862657,\n",
              "  'Torus noise = 0.15': 0.3652052621269624,\n",
              "  'Torus noise = 0.2': 0.3528856750399482,\n",
              "  'Torus noise = 0.25': 0.4089468659252984,\n",
              "  'Saddle': 2.1380550751438636,\n",
              "  'Saddle noise = 0.05': 1.7406643060480462,\n",
              "  'Saddle noise = 0.1': 0.9528215026790867,\n",
              "  'Saddle noise = 0.15': 1.072021961812425,\n",
              "  'Saddle noise = 0.2': 1.4545029035791932,\n",
              "  'Saddle noise = 0.25': 1.7259308053826534,\n",
              "  'Ellipsoid': 1.070103743034086,\n",
              "  'Ellipsoid noise = 0.05': 0.8751411304139627,\n",
              "  'Ellipsoid noise = 0.1': 0.3193291603738991,\n",
              "  'Ellipsoid noise = 0.15': 0.5934025376947268,\n",
              "  'Ellipsoid noise = 0.2': 1.054809916751789,\n",
              "  'Ellipsoid noise = 0.25': 1.304638006485671}}"
            ]
          }
        }
      ],
      "source": [
        "metrics_collected['ED']"
      ],
      "id": "cell-25"
    },
    {
      "cell_type": "code",
      "execution_count": null,
      "metadata": {},
      "outputs": [
        {
          "output_type": "display_data",
          "metadata": {},
          "data": {
            "text/plain": [
              "{'Diffusion Curvature': {'Torus': 0.976824069472391,\n",
              "  'Torus noise = 0.05': 0.9766554590998108,\n",
              "  'Torus noise = 0.1': 0.9778295098788748,\n",
              "  'Torus noise = 0.15': 0.9713233182600294,\n",
              "  'Torus noise = 0.2': 0.9577290652166607,\n",
              "  'Torus noise = 0.25': 0.9399089113151682,\n",
              "  'Saddle': 0.8533497782976275,\n",
              "  'Saddle noise = 0.05': 0.8494040578187324,\n",
              "  'Saddle noise = 0.1': 0.8248595421689614,\n",
              "  'Saddle noise = 0.15': 0.7770981362319288,\n",
              "  'Saddle noise = 0.2': 0.7119684344107111,\n",
              "  'Saddle noise = 0.25': 0.6352892831447903,\n",
              "  'Ellipsoid': 0.668847306551479,\n",
              "  'Ellipsoid noise = 0.05': 0.660280141054572,\n",
              "  'Ellipsoid noise = 0.1': 0.6492336488981361,\n",
              "  'Ellipsoid noise = 0.15': 0.6346327738796707,\n",
              "  'Ellipsoid noise = 0.2': 0.6173490993131386,\n",
              "  'Ellipsoid noise = 0.25': 0.5966660390799717},\n",
              " 'Unsigned Diffusion Curvature': {'Torus': 0.9481193182381812,\n",
              "  'Torus noise = 0.05': 0.9418341797945845,\n",
              "  'Torus noise = 0.1': 0.9312416021266787,\n",
              "  'Torus noise = 0.15': 0.9085075006279271,\n",
              "  'Torus noise = 0.2': 0.8730379981547388,\n",
              "  'Torus noise = 0.25': 0.8379689523089695,\n",
              "  'Saddle': 0.8380026567861575,\n",
              "  'Saddle noise = 0.05': 0.8341780426005184,\n",
              "  'Saddle noise = 0.1': 0.8093598985394691,\n",
              "  'Saddle noise = 0.15': 0.7645354832043381,\n",
              "  'Saddle noise = 0.2': 0.7030932716573075,\n",
              "  'Saddle noise = 0.25': 0.6292240950399636,\n",
              "  'Ellipsoid': 0.5945589137552307,\n",
              "  'Ellipsoid noise = 0.05': 0.5825642737767202,\n",
              "  'Ellipsoid noise = 0.1': 0.5583150525998575,\n",
              "  'Ellipsoid noise = 0.15': 0.5476153628543337,\n",
              "  'Ellipsoid noise = 0.2': 0.5507283285023771,\n",
              "  'Ellipsoid noise = 0.25': 0.5366786503720204},\n",
              " 'AdaL-PCA': {'Torus': 0.9418342861237213,\n",
              "  'Torus noise = 0.05': 0.5618844421066612,\n",
              "  'Torus noise = 0.1': 0.1532873682233706,\n",
              "  'Torus noise = 0.15': 0.06864650155981816,\n",
              "  'Torus noise = 0.2': 0.07819808196427949,\n",
              "  'Torus noise = 0.25': 0.03279248667206587,\n",
              "  'Saddle': 0.7396965706504889,\n",
              "  'Saddle noise = 0.05': 0.03543620261425413,\n",
              "  'Saddle noise = 0.1': 0.007493953387057498,\n",
              "  'Saddle noise = 0.15': 0.04688203414316737,\n",
              "  'Saddle noise = 0.2': 0.09609898713425272,\n",
              "  'Saddle noise = 0.25': 0.17907628146479518,\n",
              "  'Ellipsoid': 0.5611947908350309,\n",
              "  'Ellipsoid noise = 0.05': -0.10238187360458216,\n",
              "  'Ellipsoid noise = 0.1': -0.02826522666772372,\n",
              "  'Ellipsoid noise = 0.15': 0.03975643506529558,\n",
              "  'Ellipsoid noise = 0.2': 0.08525847089230666,\n",
              "  'Ellipsoid noise = 0.25': 0.09147684842840456},\n",
              " 'Hickok & Blumberg': {'Torus': 0.9541433506262154,\n",
              "  'Torus noise = 0.05': 0.9547448174863847,\n",
              "  'Torus noise = 0.1': 0.9450637731080545,\n",
              "  'Torus noise = 0.15': 0.9027032471433253,\n",
              "  'Torus noise = 0.2': 0.8555159097148427,\n",
              "  'Torus noise = 0.25': 0.7911918939026727,\n",
              "  'Saddle': 0.9920179001920848,\n",
              "  'Saddle noise = 0.05': 0.9659210978145201,\n",
              "  'Saddle noise = 0.1': 0.9035160239777216,\n",
              "  'Saddle noise = 0.15': 0.828035242856634,\n",
              "  'Saddle noise = 0.2': 0.7491967260584577,\n",
              "  'Saddle noise = 0.25': 0.6639092832411666,\n",
              "  'Ellipsoid': 0.7274351578683468,\n",
              "  'Ellipsoid noise = 0.05': 0.7344814885727449,\n",
              "  'Ellipsoid noise = 0.1': 0.7058285236024547,\n",
              "  'Ellipsoid noise = 0.15': 0.6403175643627516,\n",
              "  'Ellipsoid noise = 0.2': 0.5748093595392746,\n",
              "  'Ellipsoid noise = 0.25': 0.5212241276382766}}"
            ]
          }
        }
      ],
      "source": [
        "metrics_collected['PCC']"
      ],
      "id": "cell-26"
    },
    {
      "cell_type": "markdown",
      "metadata": {},
      "source": [
        "`=======`\n",
        "\n",
        "`>>>>>>> fadda59 (Great tables reproduction of toy manifold table)`"
      ],
      "id": "111f950f-61f8-4071-8abd-dceadbd318e5"
    },
    {
      "cell_type": "code",
      "execution_count": null,
      "metadata": {},
      "outputs": [
        {
          "output_type": "stream",
          "name": "stdout",
          "text": [
            "\\begin{tabular}{lc|cccccc|cccccc|cccccc}\n",
            "\\toprule\n",
            "\\multirow{2}{*}{\\textbf{Model}} & \\multirow{2}{*}{\\textbf{Metric}} & \\multicolumn{6}{c|}{\\textbf{Torus}} & \\multicolumn{6}{c|}{\\textbf{Ellipsoid}} & \\multicolumn{6}{c}{\\textbf{Saddle}} \\\\\n",
            "& & 0.0 & 0.05 & 0.10 & 0.15 & 0.20 & \\multicolumn{1}{c|}{0.25} & 0.0 & 0.05 & 0.10 & 0.15 & 0.20 & \\multicolumn{1}{c|}{0.25} & 0.0 & 0.05 & 0.10 & 0.15 & 0.20 & 0.25 \\\\\n",
            "\\midrule\n",
            "Diffusion Curvature & RMSE & 0.916 & 0.954 & 0.988 & 1.024 & 1.110 & 1.130 & 0.760 & 0.888 & 0.921 & 1.074 & 1.186 & 1.218 & 1.102 & \\textbf{0.900} & \\textbf{0.632} & \\textbf{0.642} & \\textbf{0.574} & \\textbf{0.628} \\\\\n",
            "Unsigned Diffusion Curvature & RMSE & 0.894 & \\textbf{0.892} & \\textbf{0.900} & 0.903 & 0.904 & 0.907 & \\textbf{0.598} & \\textbf{0.605} & 0.616 & \\textbf{0.618} & \\textbf{0.617} & \\textbf{0.624} & 1.295 & 1.295 & 1.309 & 1.323 & 1.332 & 1.323 \\\\\n",
            "AdaL-PCA & RMSE & \\textbf{0.791} & 0.981 & 1.702 & 2.041 & 2.676 & 2.652 & 0.681 & 3.707 & 6.694 & 7.433 & 6.795 & 6.402 & \\textbf{0.597} & 157.151 & 83.544 & 48.499 & 29.631 & 21.951 \\\\\n",
            "Hickok \\& Blumberg & RMSE & 1.359 & 1.256 & 0.928 & \\textbf{0.670} & \\textbf{0.601} & \\textbf{0.676} & 0.983 & 0.794 & \\textbf{0.547} & 0.791 & 1.222 & 1.661 & 3.108 & 2.420 & 1.912 & 3.334 & 4.246 & 4.745 \\\\\n",
            "\\midrule\n",
            "Diffusion Curvature & ED & 0.757 & 0.813 & 0.854 & 0.889 & 0.963 & 0.976 & 0.349 & 0.620 & 0.683 & 0.933 & 1.070 & 1.102 & 0.952 & \\textbf{0.722} & \\textbf{0.363} & \\textbf{0.327} & \\textbf{0.383} & \\textbf{0.513} \\\\\n",
            "Unsigned Diffusion Curvature & ED & \\textbf{0.573} & \\textbf{0.572} & 0.569 & 0.567 & 0.566 & 0.566 & \\textbf{0.181} & \\textbf{0.187} & \\textbf{0.194} & \\textbf{0.199} & \\textbf{0.188} & \\textbf{0.191} & 1.180 & 1.180 & 1.190 & 1.199 & 1.202 & 1.190 \\\\\n",
            "AdaL-PCA & ED & 0.671 & 0.695 & 0.862 & 1.053 & 1.258 & 1.346 & 0.297 & 0.596 & 1.036 & 1.610 & 1.944 & 2.087 & \\textbf{0.546} & 5.179 & 6.903 & 5.927 & 5.019 & 4.513 \\\\\n",
            "Hickok \\& Blumberg & ED & 0.961 & 0.865 & \\textbf{0.556} & \\textbf{0.365} & \\textbf{0.353} & \\textbf{0.409} & 1.070 & 0.875 & 0.319 & 0.593 & 1.055 & 1.305 & 2.138 & 1.741 & 0.953 & 1.072 & 1.455 & 1.726 \\\\\n",
            "\\midrule\n",
            "Diffusion Curvature & PCC & 0.918 & 0.935 & \\textbf{0.954} & \\textbf{0.957} & \\textbf{0.948} & \\textbf{0.931} & 0.004 & -0.003 & 0.002 & -0.002 & 0.009 & 0.011 & 0.739 & 0.800 & 0.801 & 0.764 & 0.707 & 0.636 \\\\\n",
            "Unsigned Diffusion Curvature & PCC & 0.948 & 0.942 & 0.931 & 0.909 & 0.873 & 0.838 & 0.595 & 0.583 & 0.558 & 0.548 & 0.551 & \\textbf{0.537} & 0.838 & 0.834 & 0.809 & 0.765 & 0.703 & 0.629 \\\\\n",
            "AdaL-PCA & PCC & 0.942 & 0.562 & 0.153 & 0.069 & 0.078 & 0.033 & 0.561 & -0.102 & -0.028 & 0.040 & 0.085 & 0.091 & 0.740 & 0.035 & 0.007 & 0.047 & 0.096 & 0.179 \\\\\n",
            "Hickok \\& Blumberg & PCC & \\textbf{0.954} & \\textbf{0.955} & 0.945 & 0.903 & 0.856 & 0.791 & \\textbf{0.727} & \\textbf{0.734} & \\textbf{0.706} & \\textbf{0.640} & \\textbf{0.575} & 0.521 & \\textbf{0.992} & \\textbf{0.966} & \\textbf{0.904} & \\textbf{0.828} & \\textbf{0.749} & \\textbf{0.664} \\\\\n",
            "\\midrule\n",
            "\\bottomrule\\n\\end{tabular}"
          ]
        }
      ],
      "source": [
        "\n",
        "\n",
        "# Define the LaTeX table structure\n",
        "def create_latex_table(metrics):\n",
        "    header = r\"\"\"\\begin{tabular}{lc|cccccc|cccccc|cccccc}\n",
        "\\toprule\n",
        "\\multirow{2}{*}{\\textbf{Model}} & \\multirow{2}{*}{\\textbf{Metric}} & \\multicolumn{6}{c|}{\\textbf{Torus}} & \\multicolumn{6}{c|}{\\textbf{Ellipsoid}} & \\multicolumn{6}{c}{\\textbf{Saddle}} \\\\\n",
        "& & 0.0 & 0.05 & 0.10 & 0.15 & 0.20 & \\multicolumn{1}{c|}{0.25} & 0.0 & 0.05 & 0.10 & 0.15 & 0.20 & \\multicolumn{1}{c|}{0.25} & 0.0 & 0.05 & 0.10 & 0.15 & 0.20 & 0.25 \\\\\n",
        "\\midrule\n",
        "\"\"\"\n",
        "    footer = r\"\\bottomrule\\n\\end{tabular}\"\n",
        "\n",
        "    # Start building the table content\n",
        "    table_content = header\n",
        "\n",
        "    # Function to find the best values for bolding\n",
        "    def find_best_values(data, surfaces, noises, metric):\n",
        "        best_values = {}\n",
        "        for surface in surfaces:\n",
        "            for noise in noises:\n",
        "                key = f\"{surface} noise = {noise}\" if noise > 0 else surface\n",
        "                values = [model_data.get(key, float('-inf') if metric == 'PCC' else float('inf')) for model_data in data.values()]\n",
        "                best_value = max(values) if metric == 'PCC' else min(values)\n",
        "                best_values[(surface, noise)] = best_value\n",
        "        return best_values\n",
        "\n",
        "    # Iterate over each metric\n",
        "    for metric, models in metrics.items():\n",
        "        best_values = find_best_values(models, [\"Torus\", \"Ellipsoid\", \"Saddle\"], [0, 0.05, 0.1, 0.15, 0.2, 0.25], metric)\n",
        "        # Iterate over each model\n",
        "        for model, data in models.items():\n",
        "            model_escaped = model.replace('&', r'\\&')  # Escape '&' in model names\n",
        "            table_content += f\"{model_escaped} & {metric} \"\n",
        "            for surface in [\"Torus\", \"Ellipsoid\", \"Saddle\"]:\n",
        "                for noise in [0, 0.05, 0.1, 0.15, 0.2, 0.25]:\n",
        "                    key = f\"{surface} noise = {noise}\" if noise > 0 else surface\n",
        "                    value = data.get(key, \"\")\n",
        "                    if value:\n",
        "                        # Check if the value is the best and should be bolded\n",
        "                        if value == best_values[(surface, noise)]:\n",
        "                            table_content += f\"& \\\\textbf{{{value:.3f}}} \"\n",
        "                        else:\n",
        "                            table_content += f\"& {value:.3f} \"\n",
        "                    else:\n",
        "                        table_content += \"& - \"\n",
        "            table_content += r\"\\\\\"\n",
        "            table_content += \"\\n\"\n",
        "        table_content += r\"\\midrule\" + \"\\n\"\n",
        "\n",
        "    table_content += footer\n",
        "    return table_content\n",
        "\n",
        "# Generate the LaTeX table\n",
        "latex_table = create_latex_table(metrics_collected)\n",
        "\n",
        "# Print the LaTeX table\n",
        "print(latex_table)\n"
      ],
      "id": "cell-29"
    },
    {
      "cell_type": "code",
      "execution_count": null,
      "metadata": {},
      "outputs": [],
      "source": [
        "# Display one part of the table, with all of the metrics for one method for one dataset\n",
        "\\begin{tabular}{lc|cccccc|cccccc|cccccc}\n",
        "\\toprule\n",
        "\\multirow{2}{*}{\\textbf{Model}} & \\multirow{2}{*}{\\textbf{Metric}} & \\multicolumn{6}{c|}{\\textbf{Torus}} & \\multicolumn{6}{c|}{\\textbf{Ellipsoid}} & \\multicolumn{6}{c}{\\textbf{Hyperboloid}} \\\\\n",
        "& & 0.0 & 0.1 & 0.2 & 0.3 & 0.4 & \\multicolumn{1}{c|}{0.5} & 0.0 & 0.1 & 0.2 & 0.3 & 0.4 & \\multicolumn{1}{c|}{0.5} & 0.0 & 0.1 & 0.2 & 0.3 & 0.4 & 0.5 \\\\\n",
        "\\midrule\n",
        "& RMSE & \\textbf{0.462} & \\textbf{1.391} & \\textbf{2.023} & \\textbf{2.056} & \\textbf{2.060} & \\textbf{2.048} & 0.430 & \\textbf{0.849} & \\textbf{0.564} & \\textbf{1.760} & \\textbf{1.988} & \\textbf{2.061} & \\textbf{0.293} & \\textbf{0.400} & \\textbf{0.567} & \\textbf{0.673} & \\textbf{0.753} & \\textbf{0.776} \\\\\n",
        "AdaL-PCA & ED & \\textbf{0.462} & \\textbf{0.725} & \\textbf{1.026} & \\textbf{1.071} & \\textbf{1.076} & \\textbf{1.059} & \\textbf{0.251} & \\textbf{0.277} & \\textbf{0.832} & \\textbf{1.296} & \\textbf{1.565} & \\textbf{1.643} & 0.321 & \\textbf{0.405} & \\textbf{0.538} & \\textbf{0.674} & \\textbf{0.757} & \\textbf{0.787} \\\\\n",
        "& PCC & \\textbf{0.996} & \\textbf{0.865} & \\textbf{0.633} & \\textbf{0.550} & \\textbf{0.440} & \\textbf{0.408} & \\textbf{0.988} & \\textbf{0.325} & \\textbf{0.124} & -0.153 & -0.131 & -0.018 & \\textbf{0.747} & \\textbf{0.603} & \\textbf{0.481} & \\textbf{0.428} & \\textbf{0.386} & \\textbf{0.363} \\\\\n",
        "\\midrule\n",
        "\\multirow{2}{*}{Hickok et al. \\cite{hickok2023intrinsic}} & RMSE & 1.302 & 7.489 & 15.914 & 19.143 & 19.971 & 19.944 & \\textbf{0.388} & 6.730 & 15.647 & 20.135 & 21.007 & 20.852 & 2.025 & 4.032 & 10.077 & 12.829 & 13.532 & 13.230 \\\\\n",
        "& ED & 0.646 & 3.076 & 4.772 & 5.171 & 5.168 & 5.041 & 0.361 & 3.407 & 5.075 & 5.576 & 5.541 & 5.391 & 1.154 & 1.981 & 3.588 & 4.065 & 4.069 & 3.908 \\\\\n",
        "\\midrule\n",
        "Diffusion Curvature & PCC & 0.445 & 0.270 & 0.304 & 0.308 & 0.273 & 0.243 & 0.149 & 0.057 & 0.002 & \\textbf{0.017} & \\textbf{0.044} & \\textbf{0.048} & 0.398 & 0.333 & 0.282 & 0.336 & 0.342 & 0.327\\\\\n",
        "\\bottomrule\n",
        "\\end{tabular}}"
      ],
      "id": "cell-30"
    },
    {
      "cell_type": "code",
      "execution_count": null,
      "metadata": {},
      "outputs": [],
      "source": [
        "# Flatten the nested dictionary\n",
        "data = []\n",
        "for metric, models in metrics_collected.items():\n",
        "    for model, results in models.items():\n",
        "        row = {'Model': model, 'Metric': metric}\n",
        "        row.update(results)\n",
        "        data.append(row)\n",
        "\n",
        "# Create a DataFrame\n",
        "metric_df = pd.DataFrame(data)"
      ],
      "id": "cell-31"
    },
    {
      "cell_type": "code",
      "execution_count": null,
      "metadata": {},
      "outputs": [],
      "source": [
        "from great_tables import GT, style, loc, exibble\n",
        "from great_tables.data import sp500\n",
        "import pandas as pd\n",
        "\n",
        "df = metric_df\n",
        "\n",
        "# Group the data by metric for proper sorting and display\n",
        "df = df.sort_values(by=['Metric', 'Model']).reset_index(drop=True)\n",
        "\n",
        "# Create the table with row groups\n",
        "table = (\n",
        "    GT(df, rowname_col=\"Model\", groupname_col=\"Metric\")\n",
        "    .tab_header(title=\"Curvature under Noise\", subtitle=\"2-Manifolds with Noise\")\n",
        "    .tab_stubhead(label=\"Model & Metric\")\n",
        "    .cols_label(\n",
        "        Model=\"Model\",\n",
        "        Metric=\"Metric\",\n",
        "        **{col: col for col in df.columns if col not in [\"Model\", \"Metric\"]}\n",
        "    )\n",
        "    .tab_spanner(label=\"Torus\", columns=[col for col in df.columns if \"Torus\" in col])\n",
        "    .tab_spanner(label=\"Ellipsoid\", columns=[col for col in df.columns if \"Ellipsoid\" in col])\n",
        "    .tab_spanner(label=\"Saddle\", columns=[col for col in df.columns if \"Saddle\" in col])\n",
        "    .fmt_number(columns=[col for col in df.columns if col not in [\"Model\", \"Metric\"]], decimals=3)\n",
        ")\n",
        "\n",
        "# Function to apply styles to the best values\n",
        "def apply_best_value_styles(df, table):\n",
        "    for metric in df['Metric'].unique():\n",
        "        metric_df = df[df['Metric'] == metric]\n",
        "        for col in df.columns[2:]:\n",
        "            if metric == 'PCC':\n",
        "                best_value = metric_df[col].max()\n",
        "            else:  # For RMSE and other metrics where lower is better\n",
        "                best_value = metric_df[col].min()\n",
        "                \n",
        "            best_indices = metric_df[metric_df[col] == best_value].index.tolist()\n",
        "            for index in best_indices:\n",
        "                table = table.tab_style(\n",
        "                    style=style.text(weight=\"bold\"),\n",
        "                    locations=loc.body(columns=[col], rows=[index])\n",
        "                )\n",
        "    return table\n",
        "\n",
        "# Apply the styles\n",
        "table = apply_best_value_styles(df, table)\n",
        "\n",
        "# Display the table (assuming in Jupyter Notebook)\n",
        "display(table)"
      ],
      "id": "cell-fig-2-manifolds-noise-table"
    },
    {
      "cell_type": "code",
      "execution_count": null,
      "metadata": {},
      "outputs": [
        {
          "output_type": "display_data",
          "metadata": {},
          "data": {
            "text/html": [
              "\n",
              "</div>"
            ]
          }
        }
      ],
      "source": [
        "metric_df"
      ],
      "id": "cell-33"
    },
    {
      "cell_type": "markdown",
      "metadata": {},
      "source": [
        "# Conclusion\n",
        "\n",
        "Hey!"
      ],
      "id": "b4a4b057-9d10-4c9c-8392-ef71ec26c567"
    },
    {
      "cell_type": "code",
      "execution_count": null,
      "metadata": {},
      "outputs": [
        {
          "output_type": "display_data",
          "metadata": {},
          "data": {
            "text/plain": [
              "array([[ 2.00397824, -0.41691384,  0.71437483],\n",
              "       [ 1.27475224, -0.11175413,  0.90350592],\n",
              "       [-1.91620722,  0.99866728,  0.58539095],\n",
              "       ...,\n",
              "       [-2.97769204, -0.03548212,  0.12042399],\n",
              "       [ 2.35053893, -0.31803095,  0.60068419],\n",
              "       [-0.5358212 , -1.86937732, -0.30733797]])"
            ]
          }
        }
      ],
      "source": [
        "X, ks = ellipsoid(n_points, seed=19323)\n",
        "X"
      ],
      "id": "cell-36"
    }
  ],
  "nbformat": 4,
  "nbformat_minor": 5,
  "metadata": {
    "kernelspec": {
      "name": "diffusion_curvature-pixi",
      "display_name": "diffusion_curvature-pixi",
      "language": "python"
    },
    "language_info": {
      "name": "python",
      "version": "3.11.8"
    }
  }
}